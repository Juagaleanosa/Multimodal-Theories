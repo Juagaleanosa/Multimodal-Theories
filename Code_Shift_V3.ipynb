{
  "cells": [
    {
      "cell_type": "markdown",
      "metadata": {
        "id": "9zZhWUei0IzB"
      },
      "source": [
        "# Decálogo\n",
        "\n",
        "## Interface:\n",
        "- Entorno para carga de archivos.\n",
        "- About donde se presente el grupo.\n",
        "\n",
        "## Entradas:\n",
        "- (a) Dataset en formato csv. A partir de esta lectura, el usuario verá en pantalla las diferentes variables disponibles en su dataset y mostrará la lectura de los casos existentes en el dataset.\n",
        "- (b) El usuario ingresa el número del caso de su interés, los cuales estarán en pantalla a partir del punto anterior.\n",
        "\n",
        "## Salidas:\n",
        "- (A) En texto, imprimir una lectura de las variables adquiridas desde el dataset.\n",
        "- (B) Imprime el texto: Su caso elegido es: Caso n - Ya está programado.\n",
        "- (C) Muestra los videos creados de código de especialización, con cuatro posibles salidas (Raramente sucedería) y también se imprime un texto: \"La columna \"n\" contiene solo ceros y no se creará un video para ella.\" Este mensaje ya está programado y también está imprimiento.\n",
        "- (D) Imprime la gráfica 2D\n",
        "- (E) Imprime la gráfica 3d scatter\n",
        "- (F) Imprime la gráfica 3d Surface"
      ]
    },
    {
      "cell_type": "markdown",
      "metadata": {
        "id": "AGM7xqQYVeUc"
      },
      "source": [
        "# Datos"
      ]
    },
    {
      "cell_type": "code",
      "execution_count": 2,
      "metadata": {
        "colab": {
          "base_uri": "https://localhost:8080/",
          "height": 73
        },
        "id": "-heyuVTnA-JA",
        "outputId": "695fb85e-5715-43c9-f2eb-a917edfa94b3"
      },
      "outputs": [],
      "source": [
        "# (a)\n",
        "\n",
        "# Librerías\n",
        "import pandas as pd\n",
        "import matplotlib.pyplot as plt\n",
        "import seaborn as sns\n",
        "import plotly.graph_objs as go\n",
        "#from google.colab import files\n",
        "import plotly.graph_objs as go\n",
        "import time\n",
        "import numpy as np\n",
        "\n",
        "\n",
        "# Cargar archivo CSV desde la máquina del usuario\n",
        "#uploaded = files.upload()\n",
        "\n",
        "# Obtener el nombre del archivo cargado\n",
        "#file_name = list(uploaded.keys())[0]\n",
        "\n",
        "# Leer el archivo CSV en un DataFrame de Pandas\n",
        "df = pd.read_csv(\"Multicaso-2.csv\")\n",
        "\n"
      ]
    },
    {
      "cell_type": "code",
      "execution_count": 3,
      "metadata": {
        "colab": {
          "base_uri": "https://localhost:8080/"
        },
        "id": "VQP6tMYS4YID",
        "outputId": "1f958764-5f21-4be2-bad0-2ae13e7a58a2"
      },
      "outputs": [
        {
          "name": "stdout",
          "output_type": "stream",
          "text": [
            "      CASO  TIEMPO  DOCENTE S  DOCENTE E  DOCENTE CODIGO M  Est 1 S  Est 1 E  \\\n",
            "0   Caso 1       1          4          3                 4        0        0   \n",
            "1   Caso 1       2          3          3                 1        0        0   \n",
            "2   Caso 1       3          4          3                 4        0        0   \n",
            "3   Caso 1       4          3          3                 3        0        0   \n",
            "4   Caso 1       5          1          2                15        0        0   \n",
            "..     ...     ...        ...        ...               ...      ...      ...   \n",
            "75  Caso 8       6          3          2                 1        0        0   \n",
            "76  Caso 8       7          3          4                 1        0        0   \n",
            "77  Caso 8       8          4          3                28        0        0   \n",
            "78  Caso 8       9          1          4                11        0        0   \n",
            "79  Caso 8      10          2          3                28        0        0   \n",
            "\n",
            "    Est 1 CODIGO M  Est 2 S  Est 2 E  Est 2 CODIGO M  Est 3 S  Est 3 E  \\\n",
            "0                0        0        0               0        0        0   \n",
            "1                0        0        0               0        0        0   \n",
            "2                0        0        0               0        0        0   \n",
            "3                0        0        0               0        0        0   \n",
            "4                0        0        0               0        0        0   \n",
            "..             ...      ...      ...             ...      ...      ...   \n",
            "75               0        0        0               0        1        1   \n",
            "76               0        0        0               0        4        1   \n",
            "77               0        0        0               0        1        1   \n",
            "78               0        0        0               0        0        0   \n",
            "79               0        0        0               0        0        0   \n",
            "\n",
            "    Est 3 CODIGO M  \n",
            "0                0  \n",
            "1                0  \n",
            "2                0  \n",
            "3                0  \n",
            "4                0  \n",
            "..             ...  \n",
            "75               1  \n",
            "76              28  \n",
            "77               1  \n",
            "78               0  \n",
            "79               0  \n",
            "\n",
            "[80 rows x 14 columns]\n"
          ]
        }
      ],
      "source": [
        "# (A)\n",
        "print(df)"
      ]
    },
    {
      "cell_type": "code",
      "execution_count": 4,
      "metadata": {
        "colab": {
          "base_uri": "https://localhost:8080/"
        },
        "id": "R5nmFF6S8xWd",
        "outputId": "495490c7-cb39-4f74-f09f-fabbb44dba77"
      },
      "outputs": [
        {
          "name": "stdout",
          "output_type": "stream",
          "text": [
            "Etiquetas disponibles: ['Caso 1' 'Caso 2' 'Caso 3' 'Caso 4' 'Caso 5' 'Caso 6' 'Caso 7' 'Caso 8']\n",
            "Caso 5\n",
            "Su caso elegido es: Caso 5\n"
          ]
        }
      ],
      "source": [
        "# (b) (B)\n",
        "\n",
        "# Mostrar las etiquetas únicas en la columna \"CASO\"\n",
        "etiquetas_disponibles = df['CASO'].unique()\n",
        "print(\"Etiquetas disponibles:\", etiquetas_disponibles)\n",
        "\n",
        "# Pedir al usuario que ingrese el número del caso deseado\n",
        "numero_caso = input(\"Ingrese el número del caso deseado: \")\n",
        "\n",
        "\n",
        "# Convertir el número del caso a un entero\n",
        "numero_caso = int(numero_caso)\n",
        "\n",
        "# Verificar si el número de caso es válido\n",
        "if numero_caso < 1 or numero_caso > len(etiquetas_disponibles):\n",
        "    print(\"Número de caso no válido\")\n",
        "else:\n",
        "    # Obtener la etiqueta correspondiente al número de caso\n",
        "    etiqueta_deseada = etiquetas_disponibles[numero_caso - 1]\n",
        "\n",
        "    # Guardar el nombre del caso escogido en una variable\n",
        "    caso = etiqueta_deseada\n",
        "    print(etiqueta_deseada)\n",
        "\n",
        "    # Filtrar el DataFrame para obtener solo las filas con la etiqueta deseada\n",
        "    df_filtrado_C = df[df['CASO'] == etiqueta_deseada]\n",
        "\n",
        "    # Mostrar el DataFrame filtrado\n",
        "    #print(df_filtrado_C)\n",
        "\n",
        "    print(f'Su caso elegido es: {etiqueta_deseada}')\n"
      ]
    },
    {
      "cell_type": "code",
      "execution_count": 5,
      "metadata": {
        "colab": {
          "base_uri": "https://localhost:8080/"
        },
        "id": "kNdKW_ACYx7V",
        "outputId": "c9743ea5-1dc9-40a7-c457-e9f4bcd2d88d"
      },
      "outputs": [
        {
          "name": "stderr",
          "output_type": "stream",
          "text": [
            "C:\\Users\\ricar\\AppData\\Local\\Temp\\ipykernel_15756\\459420463.py:44: SettingWithCopyWarning: \n",
            "A value is trying to be set on a copy of a slice from a DataFrame.\n",
            "Try using .loc[row_indexer,col_indexer] = value instead\n",
            "\n",
            "See the caveats in the documentation: https://pandas.pydata.org/pandas-docs/stable/user_guide/indexing.html#returning-a-view-versus-a-copy\n",
            "  df_filtrado[columna] = df_filtrado[columna].replace(mapeo_numeros_a_cadenas)\n"
          ]
        }
      ],
      "source": [
        "import pandas as pd\n",
        "\n",
        "# Definir el diccionario de mapeo\n",
        "mapeo_valores = {\n",
        "    'Oral': 1,\n",
        "    'Escrito': 2,\n",
        "    'Deíctico Escrito Oral': 3,\n",
        "    'Escrito Oral': 4,\n",
        "    'Escrito Visual': 5,\n",
        "    'Metafórico Oral': 6,\n",
        "    'Metafórico Visual': 7,\n",
        "    'Deíctico Escrito Metafórico': 8,\n",
        "    'Deíctico Escrito Oral Visual': 9,\n",
        "    'Deíctico Escrito Visual': 10,\n",
        "    'Deíctico Metafórico Oral': 11,\n",
        "    'Deíctico Oral Visual': 12,\n",
        "    'Escrito Metafórico Oral': 13,\n",
        "    'Escrito Metafórico Visual': 14,\n",
        "    'Escrito Oral Visual': 15,\n",
        "    'Metafórico Oral Visual': 16,\n",
        "    'Deíctico Escrito Metafórico Oral': 17,\n",
        "    'Deíctico Escrito Metafórico Visual': 18,\n",
        "    'Deíctico Metafórico Oral Visual': 19,\n",
        "    'Escrito Metafórico Oral Visual': 20,\n",
        "    'Deíctico Escrito Metafórico Oral Visual': 21,\n",
        "    'Icónico Oral':\t22,\n",
        "    'Deíctico Icónico Oral Escrito': 23,\n",
        "    'Icónico Oral Visual': 24,\n",
        "    'Visual Oral': 25,\n",
        "    'Deíctico Icónico Oral Visual': 26,\n",
        "    'Icónico Oral Deíctico': 27,\n",
        "    'Oral Deíctico': 28\n",
        "}\n",
        "\n",
        "df_filtrado = df_filtrado_C\n",
        "\n",
        "# Invertir el diccionario para mapear números a cadenas\n",
        "mapeo_numeros_a_cadenas = {v: k for k, v in mapeo_valores.items()}\n",
        "\n",
        "# Reemplazar los valores en las columnas relevantes del DataFrame\n",
        "columnas_relevantes = ['DOCENTE CODIGO M', 'Est 1 CODIGO M', 'Est 2 CODIGO M', 'Est 3 CODIGO M']\n",
        "\n",
        "for columna in columnas_relevantes:\n",
        "    df_filtrado[columna] = df_filtrado[columna].replace(mapeo_numeros_a_cadenas)\n",
        "\n",
        "# Verificar el DataFrame con las cadenas de texto\n",
        "#print(df_filtrado)\n"
      ]
    },
    {
      "cell_type": "markdown",
      "metadata": {
        "id": "W3muekVpIzZc"
      },
      "source": [
        "# Código especialización."
      ]
    },
    {
      "cell_type": "code",
      "execution_count": 6,
      "metadata": {
        "colab": {
          "base_uri": "https://localhost:8080/",
          "height": 1000
        },
        "id": "TlZn_KH6LH9B",
        "outputId": "da6a7e5e-1def-43d5-ed3d-6b958e778f87"
      },
      "outputs": [
        {
          "data": {
            "text/html": [
              "\n",
              "<link rel=\"stylesheet\"\n",
              "href=\"https://maxcdn.bootstrapcdn.com/font-awesome/4.4.0/css/font-awesome.min.css\">\n",
              "<script language=\"javascript\">\n",
              "  function isInternetExplorer() {\n",
              "    ua = navigator.userAgent;\n",
              "    /* MSIE used to detect old browsers and Trident used to newer ones*/\n",
              "    return ua.indexOf(\"MSIE \") > -1 || ua.indexOf(\"Trident/\") > -1;\n",
              "  }\n",
              "\n",
              "  /* Define the Animation class */\n",
              "  function Animation(frames, img_id, slider_id, interval, loop_select_id){\n",
              "    this.img_id = img_id;\n",
              "    this.slider_id = slider_id;\n",
              "    this.loop_select_id = loop_select_id;\n",
              "    this.interval = interval;\n",
              "    this.current_frame = 0;\n",
              "    this.direction = 0;\n",
              "    this.timer = null;\n",
              "    this.frames = new Array(frames.length);\n",
              "\n",
              "    for (var i=0; i<frames.length; i++)\n",
              "    {\n",
              "     this.frames[i] = new Image();\n",
              "     this.frames[i].src = frames[i];\n",
              "    }\n",
              "    var slider = document.getElementById(this.slider_id);\n",
              "    slider.max = this.frames.length - 1;\n",
              "    if (isInternetExplorer()) {\n",
              "        // switch from oninput to onchange because IE <= 11 does not conform\n",
              "        // with W3C specification. It ignores oninput and onchange behaves\n",
              "        // like oninput. In contrast, Microsoft Edge behaves correctly.\n",
              "        slider.setAttribute('onchange', slider.getAttribute('oninput'));\n",
              "        slider.setAttribute('oninput', null);\n",
              "    }\n",
              "    this.set_frame(this.current_frame);\n",
              "  }\n",
              "\n",
              "  Animation.prototype.get_loop_state = function(){\n",
              "    var button_group = document[this.loop_select_id].state;\n",
              "    for (var i = 0; i < button_group.length; i++) {\n",
              "        var button = button_group[i];\n",
              "        if (button.checked) {\n",
              "            return button.value;\n",
              "        }\n",
              "    }\n",
              "    return undefined;\n",
              "  }\n",
              "\n",
              "  Animation.prototype.set_frame = function(frame){\n",
              "    this.current_frame = frame;\n",
              "    document.getElementById(this.img_id).src =\n",
              "            this.frames[this.current_frame].src;\n",
              "    document.getElementById(this.slider_id).value = this.current_frame;\n",
              "  }\n",
              "\n",
              "  Animation.prototype.next_frame = function()\n",
              "  {\n",
              "    this.set_frame(Math.min(this.frames.length - 1, this.current_frame + 1));\n",
              "  }\n",
              "\n",
              "  Animation.prototype.previous_frame = function()\n",
              "  {\n",
              "    this.set_frame(Math.max(0, this.current_frame - 1));\n",
              "  }\n",
              "\n",
              "  Animation.prototype.first_frame = function()\n",
              "  {\n",
              "    this.set_frame(0);\n",
              "  }\n",
              "\n",
              "  Animation.prototype.last_frame = function()\n",
              "  {\n",
              "    this.set_frame(this.frames.length - 1);\n",
              "  }\n",
              "\n",
              "  Animation.prototype.slower = function()\n",
              "  {\n",
              "    this.interval /= 0.7;\n",
              "    if(this.direction > 0){this.play_animation();}\n",
              "    else if(this.direction < 0){this.reverse_animation();}\n",
              "  }\n",
              "\n",
              "  Animation.prototype.faster = function()\n",
              "  {\n",
              "    this.interval *= 0.7;\n",
              "    if(this.direction > 0){this.play_animation();}\n",
              "    else if(this.direction < 0){this.reverse_animation();}\n",
              "  }\n",
              "\n",
              "  Animation.prototype.anim_step_forward = function()\n",
              "  {\n",
              "    this.current_frame += 1;\n",
              "    if(this.current_frame < this.frames.length){\n",
              "      this.set_frame(this.current_frame);\n",
              "    }else{\n",
              "      var loop_state = this.get_loop_state();\n",
              "      if(loop_state == \"loop\"){\n",
              "        this.first_frame();\n",
              "      }else if(loop_state == \"reflect\"){\n",
              "        this.last_frame();\n",
              "        this.reverse_animation();\n",
              "      }else{\n",
              "        this.pause_animation();\n",
              "        this.last_frame();\n",
              "      }\n",
              "    }\n",
              "  }\n",
              "\n",
              "  Animation.prototype.anim_step_reverse = function()\n",
              "  {\n",
              "    this.current_frame -= 1;\n",
              "    if(this.current_frame >= 0){\n",
              "      this.set_frame(this.current_frame);\n",
              "    }else{\n",
              "      var loop_state = this.get_loop_state();\n",
              "      if(loop_state == \"loop\"){\n",
              "        this.last_frame();\n",
              "      }else if(loop_state == \"reflect\"){\n",
              "        this.first_frame();\n",
              "        this.play_animation();\n",
              "      }else{\n",
              "        this.pause_animation();\n",
              "        this.first_frame();\n",
              "      }\n",
              "    }\n",
              "  }\n",
              "\n",
              "  Animation.prototype.pause_animation = function()\n",
              "  {\n",
              "    this.direction = 0;\n",
              "    if (this.timer){\n",
              "      clearInterval(this.timer);\n",
              "      this.timer = null;\n",
              "    }\n",
              "  }\n",
              "\n",
              "  Animation.prototype.play_animation = function()\n",
              "  {\n",
              "    this.pause_animation();\n",
              "    this.direction = 1;\n",
              "    var t = this;\n",
              "    if (!this.timer) this.timer = setInterval(function() {\n",
              "        t.anim_step_forward();\n",
              "    }, this.interval);\n",
              "  }\n",
              "\n",
              "  Animation.prototype.reverse_animation = function()\n",
              "  {\n",
              "    this.pause_animation();\n",
              "    this.direction = -1;\n",
              "    var t = this;\n",
              "    if (!this.timer) this.timer = setInterval(function() {\n",
              "        t.anim_step_reverse();\n",
              "    }, this.interval);\n",
              "  }\n",
              "</script>\n",
              "\n",
              "<style>\n",
              ".animation {\n",
              "    display: inline-block;\n",
              "    text-align: center;\n",
              "}\n",
              "input[type=range].anim-slider {\n",
              "    width: 374px;\n",
              "    margin-left: auto;\n",
              "    margin-right: auto;\n",
              "}\n",
              ".anim-buttons {\n",
              "    margin: 8px 0px;\n",
              "}\n",
              ".anim-buttons button {\n",
              "    padding: 0;\n",
              "    width: 36px;\n",
              "}\n",
              ".anim-state label {\n",
              "    margin-right: 8px;\n",
              "}\n",
              ".anim-state input {\n",
              "    margin: 0;\n",
              "    vertical-align: middle;\n",
              "}\n",
              "</style>\n",
              "\n",
              "<div class=\"animation\">\n",
              "  <img id=\"_anim_imge76ad48de0b54ee2aec14293d7d28dd3\">\n",
              "  <div class=\"anim-controls\">\n",
              "    <input id=\"_anim_slidere76ad48de0b54ee2aec14293d7d28dd3\" type=\"range\" class=\"anim-slider\"\n",
              "           name=\"points\" min=\"0\" max=\"1\" step=\"1\" value=\"0\"\n",
              "           oninput=\"anime76ad48de0b54ee2aec14293d7d28dd3.set_frame(parseInt(this.value));\"></input>\n",
              "    <div class=\"anim-buttons\">\n",
              "      <button title=\"Decrease speed\" aria-label=\"Decrease speed\" onclick=\"anime76ad48de0b54ee2aec14293d7d28dd3.slower()\">\n",
              "          <i class=\"fa fa-minus\"></i></button>\n",
              "      <button title=\"First frame\" aria-label=\"First frame\" onclick=\"anime76ad48de0b54ee2aec14293d7d28dd3.first_frame()\">\n",
              "        <i class=\"fa fa-fast-backward\"></i></button>\n",
              "      <button title=\"Previous frame\" aria-label=\"Previous frame\" onclick=\"anime76ad48de0b54ee2aec14293d7d28dd3.previous_frame()\">\n",
              "          <i class=\"fa fa-step-backward\"></i></button>\n",
              "      <button title=\"Play backwards\" aria-label=\"Play backwards\" onclick=\"anime76ad48de0b54ee2aec14293d7d28dd3.reverse_animation()\">\n",
              "          <i class=\"fa fa-play fa-flip-horizontal\"></i></button>\n",
              "      <button title=\"Pause\" aria-label=\"Pause\" onclick=\"anime76ad48de0b54ee2aec14293d7d28dd3.pause_animation()\">\n",
              "          <i class=\"fa fa-pause\"></i></button>\n",
              "      <button title=\"Play\" aria-label=\"Play\" onclick=\"anime76ad48de0b54ee2aec14293d7d28dd3.play_animation()\">\n",
              "          <i class=\"fa fa-play\"></i></button>\n",
              "      <button title=\"Next frame\" aria-label=\"Next frame\" onclick=\"anime76ad48de0b54ee2aec14293d7d28dd3.next_frame()\">\n",
              "          <i class=\"fa fa-step-forward\"></i></button>\n",
              "      <button title=\"Last frame\" aria-label=\"Last frame\" onclick=\"anime76ad48de0b54ee2aec14293d7d28dd3.last_frame()\">\n",
              "          <i class=\"fa fa-fast-forward\"></i></button>\n",
              "      <button title=\"Increase speed\" aria-label=\"Increase speed\" onclick=\"anime76ad48de0b54ee2aec14293d7d28dd3.faster()\">\n",
              "          <i class=\"fa fa-plus\"></i></button>\n",
              "    </div>\n",
              "    <form title=\"Repetition mode\" aria-label=\"Repetition mode\" action=\"#n\" name=\"_anim_loop_selecte76ad48de0b54ee2aec14293d7d28dd3\"\n",
              "          class=\"anim-state\">\n",
              "      <input type=\"radio\" name=\"state\" value=\"once\" id=\"_anim_radio1_e76ad48de0b54ee2aec14293d7d28dd3\"\n",
              "             checked>\n",
              "      <label for=\"_anim_radio1_e76ad48de0b54ee2aec14293d7d28dd3\">Once</label>\n",
              "      <input type=\"radio\" name=\"state\" value=\"loop\" id=\"_anim_radio2_e76ad48de0b54ee2aec14293d7d28dd3\"\n",
              "             >\n",
              "      <label for=\"_anim_radio2_e76ad48de0b54ee2aec14293d7d28dd3\">Loop</label>\n",
              "      <input type=\"radio\" name=\"state\" value=\"reflect\" id=\"_anim_radio3_e76ad48de0b54ee2aec14293d7d28dd3\"\n",
              "             >\n",
              "      <label for=\"_anim_radio3_e76ad48de0b54ee2aec14293d7d28dd3\">Reflect</label>\n",
              "    </form>\n",
              "  </div>\n",
              "</div>\n",
              "\n",
              "\n",
              "<script language=\"javascript\">\n",
              "  /* Instantiate the Animation class. */\n",
              "  /* The IDs given should match those used in the template above. */\n",
              "  (function() {\n",
              "    var img_id = \"_anim_imge76ad48de0b54ee2aec14293d7d28dd3\";\n",
              "    var slider_id = \"_anim_slidere76ad48de0b54ee2aec14293d7d28dd3\";\n",
              "    var loop_select_id = \"_anim_loop_selecte76ad48de0b54ee2aec14293d7d28dd3\";\n",
              "    var frames = new Array(10);\n",
              "    \n",
              "  frames[0] = \"data:image/png;base64,iVBORw0KGgoAAAANSUhEUgAAAbAAAAGwCAYAAADITjAqAAAAOXRFWHRTb2Z0d2FyZQBNYXRwbG90\\\n",
              "bGliIHZlcnNpb24zLjUuMSwgaHR0cHM6Ly9tYXRwbG90bGliLm9yZy/YYfK9AAAACXBIWXMAAAsT\\\n",
              "AAALEwEAmpwYAAAeqklEQVR4nO3de7gcVZnv8e+bRJCbwJCEOMAYEMVBM6DEC2eA5HEQUNEDo4Ci\\\n",
              "hjwoRy5HYWaCCt4ICERF0bkIM8M5BNFBBRxGEBgQDWNUlCCEiwevA04EhACBZAhIzDp/rNruTmdf\\\n",
              "uneS3Xl3vp/nqWfvrq6uWlXdXb+qVatrRSkFSZKyGdfrAkiSNBIGmCQpJQNMkpSSASZJSskAkySl\\\n",
              "ZIBJklIywCRJKRlgkqSUDDBJUkoGmCQpJQNMkpSSASZJSskAkySlZIBJklIywDTqImJ2RJRBhmVd\\\n",
              "zGdqRJwREbt1MO34iJgTEd+OiN9GxPKI+HFEvDsihv0erK8ydyoi9oyIiyPi/oh4JiKeiIjvRsT7\\\n",
              "I+K563t562KI7bJ3r8umsW1CrwugTdoRwJK2cau6eP1U4OPAQuBXw0y7BfAR4IvA54EVwBuAfwZe\\\n",
              "Apza4TLXtczDiogjgC8BdwJnAT8HtgJmAHOBoK7DxmQ+8I9t437Wg3JoE2KAqZfuKKX8YpSWtRLY\\\n",
              "rZTyWMu4myJie+B9EfGxUsrKDuazQcscES+ihuy1wBGllNZwvDYizgNevKGWvw5+U0q5pdeF0KbF\\\n",
              "KkRttCJiSkRcEhEPNNVoD0bENRExOSJmAt9pJr2xpdpq5kDzKqX8vi28+twKbA5M3ACrMBKnUA8s\\\n",
              "T2wLLwBKKY+UUr4HEBHPjYjzI+LuiFgREQ9FxNUR8ZLW1wy1HVumeX5EfDEiljbT3BkR79zA6yqt\\\n",
              "E8/A1EvjI6L9M7i6lLK6+f9S4AXU6r3/AnYE/gLYEvgxcBLwD8D7qUEE8JMuyzADWAY8uJ7KvK5e\\\n",
              "B9xaSumkPJsD2wCfoJb/j4ATgR9ExJ+WUh5qphtqOxIRWwE3A9sDpzfTvBO4NCK2LKX8UwdlOSEi\\\n",
              "TgV+D9wCfLyU8t0OXieNXCnFwWFUB2A2UAYZrmmZbgXw/iHmM7N5zYEjLMfBwGrgw+urzOth26wE\\\n",
              "Lhvha8dTQ2k58FddbMf/3azHzLbx3wIeBsYPs9xLgaOA/anBtxh4tn1+Dg7re/AMTL10OGs3iFjW\\\n",
              "8v+twKkREcC3gbtLKWV9LDgi9gQuo1ZDfrKLlw5X5oGW1f49+/16XI8jgb8B9gC2bXlqj5b/h9uO\\\n",
              "B1CvYS1om/2XgIuBPYG7BitDKeVdLQ+/GxH/BtxNPTPcr6sVkrrgNTD10t2llEVtQ2sDiaOAbwAf\\\n",
              "oLbI+01EfKyTZu9DaZrd3wj8J3B4GeBa0zqUeSDPtg0zhpj2v6jVfcOKiDcBXwX+H3A08GrglcAj\\\n",
              "QGtT++G24x8xcBXqQy3Pd6yUshz4ZlMWaYPxDEwbrVLKw9TrXCdFxB7AMdRm5I8AF4xknhGxM3AT\\\n",
              "8CRwcCnlyfVU3KG078h/OsS03wLeExFTSv81rMG8DfhFKWV234iIeA5tgdPBdnyMNc/Y+kxp/g7U\\\n",
              "+KUT6+UsUxqMZ2BKoZTy01LK6cDjwMua0c80f7foZB4RMYkaEACvK6UsXb+lHNgAZ2zLh5j8fGpD\\\n",
              "iC9ExPj2JyNiYkT8efNwS9b+Ddq7qNfCBivLQNvxZmDnlvn2OZp6DayrhjER8TzgUOBH3bxO6pZn\\\n",
              "YOqlvSNioObri6g/3P0W8GXgXmrV2/+ktpS7oZnuZ9Qd+LER8Rg10H46UEBExBbAv1N//HwsdYe9\\\n",
              "c8skP+nwbGzQMndZFTmgUsrPI2IW9frTLRFxIf0/ZN4feC9wJvA94HrgsIg4H7gGmA68j5ZrchGx\\\n",
              "LcNvx/nAycDXI+LD1Gt876C2iHxvKeX3g5U3IuZQz96+AzxArf6cQz17e8c6bQxpOL1uReKw6Q0M\\\n",
              "3aKvUH+TtTn1zg73UFvRPUltjHB027zeS70LxyoGaEnXMt3UYZY54Ou6KfN63kYvpQbLr4HfAU8A\\\n",
              "36U2k9+8mWYctaHEA8BT1DOplwP3AfObaTrdjs+ntiZcSj0QuBN4ZwflfBM1TJdSw/FR6vW2V/X6\\\n",
              "c+Yw9ocoxWpqSVI+XgOTJKVkgEmSUjLAJEkpGWCSpJQMMElSSgbYKImIaRHxVET42xilFBHHRcSy\\\n",
              "5j6SUs8ZYCPQbXfvEbEl9Z51ny6lfLnDZSyIiAUtj2cO1d/VaIuI+yJifq/L0WsRMbt5X6aO4LUl\\\n",
              "Is5oeXxGRPTsdy3t5Wl7bk/gPODIUkq3XdasFy3bukTEWp16RsSMlucPbBk/PyLuG4WyHbshl9Gy\\\n",
              "rL9u+n17cKj3bFNggHUpanfvt1Nvw3MWcBDwduD71PvLvXeAl32e2sXEGeuw6B8D+zZ/tfH4JvV9\\\n",
              "6bQ/saFc1MyrV/ZtyrCG5qDsK8AHSyk3rPWq0becesusdsc0z7U7i9qLwIY0m3qHl9FwHDAZuGqU\\\n",
              "lrfR8lZSXYgRdvdeSjluXZdd6m2O7LJ9I1NKeYR6U9z1Ma8lrN1Vy6gppQz4+SqlPA382SgXZyhf\\\n",
              "B94ZER8rzZ0YmluFvRW4khomf1BK+eWol3DDemkpZXXTTc/xvS5ML3kG1p1T6LC7d4CI2CMi/rW5\\\n",
              "brAyIm6JiEPaXxcRb4uIe5vqyHsiYq2jxYGqECNifER8oqlKeCoivh0RLxmoWiEiDomIHzTleCIi\\\n",
              "rmruTD6siDi5qTJ8OiIWRcT+g0y3a0R8OSIeadbljoHWZaSvjYgXN9vz4aYsv46Iy5svcus2ektT\\\n",
              "bfR4RDzZzHeHtnlNiIjTWrb7AxHxmfYq4IjYKiLmRcQvm+keiogrI2LH5vm1qhCb9/PbzbqsiIjb\\\n",
              "I+KYDrbBGlWIUauRyyDD1GaaV0bEFRGxpHlvfxoR5zQ79Pb5Hx4R32vK9GRE/Cgi3tzy/Ig+N005\\\n",
              "F0bEgRHx4+azeHen7/0I9PUw3drX2OHU/dmV7RNHWxViRExt1vW9EXFm8/1ZFrVabue21w60Tfpe\\\n",
              "P7t5vIDaRc6ft7w/C1qmf1VEfKvZ7v8dETdFxKtGuvJl/fX+nZ4B1p2Ou3uPiD8GFgJ7UXu8PZJ6\\\n",
              "k9VvRsTrW6Y7EPgX6g1b/xL4NLXKsZNwmUvtAv6L1Bu03kC9D117WQ6hVnWtoPYNdQK1CnRhROw0\\\n",
              "zHq8G/gc9Wath1Hvz3cZ9WawrdPtAvywWd+/At5Mre68snUnOcgyOn3tN4GdmvIfDHyIet++9s/x\\\n",
              "56j3J3w78OFmfle0TfMl4CPUbf9G4Fzg3dSb3vaVazNqv2Hva9b7UOp7+Vj7+rfZrVneO6jb7Grg\\\n",
              "oojo9mj5RGq1Xt+wH/Vz8lv6uzj5E+AO6pH4IdTPzrHUjij/ICLeRz1zeZha1XYE8K/Ue0QOqMvP\\\n",
              "zQubZX+W+jl+ELg8Inbvcp07cT/wH6xZjTiLuj4rupjPacDu1O11MnUbf2kE5TmRelnhTvrfqxMB\\\n",
              "IuLPqPeo3J56ZjgLeB5wc0Ts1TeDloOv2SNY/qar1zdjzDTQRXfv1Aveq4DdW8aNp/YF9eOWcd+j\\\n",
              "dlcxrmXca6g74AUt42bSctNZ6hdiBfCFtuX+dTPdGS3jFlF3fBNaxu1KvfnqZ4dYh3HUDhavbxt/\\\n",
              "VLOM+S3j/g+1Km2HtmlvBO4YZlsN+1rqDX4L8OYh5tO3jdrL+45m/F80j/dvHs8aZLq9m8fHdrDM\\\n",
              "2c00U4fYhhOAfwYWtz3X/j6dUb+Sgy7r75vP4KsHeT6aZb0TWN23Pak7zOXA14d5H0b0uQEWNONe\\\n",
              "1DJuMrVbmNPX4/evb1v3hc7j1I47n0/9rr2u5TNwYMvr5gP3tTyeStv3qxk/pxn/x4Ntk7bXz27b\\\n",
              "BgsHKPMV1APX7VrGPY96APL1lnEzmnWY1cX2mDBQ+TalwTOwDecA4JbS0ltvqd1SXEbtkuN5Uft7\\\n",
              "eiVwRWmpFij1WsR9w8x/GrWLjcvbxq9xphERWwGvAL5aWqo9Syn/SQ3PGUMsY+dm+Frb+CtZux+q\\\n",
              "Q6jXBp9oqucmNFV7/w7sFbWPqMF08tpHqXednxe1OfeLhphfe3kvp+7Q+xpIHEK9w/sVbcvra6Bw\\\n",
              "QPP3IOChUspaZ7VDiYgXRcRlEfEb+nthfg+dnVUPNs+TqEf1s0opP2wZ/7yI+GRE/JJ6NvostYot\\\n",
              "gL5t9D+ArYF/6mJ53X5ufl5K+XnLdA9Tz/b+ZJjlTGh7Dzp1OfVO+2+iHng8RO2otBvXtj2+q/k7\\\n",
              "ZJm7dABwTSllWd+IUq9nf4OWbVhKubmUMqGU8sX1uOwxzwDrTsfdvTN0N+1BPYOaCDyHWiXUbqBx\\\n",
              "rZ7f/H14mNdt3yxvsLIM1V183zLWmGezQ3u0bdrJ1OqRZ9uGTzfP78Dghn1tqYecr6OeFZwL/Cwi\\\n",
              "fhURJwwwv/by/o56tN5X7TUZ2Az477bl9W3LHVr+/maIcq8lIramnjnuRa3i3J96kPJ/qTvcrkXE\\\n",
              "QdTquY+UUtoPWC6mVh/+LXX7vJLa+zLUsxPoX59uGoh0+7kZqNfmZ1rKsJbmOt4a73l0+HOEUvt8\\\n",
              "u4pajTgL+HLp/tpQe5n7OkgdtMwjMNR+YKhqaHXAVojd6aa798fo75K91RTqaf/j9O9Adxxguh2p\\\n",
              "df2D6ftSTKb29dT6ulaPN8sbrCxDdRfft4w15tkcKbcH0qPU/qo+Oci8HhhiOR29tpTyK2BWRAT9\\\n",
              "1xa/EBH3lVKua5m+vbybUXcWfWH0KPA0NVyGKutS+nst7tS+1IOc/UspC1vKMKLvWkT8KfWM8tJS\\\n",
              "yjltzz2Xeu3zjFLK51vGT2ubTV/P0zsBd3e46HX53HTqAWrgto/r1Bep1+jGUa93bgjPUA92Wg11\\\n",
              "MNZuqP3A4yMtlCrPwLpzPp13934z8JpYs3XaeOr1o9tLKU82VYq3Am+NiHEt072aIS6uN+6iBuAR\\\n",
              "bePXeFxK+W/gNuCI1jJHxAuoVUsLhljGEupZ55Ft49/C2gc/11ObWt9TSlk0wPAMg+vqtaW6g3q9\\\n",
              "D9YOmfbyHkH9rP+gZXnPBbYdZHl9O9EbgCkR8aYhyt5uy+bvs30jImJ7atB0JWrLyWuojTQG+n3h\\\n",
              "5tTrqs+2jZ/d9vj71Oul/6vTZa/j56bTZfxugG3/uy5mcSM13C8spdwz3MQjdD9rf77eOMB0zwBr\\\n",
              "tfyk7gfeEBHb9I1o/n8T62Ebbuo8A+tC6a679/OpO5IbI+Lj1J5wT6T+Tqz1C/Bx6o7yqoj4R2AS\\\n",
              "tXXhkGd4pZTHI+JzwOkRsZx6dvgKaks6qNd8+nyUeqR6TUR8gXo9ZC61l9/PDLGM1RExl9qC7mLq\\\n",
              "j1l3p1aNPdk2+ceAHwH/ERF/T72Gtz31y79bKWWoH3kO+9qmNdfnqXc0+QV1xz2bei3u223ze2lL\\\n",
              "eV8MnE29YH9Ts14LIuIy6jWwzzbLXk09aHgD9Qe7P6O+z8cBl0XEudSWkttQW0B+rpRy7wDr8v1m\\\n",
              "2/xD875vRW3tuBTYdohtMJAvU6uZ3we8op54/sHtpZQnIuIW4G8i4sFmGcfSX1VKs77LI+I04O8i\\\n",
              "4spmvsuBvYGnSyl/N8jyR/S5GS3NAeCGOvPq8xXgIxHxYervMPcfZJk/AU6MiKOAXwLLSyk/pf6I\\\n",
              "+lDgpoj4JPWs9oPUA50z+14cETOo1/COHe46WERMp35W+w5694yItzb/X1tKeWokK5pSr1uRZBzo\\\n",
              "oLv3Zro9qPX0T1CrrG4BDhlgfm+ntk58hlodeDj16GxByzQzaWmF2IwbT905P0RtnbaAenRcgJPb\\\n",
              "lnEI9QxkZVOefwP26HB9T6YeiT5NvQa1Hy3d1rdMtzP1Tg6/abbLg9Sj5E66ph/ytdSq0kuAnwFP\\\n",
              "UatmbgYOHmAb/WXz/iyj7qj/BZjYtrxxzXotbtbrieb/T1HPzPqm25p6Le7+lnJdAUxunp9NWytE\\\n",
              "4LXUZtUrqTuz9zNAC0OGaYXYbOMyyDC1mWYqcF2zng9TWyq+sf2z0kz7VmoIr6SG7A+BQwcrT6ef\\\n",
              "GwZvgbfWZ2Qdv3d923r3Iabp+wx00grxPYO8tvU79lzqgdODzTb+KvAq1m6FOIXaKGQ5a7cgfjX1\\\n",
              "AHMFtdbkJuBVgyx7dgfbYf5wn4tNZYhmg2iMaI7ELgcOKKV8t9flGU1Rf+T9HeB1pZRv9bY0kjY0\\\n",
              "qxATa66VvZF6JP00sA+1eu8W6o+oJWnMMsByW0H9nclJ1B9HPky9qH1a8dRa0hhnFaIkKSWb0UuS\\\n",
              "UjLAJEkpjdlrYBMnTixTp07tdTGktdx2223ss88+vS6GNKDbbrttaSllUq/L0Ykxew1s+vTpZdGi\\\n",
              "Rb0uhrSWiGCsfu+UX0TcVkqZ3utydMIqRGkULV8+UI/3kkbCAJNG0Wc+U+/AtHChP9OT1pUBJo2S\\\n",
              "lStXcv755wNw6qmn9rg0Un4GmDRKLrjgAp59tt44/s477/QsTFpHBpg0ClatWsVZZ53F735Xewt5\\\n",
              "+umnOe2003pcKik3A0waBePGjePss8/m3HPPBWDevHmcfPLJQ75m6lTYYgvYemuYMgVmz4YVK+pz\\\n",
              "s2fDZpvV5/qGvfbaoKsgbXRsRi+Nsk6b0U+dChddBAceCA89BAcfDIceCmefXQNs553hE58Yfnkz\\\n",
              "Z8IZZ9S/0nBsRi9pvZoypQbYHXf0uiTSxsMAkxJYsgSuuw52373XJZE2HgaYtBE77DDYZhvYZReY\\\n",
              "PBnmzu1/7rzzYLvt+odjjulNGaVeMcCkjdhVV8Hy5bBgAdx7Lyxd2v/cnDmwbFn/cMkl/c+1BtvC\\\n",
              "hfXaWd/jefNGq/TShmWASQnMmFEbbsyZ09n0rcG2335wzTX9jz/0oQ1VSml0jdm70UtjzSmn1JaJ\\\n",
              "ixf3uiTSxsEzMCmJSZNg1iw488z6+FOfWvN3YBMn9rZ80mjzd2DSKLM7FW3M/B2YJEkbmAEmSUrJ\\\n",
              "AJMkpWSASZJSMsAkSSkZYJKklAwwSVJKBpgkKSUDTJKUkgEmSUrJAJMkpWSASZJSMsAkSSkZYJKk\\\n",
              "lAwwSVJKBpgkKSUDTJKUkgEmSUrJAJMkpWSASZJSMsAkSSkZYJKklAwwSVJKBpgkKSUDTJKUkgEm\\\n",
              "SUrJAJMkpWSASZJSMsAkSSkZYJKklAwwSVJKBpgkKSUDTJKUkgEmSUrJAJMkpWSASZJSMsAkSSkZ\\\n",
              "YJKklAwwSVJKBpgkKSUDTJKUkgEmSUrJAJMkpWSASZJSMsAkSSkZYJKklAwwSVJKBpgkKSUDTJKU\\\n",
              "kgEmSUrJAJMkpWSASZJSMsAkSSkZYJKklAwwSVJKBpgkKSUDTJKUkgEmSUrJAJMkpWSASZJSMsAk\\\n",
              "SSkZYJKklAwwSVJKBpgkKSUDTJKUkgEmSUrJAJMkpWSASZJSMsAkSSkZYJKklAwwSVJKBpgkKSUD\\\n",
              "TJKUkgEmSUrJAJMkpWSASZJSMsAkSSkZYJKklAwwSVJKBpgkKSUDTJKUkgEmSUrJAJMkpWSASZJS\\\n",
              "MsAkSSkZYJKklAwwSVJKBpgkKSUDTJKUkgEmSUrJAJMkpWSASZJSMsAkSSkZYJKklAwwSVJKBpgk\\\n",
              "KSUDTJKUkgEmSUrJAJMkpWSASZJSMsAkSSkZYJKklAwwSVJKBpgkKSUDTJKUkgEmSUrJAJMkpWSA\\\n",
              "SZJSMsAkSSkZYJKklAwwSVJKBpgkKSUDTJKUkgEmSUrJAJMkpWSASZJSMsAkSSkZYJKklAwwSVJK\\\n",
              "BpgkKSUDTJKUkgEmSUrJAJMkpWSASZJSMsAkSSkZYJKklAwwSVJKBpgkKSUDTJKUkgE2nKlTYYst\\\n",
              "YOutYcoUmD0bVqyozy1ZAm95C0ycCNtuCy97Gcyf38PCSsrM3U13DLBOXH11/RTdcQfcfjuce24d\\\n",
              "/653wS67wP33w6OPwqWXwo479rSoknJbH7ubmTNhwYJRKnAPTeh1AVKZMgUOPrh+sgBuvRXOPx+2\\\n",
              "2qo+fvnLe1Y0SWOLu5vheQbWjSVL4LrrYPfd6+PXvAZOOgm+8hX49a97WzZJY4q7m+EZYJ047DDY\\\n",
              "Zpt6/j55MsydW8dffjnsvz+cdRbsuivsvXc9TJKkEXJ30zkDrBNXXQXLl9dK5XvvhaVL6/jtt4d5\\\n",
              "8+Cee+C3v62fqMMOg1Lg+OPrlditt4Zzzuld2SWlMpLdDcB22/UPCxfCoYf2P543b9RXY1QYYN2Y\\\n",
              "MaM2C5ozZ+3nJk6s4x94AB57DC68sF6JXbECTj991IsqKbdudjcAy5b1D/vtB9dc0//4Qx8arVKP\\\n",
              "LgOsW6ecAjfeCIsXwwc/CHffDatW1UOmCy6oFdY77NDrUkoaA9zdDM0A69akSTBrFpx5Jjz1FBx+\\\n",
              "eD1H32232r71G9/odQkljRHuboYWpa8CdYyZPn16WbRoUa+LIa0lIhir3zvlFxG3lVKm97ocnfAM\\\n",
              "TJKUkgEmSUrJAJMkpWSASZJS2qQCbPXq1Vx++eXccMMNvS6KJPXExRdfzMKFC3tdjPVikwiw1atX\\\n",
              "87WvfY3ddtuNo48+mosuuqjXRZKknpg7dy6vfe1r2XfffdMH2Zi/G/1NN93E4YcfzsqVK1m1alWv\\\n",
              "iyNJPVVK4dlnn+WWW25h5syZTJ48mcWLFzNp0qReF61rY/Z3YBExNldMkjYsfwfWa/vssw+llD8M\\\n",
              "d955J69//euJCI466qg1nnNwGM0B6HkZHDbdYdddd+U5z3kOxx13HEuWLFnr+UzGfBVin2nTpnHt\\\n",
              "tddy1113MW7cmM1tSRrS/PnzeeELX8hOO+3U66Kss00mwPpMmzat10WQpJ454IADel2E9cZTEUlS\\\n",
              "SgaYJCklA0ySlJIBJklKyQCTJKVkgEmSUjLAJEkpGWCSpJQMMElSSgaYJCklA0ySlJIBJklKyQCT\\\n",
              "JKVkgEmSUjLAJEkpGWCSpJQMMElSSgaYJCklA0ySlJIBJklKyQCTJKVkgEmSUjLAJEkpGWCSpJQM\\\n",
              "MElSSgaYJCklA0ySlJIBJklKyQCTJKVkgEmSUjLAJEkpGWCSpJQMMElSSgaYJCklA0ySlJIBJklK\\\n",
              "yQCTJKVkgEmSUjLAJEkpGWCSpJQMMElSSgaYJCklA0ySlJIBJklKyQCTJKVkgEmSUjLAJEkpGWCS\\\n",
              "pJQMMElSSgaYJCklA0ySlJIBJklKyQCTJKVkgEmSUjLAJEkpGWCSpJQMMElSSgaYJCklA0ySlJIB\\\n",
              "JklKyQCTJKVkgEmSUjLAJEkpGWCSpJQMMElSSgaYJCklA0ySlJIBJklKyQCTJKVkgEmSUjLAJEkp\\\n",
              "GWCSpJQMMElSSgaYJCklA0ySlJIBJklKyQCTJKVkgEmSUjLAJEkpGWCSpJQMMElSSgaYJCklA0yS\\\n",
              "lJIBJklKyQCTJKVkgEmSUjLAJEkpGWCSpJQMMElSSgaYJCklA0ySlJIBJklKyQCTJKVkgEmSUjLA\\\n",
              "JEkpGWCSpJQMMElSSgaYJCklA0ySlJIBJklKyQCTJKVkgEmSUjLAJEkpGWCSpJQMMElSSgaYJCkl\\\n",
              "A0ySlJIBJklKyQCTJKVkgEmSUjLAJEkpGWCSpJQMMElSSgaYJCklA0ySlJIBJklKyQCTJKVkgEmS\\\n",
              "UjLAJEkpGWCSpJQMMElSSgaYJCklA0ySlJIBJklKyQCTJKVkgEmSUjLAJEkpGWCSpJQMMElSSgaY\\\n",
              "JCklA0ySlJIBJklKyQCTJKVkgEmSUjLApI3V1KmwxRaw9dYwZQrMng0rVtTnZs+GzTarz/UNe+3V\\\n",
              "w8JKo88AkzZmV19dQ+uOO+D22+Hcc/uf+8AH6nN9w+LFPSum1AsGmJTBlClw8ME1yCQBBpiUw5Il\\\n",
              "cN11sPvuvS6JtNEwwKSN2WGHwTbbwC67wOTJMHdu/3PnnQfbbdc/HHNMb8oo9YgBJm3MrroKli+H\\\n",
              "BQvg3nth6dL+5+bMgWXL+odLLqnjjz++v2HHOeeMepGl0WKASRnMmFFbHs6ZM/y0F17Y37Dj9NM3\\\n",
              "eNGkXpnQ6wJI6tApp9Sm9bY2lADPwKQ8Jk2CWbPgzDPr4099as3fgU2c2NvySaMsSim9LsMGMX36\\\n",
              "9LJo0aJeF0NaS0QwVr93yi8ibiulTO91OTrhGZgkKSUDTJKUkgEmSUrJAJMkpWSASZJSMsAkSSkZ\\\n",
              "YJKklLwThzQKVq1axQknnMATTzwBwJFHHsm0adP46Ec/2uOSSXkZYNIoGDduHNdffz1LliwB4Ior\\\n",
              "ruCZZ57pcamk3KxClEbBuHHjmDdvHltuuSUAm2++Oee29q4sqWsGmDRK3va2t7HtttsCcNBBB7Hn\\\n",
              "nnv2uERSbgaYNErGjx/P6U33Jp59SevOAJNG0fHHHw/g2Ze0Hhhg0iiaMMF2U9L6YoBJklIas/2B\\\n",
              "RcQjwP29LockJfOCUsqkXheiE2M2wCRJY5tViJKklAwwSVJKBpgkKSUDTJKUkgEmSUrJAJMkpWSA\\\n",
              "SZJSMsAkSSkZYJKklAwwSVJKBpgkKSUDTJKUkgEmSUrJAJMkpWSASZJSMsAkSSkZYJKklAwwSVJK\\\n",
              "BpgkKSUDTJKUkgEmSUrJAJMkpWSASZJSMsAkSSkZYJKklAwwSVJKBpgkKSUDTJKUkgEmSUrJAJMk\\\n",
              "pWSASZJSMsAkSSkZYJKklAwwSVJKBpgkKSUDTJKUkgEmSUrJAJMkpWSASZJSMsAkSSkZYJKklAww\\\n",
              "SVJKBpgkKSUDTJKUkgEmSUrJAJMkpWSASZJSMsAkSSkZYJKklAwwSVJKBpgkKSUDTJKU0v8HT+82\\\n",
              "3g9fr8AAAAAASUVORK5CYII=\\\n",
              "\"\n",
              "  frames[1] = \"data:image/png;base64,iVBORw0KGgoAAAANSUhEUgAAAbAAAAGwCAYAAADITjAqAAAAOXRFWHRTb2Z0d2FyZQBNYXRwbG90\\\n",
              "bGliIHZlcnNpb24zLjUuMSwgaHR0cHM6Ly9tYXRwbG90bGliLm9yZy/YYfK9AAAACXBIWXMAAAsT\\\n",
              "AAALEwEAmpwYAAAfFUlEQVR4nO3de7xcZX3v8c8vQZCbgCQhVqgBUSw1BSVeOAWSYxFQ0QNVQFFD\\\n",
              "XihHLlXoaVDBGwGBqCh6WoW2nBJEigooFQQKgqFGRQlCuFi8FmwEhACBRMIl5jl/PGu7J5N9mdlJ\\\n",
              "9uS3+bxfr/Xae9asyzNrZtZ3rWc9s54opSBJUjbjel0ASZJGwgCTJKVkgEmSUjLAJEkpGWCSpJQM\\\n",
              "MElSSgaYJCklA0ySlJIBJklKyQCTJKVkgEmSUjLAJEkpGWCSpJQMMElSSgaYRl1EzIqIMsiwtIvl\\\n",
              "TImIUyJipw6mHR8RsyPihoj4XUQsi4ifRMR7ImLY78G6KnOnImLXiDg/Iu6NiKci4rGI+F5EfCAi\\\n",
              "nruu17c2htguu/e6bBrbNup1AfSsdgiwuG3cyi7mnwJ8AlgA/HqYaTcFPgp8GfgCsBx4I/DPwMuA\\\n",
              "Eztc59qWeVgRcQjwFeB24DTgF8DmwHRgDhDU17AhmQf8Y9u4n/egHHoWMcDUS7eVUn45SutaAexU\\\n",
              "SnmkZdz1EbEN8P6I+HgpZUUHy1mvZY6Il1BD9irgkFJKazheFRFnAS9dX+tfC78tpdzU60Lo2cUq\\\n",
              "RG2wImJyRFwQEfc11Wj3R8SVETEpImYA320mva6l2mrGQMsqpfyhLbz63AxsAkxYDy9hJE6gHlge\\\n",
              "2xZeAJRSHiqlfB8gIp4bEWdHxJ0RsTwiHoiIKyLiZa3zDLUdW6Z5QUR8OSKWNNPcHhHvWs+vVVor\\\n",
              "noGpl8ZHRPtncFUpZVXz/4XAi6jVe/8NbAf8FbAZ8BPgOOCLwAeoQQTw0y7LMB1YCty/jsq8tl4P\\\n",
              "3FxK6aQ8mwBbAp+klv/5wLHADyPiz0opDzTTDbUdiYjNgRuBbYCTm2neBVwYEZuVUv6pg7IcExEn\\\n",
              "An8AbgI+UUr5XgfzSSNXSnFwGNUBmAWUQYYrW6ZbDnxgiOXMaObZd4Tl2B9YBXxkXZV5HWybFcDF\\\n",
              "I5x3PDWUlgF/28V2/JvmdcxoG/8d4EFg/DDrvRA4DNibGnyLgGfal+fgsK4Hz8DUSwezZoOIpS3/\\\n",
              "3wycGBEB3ADcWUop62LFEbErcDG1GvJTXcw6XJkHWlf79+wP6/B1HAr8HbALsFXLU7u0/D/cdtyH\\\n",
              "eg1rftvivwKcD+wK3DFYGUop7255+L2I+DfgTuqZ4V5dvSCpC14DUy/dWUpZ2Da0NpA4DPgW8EFq\\\n",
              "i7zfRsTHO2n2PpSm2f11wH8BB5cBrjWtRZkH8kzbMH2Iaf+bWt03rIh4M/A14D+Bw4HXAK8CHgJa\\\n",
              "m9oPtx2fz8BVqA+0PN+xUsoy4NtNWaT1xjMwbbBKKQ9Sr3MdFxG7AEdQm5E/BJwzkmVGxPbA9cDj\\\n",
              "wP6llMfXUXGH0r4j/9kQ034HeG9ETC7917AG83bgl6WUWX0jIuI5tAVOB9vxEVY/Y+szufk7UOOX\\\n",
              "TqyTs0xpMJ6BKYVSys9KKScDjwIvb0Y/1fzdtJNlRMREakAAvL6UsmTdlnJgA5yxLRti8rOpDSG+\\\n",
              "FBHj25+MiAkR8ZfNw81Y8zdo76ZeCxusLANtxxuB7VuW2+dw6jWwrhrGRMTzgAOBH3czn9Qtz8DU\\\n",
              "S7tHxEDN1xdSf7j7HeAi4G5q1dv/oraUu7aZ7ufUHfiREfEINdB+NlBARMSmwL9Tf/x8JHWHvX3L\\\n",
              "JD/t8Gxs0DJ3WRU5oFLKLyJiJvX6000RcS79P2TeG3gfcCrwfeAa4KCIOBu4EpgGvJ+Wa3IRsRXD\\\n",
              "b8d5wPHANyLiI9RrfO+ktoh8XynlD4OVNyJmU8/evgvcR63+nE09e3vnWm0MaTi9bkXi8OwbGLpF\\\n",
              "X6H+JmsT6p0d7qK2onuc2hjh8LZlvY96F46VDNCSrmW6KcOsc8D5uinzOt5Gf04Nlt8ATwOPAd+j\\\n",
              "NpPfpJlmHLWhxH3AE9QzqVcA9wDzmmk63Y4voLYmXEI9ELgdeFcH5XwzNUyXUMPxYer1tlf3+nPm\\\n",
              "MPaHKMVqaklSPl4DkySlZIBJklIywCRJKRlgkqSUDDBJUkoG2CiJiKkR8URE+NsYpRQRR0XE0uY+\\\n",
              "klLPGWAj0G137xGxGfWedZ8ppVzU4TrmR8T8lsczhurvarRFxD0RMa/X5ei1iJjVvC9TRjBviYhT\\\n",
              "Wh6fEhE9+11Le3nantsVOAs4tJTSbZc160TLti4RsUannhExveX5fVvGz4uIe0ahbEeuz3U063lp\\\n",
              "RHyh6a9tedO327ciYrf1ve4NkQHWpajdvd9KvQ3PacB+wDuAH1DvL/e+AWb7ArWLiVPWYtU/AfZs\\\n",
              "/mrD8W3q+9Jpf2JDOa9ZVq/s2ZRhNc1B2VeBD5VSrl1jrtG3jHrLrHZHNM+1O43ai8D6NIt6h5f1\\\n",
              "bT/gfwIXUH9EfiwwkXrXlj1GYf0bFG8l1YUYYXfvpZSj1nbdpd7myC7bNzCllIeoN8VdF8tazJpd\\\n",
              "tYyaUsqAn69SypPAX4xycYbyDeBdEfHx0tyJoblV2NuAy6hh8kellF+NegnXn68CXywtd6CIiBuo\\\n",
              "d185HpjZo3L1hGdg3TmBDrt7B4iIXSLim811gxURcVNEHNA+X0S8PSLubqoj74qINY4WB6pCjIjx\\\n",
              "EfHJphrhiYi4ISJeNlBVUEQcEBE/bMrxWERc3tyZfFgRcXxTZfhkRCyMiL0HmW7HiLgoIh5qXstt\\\n",
              "A72Wkc7bVJ98MyIebMrym4i4JJr+tlq20VubaqNHI+LxZrnbti1ro4g4qWW73xcRn22vAo6IzSNi\\\n",
              "bkT8qpnugYi4LCK2a55fowqxeT9vaF7L8oi4NSKO6GAbrFaFGLUauQwyTGmmeVVEXBoRi5v39mcR\\\n",
              "cUazQ29f/sER8f2mTI9HxI8j4i0tz4/oc9OUc0FE7BsRP2k+i3d2+t6PQF8P0619jR1M3Z9d1j5x\\\n",
              "tFUhRsSU5rW+LyJObb4/SyPiilj9/piDbZO++Wc1j+dTu8j5y5b3Z37L9K+OiO802/33EXF9RLx6\\\n",
              "JC+8lLKktN0+qZTyGPW+oC8cyTIzM8C603F37xHxJ8ACYDdqj7eHUm+y+u2IeEPLdPsC/0q9Yetf\\\n",
              "A5+hVjl2Ei5zqF3Af5l6g9Zrqfehay/LAdSqruXUvqGOoVaBLoiIIT/0EfEe4PPUm7UeRL0/38XU\\\n",
              "m8G2TrcD8KPm9f4t8BZqdedlrTvJQdbR6bzfpn5Jj6H2pvxh6n372j/Hn6fen/AdwEea5V3aNs1X\\\n",
              "gI9St/2bgDOB91BvettXro2p/Ya9v3ndB1Lfy0faX3+bnZr1vZO6za4AzouIo4eYZyDHUqv1+oa9\\\n",
              "qJ+T39HfxcmfArcBRwMHUD87R1I7ovyjiHg/9czlQWpV2yHAN6n3iBxQl5+bFzfr/hz1c3w/cElE\\\n",
              "7Nzla+7EvcB/sHo14kzq61nexXJOAnambq/jqdv4KyMoz7HUywq30/9eHQsQEX9BvUflNtQzw5nA\\\n",
              "84Abo+W6VcvB16xuVx4Rz6e+L/85grLn1uubMWYa6KK7d+oF75XAzi3jxlP7gvpJy7jvU7urGNcy\\\n",
              "7rXUHfD8lnEzaLnpLPULsRz4Utt6/08z3Skt4xZSd3wbtYzbkXrz1c8N8RrGUTtYvKZt/GHNOua1\\\n",
              "jPt/1Kq0bdumvQ64bZhtNey81Bv8FuAtQyynbxu1l/edzfi/ah7v3TyeOch0uzePj+xgnbOaaaYM\\\n",
              "sQ03Av4ZWNT2XPv7dEr9Sg66rn9oPoOvGeT5aNb1LmBV3/ak7jCXAd8Y5n0Y0ecGmN+Me0nLuEnU\\\n",
              "bmFOXoffv75t3Rc6j1I77nwB9bv2+pbPwL4t880D7ml5PIW271czfnYz/k8G2yZt889q2wYLBijz\\\n",
              "pdQD161bxj2PegDyjZZx05vXMLPT7dEy70XUmznv3O282QfPwNaffYCbSktvvaV2S3ExtUuO50Xt\\\n",
              "7+lVwKWllFUt091ErdMeylRqFxuXtI1f7UwjIjYHXgl8rbRUe5ZS/osantOHWMf2zfD1tvGXsWY/\\\n",
              "VAdQrw0+1lTPbdRU7f07sFvUPqIG08m8D1PvOj83anPulwyxvPbyXkLdofc1kDiAeof3S9vW19dA\\\n",
              "YZ/m737AA6WUNc5qhxIRL4mIiyPit/T3wvxeOjurHmyZx1GP6meWUn7UMv55EfGpiPgV9Wz0GWoV\\\n",
              "WwB92+h/AFsA/9TF+rr93PyilPKLlukepJ7t/ekw69mo7T3o1CXUO+2/mXrg8QC1o9JuXNX2+I7m\\\n",
              "75Bl7tI+wJWllKV9I0q9nv0tWrZhKeXGUspGpZQvd7PwiDiJ2m/b35ThewYfcwyw7nTc3TtDd9Me\\\n",
              "1DOoCcBzqFVC7QYa1+oFzd8Hh5lvm2Z9g5VlqO7i+9ax2jKbHdrDbdNOolaPPNM2fKZ5flsGN+y8\\\n",
              "pR5qvp56VnAm8POI+HVEHDPA8trL+zT1aL2v2msSsDHw+7b19W3LbVv+/naIcq8hIragnjnuRq3i\\\n",
              "3Jt6kPIv1B1u1yJiP2r13EdLKe0HLOdTqw//L3X7vIra+zLUsxPofz3dNBDp9nMzUK/NT7WUYQ3N\\\n",
              "dbzV3vPo8OcIpfb5djm1GnEmcFHrQWCH2svc10HqoGUegaH2A0NVQw+rqZI+g/q5+Je1WVZWtkLs\\\n",
              "TjfdvT9Cf5fsrSZTqx8epX8Hut0A021HresfTN+XYhK1r6fW+Vo92qxvsLIM1V183zpWW2ZzpNwe\\\n",
              "SA9T+6v61CDLum+I9XQ0bynl18DMiAj6ry1+KSLuKaVc3TJ9e3k3pu4s+sLoYeBJargMVdYl9Pda\\\n",
              "3Kk9qQc5e5dSFrSUYUTftYj4M+oZ5YWllDPannsu9drnKaWUL7SMn9q2mL6ep18I3Nnhqtfmc9Op\\\n",
              "+6iB2z6uU1+mXqMbR73euT48RT3YaTXUwVi7ofYDj460UBHxbuBLwGdLKaePdDnZeQbWnbPpvLv3\\\n",
              "G4HXxuqt08ZTrx/dWkp5vKlSvBl4W0SMa5nuNQxxcb1xBzUAD2kbv9rjUsrvgVuAQ1rLHBEvolYt\\\n",
              "zR9iHYupZ52Hto1/K2se/FxDbWp9Vyll4QDDUwyuq3lLdRv1eh+sGTLt5T2E+ln/Ycv6ngtsNcj6\\\n",
              "+nai1wKTI+LNQ5S93WbN32f6RkTENtSg6UrUlpNXUhtpDPT7wk2o11WfaRs/q+3xD6jXS/93p+te\\\n",
              "y89Np+t4eoBt/3QXi7iOGu7nllLuGm7iEbqXNT9fbxpguqeANVp+UvcDb4yILftGNP+/mRFuw6Z1\\\n",
              "5/nAeaWU2SNZxljhGVgXSnfdvZ9N3ZFcFxGfoPaEeyz1d2KtX4BPUHeUl0fEP1J/lDiHWsUwVFke\\\n",
              "jYjPAydHxDLq2eErqS3poF7z6fMx6pHqlRHxJer1kDnUXn4/O8Q6VkXEHGoLuvOpv0HZmVo19njb\\\n",
              "5B8Hfgz8R0T8A/Ua3jbUL/9OpZShfuQ57LxNa64vUO9o8kvqjnsW9VrcDW3L+/OW8r4UOJ16wf76\\\n",
              "5nXNj4iLqdfAPtesexX1oOGN1B/s/pz6Ph8FXBwRZ1JbSm5JbQH5+VLK3QO8lh802+aLzfu+ObW1\\\n",
              "4xJgqyG2wUAuolYzvx94ZT3x/KNbSymPRcRNwN9FxP3NOo6krTl1KWVZc63k7yPisma5y4DdgSdL\\\n",
              "KX8/yPpH9LkZLc0B4Po68+rzVeCjEfER6u8w9x5knT8Fjo2Iw4BfActKKT+j/oj6QOD6iPgU9az2\\\n",
              "Q9QDnVP7Zo6I6dRreEcOdR0sIvahXkdfBMyLiNe2PP1UKeXWEb/SjHrdiiTjQAfdvTfT7UKtp3+M\\\n",
              "WmV1E3DAAMt7B7V14lPU6sCDqUdn81ummUFLK8Rm3HjqzvkBauu0+dSj4wIc37aOA6hnICua8vwb\\\n",
              "sEuHr/d46pHok9RrUHvR0m19y3TbU+/k8Ntmu9xPPUrupGv6IeelVpVeQP29yxPUqpkbgf0H2EZ/\\\n",
              "3bw/S6k76n8FJrStb1zzuhY1r+ux5v9PU8/M+qbbgnot7t6Wcl0KTGqen0VbK0TgddRm1SuoO7MP\\\n",
              "MEALQ4Zphdhs4zLIMKWZZgpwdfM6H6S2VHxT+2elmfZt1BBeQQ3ZHwEHDlaeTj83DN4Cb43PyFp+\\\n",
              "7/q29aCt7eiuFeJ7B5m39Tv2XOqB0/3NNv4a8GrWbIU4mdooZBlrtiB+DfUAczm11uR64NWDrHvW\\\n",
              "MNvglCE+E/cMNe9YHKLZKBojIuJt1BZa+5RSvtfr8oymqD/y/i7w+lLKd3pbGknrm1WIiTXXyt5E\\\n",
              "PZJ+EtiDWr13E/VH1JI0ZhlguS2n/s7kOOqPIx+kXtQ+qXhqLWmMswpRkpSSzeglSSkZYJKklMbs\\\n",
              "NbAJEyaUKVOm9LoY0hpuueUW9tjjWdf3oJK45ZZblpRSJva6HJ0Ys9fApk2bVhYuXNjrYkhriAjG\\\n",
              "6vdO+UXELaWUab0uRyesQpRG0bJlA/V4L2kkDDBpFH32s/UOTAsW+DM9aW0ZYNIoWbFiBWeffTYA\\\n",
              "J554Yo9LI+VngEmj5JxzzuGZZ+qN42+//XbPwqS1ZIBJo2DlypWcdtppPP107S3kySef5KSTTupx\\\n",
              "qaTcDDBpFIwbN47TTz+dM888E4C5c+dy/PHHDznPlCmw6aawxRYweTLMmgXLl9fnZs2CjTeuz/UN\\\n",
              "u+22Xl+CtMGxGb00yjptRj9lCpx3Huy7LzzwAOy/Pxx4IJx+eg2w7beHT35y+PXNmAGnnFL/SsOx\\\n",
              "Gb2kdWry5Bpgt93W65JIGw4DTEpg8WK4+mrYeedel0TacBhg0gbsoINgyy1hhx1g0iSYM6f/ubPO\\\n",
              "gq237h+OOKI3ZZR6xQCTNmCXXw7LlsH8+XD33bBkSf9zs2fD0qX9wwUX9D/XGmwLFtRrZ32P584d\\\n",
              "rdJL65cBJiUwfXptuDF7dmfTtwbbXnvBlVf2P/7wh9dXKaXRNWbvRi+NNSecUFsmLlrU65JIGwbP\\\n",
              "wKQkJk6EmTPh1FPr409/evXfgU2Y0NvySaPN34FJo8zuVLQh83dgkiStZwaYJCklA0ySlJIBJklK\\\n",
              "yQCTJKVkgEmSUjLAJEkpGWCSpJQMMElSSgaYJCklA0ySlJIBJklKyQCTJKVkgEmSUjLAJEkpGWCS\\\n",
              "pJQMMElSSgaYJCklA0ySlJIBJklKyQCTJKVkgEmSUjLAJEkpGWCSpJQMMElSSgaYJCklA0ySlJIB\\\n",
              "JklKyQCTJKVkgEmSUjLAJEkpGWCSpJQMMElSSgaYJCklA0ySlJIBJklKyQCTJKVkgEmSUjLAJEkp\\\n",
              "GWCSpJQMMElSSgaYJCklA0ySlJIBJklKyQCTJKVkgEmSUjLAJEkpGWCSpJQMMElSSgaYJCklA0yS\\\n",
              "lJIBJklKyQCTJKVkgEmSUjLAJEkpGWCSpJQMMElSSgaYJCklA0ySlJIBJklKyQCTJKVkgEmSUjLA\\\n",
              "JEkpGWCSpJQMMElSSgaYJCklA0ySlJIBJklKyQCTJKVkgEmSUjLAJEkpGWCSpJQMMElSSgaYJCkl\\\n",
              "A0ySlJIBJklKyQCTJKVkgEmSUjLAJEkpGWCSpJQMMElSSgaYJCklA0ySlJIBJklKyQCTJKVkgEmS\\\n",
              "UjLAJEkpGWCSpJQMMElSSgaYJCklA0ySlJIBJklKyQCTJKVkgEmSUjLAJEkpGWCSpJQMMElSSgaY\\\n",
              "JCklA0ySlJIBJklKyQCTJKVkgEmSUjLAJEkpGWCSpJQMMElSSgaYJCklA0ySlJIBJklKyQCTJKVk\\\n",
              "gEmSUjLAJEkpGWCSpJQMMElSSgaYJCklA0ySlJIBJklKyQCTJKVkgEmSUjLAJEkpGWCSpJQMMElS\\\n",
              "SgaYJCklA0ySlJIBJklKyQCTJKVkgEmSUjLAJEkpGWCSpJQMMElSSgbYcKZMgU03hS22gMmTYdYs\\\n",
              "WL68Prd4Mbz1rTBhAmy1Fbz85TBvXg8LKykzdzfdMcA6ccUV9VN0221w661w5pl1/LvfDTvsAPfe\\\n",
              "Cw8/DBdeCNtt19OiSsptXexuZsyA+fNHqcA9tFGvC5DK5Mmw//71kwVw881w9tmw+eb18Ste0bOi\\\n",
              "SRpb3N0MzzOwbixeDFdfDTvvXB+/9rVw3HHw1a/Cb37T27JJGlPc3QzPAOvEQQfBllvW8/dJk2DO\\\n",
              "nDr+kktg773htNNgxx1h993rYZIkjZC7m84ZYJ24/HJYtqxWKt99NyxZUsdvsw3MnQt33QW/+139\\\n",
              "RB10EJQCRx9dr8RusQWccUbvyi4plZHsbgC23rp/WLAADjyw//HcuaP+MkaFAdaN6dNrs6DZs9d8\\\n",
              "bsKEOv6+++CRR+Dcc+uV2OXL4eSTR72oknLrZncDsHRp/7DXXnDllf2PP/zh0Sr16DLAunXCCXDd\\\n",
              "dbBoEXzoQ3DnnbByZT1kOuecWmG97ba9LqWkMcDdzdAMsG5NnAgzZ8Kpp8ITT8DBB9dz9J12qu1b\\\n",
              "v/WtXpdQ0hjh7mZoUfoqUMeYadOmlYULF/a6GNIaIoKx+r1TfhFxSyllWq/L0QnPwCRJKRlgkqSU\\\n",
              "DDBJUkoGmCQppWdVgK1atYpLLrmEa6+9ttdFkaSeOP/881mwYEGvi7FOPCsCbNWqVXz9619np512\\\n",
              "4vDDD+e8887rdZEkqSfmzJnD6173Ovbcc8/0QTbm70Z//fXXc/DBB7NixQpWrlzZ6+JIUk+VUnjm\\\n",
              "mWe46aabmDFjBpMmTWLRokVMnDix10Xr2pj9HVhEjM0XJknrl78D67U99tiDUsofh9tvv503vOEN\\\n",
              "RASHHXbYas85OIzmAPS8DA7P3mHHHXfkOc95DkcddRSLFy9e4/lMxnwVYp+pU6dy1VVXcccddzBu\\\n",
              "3JjNbUka0rx583jxi1/MC1/4wl4XZa09awKsz9SpU3tdBEnqmX322afXRVhnPBWRJKVkgEmSUjLA\\\n",
              "JEkpGWCSpJQMMElSSgaYJCklA0ySlJIBJklKyQCTJKVkgEmSUjLAJEkpGWCSpJQMMElSSgaYJCkl\\\n",
              "A0ySlJIBJklKyQCTJKVkgEmSUjLAJEkpGWCSpJQMMElSSgaYJCklA0ySlJIBJklKyQCTJKVkgEmS\\\n",
              "UjLAJEkpGWCSpJQMMElSSgaYJCklA0ySlJIBJklKyQCTJKVkgEmSUjLAJEkpGWCSpJQMMElSSgaY\\\n",
              "JCklA0ySlJIBJklKyQCTJKVkgEmSUjLAJEkpGWCSpJQMMElSSgaYJCklA0ySlJIBJklKyQCTJKVk\\\n",
              "gEmSUjLAJEkpGWCSpJQMMElSSgaYJCklA0ySlJIBJklKyQCTJKVkgEmSUjLAJEkpGWCSpJQMMElS\\\n",
              "SgaYJCklA0ySlJIBJklKyQCTJKVkgEmSUjLAJEkpGWCSpJQMMElSSgaYJCklA0ySlJIBJklKyQCT\\\n",
              "JKVkgEmSUjLAJEkpGWCSpJQMMElSSgaYJCklA0ySlJIBJklKyQCTJKVkgEmSUjLAJEkpGWCSpJQM\\\n",
              "MElSSgaYJCklA0ySlJIBJklKyQCTJKVkgEmSUjLAJEkpGWCSpJQMMElSSgaYJCklA0ySlJIBJklK\\\n",
              "yQCTJKVkgEmSUjLAJEkpGWCSpJQMMElSSgaYJCklA0ySlJIBJklKyQCTJKVkgEmSUjLAJEkpGWCS\\\n",
              "pJQMMElSSgaYJCklA0ySlJIBJklKyQCTJKVkgEmSUjLAJEkpGWCSpJQMMElSSgaYJCklA0ySlJIB\\\n",
              "JklKyQCTJKVkgEmSUjLAJEkpGWCSpJQMMElSSgaYJCklA0ySlJIBJklKyQCTJKVkgEmSUjLAJEkp\\\n",
              "GWCSpJQMMElSSgaYJCklA0zaUE2ZAptuCltsAZMnw6xZsHx5fW7WLNh44/pc37Dbbj0srDT6DDBp\\\n",
              "Q3bFFTW0brsNbr0Vzjyz/7kPfrA+1zcsWtSzYkq9YIBJGUyeDPvvX4NMEmCASTksXgxXXw0779zr\\\n",
              "kkgbDANM2pAddBBsuSXssANMmgRz5vQ/d9ZZsPXW/cMRR/SmjFKPGGDShuzyy2HZMpg/H+6+G5Ys\\\n",
              "6X9u9mxYurR/uOCCOv7oo/sbdpxxxqgXWRotBpiUwfTpteXh7NnDT3vuuf0NO04+eb0XTeqVjXpd\\\n",
              "AEkdOuGE2rTe1oYS4BmYlMfEiTBzJpx6an386U+v/juwCRN6Wz5plEUppddlWC+mTZtWFi5c2Oti\\\n",
              "SGuICMbq9075RcQtpZRpvS5HJzwDkySlZIBJklIywCRJKRlgkqSUDDBJUkoGmCQpJQNMkpSSd+KQ\\\n",
              "RsHKlSs55phjeOyxxwA49NBDmTp1Kh/72Md6XDIpLwNMGgXjxo3jmmuuYfHixQBceumlPPXUUz0u\\\n",
              "lZSbVYjSKBg3bhxz585ls802A2CTTTbhzNbelSV1zQCTRsnb3/52ttpqKwD2228/dt111x6XSMrN\\\n",
              "AJNGyfjx4zm56d7Esy9p7Rlg0ig6+uijATz7ktYBA0waRRttZLspaV0xwCRJKY3Z/sAi4iHg3l6X\\\n",
              "Q5KSeVEpZWKvC9GJMRtgkqSxzSpESVJKBpgkKSUDTJKUkgEmSUrJAJMkpWSASZJSMsAkSSkZYJKk\\\n",
              "lAwwSVJKBpgkKSUDTJKUkgEmSUrJAJMkpWSASZJSMsAkSSkZYJKklAwwSVJKBpgkKSUDTJKUkgEm\\\n",
              "SUrJAJMkpWSASZJSMsAkSSkZYJKklAwwSVJKBpgkKSUDTJKUkgEmSUrJAJMkpWSASZJSMsAkSSkZ\\\n",
              "YJKklAwwSVJKBpgkKSUDTJKUkgEmSUrJAJMkpWSASZJSMsAkSSkZYJKklAwwSVJKBpgkKSUDTJKU\\\n",
              "kgEmSUrJAJMkpWSASZJSMsAkSSkZYJKklAwwSVJKBpgkKSUDTJKUkgEmSUrp/wP2K1022bdhQgAA\\\n",
              "AABJRU5ErkJggg==\\\n",
              "\"\n",
              "  frames[2] = \"data:image/png;base64,iVBORw0KGgoAAAANSUhEUgAAAbAAAAGwCAYAAADITjAqAAAAOXRFWHRTb2Z0d2FyZQBNYXRwbG90\\\n",
              "bGliIHZlcnNpb24zLjUuMSwgaHR0cHM6Ly9tYXRwbG90bGliLm9yZy/YYfK9AAAACXBIWXMAAAsT\\\n",
              "AAALEwEAmpwYAAAfLElEQVR4nO3de7QdZX3/8fc3iSAQBCQJsUANiGKpKSjxQgsky6Kgoj+oAhY1\\\n",
              "ZKFWLlXor0EBbwQEokXR1Sq0pSWIFhWwVBAoiIYaa5QghIs/vFWw4SIECCQaLjHP749njmezcy57\\\n",
              "Jydn53t4v9aalezZc3lmzt7zmXnm2fNEKQVJkrIZ1+sCSJK0PgwwSVJKBpgkKSUDTJKUkgEmSUrJ\\\n",
              "AJMkpWSASZJSMsAkSSkZYJKklAwwSVJKBpgkKSUDTJKUkgEmSUrJAJMkpWSAadRFxJyIKIMMK7pY\\\n",
              "zrSIOC0idu1g2vERMTcivh0Rv46IlRHxo4h4d0QM+z0YqTJ3KiL2iIgLI+KeiHgyIh6LiO9GxAci\\\n",
              "4rkjvb4NMcR+2avXZdPYNqHXBdCz2mHAsrZxa7qYfxrwcWAR8D/DTLsF8BHgi8DngFXAG4F/Bl4K\\\n",
              "nNThOje0zMOKiMOALwG3AWcAPwO2AmYC84CgbsOmZAHwj23jftqDcuhZxABTL91aSvn5KK1rNbBr\\\n",
              "KeWRlnE3RMR2wPsj4mOllNUdLGejljkiXkwN2auBw0opreF4dUScA7xkY61/A9xbSlnc60Lo2cUq\\\n",
              "RG2yImJqRFwUEfc11Wj3R8RVETElImYB32kmvb6l2mrWQMsqpfyuLbz63ARsDkzaCJuwPk6knlge\\\n",
              "1xZeAJRSHiqlfA8gIp4bEedGxB0RsSoiHoiIKyPipa3zDLUfW6Z5QUR8MSKWN9PcFhHv3MjbKm0Q\\\n",
              "r8DUS+Mjov0zuLaUsrb5/8XAC6nVe/8L7AD8ObAl8CPgeODzwAeoQQTw4y7LMBNYAdw/QmXeUK8D\\\n",
              "biqldFKezYGtgU9Qy/984Djg+xHxR6WUB5rphtqPRMRWwI3AdsCpzTTvBC6OiC1LKf/UQVmOjYiT\\\n",
              "gN8Bi4GPl1K+28F80vorpTg4jOoAzAHKIMNVLdOtAj4wxHJmNfMcsJ7lOBBYC3x4pMo8AvtmNXDJ\\\n",
              "es47nhpKK4G/6WI//nWzHbPaxn8LeBAYP8x6LwaOAPajBt9S4On25Tk4jPTgFZh66VDWbRCxouX/\\\n",
              "NwEnRUQA3wbuKKWUkVhxROwBXEKthvxkF7MOV+aB1tX+PfvdCG7H4cDfArsD27S8tXvL/4fbj/tT\\\n",
              "72EtbFv8l4ALgT2A2wcrQynlXS0vvxsR/wHcQb0y3LerDZK64D0w9dIdpZQlbUNrA4kjgG8AH6S2\\\n",
              "yLs3Ij7WSbP3oTTN7q8HfgkcWga417QBZR7I023DzCGm/V9qdd+wIuLNwFeB/wccCbwaeCXwENDa\\\n",
              "1H64/fh8Bq5CfaDl/Y6VUlYC32zKIm00XoFpk1VKeZB6n+v4iNgdOIrajPwh4Lz1WWZE7ATcADwO\\\n",
              "HFhKeXyEijuU9gP5T4aY9lvAeyJiaum/hzWYtwM/L6XM6RsREc+hLXA62I+P8Mwrtj5Tm38HavzS\\\n",
              "iRG5ypQG4xWYUiil/KSUcirwKPCyZvSTzb9bdLKMiJhMDQiA15VSlo9sKQc2wBXbyiEmP5faEOIL\\\n",
              "ETG+/c2ImBQRf9a83JJ1f4P2Luq9sMHKMtB+vBHYqWW5fY6k3gPrqmFMRDwPOBj4YTfzSd3yCky9\\\n",
              "tFdEDNR8fQn1h7vfAr4M3EWtevs/1JZy1zXT/ZR6AD86Ih6hBtpPBgqIiNgC+E/qj5+Pph6wd2qZ\\\n",
              "5McdXo0NWuYuqyIHVEr5WUTMpt5/WhwR59P/Q+b9gPcBpwPfA64FDomIc4GrgBnA+2m5JxcR2zD8\\\n",
              "flwAnAB8PSI+TL3H9w5qi8j3lVJ+N1h5I2Iu9ertO8B91OrPudSrt3ds0M6QhtPrViQOz76BoVv0\\\n",
              "FepvsjanPtnhTmorusepjRGObFvW+6hP4VjDAC3pWqabNsw6B5yvmzKP8D76Y2qw/Ap4CngM+C61\\\n",
              "mfzmzTTjqA0l7gN+S72SejlwN7CgmabT/fgCamvC5dQTgduAd3ZQzjdTw3Q5NRwfpt5ve1WvP2cO\\\n",
              "Y3+IUqymliTl4z0wSVJKBpgkKSUDTJKUkgEmSUrJAJMkpWSAjZKImB4Rv40IfxujlCLivRGxonmO\\\n",
              "pNRzBth66La794jYkvrMur8rpXy5w3UsjIiFLa9nDdXf1WiLiLsjYkGvy9FrETGn+btMW495S0Sc\\\n",
              "1vL6tIjo2e9a2svT9t4ewDnA4aWUbrusGREt+7pExDqdekbEzJb3D2gZvyAi7h6Fsh29MdfRrGfr\\\n",
              "iPhaRPw8In7TnFD88Nnad5tP4uhSrF9375+jdjFx2gas+kfAPnTf35U2rm9S/y6d9ic2lAuoT9fo\\\n",
              "lX1Y90n7NCdlXwE+VEq5bp25Rt9K6iOzPto2/qjmva3bxp/But/JkTaHejz91428ns2oP9o/m/qD\\\n",
              "9c2pD2u+OCIml1LO3cjr36T4Q+YuRO3u/TbqQaa9u/e+Z+29pDQ95m7guhYClFJmbeiyNobmjHZh\\\n",
              "aXmQrLrTXG3NK6Wc1uuyZBARc6jdu1xEPWHctTQHsOZRYb8GLqeGyetKKd8aeEkbpWwLgQmllJ50\\\n",
              "HxMR3wcmllKm92L9vWIVYndOpMPu3gEiYveI+PfmMn91RCyOiIPa54uIt0fEXU115J0RcegA06xT\\\n",
              "hRgR4yPiE1G7iP9tRHw7Il46UFVQRBwUEd9vyvFYRFzRPJl8WBFxQlNl+ERELImI/QaZbpeI+HJE\\\n",
              "PNRsy60Dbcv6zhsRL2n254NNWX4VEZdG099Wyz56a1Nt9GhEPN4sd/u2ZU2IiFNa9vt9EfHp9irg\\\n",
              "iNgqIuZHxC+a6R6IiMsjYofm/XWqEJu/57ebbVkVEbdExFEd7INnVCFGrUYugwzTmmleGRGXRcSy\\\n",
              "5m/7k4g4qzmgty//0Ij4XlOmx5uqp7e0vL9en5umnIsi4oCI+FHzWbyj07/9eujrYbo1LA6lHs8u\\\n",
              "b5842qoQI2Jas63vi4jTm+/Pioi4Mp75fMzB9knf/HOa1wupgfpnLX+fhS3TvyoivtXs999ExA0R\\\n",
              "8aoN2wXreJh1H+w85hlg3em4u/eI+ANgEbAntcfbw6kPWf1mRLyhZboDgH+jVkX+BfB31OqOTsJl\\\n",
              "HrUL+C9SH9B6HfU5dO1lOYha1bWKWt1wLPVJ5IsiYsdhtuPdwGepD2s9hPp8vkuoD4NtnW5n4AfN\\\n",
              "9v4N8BZqteflrQfJQdbR6bzfBHZsyn8gcDL1uX3tn+PPUp9P+JfAh5vlXdY2zZeAj1D3/ZuoVTLv\\\n",
              "pj70tq9cm1H7DXt/s90HU/+Wj7Rvf5tdm/W9g7rPrgQuiIhjhphnIMdRq/X6hn2pn5Nf09/FyR8C\\\n",
              "twLHAAdRPztHU69Ufi8i3g98nfp0+aOAw4B/pz4jckBdfm5e1Kz7M9TP8f3ApRGxW5fb3Il7gP+i\\\n",
              "ViP2mU3dnlVdLOcUYDfq/jqBuo+/tB7lOQ64hVo70/e3Og4gIv6E+ozK7ahXhrOB5wE3RsSefQto\\\n",
              "Ofma08kKo5oQEdtHxF9Rvw/PqupDwIf5djPQRXfv1Bvea4DdWsaNp/YF9aOWcd+j3tca1zLuNdQD\\\n",
              "8MKWcbNoeegs9QuxCvhC23r/bzPdaS3jllAPfBNaxu1CffjqZ4bYhnHUDhavbRt/RLOOBS3j/oXa\\\n",
              "v9T2bdNeD9w6zL4adl7qA34L8JYhltO3j9rL+45m/J83r/drXs8eZLq9mtdHd7DOOc0004bYhxOA\\\n",
              "fwaWtr3X/nc6rX4lB13XPzSfwVcP8n4063onsLZvf1IPmCuBrw/zd1ivzw2wsBn34pZxU6jdwpw6\\\n",
              "gt+/vn3dFzqPUjvufAH1u/a6ls/AAS3zLQDubnk9jbbvVzN+bjP+DwbbJ23zz2nbB4sGKPNl1BPX\\\n",
              "bVvGPY96AvL1lnEzm22Y3eG++Gv6HyT9FLVWaET2c6bBK7CNZ39gcWnprbfUbikuoXbJ8byo/T29\\\n",
              "ErislLK2ZbrF1Bu0Q5lObTxyadv4Z1xpRMRWwCuAr5aWas9Syi+p4TlziHXs1Axfaxt/OetWVxwE\\\n",
              "XA081pwZTohatfefwJ5R+4gaTCfzPkx96vz8qM25XzzE8trLeyn1gL5Py/qeAi5rW19fA4X9m39f\\\n",
              "DzxQSlnnqnYoEfHiiLgkIu6lvxfm99DZVfVgyzyeelY/u5Tyg5bxz4uIT0bEL6hXo09Tq9gC6NtH\\\n",
              "fwpMBP6pi/V1+7n5WSnlZy3TPUi92vvDYdYzoe1v0KlLqQ0Y3kw98XiA2lFpN65ue3178++QZe7S\\\n",
              "/sBVpZQVfSNK7bbnG7Tsw1LKjaWUCaWUL3a43K9Sjx1voDb++fuIeN+IlToJWyF2p+Pu3qm94t4y\\\n",
              "wPgHqAeX7agdMT6HWiXUbqBxrV7Q/PvgMPNt16xvsC7jh9qevnU8Y5mllDUR8XDbtFOo1SOzB1nW\\\n",
              "9tSuPAYy7LyllMcj4nXUq5Szge0j4pfUnya0987cXt6nIuJRavVj3/o2A34zRFn7/r13kGkGFBET\\\n",
              "qVeOv6VWcf6CGpbHUq8auhYRr6dWz32klNJ+wnIhcADwMWpV4m+AVwGfp16d9G0HDNDCcAjdfm4G\\\n",
              "6rX5yZYyrKO5j/fLtnG7lFLuHq5wpZSVEXEFtRpxGvDlUsraiBhu1lbtZe7rIHXQMq+H5zP4Phyq\\\n",
              "GnpIpZSHqLUWANdG/anOORHxr6WUp9d3udkYYN3pprv3R+jvkr3VVOpl/6PUg83TwA4DTLcDta5/\\\n",
              "MH1fiinUvp5a52v1aLO+wcoyVHfxfet4xjKbM+Xt26Z9mNpf1ScHWdZ9Q6yno3lLKf8DzI56lOq7\\\n",
              "t/iFiLi7lHJNy/Tt5d2MerDoC6OHgSeoVYlDlXU5/b0Wd2of6sF9v1LKopYyrNd3LSL+iHpFeXEp\\\n",
              "5ay2955Lvfd5Winlcy3j21ui9fU8vSNwR4er3pDPTafuo15FtI/r1Bep9+jGUe93bgxPUk92WrV/\\\n",
              "9ocy1HHg0fUt1ACWUO9t7kB3JyqpWYXYnXPpvLv3G4HXxDNbp42n3j+6pZTyeFOleBPwtogY1zLd\\\n",
              "qxni5nrjdmoAHtY2/hmvSym/AW4GDmstc0S8kFq1tHCIdSyjXnUe3jb+rax78nMt8CfAnaWUJQMM\\\n",
              "TzK4ruYt1a3U+32wbsi0l/cw6mf9+y3rey6wzSDr6zuIXgdMjYg3D1H2dls2//7+LDgitqMGTVei\\\n",
              "tpy8inplNVD10ObU+6rtZ9xz2l7/N/V+6V91uu4N/Nx0uo6nBtj3T3WxiOup4X5+KeXO4SZeT/ew\\\n",
              "7ufrTQNM9yS1RqXdjcAbI+L3v01r/v9mRmAftphJ/Ru318iMaV6BdaF01937udQDyfUR8XFq9dlx\\\n",
              "wEt45hfg49QD5RUR8Y/AZGrrwiGv8Eopj0bEZ4FTI2Il9erwFdSWdFDv+fT5KPVM9aqI+AL1fsg8\\\n",
              "ai+/nx5iHWsjYh61Bd2F1B+z7katGmuvDvwY8EPgvyLiH6j38Lajfvl3LaUMVX027LxNa67PUev+\\\n",
              "f049cM+h3ov7dtvy/rilvC8BzqTesL+h2a6FEXEJ9R7YZ5p1r6WeNLyR+oPdn1L/zu8FLomIs6kt\\\n",
              "Jbemtvj6bCnlrgG25b+bffP55u++FbW143JgmyH2wUC+TG288n7gFW3VY7eUUh6LiMXA30bE/c06\\\n",
              "jqa/qpRme1dGxCnU+ySXN8tdCewFPFFK+ftB1r9en5vR0pwAbqwrrz5fAT4SER8GFlO/5wOt88fA\\\n",
              "cRFxBLXaeGUp5SfUH1EfDNwQEZ+kXtV+iHqic3rfzBExk3oP7+ih7oM197leQ/2+L6NeDR4OvA04\\\n",
              "ucsTgPx63Yok40AH3b030+0OXNG8/wT1C3DQAMv7S2rrxCep1YGHUs/OFrZMM4uWVojNuPHUg/MD\\\n",
              "1NZpC6lnxwU4oW0dB1GvQFY35fkPYPcOt/cE6pnoE9Sqin1p6ba+ZbqdqDeU7232y/3Us+ROuqYf\\\n",
              "cl5qVelFwE+p95ceoZ7dHjjAPvqL5u+zgnqg/jdgUtv6xjXbtbTZrsea/3+KemXWN91E6k8b7mkp\\\n",
              "12XAlOb9ObS1QgReS73/uZp6MPsAA7QwZJhWiM0+LoMM05pppgHXNNv5ILWl4pvaPyvNtG+jhvBq\\\n",
              "asj+ADh4sPJ0+rlh8BZ463xGNvB717evdxtimr7PQCetEN8zyLyt37HnUk+c7m/28Vep9xjbWyFO\\\n",
              "pTYKWcm6LYhfTQ2cVdRakxuAVw2y7jnD7IM/bdZzP/V4cW+z7DeN1H7ONPgkjjEmIt5GbaG1fynl\\\n",
              "u70uz2iK+iPv7zDKT2GQ1BtWISbW3Ct7E/VM+glgb2r13mLqj6glacwywHJbRf2dyfHUH0c+SL2p\\\n",
              "fUrx0lrSGGcVoiQpJZvRS5JSMsAkSSmN2XtgkyZNKtOmTet1MaR13Hzzzey99969LoY0oJtvvnl5\\\n",
              "KWVyr8vRiTF7D2zGjBllyZIlvS6GtI6IYKx+75RfRNxcSpnR63J0wipEaRStXLmy10WQxgwDTBpF\\\n",
              "n/50fQLTokX+TE/aUAaYNEpWr17NueeeC8BJJ53U49JI+Rlg0ig577zzePrp+uD42267zaswaQMZ\\\n",
              "YNIoWLNmDWeccQZPPVUfFv7EE09wyimn9LhUUm4GmDQKxo0bx5lnnsnZZ58NwPz58znhhBOGnGfa\\\n",
              "NNhiC5g4EaZOhTlzYNWq+t6cObDZZvW9vmHPPTfqJkibHJvRS6Os02b006bBBRfAAQfAAw/AgQfC\\\n",
              "wQfDmWfWANtpJ/jEJ4Zf36xZcNpp9V9pODajlzSipk6tAXbrrb0uibTpMMCkBJYtg2uugd1263VJ\\\n",
              "pE2HASZtwg45BLbeGnbeGaZMgXnz+t875xzYdtv+4aijelNGqVcMMGkTdsUVsHIlLFwId90Fy5f3\\\n",
              "vzd3LqxY0T9cdFH/e63BtmhRvXfW93r+/NEqvbRxGWBSAjNn1oYbc+d2Nn1rsO27L1x1Vf/rk0/e\\\n",
              "WKWURteYfRq9NNaceGJtmbh0aa9LIm0avAKTkpg8GWbPhtNPr68/9aln/g5s0qTelk8abf4OTBpl\\\n",
              "dqeiTZm/A5MkaSMzwCRJKRlgkqSUDDBJUkoGmCQpJQNMkpSSASZJSskAkySlZIBJklIywCRJKRlg\\\n",
              "kqSUDDBJUkoGmCQpJQNMkpSSASZJSskAkySlZIBJklIywCRJKRlgkqSUDDBJUkoGmCQpJQNMkpSS\\\n",
              "ASZJSskAkySlZIBJklIywCRJKRlgkqSUDDBJUkoGmCQpJQNMkpSSASZJSskAkySlZIBJklIywCRJ\\\n",
              "KRlgkqSUDDBJUkoGmCQpJQNMkpSSASZJSskAkySlZIBJklIywCRJKRlgkqSUDDBJUkoGmCQpJQNM\\\n",
              "kpSSASZJSskAkySlZIBJklIywCRJKRlgkqSUDDBJUkoGmCQpJQNMkpSSASZJSskAkySlZIBJklIy\\\n",
              "wCRJKRlgkqSUDDBJUkoGmCQpJQNMkpSSASZJSskAkySlZIBJklIywCRJKRlgkqSUDDBJUkoGmCQp\\\n",
              "JQNMkpSSASZJSskAkySlZIBJklIywCRJKRlgkqSUDDBJUkoGmCQpJQNMkpSSASZJSskAkySlZIBJ\\\n",
              "klIywCRJKRlgkqSUDDBJUkoGmCQpJQNMkpSSASZJSskAkySlZIBJklIywCRJKRlgkqSUDDBJUkoG\\\n",
              "mCQpJQNMkpSSASZJSskAkySlZIBJklIywCRJKRlgkqSUDDBJUkoGmCQpJQNMkpSSASZJSskAkySl\\\n",
              "ZIBJklIywCRJKRlgkqSUDDBJUkoGmCQpJQNMkpSSASZJSskAkySlZIBJklIywCRJKRlgkqSUDDBJ\\\n",
              "UkoGmCQpJQNMkpSSASZJSskAkySlZIBJklIywCRJKRlgkqSUDDBJUkoGmCQpJQNMkpSSASZJSskA\\\n",
              "kySlZIBJklIywIYzbRpssQVMnAhTp8KcObBqVX1v2TJ461th0iTYZht42ctgwYIeFlZSZh5uumOA\\\n",
              "deLKK+un6NZb4ZZb4Oyz6/h3vQt23hnuuQcefhguvhh22KGnRZWU20gcbmbNgoULR6nAPTSh1wVI\\\n",
              "ZepUOPDA+skCuOkmOPdc2Gqr+vrlL+9Z0SSNLR5uhucVWDeWLYNrroHddquvX/MaOP54+MpX4Fe/\\\n",
              "6m3ZJI0pHm6GZ4B14pBDYOut6/X7lCkwb14df+mlsN9+cMYZsMsusNde9TRJktaTh5vOGWCduOIK\\\n",
              "WLmyVirfdRcsX17Hb7cdzJ8Pd94Jv/51/UQdcgiUAsccU+/ETpwIZ53Vu7JLSmV9DjcA227bPyxa\\\n",
              "BAcf3P96/vxR34xRYYB1Y+bM2ixo7tx135s0qY6/7z545BE4//x6J3bVKjj11FEvqqTcujncAKxY\\\n",
              "0T/suy9cdVX/65NPHq1Sjy4DrFsnngjXXw9Ll8KHPgR33AFr1tRTpvPOqxXW22/f61JKGgM83AzN\\\n",
              "AOvW5Mkwezacfjr89rdw6KH1Gn3XXWv71m98o9cllDRGeLgZWpS+CtQxZsaMGWXJkiW9Loa0johg\\\n",
              "rH7vlF9E3FxKmdHrcnTCKzBJUkoGmCQpJQNMkpSSASZJSulZFWBr167l0ksv5brrrut1USSpJy68\\\n",
              "8EIWLVrU62KMiGdFgK1du5avfe1r7Lrrrhx55JFccMEFvS6SJPXEvHnzeO1rX8s+++yTPsjG/NPo\\\n",
              "b7jhBg499FBWr17NmjVrel0cSeqpUgpPP/00ixcvZtasWUyZMoWlS5cyefLkXheta2P2d2ARMTY3\\\n",
              "TJI2Ln8H1mt77703pZTfD7fddhtveMMbiAiOOOKIZ7zn4DCaA9DzMjg8e4dddtmF5zznObz3ve9l\\\n",
              "2bJl67yfyZivQuwzffp0rr76am6//XbGjRuzuS1JQ1qwYAEvetGL2HHHHXtdlA32rAmwPtOnT+91\\\n",
              "ESSpZ/bff/9eF2HEeCkiSUrJAJMkpWSASZJSMsAkSSkZYJKklAwwSVJKBpgkKSUDTJKUkgEmSUrJ\\\n",
              "AJMkpWSASZJSMsAkSSkZYJKklAwwSVJKBpgkKSUDTJKUkgEmSUrJAJMkpWSASZJSMsAkSSkZYJKk\\\n",
              "lAwwSVJKBpgkKSUDTJKUkgEmSUrJAJMkpWSASZJSMsAkSSkZYJKklAwwSVJKBpgkKSUDTJKUkgEm\\\n",
              "SUrJAJMkpWSASZJSMsAkSSkZYJKklAwwSVJKBpgkKSUDTJKUkgEmSUrJAJMkpWSASZJSMsAkSSkZ\\\n",
              "YJKklAwwSVJKBpgkKSUDTJKUkgEmSUrJAJMkpWSASZJSMsAkSSkZYJKklAwwSVJKBpgkKSUDTJKU\\\n",
              "kgEmSUrJAJMkpWSASZJSMsAkSSkZYJKklAwwSVJKBpgkKSUDTJKUkgEmSUrJAJMkpWSASZJSMsAk\\\n",
              "SSkZYJKklAwwSVJKBpgkKSUDTJKUkgEmSUrJAJMkpWSASZJSMsAkSSkZYJKklAwwSVJKBpgkKSUD\\\n",
              "TJKUkgEmSUrJAJMkpWSASZJSMsAkSSkZYJKklAwwSVJKBpgkKSUDTJKUkgEmSUrJAJMkpWSASZJS\\\n",
              "MsAkSSkZYJKklAwwSVJKBpgkKSUDTJKUkgEmSUrJAJMkpWSASZJSMsAkSSkZYJKklAwwSVJKBpgk\\\n",
              "KSUDTJKUkgEmSUrJAJMkpWSASZJSMsAkSSkZYJKklAwwSVJKBpgkKSUDTJKUkgEmSUrJAJMkpWSA\\\n",
              "SZJSMsAkSSkZYJKklAwwSVJKBpgkKSUDTJKUkgEmSUrJAJMkpWSASZJSMsAkSSkZYJKklAwwSVJK\\\n",
              "BpgkKSUDTJKUkgEmSUrJAJMkpWSASZJSMsAkSSkZYJKklAwwSVJKBpi0qZo2DbbYAiZOhKlTYc4c\\\n",
              "WLWqvjdnDmy2WX2vb9hzzx4WVhp9Bpi0Kbvyyhpat94Kt9wCZ5/d/94HP1jf6xuWLu1ZMaVeMMCk\\\n",
              "DKZOhQMPrEEmCTDApByWLYNrroHddut1SaRNhgEmbcoOOQS23hp23hmmTIF58/rfO+cc2Hbb/uGo\\\n",
              "o3pTRqlHDDBpU3bFFbByJSxcCHfdBcuX9783dy6sWNE/XHRRHX/MMf0NO846a9SLLI0WA0zKYObM\\\n",
              "2vJw7tzhpz3//P6GHaeeutGLJvXKhF4XQFKHTjyxNq23taEEeAUm5TF5MsyeDaefXl9/6lPP/B3Y\\\n",
              "pEm9LZ80yqKU0usybBQzZswoS5Ys6XUxpHVEBGP1e6f8IuLmUsqMXpejE16BSZJSMsAkSSkZYJKk\\\n",
              "lAwwSVJKBpgkKSUDTJKUkgEmSUrJJ3FIo2DNmjUce+yxPPbYYwAcfvjhTJ8+nY9+9KM9LpmUlwEm\\\n",
              "jYJx48Zx7bXXsmzZMgAuu+wynnzyyR6XSsrNKkRpFIwbN4758+ez5ZZbArD55ptzdmvvypK6ZoBJ\\\n",
              "o+Ttb38722yzDQCvf/3r2WOPPXpcIik3A0waJePHj+fUpnsTr76kDWeASaPomGOOAfDqSxoBBpg0\\\n",
              "iiZMsN2UNFIMMElSSmO2P7CIeAi4p9flkKRkXlhKmdzrQnRizAaYJGlsswpRkpSSASZJSskAkySl\\\n",
              "ZIBJklIywCRJKRlgkqSUDDBJUkoGmCQpJQNMkpSSASZJSskAkySlZIBJklIywCRJKRlgkqSUDDBJ\\\n",
              "UkoGmCQpJQNMkpSSASZJSskAkySlZIBJklIywCRJKRlgkqSUDDBJUkoGmCQpJQNMkpSSASZJSskA\\\n",
              "kySlZIBJklIywCRJKRlgkqSUDDBJUkoGmCQpJQNMkpSSASZJSskAkySlZIBJklIywCRJKRlgkqSU\\\n",
              "DDBJUkoGmCQpJQNMkpSSASZJSskAkySlZIBJklIywCRJKRlgkqSUDDBJUkoGmCQpJQNMkpSSASZJ\\\n",
              "SskAkySlZIBJklL6/2eESwLc9GqsAAAAAElFTkSuQmCC\\\n",
              "\"\n",
              "  frames[3] = \"data:image/png;base64,iVBORw0KGgoAAAANSUhEUgAAAbAAAAGwCAYAAADITjAqAAAAOXRFWHRTb2Z0d2FyZQBNYXRwbG90\\\n",
              "bGliIHZlcnNpb24zLjUuMSwgaHR0cHM6Ly9tYXRwbG90bGliLm9yZy/YYfK9AAAACXBIWXMAAAsT\\\n",
              "AAALEwEAmpwYAAAe8UlEQVR4nO3de7wdZX3v8c8vQe4IlCTEAjUgiqWmoMQLp0BSi4CKHqhyETHk\\\n",
              "hXLkUoWeBhW8ERCIiKK9CG05hyBaVMBSQUAQDDVqlCCEiwevFRsBIUAgkQCJec4fz2z3ysq+rL2T\\\n",
              "7JXfzuf9es0rWbPm8szsteY788yz5olSCpIkZTOm2wWQJGk4DDBJUkoGmCQpJQNMkpSSASZJSskA\\\n",
              "kySlZIBJklIywCRJKRlgkqSUDDBJUkoGmCQpJQNMkpSSASZJSskAkySlZIBpxEXEjIgo/QxLhrCc\\\n",
              "SRFxVkTs1sG0YyNiZkTcFhG/jYilEfGjiHh3RAz6PVhXZe5UROwZEZdFxIMR8VxEPBUR34mI90fE\\\n",
              "5ut6fWtjgP2yd7fLptFtk24XQBu1I4BFbeNWDmH+ScDHgXnALweZdgvgI8AXgM8By4A3Af8KvBw4\\\n",
              "vcN1rm2ZBxURRwBfBO4BzgF+BmwFTAVmAUHdhg3JHOCf28b9tAvl0EbEAFM33V1K+fkIrWs5sFsp\\\n",
              "5YmWcbdGxPbA+yLiY6WU5R0sZ72WOSJeSg3ZG4AjSimt4XhDRFwIvGx9rX8t/KaUMr/bhdDGxSpE\\\n",
              "bbAiYmJEXB4RDzXVaA9HxPURMSEipgHfbia9paXaalpfyyql/L4tvHrcAWwGjFsPmzAcp1FPLE9u\\\n",
              "Cy8ASimPlVK+CxARm0fERRFxX0Qsi4hHIuK6iHh56zwD7ceWaV4UEV+IiMXNNPdExLHreVulteIV\\\n",
              "mLppbES0fwZXlVJWNf+/AngxtXrvv4Edgb8CtgR+BJwC/BPwfmoQAfx4iGWYCiwBHl5HZV5bbwDu\\\n",
              "KKV0Up7NgG2AT1DL/0fAycD3I+JPSymPNNMNtB+JiK2A24HtgTObaY4FroiILUsp/9JBWU6KiNOB\\\n",
              "3wPzgY+XUr7TwXzS8JVSHBxGdABmAKWf4fqW6ZYB7x9gOdOaeQ4cZjkOBlYBH15XZV4H+2Y5cOUw\\\n",
              "5x1LDaWlwN8OYT/+TbMd09rGfwt4FBg7yHqvAI4C9qcG30JgRfvyHBzW9eAVmLrpcNZsELGk5f93\\\n",
              "AKdHRAC3AfeVUsq6WHFE7AlcSa2G/OQQZh2szH2tq/179vt1uB1HAn8H7AFs2/LWHi3/H2w/HkC9\\\n",
              "hzW3bfFfBC4D9gTu7a8MpZR3tbz8TkT8B3Af9cpwvyFtkDQE3gNTN91XSlnQNrQ2kDgK+DrwAWqL\\\n",
              "vN9ExMc6afY+kKbZ/S3AfwGHlz7uNa1Fmfuyom2YOsC0/02t7htURLwF+Arw/4BjgNcCrwYeA1qb\\\n",
              "2g+2H/+IvqtQH2l5v2OllKXAN5qySOuNV2DaYJVSHqXe5zolIvYAjqM2I38MuHg4y4yInYFbgaeB\\\n",
              "g0spT6+j4g6k/UD+kwGm/RbwnoiYWHrvYfXnaODnpZQZPSMi4gW0BU4H+/EJVr9i6zGx+bevxi+d\\\n",
              "WCdXmVJ/vAJTCqWUn5RSzgSeBF7RjH6u+XeLTpYREeOpAQHwhlLK4nVbyr71ccW2dIDJL6I2hPh8\\\n",
              "RIxtfzMixkXEXzQvt2TN36C9i3ovrL+y9LUfbwd2blluj2Oo98CG1DAmIl4IHAr8cCjzSUPlFZi6\\\n",
              "ae+I6Kv5+gLqD3e/BXwJeIBa9fY/qS3lbm6m+yn1AH58RDxBDbSf9BUQEbEF8E3qj5+Ppx6wd26Z\\\n",
              "5McdXo31W+YhVkX2qZTys4iYTr3/ND8iLqH3h8z7A+8Fzga+C9wEHBYRFwHXA1OA99FyTy4itmXw\\\n",
              "/TgHOBX4WkR8mHqP753UFpHvLaX8vr/yRsRM6tXbt4GHqNWfM6lXb+9cq50hDabbrUgcNr6BgVv0\\\n",
              "FepvsjajPtnhfmoruqepjRGOaVvWe6lP4VhJHy3pWqabNMg6+5xvKGVex/voz6jB8mvgeeAp4DvU\\\n",
              "ZvKbNdOMoTaUeAh4hnol9UrgV8CcZppO9+OLqK0JF1NPBO4Bju2gnG+hhuliajg+Tr3f9ppuf84c\\\n",
              "Rv8QpVhNLUnKx3tgkqSUDDBJUkoGmCQpJQNMkpSSASZJSskAGyERMTkinokIfxujlCLihIhY0jxH\\\n",
              "Uuo6A2wYhtrde0RsSX1m3adKKV/qcB1zI2Juy+tpA/V3NdIi4lcRMafb5ei2iJjR/F0mDWPeEhFn\\\n",
              "tbw+KyK69ruW9vK0vbcncCFwZCllqF3WrBMt+7pExBqdekbE1Jb3D2wZPycifjUCZTt+fa6jn/Ue\\\n",
              "3Wxv+wOmNwoG2BBF7e79LupjeM4BDgLeAXyP+ny59/Yx2+eoXUyctRar/hGwb/OvNhzfoP5dOu1P\\\n",
              "bCCXNsvqln2bMqymOSn7MvDBUsrNa8w18pZSH5nV7rjmvXbnUHsRWJ9mUJ/wMmIiYjvgs/Q+dHmj\\\n",
              "46OkhiCG2d17KeWEtV13qY85ssv2DUwp5THqQ3HXxbIWsWZXLSOmlNLn56uU8izw5yNcnIF8DTg2\\\n",
              "Ij5WmicxNI8KeztwDTVM/qCU8osRL+HIuIB6YvwwcOAg045KXoENzWl02N07QETsERH/3tw3WB4R\\\n",
              "8yPikPb5mmqAB5rqyPsjYo2zxb6qECNibER8ouki/pmIuC0iXt5XVVBEHBIR32/K8VREXNs8mXxQ\\\n",
              "EXFqU2X4bEQsiIj9+5lu14j4UkQ81mzL3X1ty3DnjYiXNfvz0aYsv46Iq6Lpb6tlH72tqTZ6MiKe\\\n",
              "bpa7Q9uyNomIM1r2+0MR8en2KuCI2CoiZkfEL5rpHomIayJix+b9NaoQm7/nbc22LIuIuyLiuA72\\\n",
              "wWpViE01culnmNRM8+qIuDoiFjV/259ExHnNAb19+YdHxHebMj0dET+MiLe2vD+sz01TznkRcWBE\\\n",
              "/Kj5LN7X6d9+GHp6mG7ta+xw6vHsmvaJo60KMSImNdv63og4u/n+LImI62L152P2t0965p/RvJ5L\\\n",
              "7SLnL1r+PnNbpn9NRHyr2e+/i4hbI+I1a7MDoj54+VhqLwMbLQNsaDru7j0i/hiYB+xF7fH2SOpD\\\n",
              "Vr8REW9sme5A4N+oD2z9a+BT1CrHTsJlFrUL+C9QH9B6M/U5dO1lOYRa1bWM2jfUSdQq0HkRsdMg\\\n",
              "2/FuajXFt4HDqM/nu5L6MNjW6XYBftBs798Cb6VWd17TepDsZx2dzvsNYKem/AcDH6I+t6/9c/xZ\\\n",
              "6vMJ3wF8uFne1W3TfBH4CHXfvxk4H3g39aG3PeXalNpv2Pua7T6U+rd8on372+zWrO+d1H12HXBp\\\n",
              "RJw4wDx9OZlardcz7Ef9nPyW3i5O/gS4GzgROIT62Tme2hHlH0TE+6hXLo9Sq9qOAP6d+ozIPg3x\\\n",
              "c/OSZt2foX6OHwauiojdh7jNnXgQ+E9Wr0acTt2eZUNYzhnA7tT9dSp1H39xGOU5mXpb4R56/1Yn\\\n",
              "A0TEn1OfUbk99cpwOvBC4PaI2KtnAS0nXzMGW1nULnP+hXpPfbC+6Ea3bj+MMdPAELp7p97wXgns\\\n",
              "3jJuLLUvqB+1jPsutbuKMS3jXkc9AM9tGTeNlofOUr8Qy4DPt633fzfTndUybgH1wLdJy7hdqQ9f\\\n",
              "/cwA2zCG2sHiTW3jj2rWMadl3P+hVqXt0DbtLcDdg+yrQeelPuC3AG8dYDk9+6i9vO9sxv9V83r/\\\n",
              "5vX0fqbbu3l9fAfrnNFMM2mAfbgJ8K/Awrb32v9OZ9WvZL/r+sfmM/jaft6PZl3HAqt69if1gLkU\\\n",
              "+Nogf4dhfW6Auc24l7aMm0DtFubMdfj969nXPaHzJLXjzhdRv2tvaPkMHNgy3xzgVy2vJ9H2/WrG\\\n",
              "z2zG/3F/+6Rt/hlt+2BeH2W+mnriul3LuBdST0C+1jJuarMN0zvYDx8Bfg5s3rJ9i9bVfs40eAW2\\\n",
              "/hwAzC8tZ0ildktxJbVLjhdG7e/p1cDVpZRVLdPNpz5RfCCTqV1sXNU2frUrjYjYCngV8JXSUu1Z\\\n",
              "SvkvanhOHWAdOzfDV9vGX8Oa/VAdQr03+FRTPbdJU7X3TWCvqH1E9aeTeR+nPnV+dtTm3C8dYHnt\\\n",
              "5b2KekDvaSBxCPUJ71e3ra+ngcIBzb8HAY+UUta4qh1IRLw0Iq6MiN/Q2wvze+jsqrq/ZZ5CPauf\\\n",
              "Xkr5Qcv4F0bEJyPiF9Sr0RXUKrYAevbR/wC2pp61d7q+oX5uflZK+VnLdI9Sr/b+ZJD1bNL2N+jU\\\n",
              "VdQn7b+FeuLxCLWj0qG4oe31vc2/A5Z5iA4Ari+lLOkZUer97K/Tsg9LKbeXUjYppXxhoIU1V7Qf\\\n",
              "Bv6m1HuTGzUDbGg67u6dgbtpD+oV1DjgBdQqoXZ9jWv1oubfRweZb/tmff2VZaDu4nvWsdoymwPa\\\n",
              "423TTqBWj6xoGz7VvL8D/Rt03lJPNd9AvSo4H/hpRPwyIk7qY3nt5X2eerbeU+01AdgU+F3b+nr2\\\n",
              "5Q4t//5mgHKvISK2pl457kWt4tyfepLyf6kH3CGLiIOo1XMfKaW0n7BcRq0+/Hvq/nk1vfdFeu7n\\\n",
              "9WzPUBqIDPVz01evzc+1lGENzX281f7m0eHPEUrt8+1aajXidOBLrSeBHWovc08Hqf2WeRgGOg4M\\\n",
              "VA3dn78HbqP2Fbdd1JaImwLRvO6oc9fRwlaIQzOU7t6foLdL9lYTqdUPT9J7AN2xj+l2pNb196fn\\\n",
              "SzGB2tdT63ytnmzW119ZBuouvmcdqy2zOVNuD6THqf1VfbKfZT00wHo6mreU8ktgekQEvfcWPx8R\\\n",
              "vyql3NgyfXt5N6UeLHrC6HHgWWq4DFTWxfT2WtypfaknOfuXUua1lGFY37WI+FPqFeUVpZTz2t7b\\\n",
              "nHrv86xSyudaxk9uW0xPz9M7Afd1uOq1+dx06iFq4LaP69QXqPfoxlDvd64Pz1EDotVAJ2PtBjoO\\\n",
              "PDmM8uxJ/Xz1Ne+T1BOd04ax3JS8Ahuai+i8u/fbgdfF6q3TxlLvH91VSnm6qVK8A3h7RIxpme61\\\n",
              "DHBzvXEvNQCPaBu/2utSyu+AO4EjWsscES+mVi3NHWAdi6hXnUe2jX8ba5783ERtan1/KWVBH8Nz\\\n",
              "9G9I85bqbur9PlgzZNrLewT1s/79lvVtDmzbz/p6DqI3AxMj4i0DlL3dls2/K3pGRMT21KAZkqgt\\\n",
              "J6+nNtLo6/eFm1Hvq65oGz+j7fX3qPdL/1en617Lz02n63i+j33//BAWcQs13C8ppdw/2MTD9CBr\\\n",
              "fr7e3Md0zwF9Xf3cDrwpIrbpGdH8/y0Mbx8eDfxl2/BN6knKX1Lvk240vAIbgjK07t4voh5IbomI\\\n",
              "j1N7wj2Z+jux1i/Ax6kHymsj4p+B8dTWhQNe4ZVSnoyIzwJnRsRS6tXhq6gt6aDe8+nxUeqZ6vUR\\\n",
              "8Xnq/ZBZ1F5+Pz3AOlZFxCxqC7rLqD9m3Z1aNfZ02+QfA34I/GdE/CP1Ht721C//bqWUgX7kOei8\\\n",
              "TWuuz1GfaPJz6oF7BvVe3G1ty/uzlvK+DDiXesP+1ma75kbEldR7YJ9p1r2KetLwJuoPdn9K/Tuf\\\n",
              "AFwZEedTW0puQ20B+dlSygN9bMv3mn3zT83ffSvqTffFwLYD7IO+fIlazfw+4FX1wvMP7iqlPBUR\\\n",
              "84G/i4iHm3UcT29VKc32Lo2IM4B/iIhrmuUuBfYGni2l/EM/6x/W52akNCeA6+vKq8eXgY9ExIep\\\n",
              "v8Pcv591/hg4OSKOAn4BLC2l/IT6I+pDgVsj4pPUq9oPUk90zu6ZOSKmUu/hHT/QfbDSx2/1mpaL\\\n",
              "z5VS5g5nA1PrdiuSjAMddPfeTLcHtZ7+KWqV1XzgkD6W9w5q68TnqNWBh1PPzua2TDONllaIzbix\\\n",
              "1IPzI9TWaXOpZ8cFOLVtHYdQr0CWN+X5D2CPDrf3VOqZ6LPUe1D70dJtfct0O1Of5PCbZr88TD1L\\\n",
              "7qRr+gHnpVaVXg78FHiGWjVzO3BwH/vor5u/zxLqgfrfgHFt6xvTbNfCZrueav5/AfXKrGe6ran3\\\n",
              "4h5sKdfVwITm/Rm0tUIEXk9tVr2cejB7P320MGSQVojNPi79DJOaaSYBNzbb+Sj1DPzN7Z+VZtq3\\\n",
              "U0N4OTVkfwAc2l95Ov3c0H8LvDU+I2v5vevZ17sPME3PZ6CTVojv6Wfe1u/Y5tQTp4ebffwV4DWs\\\n",
              "2QpxIrVRyFLWbEH8WuoJ5jJqrcmtwGv6WfeMTvdH2/ZtlK0Qo9kBGiUi4u3UFloHlFK+0+3yjKSo\\\n",
              "P/L+NvCGUsq3ulsaSeubVYiJNffK3kw9k34W2IdavTef+iNqSRq1DLDcllF/Z3IK9ceRj1Jvap9R\\\n",
              "vLSWNMpZhShJSslm9JKklAwwSVJKo/Ye2Lhx48qkSZO6XQxpDXfeeSf77LNPt4sh9enOO+9cXEoZ\\\n",
              "3+1ydGLU3gObMmVKWbBgQbeLIa0hIhit3zvlFxF3llKmdLscnbAKURpBS5f21eO9pOEwwKQR9OlP\\\n",
              "1ycwzZvnz/SktWWASSNk+fLlXHTRRQCcfvrpXS6NlJ8BJo2Qiy++mBUr6oPj77nnHq/CpLVkgEkj\\\n",
              "YOXKlZxzzjk8/3ztLeTZZ5/ljDPO6HKppNwMMGkEjBkzhnPPPZfzzz8fgNmzZ3PqqacOOM+kSbDF\\\n",
              "FrD11jBxIsyYAcuW1fdmzIBNN63v9Qx77bVeN0Ha4NiMXhphnTajnzQJLr0UDjwQHnkEDj4YDj0U\\\n",
              "zj23BtjOO8MnPjH4+qZNg7POqv9Kg7EZvaR1auLEGmB3393tkkgbDgNMSmDRIrjxRth9926XRNpw\\\n",
              "GGDSBuyww2CbbWCXXWDCBJg1q/e9Cy+E7bbrHY47rjtllLrFAJM2YNdeC0uXwty58MADsHhx73sz\\\n",
              "Z8KSJb3D5Zf3vtcabPPm1XtnPa9nzx6p0kvrlwEmJTB1am24MXNmZ9O3Btt++8H11/e+/tCH1lcp\\\n",
              "pZE1ap9GL402p51WWyYuXNjtkkgbBq/ApCTGj4fp0+Hss+vrCy5Y/Xdg48Z1t3zSSPN3YNIIszsV\\\n",
              "bcj8HZgkSeuZASZJSskAkySlZIBJklIywCRJKRlgkqSUDDBJUkoGmCQpJQNMkpSSASZJSskAkySl\\\n",
              "ZIBJklIywCRJKRlgkqSUDDBJUkoGmCQpJQNMkpSSASZJSskAkySlZIBJklIywCRJKRlgkqSUDDBJ\\\n",
              "UkoGmCQpJQNMkpSSASZJSskAkySlZIBJklIywCRJKRlgkqSUDDBJUkoGmCQpJQNMkpSSASZJSskA\\\n",
              "kySlZIBJklIywCRJKRlgkqSUDDBJUkoGmCQpJQNMkpSSASZJSskAkySlZIBJklIywCRJKRlgkqSU\\\n",
              "DDBJUkoGmCQpJQNMkpSSASZJSskAkySlZIBJklIywCRJKRlgkqSUDDBJUkoGmCQpJQNMkpSSASZJ\\\n",
              "SskAkySlZIBJklIywCRJKRlgkqSUDDBJUkoGmCQpJQNMkpSSASZJSskAkySlZIBJklIywCRJKRlg\\\n",
              "kqSUDDBJUkoGmCQpJQNMkpSSASZJSskAkySlZIBJklIywCRJKRlgkqSUDDBJUkoGmCQpJQNMkpSS\\\n",
              "ASZJSskAkySlZIBJklIywCRJKRlgkqSUDDBJUkoGmCQpJQNMkpSSASZJSskAkySlZIBJklIywCRJ\\\n",
              "KRlgkqSUDDBJUkoGmCQpJQNMkpSSASZJSskAkySlZIBJklIywCRJKRlgkqSUDDBJUkoGmCQpJQNM\\\n",
              "kpSSASZJSskAkySlZIBJklIywCRJKRlgkqSUDDBJUkoGmCQpJQNMkpSSASZJSskAkySlZIBJklIy\\\n",
              "wCRJKRlgkqSUDDBJUkoGmCQpJQNMkpSSASZJSskAkySlZIBJklIywCRJKRlgkqSUDDBJUkoGmCQp\\\n",
              "JQNMkpSSATaYSZNgiy1g661h4kSYMQOWLavvLVoEb3sbjBsH224Lr3gFzJnTxcJKyszDzdAYYJ24\\\n",
              "7rr6Kbr7brjrLjj//Dr+Xe+CXXaBBx+Exx+HK66AHXfsalEl5bYuDjfTpsHcuSNU4C7apNsFSGXi\\\n",
              "RDj44PrJArjjDrjoIthqq/r6la/sWtEkjS4ebgbnFdhQLFoEN94Iu+9eX7/udXDKKfDlL8Ovf93d\\\n",
              "skkaVTzcDM4A68Rhh8E229Tr9wkTYNasOv6qq2D//eGcc2DXXWHvvetpkiQNk4ebzhlgnbj2Wli6\\\n",
              "tFYqP/AALF5cx2+/PcyeDfffD7/9bf1EHXYYlAInnljvxG69NZx3XvfKLimV4RxuALbbrneYNw8O\\\n",
              "PbT39ezZI74ZI8IAG4qpU2uzoJkz13xv3Lg6/qGH4Ikn4JJL6p3YZcvgzDNHvKiSchvK4QZgyZLe\\\n",
              "Yb/94Prre19/6EMjVeqRZYAN1WmnwS23wMKF8MEPwn33wcqV9ZTp4otrhfUOO3S7lJJGAQ83AzPA\\\n",
              "hmr8eJg+Hc4+G555Bg4/vF6j77Zbbd/69a93u4SSRgkPNwOL0lOBOspMmTKlLFiwoNvFkNYQEYzW\\\n",
              "753yi4g7SylTul2OTngFJklKyQCTJKVkgEmSUjLAJEkpbVQBtmrVKq666ipuvvnmbhdFkrrisssu\\\n",
              "Y968ed0uxjqxUQTYqlWr+OpXv8puu+3GMcccw6WXXtrtIklSV8yaNYvXv/717LvvvumDbNQ/jf7W\\\n",
              "W2/l8MMPZ/ny5axcubLbxZGkriqlsGLFCubPn8+0adOYMGECCxcuZPz48d0u2pCN2t+BRcTo3DBJ\\\n",
              "Wr/8HVi37bPPPpRS/jDcc889vPGNbyQiOOqoo1Z7z8FhJAeg62Vw2HiHXXfdlRe84AWccMIJLFq0\\\n",
              "aI33Mxn1VYg9Jk+ezA033MC9997LmDGjNrclaUBz5szhJS95CTvttFO3i7LWNpoA6zF58uRuF0GS\\\n",
              "uuaAAw7odhHWGS9FJEkpGWCSpJQMMElSSgaYJCklA0ySlJIBJklKyQCTJKVkgEmSUjLAJEkpGWCS\\\n",
              "pJQMMElSSgaYJCklA0ySlJIBJklKyQCTJKVkgEmSUjLAJEkpGWCSpJQMMElSSgaYJCklA0ySlJIB\\\n",
              "JklKyQCTJKVkgEmSUjLAJEkpGWCSpJQMMElSSgaYJCklA0ySlJIBJklKyQCTJKVkgEmSUjLAJEkp\\\n",
              "GWCSpJQMMElSSgaYJCklA0ySlJIBJklKyQCTJKVkgEmSUjLAJEkpGWCSpJQMMElSSgaYJCklA0yS\\\n",
              "lJIBJklKyQCTJKVkgEmSUjLAJEkpGWCSpJQMMElSSgaYJCklA0ySlJIBJklKyQCTJKVkgEmSUjLA\\\n",
              "JEkpGWCSpJQMMElSSgaYJCklA0ySlJIBJklKyQCTJKVkgEmSUjLAJEkpGWCSpJQMMElSSgaYJCkl\\\n",
              "A0ySlJIBJklKyQCTJKVkgEmSUjLAJEkpGWCSpJQMMElSSgaYJCklA0ySlJIBJklKyQCTJKVkgEmS\\\n",
              "UjLAJEkpGWCSpJQMMElSSgaYJCklA0ySlJIBJklKyQCTJKVkgEmSUjLAJEkpGWCSpJQMMElSSgaY\\\n",
              "JCklA0ySlJIBJklKyQCTJKVkgEmSUjLAJEkpGWCSpJQMMElSSgaYJCklA0ySlJIBJklKyQCTJKVk\\\n",
              "gEmSUjLAJEkpGWCSpJQMMElSSgaYJCklA0ySlJIBJklKyQCTJKVkgEmSUjLAJEkpGWCSpJQMMElS\\\n",
              "SgaYJCklA0ySlJIBJklKyQCTJKVkgEmSUjLAJEkpGWCSpJQMMElSSgaYJCklA0ySlJIBJklKyQCT\\\n",
              "JKVkgEmSUjLAJEkpGWCSpJQMMElSSgaYJCklA0ySlJIBJklKyQCTNlSTJsEWW8DWW8PEiTBjBixb\\\n",
              "Vt+bMQM23bS+1zPstVcXCyuNPANM2pBdd10NrbvvhrvugvPP733vAx+o7/UMCxd2rZhSNxhgUgYT\\\n",
              "J8LBB9cgkwQYYFIOixbBjTfC7rt3uyTSBsMAkzZkhx0G22wDu+wCEybArFm97114IWy3Xe9w3HHd\\\n",
              "KaPUJQaYtCG79lpYuhTmzoUHHoDFi3vfmzkTlizpHS6/vI4/8cTehh3nnTfiRZZGigEmZTB1am15\\\n",
              "OHPm4NNecklvw44zz1zvRZO6ZZNuF0BSh047rTatt7WhBHgFJuUxfjxMnw5nn11fX3DB6r8DGzeu\\\n",
              "u+WTRliUUrpdhvViypQpZcGCBd0uhrSGiGC0fu+UX0TcWUqZ0u1ydMIrMElSSgaYJCklA0ySlJIB\\\n",
              "JklKyQCTJKVkgEmSUjLAJEkp+SQOaQSsXLmSk046iaeeegqAI488ksmTJ/PRj360yyWT8jLApBEw\\\n",
              "ZswYbrrpJhYtWgTA1VdfzXPPPdflUkm5WYUojYAxY8Ywe/ZsttxySwA222wzzm/tXVnSkBlg0gg5\\\n",
              "+uij2XbbbQE46KCD2HPPPbtcIik3A0waIWPHjuXMpnsTr76ktWeASSPoxBNPBPDqS1oHDDBpBG2y\\\n",
              "ie2mpHXFAJMkpTRq+wOLiMeAB7tdDklK5sWllPHdLkQnRm2ASZJGN6sQJUkpGWCSpJQMMElSSgaY\\\n",
              "JCklA0ySlJIBJklKyQCTJKVkgEmSUjLAJEkpGWCSpJQMMElSSgaYJCklA0ySlJIBJklKyQCTJKVk\\\n",
              "gEmSUjLAJEkpGWCSpJQMMElSSgaYJCklA0ySlJIBJklKyQCTJKVkgEmSUjLAJEkpGWCSpJQMMElS\\\n",
              "SgaYJCklA0ySlJIBJklKyQCTJKVkgEmSUjLAJEkpGWCSpJQMMElSSgaYJCklA0ySlJIBJklKyQCT\\\n",
              "JKVkgEmSUjLAJEkpGWCSpJQMMElSSgaYJCklA0ySlJIBJklKyQCTJKVkgEmSUjLAJEkpGWCSpJQM\\\n",
              "MElSSgaYJCml/w9ZKU/I9dfSoAAAAABJRU5ErkJggg==\\\n",
              "\"\n",
              "  frames[4] = \"data:image/png;base64,iVBORw0KGgoAAAANSUhEUgAAAbAAAAGwCAYAAADITjAqAAAAOXRFWHRTb2Z0d2FyZQBNYXRwbG90\\\n",
              "bGliIHZlcnNpb24zLjUuMSwgaHR0cHM6Ly9tYXRwbG90bGliLm9yZy/YYfK9AAAACXBIWXMAAAsT\\\n",
              "AAALEwEAmpwYAAAe6klEQVR4nO3de7hdVXnv8e+bIMhNoCQhFqgBUSyVghIvnALJoyio4AlVQFFD\\\n",
              "HpQjl4PQ06CCNwICUVG0tkJbTrlpUQFLBQFBNJRYowQhXDx4LdgICAECiYRLzDh/jLnZi7X3Xnvt\\\n",
              "XPbKu/l+nmc+yZprXsace635m3PMseaIUgqSJGUzrtcFkCRpdRhgkqSUDDBJUkoGmCQpJQNMkpSS\\\n",
              "ASZJSskAkySlZIBJklIywCRJKRlgkqSUDDBJUkoGmCQpJQNMkpSSASZJSskA06iLiFkRUYYYlo5g\\\n",
              "OVMi4pSI2LGLacdHxOyI+H5E/D4ilkXETyPi/REx7PdgbZW5WxGxS0ScHxH3RsRTEfFYRNwUER+K\\\n",
              "iBeu7fWtiQ77Zfdel01j2wa9LoCe1w4GFreNWzmC+acAnwLmA78ZZtqNgY8DFwFfApYDbwX+GXgF\\\n",
              "cGKX61zTMg8rIg4GvgrcDpwG/BLYFJgGzAGCug3rkwuAf2wb94selEPPIwaYeum2UsqvRmldK4Ad\\\n",
              "SymPtIy7ISK2Ao6LiE+WUlZ0sZx1WuaIeBk1ZK8GDi6ltIbj1RFxFvDydbX+NfC7UsqCXhdCzy9W\\\n",
              "IWq9FRGTI+LCiLivqUa7PyKuiohJETEd+EEz6fUt1VbTB1tWKeWPbeHV52ZgI2DCOtiE1XEC9cTy\\\n",
              "mLbwAqCU8lAp5YcAEfHCiDg7Iu6MiOUR8UBEXBkRr2idp9N+bJnmxRFxUUQsaaa5PSLeu463VVoj\\\n",
              "XoGpl8ZHRPtncFUpZVXz/4uBl1Cr9/4b2AZ4I7AJ8FPgWOAfgA9RgwjgZyMswzRgKXD/WirzmnoT\\\n",
              "cHMppZvybARsDnyaWv4/AY4BfhQRf15KeaCZrtN+JCI2BW4EtgJObqZ5L3BxRGxSSvmnLspydESc\\\n",
              "CPwRWAB8qpRyUxfzSauvlOLgMKoDMAsoQwxXtUy3HPhQh+VMb+bZdzXLsR+wCvjY2irzWtg3K4BL\\\n",
              "VnPe8dRQWgb8zQj24/9utmN62/jvAQ8C44dZ78XAocDe1OBbBDzTvjwHh7U9eAWmXjqIgQ0ilrb8\\\n",
              "/2bgxIgI4PvAnaWUsjZWHBG7AJdQqyE/M4JZhyvzYOtq/579cS1uxyHA3wI7A1u0vLVzy/+H24/7\\\n",
              "UO9hzWtb/FeB84FdgDuGKkMp5X0tL2+KiH8H7qReGe41og2SRsB7YOqlO0spC9uG1gYShwLfBj5M\\\n",
              "bZH3u4j4ZDfN3jtpmt1fD/wXcFAZ5F7TGpR5MM+0DdM6TPvf1Oq+YUXEgcA3gP8HHAa8DngN8BDQ\\\n",
              "2tR+uP34JwxehfpAy/tdK6UsA77TlEVaZ7wC03qrlPIg9T7XsRGxM3A4tRn5Q8A5q7PMiNgOuAF4\\\n",
              "HNivlPL4WipuJ+0H8p93mPZ7wAciYnLpv4c1lHcBvyqlzOobEREvoC1wutiPj/DcK7Y+k5t/B2v8\\\n",
              "0o21cpUpDcUrMKVQSvl5KeVk4FHglc3op5p/N+5mGRExkRoQAG8qpSxZu6Uc3CBXbMs6TH42tSHE\\\n",
              "VyJifPubETEhIv6qebkJA3+D9j7qvbChyjLYfrwR2K5luX0Oo94DG1HDmIh4EXAA8JORzCeNlFdg\\\n",
              "6qXdI2Kw5usLqT/c/R7wNeBuatXb/6S2lLuume4X1AP4ERHxCDXQfj5YQETExsB3qT9+PoJ6wN6u\\\n",
              "ZZKfdXk1NmSZR1gVOahSyi8jYib1/tOCiDiX/h8y7w18EDgV+CFwLTAjIs4GrgKmAsfRck8uIrZg\\\n",
              "+P14AXA88K2I+Bj1Ht97qC0iP1hK+eNQ5Y2I2dSrtx8A91GrP2dTr97es0Y7QxpOr1uRODz/Bjq3\\\n",
              "6CvU32RtRH2yw13UVnSPUxsjHNa2rA9Sn8KxkkFa0rVMN2WYdQ4630jKvJb30V9Qg+W3wNPAY8BN\\\n",
              "1GbyGzXTjKM2lLgPeIJ6JfUq4B7ggmaabvfji6mtCZdQTwRuB97bRTkPpIbpEmo4Pky93/baXn/O\\\n",
              "HMb+EKVYTS1Jysd7YJKklAwwSVJKBpgkKSUDTJKUkgEmSUrJABslEbFrRDwREf42RilFxJERsbR5\\\n",
              "jqTUcwbYahhpd+8RsQn1mXWfK6V8rct1zIuIeS2vp3fq72q0RcQ9EXFBr8vRaxExq/m7TFmNeUtE\\\n",
              "nNLy+pSI6NnvWtrL0/beLsBZwCGllJF2WbNWtOzrEhEDOvWMiGkt7+/bMv6CiLhnFMp2xLpcR8u6\\\n",
              "7mnZztZhxmisf33ikzhGKFavu/cvUbuYOGUNVv1TYE9G3t+V1q3vUP8u3fYn1sl51Kdr9MqeDHzS\\\n",
              "Ps1J2deBj5RSrhsw1+hbRn1k1ifaxh/evLd52/jTGPidXNtmUY+n/7KO19Pnuww8nnR6xuaYZICN\\\n",
              "QKxmd++llCPXdN2lPubILtvXM6WUh6gPxV0by1rMIAEyWkopg36+SilPAn85ysXp5FvAeyPik6V5\\\n",
              "EkPzqLB3ApdTw+RZpZRfj3oJ170lQ/29nk+sQhyZE+iyu3eAiNg5Iv6tuW+wIiIWRMT+7fNFxLsi\\\n",
              "4u6mOvKuiDhokGkGVCFGxPiI+HTTRfwTEfH9iHjFYFVBEbF/RPyoKcdjEXFF82TyYUXE8U21xZMR\\\n",
              "sTAi9h5iuh0i4msR8VCzLbcNti2rO29EvLzZnw82ZfltRFwaTX9bLfvoHU210aMR8Xiz3K3blrVB\\\n",
              "RJzUst/vi4jPt1cBR8SmETE3In7dTPdARFweEds07w+oQmz+nt9vtmV5RNwaEYd3sQ+eU4UYtRp5\\\n",
              "sKqiZ9cXEa+JiMsiYnHzt/15RJzRHNDbl39QRPywKdPjEfGTiHh7y/ur9blpyjk/IvaNiJ82n8U7\\\n",
              "u/3br4a+HqZb+xo7iHo8u7x94mirQoyIKc22fjAiTm2+P0sj4sp47vMxh9onffPPal7Po9bA/FXL\\\n",
              "32dey/SvjYjvNfv9DxFxQ0S8ds12gcAAG6muu3uPiD8F5gO7UXu8PYT6kNXvRMRbWqbbF/hXalXk\\\n",
              "XwOfo1Z3dBMuc6hdwF9EfUDrddTn0LWXZX9qVddyat9QR1OfRD4/IrYdZjveD3yR+rDWGdTn811C\\\n",
              "fRhs63TbAz9utvdvgLdTqz0vbz1IDrGObuf9DrBtU/79gI9Sn9vX/jn+IvX5hO8GPtYs77K2ab4K\\\n",
              "fJy6798GnAm8n/rQ275ybUjtN+y4ZrsPoP4tH2nf/jY7Nut7D3WfXQmcFxFHdZhnMMdQq/X6hr2o\\\n",
              "n5Pf09/FyZ8BtwFHAftTPztHUDuifFZEHEe9cnmQWtV2MPBv1GdEDmqEn5uXNuv+AvVzfD9waUTs\\\n",
              "NMJt7sa9wH9QqxH7zKRuz/IRLOckYCfq/jqeuo+/uhrlOQa4lXpboe9vdQxARPwl9RmVW1GvDGcC\\\n",
              "LwJujIjd+hbQcvI1q8t1HticKDwV9cR4xmqUO79eP4wx08AIunun3vBeCezUMm48tZ76py3jfki9\\\n",
              "rzWuZdzrqQfgeS3jptPy0FnqF2I58JW29f6fZrpTWsYtpB74NmgZtwP14atf6LAN46gdLF7bNv7Q\\\n",
              "Zh0XtIz7v9SqtK3bpr0euG2YfTXsvNQH/Bbg7R2W07eP2sv7nmb8G5vXezevZw4x3e7N6yO6WOes\\\n",
              "ZpopHfbhBsA/A4va3mv/O51Sv5JDruvvm8/g64Z4P5p1vRdY1bc/qQfMZcC3hvk7rNbnBpjXjHtZ\\\n",
              "y7hJ1G5hTl6L37++fd0XOo9SO+58MfW79qaWz8C+LfNdANzT8noKbd+vZvzsZvyfDrVP2uaf1bYP\\\n",
              "5g9S5suoJ65btox7EfUE5Fst46Y12zCzi/3wZWoQ7k2tNp3XlGfYhy+PtcErsHVnH2BBaemtt9Ru\\\n",
              "KS6hdsnxoqj9Pb0GuKyUsqplugXUJ4p3siu18cilbeOfc6UREZsCrwa+UVqqPUsp/0UNz2kd1rFd\\\n",
              "M3yzbfzlDOyHan/qvcHHmuq5DaJW7X0X2C1qH1FD6Wbeh6lPnZ8btTn3yzosr728l1IP6Hu2rO9p\\\n",
              "4LK29fU1UNin+ffNwAOllAFXtZ1ExMsi4pKI+B39vTB/gO6uqoda5rHUs/qZpZQft4x/UUR8JiJ+\\\n",
              "Tb0afYZaxRZA3z76H8BmwD+NYH0j/dz8spTyy5bpHqRe7f3ZMOvZoO1v0K1LqU/aP5B64vEAtaPS\\\n",
              "kbi67fUdzb8dyzxC+wBXlVKW9o0o9X72t2nZh6WUG0spG5RSLhpugaWU40opF5VSbiqlXAa8kXqy\\\n",
              "ceZaLHcKBtjIdN3dO527aQ/qFdQE4AXUKqF2g41r9eLm3weHmW+rZn1DlaVTd/F963jOMpsD2sNt\\\n",
              "006inhU+0zZ8rnl/a4Y27Lylnnq+if4v6i8i4jcRcfQgy2sv79PUs/W+aq9JwIbAH9rW17cvt275\\\n",
              "93cdyj1ARGxGvXLcjVrFuTf1JOVfqAfcEYuIN1Or5z5eSmk/YTmfWn34d9T98xpq78tQr06gf3tG\\\n",
              "0kBkpJ+bwXptfqqlDAM09/Ge8zePLn+OUGqfb1dQqxFnAl9rPQnsUnuZ+zpIHbLMq6HTcaBTNXTX\\\n",
              "mhPjS6l93L14uOnHElshjsxIunt/hP4u2VtNpl7uP0r/AXSbQabbhlrXP5S+L8Ukal9PrfO1erRZ\\\n",
              "31Bl6dRdfN86nrPM5ky5PZAepvZX9ZkhlnVfh/V0NW8p5TfAzIgI+u8tfiUi7imlXNMyfXt5N6Qe\\\n",
              "LPrC6GHgSWq4dCrrEvp7Le7WntSTnL1LKfNbyrBa37WI+HPqFeXFpZQz2t57IfXe5ymllC+1jN+1\\\n",
              "bTF9PU9vC9zZ5arX5HPTrfuogds+rlsXUe/RjaPe71wXnqKe7LTqdDLWrtNx4NHVLVQHz6v+sbwC\\\n",
              "G5mz6b679xuB18dzW6eNp94/urWU8nhz5nQz8M6IGNcy3evocHO9cQc1AA9uG/+c16WUPwC3AAe3\\\n",
              "ljkiXkKtWprXYR2LqVedh7SNfwcDT36upTa1vquUsnCQ4SmGNqJ5S3Ub9X4fDAyZ9vIeTP2s/6hl\\\n",
              "fS8EthhifX0H0euAyRFxYIeyt9uk+feZvhERsRU1aEYkasvJq6iNND44yCQbUe+rPtM2flbb6/+k\\\n",
              "3i/9X92uew0/N92u4+lB9v3TI1jE9dRwP7eUctdwE6+mexn4+XrbINM9BQxo+Uk9Drw1Ip79bVrz\\\n",
              "/wNZC/uwWd4G1OPKb7s4sR5TvAIbgTKy7t7Pph5Iro+IT1F7wj2G+jux1i/Ap6gHyisi4h+BidTW\\\n",
              "hR0/iKWURyPii8DJEbGMenX4ampLOqj3fPp8gnqmelVEfIV6P2QOtZffz3dYx6qImENtQXc+9ces\\\n",
              "O1Grxh5vm/yTwE+A/4iIv6few9uK+uXfsZTS6SkFw87btOb6EvWJJr+iHrhnUe/Ffb9teX/RUt6X\\\n",
              "A6dTb9jf0GzXvIi4hHoP7AvNuldRTxreSv3B7i+of+cjgUsi4kxqS8nNqS0gv1hKuXuQbfnPZt/8\\\n",
              "Q/N335Ta2nEJsEWHfTCYr1GrmY8DXl0vPJ91aynlsYhYAPxtRNzfrOMI+qtKabZ3WUScBHw5Ii5v\\\n",
              "lrsM2B14spTy5SHWv1qfm9HSnACuqyuvPl8HPh4RH6P+DnPvIdb5M+CYiDgU+DWwrJTyc+qPqA8A\\\n",
              "boiIz1CvkD5CPdE5tW/miJhGvYd3RKf7YBHxburJ0NXUk8ttqFXGrx6iXGNbr1uRZBzoorv3Zrqd\\\n",
              "qfX0j1GrrBYA+w+yvHdTWyc+Ra0OPIh6djavZZrptLRCbMaNpx6cH6C2TptHPTsuwPFt69ifegWy\\\n",
              "oinPvwM7d7m9x1PPRJ+k3oPai5Zu61um2476NInfNfvlfupZcjdd03ecl1pVeiHwC+AJatXMjcB+\\\n",
              "g+yjv27+PkupB+p/BSa0rW9cs12Lmu16rPn/Z6lXZn3TbUa9F3dvS7kuAyY178+irRUi8AZqs+oV\\\n",
              "1IPZhxikhSHDtEJs9nEZYpjSTDMFuKbZzgepLRXf1v5ZaaZ9JzWEV1BD9sfAAUOVp9vPDUO3wBvw\\\n",
              "GVnD713fvt6pwzR9n4FuWiF+YIh5W79jL6SeON3f7ONvAK9lYCvEydRQWcbAFsSvo55gLqfWmtwA\\\n",
              "vHaIdc8aZh+8nnrC9nvqlffSZtn7dZpvrA7R7BSNERHxTuoN3X1KKTf1ujyjKeqPvH8AvKmU8r3e\\\n",
              "lkbSumYVYmLNvbK3Uc+knwT2oFbvLaD+iFqSxiwDLLfl1N+ZHEv9ceSD1JvaJxUvrSWNcVYhSpJS\\\n",
              "shm9JCklA0ySlNKYvQc2YcKEMmXKlF4XQxrglltuYY899uh1MaRB3XLLLUtKKRN7XY5ujNl7YFOn\\\n",
              "Ti0LFy7sdTGkASKCsfq9U34RcUspZWqvy9ENqxClUbRs2bJeF0EaMwwwaRR9/vP1CUzz5/szPWlN\\\n",
              "GWDSKFmxYgVnn302ACeeeGKPSyPlZ4BJo+Scc87hmWfqg+Nvv/12r8KkNWSASaNg5cqVnHbaaTz9\\\n",
              "dO0t5Mknn+Skk07qcamk3AwwaRSMGzeO008/nTPPrL2+z507l+OPP77jPFOmwMYbw2abweTJMGsW\\\n",
              "LF9e35s1CzbcsL7XN+y22zrdBGm9YzN6aZR124x+yhQ47zzYd1944AHYbz844AA4/fQaYNttB5/+\\\n",
              "9PDrmz4dTjml/isNx2b0ktaqyZNrgN12W69LIq0/DDApgcWL4ZprYKedel0Saf1hgEnrsRkzYPPN\\\n",
              "YfvtYdIkmDOn/72zzoItt+wfDj+8N2WUesUAk9ZjV1wBy5bBvHlw992wZEn/e7Nnw9Kl/cOFF/a/\\\n",
              "1xps8+fXe2d9r+fOHa3SS+uWASYlMG1abbgxe3Z307cG2157wVVX9b/+6EfXVSml0TVmn0YvjTUn\\\n",
              "nFBbJi5a1OuSSOsHr8CkJCZOhJkz4dRT6+vPfva5vwObMKG35ZNGm78Dk0aZ3alofebvwCRJWscM\\\n",
              "MElSSgaYJCklA0ySlJIBJklKyQCTJKVkgEmSUjLAJEkpGWCSpJQMMElSSgaYJCklA0ySlJIBJklK\\\n",
              "yQCTJKVkgEmSUjLAJEkpGWCSpJQMMElSSgaYJCklA0ySlJIBJklKyQCTJKVkgEmSUjLAJEkpGWCS\\\n",
              "pJQMMElSSgaYJCklA0ySlJIBJklKyQCTJKVkgEmSUjLAJEkpGWCSpJQMMElSSgaYJCklA0ySlJIB\\\n",
              "JklKyQCTJKVkgEmSUjLAJEkpGWCSpJQMMElSSgaYJCklA0ySlJIBJklKyQCTJKVkgEmSUjLAJEkp\\\n",
              "GWCSpJQMMElSSgaYJCklA0ySlJIBJklKyQCTJKVkgEmSUjLAJEkpGWCSpJQMMElSSgaYJCklA0yS\\\n",
              "lJIBJklKyQCTJKVkgEmSUjLAJEkpGWCSpJQMMElSSgaYJCklA0ySlJIBJklKyQCTJKVkgEmSUjLA\\\n",
              "JEkpGWCSpJQMMElSSgaYJCklA0ySlJIBJklKyQCTJKVkgEmSUjLAJEkpGWCSpJQMMElSSgaYJCkl\\\n",
              "A0ySlJIBJklKyQCTJKVkgEmSUjLAJEkpGWCSpJQMMElSSgaYJCklA0ySlJIBJklKyQCTJKVkgEmS\\\n",
              "UjLAJEkpGWCSpJQMMElSSgaYJCklA0ySlJIBJklKyQCTJKVkgEmSUjLAJEkpGWCSpJQMMElSSgaY\\\n",
              "JCklA0ySlJIBJklKyQCTJKVkgEmSUjLAJEkpGWCSpJQMMElSSgaYJCklA0ySlJIBJklKyQCTJKVk\\\n",
              "gEmSUjLAJEkpGWCSpJQMMElSSgaYJCklA0ySlJIBJklKyQCTJKVkgEmSUjLAJEkpGWCSpJQMsOFM\\\n",
              "mQIbbwybbQaTJ8OsWbB8eX1v8WJ4xztgwgTYYgt45Svhggt6WFhJmXm4GRkDrBtXXlk/RbfdBrfe\\\n",
              "CmeeWce/732w/fZw773w8MNw8cWwzTY9Laqk3NbG4Wb6dJg3b5QK3EMb9LoAqUyeDPvtVz9ZADff\\\n",
              "DGefDZtuWl+/6lU9K5qkscXDzfC8AhuJxYvhmmtgp53q69e/Ho49Fr7+dfjtb3tbNkljioeb4Rlg\\\n",
              "3ZgxAzbfvF6/T5oEc+bU8ZdeCnvvDaedBjvsALvvXk+TJGk1ebjpngHWjSuugGXLaqXy3XfDkiV1\\\n",
              "/FZbwdy5cNdd8Pvf10/UjBlQChx1VL0Tu9lmcMYZvSu7pFRW53ADsOWW/cP8+XDAAf2v584d9c0Y\\\n",
              "FQbYSEybVpsFzZ498L0JE+r4++6DRx6Bc8+td2KXL4eTTx71okrKbSSHG4ClS/uHvfaCq67qf/3R\\\n",
              "j45WqUeXATZSJ5wA118PixbBRz4Cd94JK1fWU6ZzzqkV1ltv3etSShoDPNx0ZoCN1MSJMHMmnHoq\\\n",
              "PPEEHHRQvUbfccfavvXb3+51CSWNER5uOovSV4E6xkydOrUsXLiw18WQBogIxur3TvlFxC2llKm9\\\n",
              "Lkc3vAKTJKVkgEmSUjLAJEkpGWCSpJSeVwG2atUqLr30Uq677rpeF0WSeuL8889n/vz5vS7GWvG8\\\n",
              "CLBVq1bxzW9+kx133JHDDjuM8847r9dFkqSemDNnDm94wxvYc8890wfZmH8a/Q033MBBBx3EihUr\\\n",
              "WLlyZa+LI0k9VUrhmWeeYcGCBUyfPp1JkyaxaNEiJk6c2OuijdiY/R1YRIzNDZOkdcvfgfXaHnvs\\\n",
              "QSnl2eH222/nLW95CxHBoYce+pz3HBxGcwB6XgaH5++www478IIXvIAjjzySxYsXD3g/kzFfhdhn\\\n",
              "11135eqrr+aOO+5g3Lgxm9uS1NEFF1zAS1/6UrbddtteF2WNPW8CrM+uu+7a6yJIUs/ss88+vS7C\\\n",
              "WuOliCQpJQNMkpSSASZJSskAkySlZIBJklIywCRJKRlgkqSUDDBJUkoGmCQpJQNMkpSSASZJSskA\\\n",
              "kySlZIBJklIywCRJKRlgkqSUDDBJUkoGmCQpJQNMkpSSASZJSskAkySlZIBJklIywCRJKRlgkqSU\\\n",
              "DDBJUkoGmCQpJQNMkpSSASZJSskAkySlZIBJklIywCRJKRlgkqSUDDBJUkoGmCQpJQNMkpSSASZJ\\\n",
              "SskAkySlZIBJklIywCRJKRlgkqSUDDBJUkoGmCQpJQNMkpSSASZJSskAkySlZIBJklIywCRJKRlg\\\n",
              "kqSUDDBJUkoGmCQpJQNMkpSSASZJSskAkySlZIBJklIywCRJKRlgkqSUDDBJUkoGmCQpJQNMkpSS\\\n",
              "ASZJSskAkySlZIBJklIywCRJKRlgkqSUDDBJUkoGmCQpJQNMkpSSASZJSskAkySlZIBJklIywCRJ\\\n",
              "KRlgkqSUDDBJUkoGmCQpJQNMkpSSASZJSskAkySlZIBJklIywCRJKRlgkqSUDDBJUkoGmCQpJQNM\\\n",
              "kpSSASZJSskAkySlZIBJklIywCRJKRlgkqSUDDBJUkoGmCQpJQNMkpSSASZJSskAkySlZIBJklIy\\\n",
              "wCRJKRlgkqSUDDBJUkoGmCQpJQNMkpSSASZJSskAkySlZIBJklIywCRJKRlgkqSUDDBJUkoGmCQp\\\n",
              "JQNMkpSSASZJSskAkySlZIBJklIywCRJKRlgkqSUDDBJUkoGmCQpJQNMkpSSASZJSskAkySlZIBJ\\\n",
              "klIywCRJKRlgkqSUDDBJUkoGmCQpJQNMkpSSASZJSskAkySlZIBJklIywCRJKRlgkqSUDDBJUkoG\\\n",
              "mCQpJQNMkpSSASZJSskAkySlZIBJklIywCRJKRlg0vpqyhTYeGPYbDOYPBlmzYLly+t7s2bBhhvW\\\n",
              "9/qG3XbrYWGl0WeASeuzK6+soXXbbXDrrXDmmf3vffjD9b2+YdGinhVT6gUDTMpg8mTYb78aZJIA\\\n",
              "A0zKYfFiuOYa2GmnXpdEWm8YYNL6bMYM2Hxz2H57mDQJ5szpf++ss2DLLfuHww/vTRmlHjHApPXZ\\\n",
              "FVfAsmUwbx7cfTcsWdL/3uzZsHRp/3DhhXX8UUf1N+w444xRL7I0WgwwKYNp02rLw9mzh5/23HP7\\\n",
              "G3acfPI6L5rUKxv0ugCSunTCCbVpva0NJcArMCmPiRNh5kw49dT6+rOffe7vwCZM6G35pFEWpZRe\\\n",
              "l2GdmDp1alm4cGGviyENEBGM1e+d8ouIW0opU3tdjm54BSZJSskAkySlZIBJklIywCRJKRlgkqSU\\\n",
              "DDBJUkoGmCQpJZ/EIY2ClStXcvTRR/PYY48BcMghh7DrrrvyiU98osclk/IywKRRMG7cOK699loW\\\n",
              "L14MwGWXXcZTTz3V41JJuVmFKI2CcePGMXfuXDbZZBMANtpoI85s7V1Z0ogZYNIoede73sUWW2wB\\\n",
              "wJvf/GZ22WWXHpdIys0Ak0bJ+PHjObnp3sSrL2nNGWDSKDrqqKMAvPqS1gIDTBpFG2xguylpbTHA\\\n",
              "JEkpjdn+wCLiIeDeXpdDkpJ5SSllYq8L0Y0xG2CSpLHNKkRJUkoGmCQpJQNMkpSSASZJSskAkySl\\\n",
              "ZIBJklIywCRJKRlgkqSUDDBJUkoGmCQpJQNMkpSSASZJSskAkySlZIBJklIywCRJKRlgkqSUDDBJ\\\n",
              "UkoGmCQpJQNMkpSSASZJSskAkySlZIBJklIywCRJKRlgkqSUDDBJUkoGmCQpJQNMkpSSASZJSskA\\\n",
              "kySlZIBJklIywCRJKRlgkqSUDDBJUkoGmCQpJQNMkpSSASZJSskAkySlZIBJklIywCRJKRlgkqSU\\\n",
              "DDBJUkoGmCQpJQNMkpSSASZJSskAkySlZIBJklIywCRJKRlgkqSUDDBJUkoGmCQpJQNMkpSSASZJ\\\n",
              "Sun/A8QVTDpkAzENAAAAAElFTkSuQmCC\\\n",
              "\"\n",
              "  frames[5] = \"data:image/png;base64,iVBORw0KGgoAAAANSUhEUgAAAbAAAAGwCAYAAADITjAqAAAAOXRFWHRTb2Z0d2FyZQBNYXRwbG90\\\n",
              "bGliIHZlcnNpb24zLjUuMSwgaHR0cHM6Ly9tYXRwbG90bGliLm9yZy/YYfK9AAAACXBIWXMAAAsT\\\n",
              "AAALEwEAmpwYAAAfG0lEQVR4nO3de7wdZX3v8c8vQZCbQE1CLFADolgqBSVeOAWSY1FQ0QNVwKKG\\\n",
              "vFAql6PQ06CANwICUVH0WIVajgTQogKWCgIFwVBjRQly9+BdbLgIAQKJhkvM0z+e2eyVtW9r7SR7\\\n",
              "5bf5vF+veSVr1lyeNXvWfGeeedY8UUpBkqRsJvS6AJIkjYYBJklKyQCTJKVkgEmSUjLAJEkpGWCS\\\n",
              "pJQMMElSSgaYJCklA0ySlJIBJklKyQCTJKVkgEmSUjLAJEkpGWCSpJQMMI25iJgdEWWIYWkXy5kW\\\n",
              "ESdHxA4dTDsxIuZExPUR8buIWBYRP46Id0fEiN+DtVXmTkXEzhFxXkTcExFPRsRjEfG9iHh/RDx3\\\n",
              "ba9vTQyzXXbrddk0vm3Q6wLoWe0gYHHbuJVdzD8N+BiwEPjVCNNuDHwYuAD4HLAceCPwz8BLgeM7\\\n",
              "XOealnlEEXEQ8BXgduBU4OfApsAMYC4Q1M+wPpkP/FPbuJ/1oBx6FjHA1Eu3llJ+MUbrWgHsUEp5\\\n",
              "pGXcdRGxFfC+iPhoKWVFB8tZp2WOiBdTQ/ZK4KBSSms4XhkRZwIvWVfrXwP3llJu7HUh9OxiFaLW\\\n",
              "WxExNSLOj4j7mmq0+yPiioiYEhEzge82k17bUm01c7BllVL+2BZefW4CNgImrYOPMBrHUU8sj24L\\\n",
              "LwBKKQ+VUr4PEBHPjYizIuLOiFgeEQ9ExOUR8dLWeYbbji3TvCAiLoiIJc00t0fEO9fxZ5XWiFdg\\\n",
              "6qWJEdG+D64qpaxq/n8h8EJq9d5/AVsDfw1sAvwYOAb4AvB+ahAB/KTLMswAlgL3r6Uyr6nXATeV\\\n",
              "Ujopz0bA5sDHqeX/E+Bo4AcR8eellAea6YbbjkTEpsANwFbASc007wQujIhNSilf6qAsR0XE8cAf\\\n",
              "gRuBj5VSvtfBfNLolVIcHMZ0AGYDZYjhipbplgPvH2Y5M5t59hllOfYFVgEfWltlXgvbZgVw0Sjn\\\n",
              "nUgNpWXA33exHf938zlmto3/DvAgMHGE9V4IHALsRQ2+24Cn25fn4LC2B6/A1EsHMrBBxNKW/98E\\\n",
              "HB8RAVwP3FlKKWtjxRGxM3ARtRryE13MOlKZB1tX+/fsj2vxcxwM/AOwE7BFy1s7tfx/pO24N/Ue\\\n",
              "1oK2xX8FOA/YGbhjqDKUUt7V8vJ7EfFvwJ3UK8M9u/pAUhe8B6ZeurOUsqhtaG0gcQjwLeAD1BZ5\\\n",
              "90bERztp9j6cptn9tcCvgQPLIPea1qDMg3m6bZgxzLT/Ra3uG1FEvBn4OvD/gUOBVwOvBB4CWpva\\\n",
              "j7Qd/4TBq1AfaHm/Y6WUZcC3m7JI64xXYFpvlVIepN7nOiYidgIOozYjfwg4ezTLjIhtgeuAx4F9\\\n",
              "SymPr6XiDqf9QP7TYab9DvCeiJha+u9hDeXtwC9KKbP7RkTEc2gLnA624yOsfsXWZ2rz72CNXzqx\\\n",
              "Vq4ypaF4BaYUSik/LaWcBDwKvKwZ/WTz78adLCMiJlMDAuB1pZQla7eUgxvkim3ZMJOfRW0I8cWI\\\n",
              "mNj+ZkRMioi/al5uwsDfoL2Lei9sqLIMth1vALZtWW6fQ6n3wLpqGBMRzwP2B37UzXxSt7wCUy/t\\\n",
              "FhGDNV9fRP3h7neArwJ3U6ve/he1pdw1zXQ/ox7AD4+IR6iB9tPBAiIiNgb+nfrj58OpB+xtWyb5\\\n",
              "SYdXY0OWucuqyEGVUn4eEbOo959ujIhz6P8h817Ae4FTgO8DVwMHRMRZwBXAdOB9tNyTi4gtGHk7\\\n",
              "zgeOBb4ZER+i3uN7B7VF5HtLKX8cqrwRMYd69fZd4D5q9ecc6tXbO9ZoY0gj6XUrEodn38DwLfoK\\\n",
              "9TdZG1Gf7HAXtRXd49TGCIe2Leu91KdwrGSQlnQt000bYZ2DztdNmdfyNvoLarD8FngKeAz4HrWZ\\\n",
              "/EbNNBOoDSXuA/5AvZJ6OfAbYH4zTafb8QXU1oRLqCcCtwPv7KCcb6aG6RJqOD5Mvd/2ql7vZw7j\\\n",
              "f4hSrKaWJOXjPTBJUkoGmCQpJQNMkpSSASZJSskAkySlZICNkYjYJSL+EBH+NkYpRcQREbG0eY6k\\\n",
              "1HMG2Ch02917RGxCfWbdp0opX+1wHQsiYkHL65nD9Xc11iLiNxExv9fl6LWImN38XaaNYt4SESe3\\\n",
              "vD45Inr2u5b28rS9tzNwJnBwKaXbLmvWipZtXSJiQKeeETGj5f19WsbPj4jfjEHZDl+X62hb3zYR\\\n",
              "8eWmD7gnI+LXEXHGWK1/feGTOLoUo+vu/XPULiZOXoNV/xjYg+77u9K69W3q36XT/sSGcy716Rq9\\\n",
              "sgcDn7RPc1L2NeCDpZRrBsw19pZRH5n1kbbxhzXvbd42/lQGfifXttnU4+mX1/F6aE6Wvk99GPX7\\\n",
              "gd9Rf6i/47pe9/rGAOtCjLK791LKEWu67lIfc2SX7euZUspD1Ifiro1lLWaQABkrpZRB969SyhPA\\\n",
              "X45xcYbzTeCdEfHR0jyJoXlU2NuAS6lh8oxSyi/HvITr1jnAvcD/LKU83Yy7oYfl6RmrELtzHB12\\\n",
              "9w4QETtFxL829w1WRMSNEbFf+3wR8faIuLupCrgrIg4cZJoBVYgRMTEiPt50Ef+HiLg+Il46WFVQ\\\n",
              "ROwXET9oyvFYRFzWPJl8RBFxbFNl+ERELIqIvYaYbvuI+GpEPNR8llsH+yyjnTciXtJszwebsvw2\\\n",
              "Ii6Opr+tlm301qba6NGIeLxZ7vPblrVBRJzYst3vi4hPt1cBR8SmETEvIn7ZTPdARFwaEVs37w+o\\\n",
              "Qmz+ntc3n2V5RNwSEYd1sA1Wq0KMWo1chhimNdO8MiIuiYjFzd/2pxFxenNAb1/+gRHx/aZMj0fE\\\n",
              "jyLiLS3vj2q/acq5MCL2iYgfN/vinZ3+7Uehr4fp1r7GDqQezy5tnzjaqhAjYlrzWd8bEac035+l\\\n",
              "EXF5rP58zKG2Sd/8s5vXC6g1MH/V8vdZ0DL9qyLiO812/31EXBcRrxrNB4+IF1E7Yv18S3g9axlg\\\n",
              "3em4u/eI+FNgIbArtcfbg6kPWf12RLyhZbp9gH+hVkX+DfApanVHJ+Eyl9oF/AXUB7ReQ30OXXtZ\\\n",
              "9qNWdS2n9g11FPVJ5AsjYpsRPse7gc9SH9Z6APX5fBdRHwbbOt12wA+bz/v3wFuo1Z6Xth4kh1hH\\\n",
              "p/N+G9imKf++wAnU5/a178efpT6f8G+BDzXLu6Rtmq8AH6Zu+zcBZwDvpj70tq9cG1L7DXtf87n3\\\n",
              "p/4tH2n//G12aNb3Duo2uxw4NyKOHGaewRxNrdbrG/ak7ie/o7+Lkz8DbgWOBPaj7juHUzuifEZE\\\n",
              "vI965fIgtartIOBfqVVPg+pyv3lRs+7PUPfj+4GLI2JdVGvdA/wHtRqxzyzq51nexXJOpFa7HU59\\\n",
              "mPEe1P2iW0cDt1BvK/T9rY4GiIi/pF4dbUW9MpwFPA+4ISJ27VtAy8nX7BHW1ddjwIqIuLY5qXo0\\\n",
              "Ii5oP0l7Vuj1wxgzDXTR3Tv1hvdKYMeWcROpfUH9uGXc96n3tSa0jHsN9QC8oGXcTFoeOkv9QiwH\\\n",
              "vti23v/TTHdyy7hF1APfBi3jtqc+fPUzw3yGCdQOFq9uG39Is475LeP+H7Uq7flt014L3DrCthpx\\\n",
              "XuoDfgvwlmGW07eN2sv7jmb8Xzev92pezxpiut2a14d3sM7ZzTTThtmGGwD/DNzW9l773+nk+pUc\\\n",
              "cl3/2OyDrx7i/WjW9U5gVd/2pB4wlwHfHOHvMKr9BljQjHtxy7gp1G5hTlqL37++bd0XOo9SO+58\\\n",
              "AfW79rqWfWCflvnmA79peT2Ntu9XM35OM/5Ph9ombfPPbtsGCwcp8yXUE9ctW8Y9j3oC8s2WcTOa\\\n",
              "zzBrhG1wQrPux4EvAK8F/o76EOVFtBxHng2DV2Drzt7AjaWlt95Su6W4iNolx/Oi9vf0SuCSUsqq\\\n",
              "lulupD5RfDi7UBuPXNw2frUrjYjYFHgF8PXSUu1ZSvk1NTxnDLOObZvhG23jL2VgP1T7Ue8NPtZU\\\n",
              "z20QtWrv34Fdo/YRNZRO5n2Y+tT5eVGbc794mOW1l/di6gF9j5b1PQVc0ra+vgYKezf/vh54oJQy\\\n",
              "4Kp2OBHx4oi4KCLupb8X5vfQ2VX1UMs8hnpWP6uU8sOW8c+LiE9ExC+pV6NPU6vYAujbRv8D2Az4\\\n",
              "Uhfr63a/+Xkp5ect0z1Ivdr7sxHWs0Hb36BTF1OftP9m6onHA9SOSrtxZdvrO5p/hy1zl/YGriil\\\n",
              "LO0bUer97G/Rsg1LKTeUUjYopVwwwvL6jtkLSinHlFKuL6V8ibpv7E6tmXjWMMC603F37wzfTXtQ\\\n",
              "r6AmAc+hVgm1G2xcqxc0/z44wnxbNesbqizDdRfft47Vltkc0B5um3YKtXrk6bbhU837w1VvjDhv\\\n",
              "qaefr6OeZZ4B/CwifhURRw2yvPbyPkU9W++r9poCbAj8vm19fdvy+S3/3jtMuQeIiM2oV467Us+W\\\n",
              "96KepHyZesDtWkS8nlo99+FSSvsJy3nU6sP/S90+r6T2vgz16gT6P083DUS63W8G67X5yZYyDNDc\\\n",
              "x1vtbx4d/hyh1D7fLqNWI84Cvtp6Etih9jL3dZA6ZJlHYbjjwHDV0EPp+95d2za+7+Tr5aNYZlq2\\\n",
              "QuxON929P0J/l+ytplKrAB6l/wC69SDTbU2t6x9K35diCrWvp9b5Wj3arG+osgzXXXzfOlZbZnOm\\\n",
              "3B5ID1P7q/rEEMu6b5j1dDRvKeVXwKyICPrvLX4xIn5TSrmqZfr28m5IPVj0hdHDwBPUcBmurEvo\\\n",
              "77W4U3tQT3L2KqUsbCnDqL5rEfHn1CvKC0spp7e991zqvc+TSymfaxm/S9ti+nqe3ga4s8NVr8l+\\\n",
              "06n7qIHbPq5TF1Dv0U2g3u9cF56knuy06uZe03DHgUdHUZ67Rni/2xBPzSuw7pxF59293wC8JlZv\\\n",
              "nTaRev/ollLK402V4k3A2yJiQst0r2aYm+uNO6gBeFDb+NVel1J+D9wMHNRa5oh4IbVqacEw61hM\\\n",
              "veo8uG38Wxl48nM1tan1XaWURYMMTzK0ruYt1a3U+30wMGTay3sQdV//Qcv6ngtsMcT6+g6i1wBT\\\n",
              "I+LNw5S93SbNv8+0EIuIrahB05XmpvwV1EYa7x1kko2o91XbW6PNbnv9n9T7pX/X6brXcL/pdB1P\\\n",
              "DbLtn+piEddSw/2cUspIB/bRuoeB+9ebBpnuSWBAy0/qceCNEfHMb9Oa/7+Z0W3DG6lXb+1VhX2t\\\n",
              "m28axTLT8gqsC6W77t7Poh5Iro2Ij1Fvuh5N/Z1Y6xfgY9QD5WUR8U/AZGrrwmGv8Eopj0bEZ4GT\\\n",
              "ImIZ9erwFdSWdLD6mdhHqGeqV0TEF6n3Q+ZSe/n99DDrWBURc6kt6M6j/ph1R2rV2ONtk38U+BHw\\\n",
              "HxHxj9R7eFtRv/w7lFKGe0rBiPM2rbk+R32iyS+oB+7Z1Htx17ct7y9ayvsS4DTqPYPrms+1ICIu\\\n",
              "ot4D+0yz7lXUk4Y3Un+w+zPq3/kI4KKoTzn4IfVHsvsCny2l3D3IZ/nPZtt8ofm7b0pt7bgE2GKY\\\n",
              "bTCYr1Krmd8HvKJeeD7jllLKYxFxI/APEXF/s47D6a8qpfm8yyLiRODzEXFps9xlwG7AE6WUzw+x\\\n",
              "/lHtN2OlOQFcV1defb4GfDgiPkQNj72GWOdPgKMj4hDgl8CyUspPqT+i3h+4LiI+Qb2q/SD1ROeU\\\n",
              "vpkjYgb1Ht7hw90HK6WsjIgTgPnN8eeb1O/kadRAbP8ujG+9bkWScaCD7t6b6Xai1tM/Rq2yuhHY\\\n",
              "b5Dl/S21deKT1CqCA6k744KWaWbS0gqxGTeRuuM+QG2dtoB6dlyAY9vWsR/1CmRFU55/A3bq8PMe\\\n",
              "Sz0TfYJ6D2pPWrqtb5luW+rTJO5ttsv91LPkTrqmH3ZealXp+cDPgD9Qq2ZuAPYdZBv9TfP3WUo9\\\n",
              "UP8LMKltfROaz3Vb87kea/7/SeqVWd90m1Hvxd3TUq5LgCnN+7Npa4VIbRl2S7Otf0l9WsLJtLUw\\\n",
              "ZIRWiM02LkMM05pppgFXNZ/zQWpLxTe17yvNtG+jhvAKasj+ENh/qPJ0ut8wdAu8AfvIGn7v+rb1\\\n",
              "jsNM07cPdNIK8T1DzNv6HXsu9cTp/mYbfx14FQNbIU6lNgpZxsAWxK+mnmAup9aaXAe8aoh1z+5w\\\n",
              "W7yLWh38ZFO2zwObra1tnWWIZmNonIiIt1FbaO1dSvler8szlqL+yPu7wOtKKd/pbWkkrWtWISbW\\\n",
              "3Ct7E/VM+glqM9oTqFd6C4eZVZLSM8ByW079nckx1B9HPki9qX1i8dJa0jhnFaIkKSWb0UuSUjLA\\\n",
              "JEkpjdt7YJMmTSrTpk3rdTGkAW6++WZ23333XhdDGtTNN9+8pJQyudfl6MS4vQc2ffr0smjRol4X\\\n",
              "QxogIhiv3zvlFxE3l1Km97ocnbAKURpDy5Yt63URpHHDAJPG0Kc/XZ/AtHChP9OT1pQBJo2RFStW\\\n",
              "cNZZZwFw/PHH97g0Un4GmDRGzj77bJ5+uj44/vbbb/cqTFpDBpg0BlauXMmpp57KU0/V3kKeeOIJ\\\n",
              "TjzxxB6XSsrNAJPGwIQJEzjttNM444wzAJg3bx7HHnvssPNMmwYbbwybbQZTp8Ls2bB8eX1v9mzY\\\n",
              "cMP6Xt+w667r9CNI6x2b0UtjrNNm9NOmwbnnwj77wAMPwL77wv77w2mn1QDbdlv4+MdHXt/MmXDy\\\n",
              "yfVfaSQ2o5e0Vk2dWgPs1lt7XRJp/WGASQksXgxXXQU77tjrkkjrDwNMWo8dcABsvjlstx1MmQJz\\\n",
              "5/a/d+aZsOWW/cNhh/WmjFKvGGDSeuyyy2DZMliwAO6+G5Ys6X9vzhxYurR/OP/8/vdag23hwnrv\\\n",
              "rO/1vHljVXpp3TLApARmzKgNN+bM6Wz61mDbc0+44or+1yecsK5KKY2tcfs0emm8Oe642jLxttt6\\\n",
              "XRJp/eAVmJTE5Mkwaxacckp9/clPrv47sEmTels+aaz5OzBpjNmditZn/g5MkqR1zACTJKVkgEmS\\\n",
              "UjLAJEkpGWCSpJQMMElSSgaYJCklA0ySlJIBJklKyQCTJKVkgEmSUjLAJEkpGWCSpJQMMElSSgaY\\\n",
              "JCklA0ySlJIBJklKyQCTJKVkgEmSUjLAJEkpGWCSpJQMMElSSgaYJCklA0ySlJIBJklKyQCTJKVk\\\n",
              "gEmSUjLAJEkpGWCSpJQMMElSSgaYJCklA0ySlJIBJklKyQCTJKVkgEmSUjLAJEkpGWCSpJQMMElS\\\n",
              "SgaYJCklA0ySlJIBJklKyQCTJKVkgEmSUjLAJEkpGWCSpJQMMElSSgaYJCklA0ySlJIBJklKyQCT\\\n",
              "JKVkgEmSUjLAJEkpGWCSpJQMMElSSgaYJCklA0ySlJIBJklKyQCTJKVkgEmSUjLAJEkpGWCSpJQM\\\n",
              "MElSSgaYJCklA0ySlJIBJklKyQCTJKVkgEmSUjLAJEkpGWCSpJQMMElSSgaYJCklA0ySlJIBJklK\\\n",
              "yQCTJKVkgEmSUjLAJEkpGWCSpJQMMElSSgaYJCklA0ySlJIBJklKyQCTJKVkgEmSUjLAJEkpGWCS\\\n",
              "pJQMMElSSgaYJCklA0ySlJIBJklKyQCTJKVkgEmSUjLAJEkpGWCSpJQMMElSSgaYJCklA0ySlJIB\\\n",
              "JklKyQCTJKVkgEmSUjLAJEkpGWCSpJQMMElSSgaYJCklA0ySlJIBJklKyQCTJKVkgEmSUjLAJEkp\\\n",
              "GWCSpJQMMElSSgaYJCklA0ySlJIBJklKyQCTJKVkgEmSUjLAJEkpGWCSpJQMMElSSgaYJCklA0yS\\\n",
              "lJIBJklKyQCTJKVkgEmSUjLAJEkpGWCSpJQMMElSSgaYJCklA0ySlJIBJklKyQAbybRpsPHGsNlm\\\n",
              "MHUqzJ4Ny5fX9xYvhre+FSZNgi22gJe9DObP72FhJWXm4aY7BlgnLr+87kW33gq33AJnnFHHv+td\\\n",
              "sN12cM898PDDcOGFsPXWPS2qpNzWxuFm5kxYsGCMCtxDG/S6AKlMnQr77lv3LICbboKzzoJNN62v\\\n",
              "X/7ynhVN0vji4WZkXoF1Y/FiuOoq2HHH+vo1r4FjjoGvfQ1++9velk3SuOLhZmQGWCcOOAA237xe\\\n",
              "v0+ZAnPn1vEXXwx77QWnngrbbw+77VZPkyRplDzcdM4A68Rll8GyZbVS+e67YcmSOn6rrWDePLjr\\\n",
              "Lvjd7+oedcABUAoceWS9E7vZZnD66b0ru6RURnO4Adhyy/5h4ULYf//+1/PmjfnHGBMGWDdmzKjN\\\n",
              "gubMGfjepEl1/H33wSOPwDnn1Duxy5fDSSeNeVEl5dbN4QZg6dL+Yc894Yor+l+fcMJYlXpsGWDd\\\n",
              "Ou44uPZauO02+OAH4c47YeXKesp09tm1wvr5z+91KSWNAx5uhmeAdWvyZJg1C045Bf7wBzjwwHqN\\\n",
              "vsMOtX3rt77V6xJKGic83AwvSl8F6jgzffr0smjRol4XQxogIhiv3zvlFxE3l1Km97ocnfAKTJKU\\\n",
              "kgEmSUrJAJMkpWSASZJSelYF2KpVq7j44ou55pprel0USeqJ8847j4ULF/a6GGvFsyLAVq1axTe+\\\n",
              "8Q122GEHDj30UM4999xeF0mSemLu3Lm89rWvZY899kgfZOP+afTXXXcdBx54ICtWrGDlypW9Lo4k\\\n",
              "9VQphaeffpobb7yRmTNnMmXKFG677TYmT57c66J1bdz+DiwixucHk6R1y9+B9druu+9OKeWZ4fbb\\\n",
              "b+cNb3gDEcEhhxyy2nsODmM5AD0vg8Ozd9h+++15znOewxFHHMHixYsHvJ/JuK9C7LPLLrtw5ZVX\\\n",
              "cscddzBhwrjNbUka1vz583nRi17ENtts0+uirLFnTYD12WWXXXpdBEnqmb333rvXRVhrvBSRJKVk\\\n",
              "gEmSUjLAJEkpGWCSpJQMMElSSgaYJCklA0ySlJIBJklKyQCTJKVkgEmSUjLAJEkpGWCSpJQMMElS\\\n",
              "SgaYJCklA0ySlJIBJklKyQCTJKVkgEmSUjLAJEkpGWCSpJQMMElSSgaYJCklA0ySlJIBJklKyQCT\\\n",
              "JKVkgEmSUjLAJEkpGWCSpJQMMElSSgaYJCklA0ySlJIBJklKyQCTJKVkgEmSUjLAJEkpGWCSpJQM\\\n",
              "MElSSgaYJCklA0ySlJIBJklKyQCTJKVkgEmSUjLAJEkpGWCSpJQMMElSSgaYJCklA0ySlJIBJklK\\\n",
              "yQCTJKVkgEmSUjLAJEkpGWCSpJQMMElSSgaYJCklA0ySlJIBJklKyQCTJKVkgEmSUjLAJEkpGWCS\\\n",
              "pJQMMElSSgaYJCklA0ySlJIBJklKyQCTJKVkgEmSUjLAJEkpGWCSpJQMMElSSgaYJCklA0ySlJIB\\\n",
              "JklKyQCTJKVkgEmSUjLAJEkpGWCSpJQMMElSSgaYJCklA0ySlJIBJklKyQCTJKVkgEmSUjLAJEkp\\\n",
              "GWCSpJQMMElSSgaYJCklA0ySlJIBJklKyQCTJKVkgEmSUjLAJEkpGWCSpJQMMElSSgaYJCklA0yS\\\n",
              "lJIBJklKyQCTJKVkgEmSUjLAJEkpGWCSpJQMMElSSgaYJCklA0ySlJIBJklKyQCTJKVkgEmSUjLA\\\n",
              "JEkpGWCSpJQMMElSSgaYJCklA0ySlJIBJklKyQCTJKVkgEmSUjLAJEkpGWCSpJQMMElSSgaYJCkl\\\n",
              "A0ySlJIBJklKyQCTJKVkgEmSUjLAJEkpGWCSpJQMMElSSgaYJCklA0ySlJIBJklKyQCTJKVkgEmS\\\n",
              "UjLAJEkpGWCSpJQMMElSSgaYJCklA0xaX02bBhtvDJttBlOnwuzZsHx5fW/2bNhww/pe37Drrj0s\\\n",
              "rDT2DDBpfXb55TW0br0VbrkFzjij/70PfKC+1zfcdlvPiin1ggEmZTB1Kuy7bw0ySYABJuWweDFc\\\n",
              "dRXsuGOvSyKtNwwwaX12wAGw+eaw3XYwZQrMndv/3plnwpZb9g+HHdabMko9YoBJ67PLLoNly2DB\\\n",
              "Arj7bliypP+9OXNg6dL+4fzz6/gjj+xv2HH66WNeZGmsGGBSBjNm1JaHc+aMPO055/Q37DjppHVe\\\n",
              "NKlXNuh1ASR16LjjatN6WxtKgFdgUh6TJ8OsWXDKKfX1Jz+5+u/AJk3qbfmkMRallF6XYZ2YPn16\\\n",
              "WbRoUa+LIQ0QEYzX753yi4ibSynTe12OTngFJklKyQCTJKVkgEmSUjLAJEkpGWCSpJQMMElSSgaY\\\n",
              "JCkln8QhjYGVK1dy1FFH8dhjjwFw8MEHs8suu/CRj3ykxyWT8jLApDEwYcIErr76ahYvXgzAJZdc\\\n",
              "wpNPPtnjUkm5WYUojYEJEyYwb948NtlkEwA22mgjzmjtXVlS1wwwaYy8/e1vZ4sttgDg9a9/PTvv\\\n",
              "vHOPSyTlZoBJY2TixImc1HRv4tWXtOYMMGkMHXnkkQBefUlrgQEmjaENNrDdlLS2GGCSpJTGbX9g\\\n",
              "EfEQcE+vyyFJybywlDK514XoxLgNMEnS+GYVoiQpJQNMkpSSASZJSskAkySlZIBJklIywCRJKRlg\\\n",
              "kqSUDDBJUkoGmCQpJQNMkpSSASZJSskAkySlZIBJklIywCRJKRlgkqSUDDBJUkoGmCQpJQNMkpSS\\\n",
              "ASZJSskAkySlZIBJklIywCRJKRlgkqSUDDBJUkoGmCQpJQNMkpSSASZJSskAkySlZIBJklIywCRJ\\\n",
              "KRlgkqSUDDBJUkoGmCQpJQNMkpSSASZJSskAkySlZIBJklIywCRJKRlgkqSUDDBJUkoGmCQpJQNM\\\n",
              "kpSSASZJSskAkySlZIBJklIywCRJKRlgkqSUDDBJUkoGmCQpJQNMkpSSASZJSskAkySl9N/qwk73\\\n",
              "/Yb2lgAAAABJRU5ErkJggg==\\\n",
              "\"\n",
              "  frames[6] = \"data:image/png;base64,iVBORw0KGgoAAAANSUhEUgAAAbAAAAGwCAYAAADITjAqAAAAOXRFWHRTb2Z0d2FyZQBNYXRwbG90\\\n",
              "bGliIHZlcnNpb24zLjUuMSwgaHR0cHM6Ly9tYXRwbG90bGliLm9yZy/YYfK9AAAACXBIWXMAAAsT\\\n",
              "AAALEwEAmpwYAAAe00lEQVR4nO3de7wdZX3v8c8vQZCbQElCLFADolhqCkq8cAokL4uCih6oAooY\\\n",
              "8kI5cjkKPQYVvBEQiIqivQhtOSWIigpYKggUREONNUqQuwevFRsBIUAgKeES85w/ntnulbVvayU7\\\n",
              "e+W3+bxfr3kla9asmWdmz5rvzDPPmidKKUiSlM2EXhdAkqR1YYBJklIywCRJKRlgkqSUDDBJUkoG\\\n",
              "mCQpJQNMkpSSASZJSskAkySlZIBJklIywCRJKRlgkqSUDDBJUkoGmCQpJQNMYy4i5kREGWJY3sV8\\\n",
              "pkXE6RGxawfTToyIuRHxnYj4XUSsiIgfR8S7ImLE78FolblTEbFHRFwUEfdGxFMR8VhEfC8i3hcR\\\n",
              "zx3t5a2PYbbLXr0um8a3TXpdAD2rHQYsbRu3uovPTwM+DiwCfjXCtJsDHwG+CHweWAm8Afgn4CXA\\\n",
              "KR0uc33LPKKIOAz4EnAHcCbwc2BLYCYwDwjqOmxMFgD/0DbuZz0oh55FDDD10m2llF+M0bJWAbuW\\\n",
              "Uh5pGXdjRGwHvDciPlZKWdXBfDZomSPiRdSQvQY4rJTSGo7XRMS5wIs31PLXw29LKYt7XQg9u1iF\\\n",
              "qI1WREyNiIsj4r6mGu3+iLg6IqZExCzgu82kN7RUW80abF6llN+3hVefm4HNgEkbYBXWxcnUE8sT\\\n",
              "2sILgFLKQ6WU7wNExHMj4ryIuCsiVkbEAxFxVUS8pPUzw23HlmmeHxFfjIhlzTR3RMRRG3hdpfXi\\\n",
              "FZh6aWJEtO+Da0opa5r/XwK8gFq991/ADsBfAlsAPwZOBP4eeB81iAB+0mUZZgLLgftHqczr67XA\\\n",
              "zaWUTsqzGbA18Alq+f8IOAH4QUT8aSnlgWa64bYjEbElcBOwHXBaM81RwCURsUUp5R87KMvxEXEK\\\n",
              "8HtgMfDxUsr3OvictO5KKQ4OYzoAc4AyxHB1y3QrgfcNM59ZzWcOWMdyHAisAT48WmUehW2zCrh0\\\n",
              "HT87kRpKK4C/7mI7/u9mPWa1jf828CAwcYTlXgIcAexHDb7bgWfa5+fgMNqDV2DqpUMZ2CBiecv/\\\n",
              "bwZOiYgAvgPcVUopo7HgiNgDuJRaDfnJLj46UpkHW1b79+z3o7gehwPvB3YHtml5a/eW/4+0Hfen\\\n",
              "3sNa2Db7LwEXAXsAdw5VhlLKO1tefi8i/hW4i3pluG9XKyR1wXtg6qW7SilL2obWBhJHAN8EPkBt\\\n",
              "kffbiPhYJ83eh9M0u78B+E/g0DLIvab1KPNgnmkbZg4z7X9Rq/tGFBFvAr4G/D/gSOBVwCuAh4DW\\\n",
              "pvYjbcc/YvAq1Ada3u9YKWUF8K2mLNIG4xWYNlqllAep97lOjIjdgaOpzcgfAs5fl3lGxE7AjcDj\\\n",
              "wIGllMdHqbjDaT+Q/3SYab8NvDsippb+e1hDeRvwi1LKnL4REfEc2gKng+34CGtfsfWZ2vw7WOOX\\\n",
              "TozKVaY0FK/AlEIp5aellNOAR4GXNqOfav7dvJN5RMRkakAAvLaUsmx0Szm4Qa7YVgwz+XnUhhBf\\\n",
              "iIiJ7W9GxKSI+Ivm5RYM/A3aO6n3woYqy2Db8SZgp5b59jmSeg+sq4YxEfE84GDgR918TuqWV2Dq\\\n",
              "pb0iYrDm60uoP9z9NvBl4B5q1dv/pLaUu76Z7mfUA/gxEfEINdB+OlhARMTmwL9Rf/x8DPWAvVPL\\\n",
              "JD/p8GpsyDJ3WRU5qFLKzyNiNvX+0+KIuID+HzLvB7wHOAP4PnAdcEhEnAdcDcwA3kvLPbmI2IaR\\\n",
              "t+MC4CTgGxHxYeo9vndQW0S+p5Ty+6HKGxFzqVdv3wXuo1Z/zqVevb1jvTaGNJJetyJxePYNDN+i\\\n",
              "r1B/k7UZ9ckOd1Nb0T1ObYxwZNu83kN9CsdqBmlJ1zLdtBGWOejnuinzKG+jP6MGy2+Ap4HHgO9R\\\n",
              "m8lv1kwzgdpQ4j7gCeqV1MuAXwMLmmk63Y7Pp7YmXEY9EbgDOKqDcr6JGqbLqOH4MPV+2yt7vZ85\\\n",
              "jP8hSrGaWpKUj/fAJEkpGWCSpJQMMElSSgaYJCklA0ySlJIBNkYiYnpEPBER/jZGKUXEsRGxvHmO\\\n",
              "pNRzBtg66La794jYgvrMuk+XUr7c4TIWRsTCltezhuvvaqxFxK8jYkGvy9FrETGn+btMW4fPlog4\\\n",
              "veX16RHRs9+1tJen7b09gHOBw0sp3XZZMypatnWJiAGdekbEzJb3D2gZvyAifj0GZTtmQy6jZTll\\\n",
              "mGHqyHMZP3wSR5di3bp7/zy1i4nT12PRPwb2ofv+rrRhfYv6d+m0P7HhXEh9ukav7MPAJ+3TnJR9\\\n",
              "FfhgKeX6AZ8aeyuoj8z6aNv4o5v3tm4bfyYDv5OjbQ71ePrPG3g5fftbqwCuAn5VRn5+5rhigHUh\\\n",
              "1rG791LKseu77FIfc2SX7RuZUspD1Ifijsa8ljJIgIyVUsqg+1cp5Ungz8e4OMP5BnBURHysNE9i\\\n",
              "aB4V9lbgCmqY/EEp5ZdjXsINZLD9LSL2A7YHPt6TQvWQVYjdOZkOu3sHiIjdI+JfmvsGqyJicUQc\\\n",
              "1P65iHhbRNzTVEfeHRGHDjLNgCrEiJgYEZ+I2kX8ExHxnYh4yWBVQRFxUET8oCnHYxFxZfNk8hFF\\\n",
              "xElNleGTEbGk+cIMNt0uEfHliHioWZfbBluXdf1sRLy42Z4PNmX5TURcFk1/Wy3b6C1NtdGjEfF4\\\n",
              "M9/t2+a1SUSc2rLd74uIz7RXAUfElhExPyJ+2Uz3QERcERE7NO8PqEJs/p7fadZlZUTcGhFHd7AN\\\n",
              "1qpCjFqNPFRV0bRmmldExOURsbT52/40Is5uDujt8z80Ir7flOnxiPhRRLy55f112m+aci6KiAMi\\\n",
              "4sfNvnhXp3/7ddDXw3RrX2OHUo9nV7RPHG1ViBExrVnX90TEGc33Z3lEXBVrPx9zqG3S9/k5zeuF\\\n",
              "1BqYv2j5+yxsmf6VEfHtZrv/d0TcGBGvXL9NsJajqY8bu3QU55mCAdadjrt7j4g/BhYBe1J7vD2c\\\n",
              "+pDVb0XE61umOwD4CrUq8q+AT1OrOzoJl3nULuC/SH1A6/XU59C1l+UgatXDSmrfUMdTn0S+KCJ2\\\n",
              "HGE93gV8jvqw1kOoz+e7lPow2NbpdgZ+2KzvXwNvplZ7XtF6kBxiGZ1+9lvAjk35DwQ+RH1uX/t+\\\n",
              "/Dnq8wnfDny4md/lbdN8CfgIddu/ETgHeBf1obd95dqU2m/Ye5v1Ppj6t3ykff3b7Nos7x3UbXYV\\\n",
              "cGFEHDfMZwZzArW6qG/Yl7qf/I7+Lk7+BLgNOA44iLrvHEPtiPIPIuK91CuXB6kHvMOAf6E+I3JQ\\\n",
              "Xe43L2yW/Vnqfnw/cFlE7NblOnfiXuDfqdWIfWZT12dlF/M5FdiNur1Oom7jL61DeU4AbqXeVuj7\\\n",
              "W50AEBF/Tn1G5XbUK8PZwPOAmyJiz74ZtJx8zelmwc2JymHUXsHXtdubvHr9MMZMA11090694b0a\\\n",
              "2K1l3ERqX1A/bhn3fep9rQkt415NPQAvbBk3i5aHzlK/ECuBL7Qt9/80053eMm4J9cC3Scu4XagP\\\n",
              "X/3sMOswgdrB4nVt449olrGgZdz/pVZtbN827Q3AbSNsqxE/S33AbwHePMx8+rZRe3nf0Yz/y+b1\\\n",
              "fs3r2UNMt1fz+pgOljmnmWbaMNtwE+CfgNvb3mv/O51ev5JDLuvvmn3wVUO8H82yjgLW9G1P6gFz\\\n",
              "BfCNEf4O67TfAAubcS9qGTeF2i3MaaP4/evb1n2h8yi1487nU79rr23ZBw5o+dwC4Nctr6fR9v1q\\\n",
              "xs9txv/xUNuk7fNz2rbBokHKfDn1xHXblnHPo56AfKNl3MxmHWZ3uj2az719pH10PA9egW04+wOL\\\n",
              "S0tvvaV2S3EptUuO50Xt7+kVwOWllDUt0y2mPlF8ONOpjUcuaxu/1pVGRGwJvBz4Wmmp9iyl/Cc1\\\n",
              "PGcOs4ydmuHrbeOvYGA/VAdR7w0+1lTPbdJU7f0bsGfUPqKG0slnH6Y+dX5+1ObcLxpmfu3lvYx6\\\n",
              "QO+7+X0Qtcrl8rbl9TVQ2L/593XAA6WUAVe1w4mIF0XEpRHxW/p7YX43nV1VDzXPE6ln9bNLKT9s\\\n",
              "Gf+8iPhkRPySejX6DLWKLYC+bfQ/gK2Af+xied3uNz8vpfy8ZboHqVd7fzLCcjZp+xt06jLqk/bf\\\n",
              "RD3xeIDaUWk3rml7fWfz77Bl7tL+1Kuj5X0jSr2f/U1atmEp5aZSyiallC92Of+jqdu5fV2eFQyw\\\n",
              "7nTc3TvDd9Me1CuoScBzqFVC7QYb1+r5zb8PjvC57ZrlDVWW4bqL71vGWvNsDmgPt007hVo98kzb\\\n",
              "8Onm/e0Z2oifLfV087XUq4JzgJ9FxK8i4vhB5tde3qepZ+t91V5TgE2B/25bXt+23L7l398OU+4B\\\n",
              "ImIr6pXjntQqzv2oJyn/TD3gdi0iXketnvtIKaX9hOUiavXh31C3zyuovS9DvTqB/vXppoFIt/vN\\\n",
              "YNVXT7WUYYDmPt5af/Po8OcIpfb5diW1GnE28OXWk8AOtZe5r4PUIcu8DoY7DgxXDT2iiHg+cADw\\\n",
              "lTIKfdFlZCvE7nTT3fsj9HfJ3moq9ZL/UfoPoDsMMt0O1Lr+ofR9KaZQ+3pq/VyrR5vlDVWW4erN\\\n",
              "+5ax1jybM+X2QHqY2l/VJ4eY133DLKejz5ZSfgXMjoig/97iFyLi16WUa1umby/vptSDRV8YPQw8\\\n",
              "SQ2X4cq6jP5eizu1D/UkZ79SyqKWMqzTdy0i/pR6RXlJKeXstveeS733eXop5fMt46e3zaav5+kd\\\n",
              "gbs6XPT67Deduo8auO3jOvVF6j26CdSqtA3hKerJTqvhTsbaDXcceHRdC9U4inpb4uL1nE9aXoF1\\\n",
              "5zw67+79JuDVsXbrtInU+0e3llIeb6oUbwbeGhETWqZ7FcPcXG/cSQ3Aw9rGr/W6lPLfwC3AYa1l\\\n",
              "jogXUKuWFg6zjKXUq87D28a/hYEnP9dRm1rfXUpZMsjwFEPr6rOluo16vw8Ghkx7eQ+j7us/aFne\\\n",
              "c4Fthlhe30H0emBqRLxpmLK326L595m+ERGxHTVouhK15eTV1EYa7xlkks2oB7Bn2sbPaXv9H9T7\\\n",
              "pf+r02Wv537T6TKeHmTbP93FLG6ghvsFpZS7R5p4Hd3LwP3rjYNM9xQwoOUn9Tjwhoj4w2/Tmv+/\\\n",
              "ifXfhrOBO5rvwrOSV2BdKN11934e9UByQ0R8nNoT7gnU34m1fgE+Tj1QXhkR/wBMprYuHPYKr5Ty\\\n",
              "aER8DjgtIlZQrw5fTm1JB/WeT5+PUs9Ur46IL1Dvh8yj9vL7mWGWsSYi5lFb0F1E/THrbtSqscfb\\\n",
              "Jv8Y8CPg3yPi76j38Lajfvl3LaUM95SCET/btOb6PPWJJr+gHrjnUO/Ffadtfn/WUt4XA2dRb9jf\\\n",
              "2KzXwoi4lHoP7LPNstdQTxreQP3B7s+of+djgUsj4hxqS8mtqS0gP1dKuWeQdfmPZtv8ffN335La\\\n",
              "2nEZsM0w22AwX6ZWM78XeHm98PyDW0spj0XEYuD9EXF/s4xj6K8qpVnfFRFxKvC3EXFFM98VwF7A\\\n",
              "k6WUvx1i+eu034yV5gRwQ1159fkq8JGI+DD1d5j7DbHMnwAnRMQRwC+BFaWUn1J/RH0wcGNEfJJ6\\\n",
              "VftB6onOGX0fjoiZ1Ht4x3RyHywiXk79frx/PdYtv163Isk40EF37810u1Pr6R+jVlktBg4aZH5v\\\n",
              "p7ZOfIpaHXgo9exsYcs0s2hphdiMm0g9OD9AbZ22kHp2XICT2pZxEPUKZFVTnn8Fdu9wfU+inok+\\\n",
              "Sb0HtS8t3da3TLcT9WkSv222y/3Us+ROuqYf9rPUqtKLgZ8BT1CrZm4CDhxkG/1V8/dZTj1QfwWY\\\n",
              "1La8Cc163d6s12PN/z9FvTLrm24r6r24e1vKdTkwpXl/Dm2tEIHXUJtVr6IezN7HIC0MGaEVYrON\\\n",
              "yxDDtGaaacC1zXo+SG2p+Mb2faWZ9q3UEF5FDdkfAgcPVZ5O9xuGboE3YB9Zz+9d37bebZhp+vaB\\\n",
              "TlohvnuIz7Z+x55LPXG6v9nGXwNeycBWiFOpDSlWMLAF8auoJ5grqbUmNwKvHGLZczrcFp+nuf0w\\\n",
              "Wts34xDNxtA4ERFvpbbQ2r+U8r1el2csRf2R93eB15ZSvt3b0kja0KxCTKy5V/ZG6pn0k8De1Oq9\\\n",
              "xdQfUUvSuGWA5baS+juTE6k/jnyQelP71OKltaRxzipESVJKNqOXJKVkgEmSUhq398AmTZpUpk2b\\\n",
              "1utiSAPccsst7L333r0uhjSoW265ZVkpZXKvy9GJcXsPbMaMGWXJkiW9LoY0QEQwXr93yi8ibiml\\\n",
              "zOh1OTphFaI0hlasWNHrIkjjhgEmjaHPfKY+gWnRIn+mJ60vA0waI6tWreK8884D4JRTTulxaaT8\\\n",
              "DDBpjJx//vk880x9cPwdd9zhVZi0ngwwaQysXr2aM888k6efrr2FPPnkk5x66qk9LpWUmwEmjYEJ\\\n",
              "EyZw1llncc455wAwf/58TjrppGE/M20abL45bLUVTJ0Kc+bAypX1vTlzYNNN63t9w557btBVkDY6\\\n",
              "NqOXxlinzeinTYMLL4QDDoAHHoADD4SDD4azzqoBttNO8IlPjLy8WbPg9NPrv9JIbEYvaVRNnVoD\\\n",
              "7Lbbel0SaeNhgEkJLF0K114Lu+3W65JIGw8DTNqIHXIIbL017LwzTJkC8+b1v3fuubDttv3D0Uf3\\\n",
              "poxSrxhg0kbsyithxQpYuBDuuQeWLet/b+5cWL68f7j44v73WoNt0aJ676zv9fz5Y1V6acMywKQE\\\n",
              "Zs6sDTfmzu1s+tZg23dfuPrq/tcf+tCGKqU0tsbt0+il8ebkk2vLxNtv73VJpI2DV2BSEpMnw+zZ\\\n",
              "cMYZ9fWnPrX278AmTept+aSx5u/ApDFmdyramPk7MEmSNjADTJKUkgEmSUrJAJMkpWSASZJSMsAk\\\n",
              "SSkZYJKklAwwSVJKBpgkKSUDTJKUkgEmSUrJAJMkpWSASZJSMsAkSSkZYJKklAwwSVJKBpgkKSUD\\\n",
              "TJKUkgEmSUrJAJMkpWSASZJSMsAkSSkZYJKklAwwSVJKBpgkKSUDTJKUkgEmSUrJAJMkpWSASZJS\\\n",
              "MsAkSSkZYJKklAwwSVJKBpgkKSUDTJKUkgEmSUrJAJMkpWSASZJSMsAkSSkZYJKklAwwSVJKBpgk\\\n",
              "KSUDTJKUkgEmSUrJAJMkpWSASZJSMsAkSSkZYJKklAwwSVJKBpgkKSUDTJKUkgEmSUrJAJMkpWSA\\\n",
              "SZJSMsAkSSkZYJKklAwwSVJKBpgkKSUDTJKUkgEmSUrJAJMkpWSASZJSMsAkSSkZYJKklAwwSVJK\\\n",
              "BpgkKSUDTJKUkgEmSUrJAJMkpWSASZJSMsAkSSkZYJKklAwwSVJKBpgkKSUDTJKUkgEmSUrJAJMk\\\n",
              "pWSASZJSMsAkSSkZYJKklAwwSVJKBpgkKSUDTJKUkgEmSUrJAJMkpWSASZJSMsAkSSkZYJKklAww\\\n",
              "SVJKBpgkKSUDTJKUkgEmSUrJAJMkpWSASZJSMsAkSSkZYJKklAwwSVJKBpgkKSUDTJKUkgEmSUrJ\\\n",
              "AJMkpWSASZJSMsAkSSkZYJKklAwwSVJKBpgkKSUDTJKUkgEmSUrJAJMkpWSASZJSMsAkSSkZYJKk\\\n",
              "lAwwSVJKBpgkKSUDTJKUkgEmSUrJAJMkpWSASZJSMsAkSSkZYJKklAwwSVJKBpgkKSUDTJKUkgEm\\\n",
              "SUrJAJMkpWSASZJSMsAkSSkZYJKklAwwSVJKBpgkKSUDbCTTpsHmm8NWW8HUqTBnDqxcWd9buhTe\\\n",
              "8haYNAm22QZe+lJYsKCHhZWUmYeb7hhgnbjqqroX3XYb3HornHNOHf/Od8LOO8O998LDD8Mll8AO\\\n",
              "O/S0qJJyG43DzaxZsHDhGBW4hzbpdQFSmToVDjyw7lkAN98M550HW25ZX7/sZT0rmqTxxcPNyLwC\\\n",
              "68bSpXDttbDbbvX1q18NJ54IX/0q/OY3vS2bpHHFw83IDLBOHHIIbL11vX6fMgXmzavjL7sM9tsP\\\n",
              "zjwTdtkF9tqrniZJ0jrycNM5A6wTV14JK1bUSuV77oFly+r47baD+fPh7rvhd7+re9Qhh0ApcNxx\\\n",
              "9U7sVlvB2Wf3ruySUlmXww3Attv2D4sWwcEH97+eP3/MV2NMGGDdmDmzNguaO3fge5Mm1fH33QeP\\\n",
              "PAIXXFDvxK5cCaedNuZFlZRbN4cbgOXL+4d994Wrr+5//aEPjVWpx5YB1q2TT4YbboDbb4cPfhDu\\\n",
              "ugtWr66nTOefXyust9++16WUNA54uBmeAdatyZNh9mw44wx44gk49NB6jb7rrrV96ze/2esSShon\\\n",
              "PNwML0pfBeo4M2PGjLJkyZJeF0MaICIYr9875RcRt5RSZvS6HJ3wCkySlJIBJklKyQCTJKVkgEmS\\\n",
              "UnpWBdiaNWu47LLLuP7663tdFEnqiYsuuohFixb1uhij4lkRYGvWrOHrX/86u+66K0ceeSQXXnhh\\\n",
              "r4skST0xb948XvOa17DPPvukD7Jx/zT6G2+8kUMPPZRVq1axevXqXhdHknqqlMIzzzzD4sWLmTVr\\\n",
              "FlOmTOH2229n8uTJvS5a18bt78AiYnyumCRtWP4OrNf23ntvSil/GO644w5e//rXExEcccQRa73n\\\n",
              "4DCWA9DzMjg8e4dddtmF5zznORx77LEsXbp0wPuZjPsqxD7Tp0/nmmuu4c4772TChHGb25I0rAUL\\\n",
              "FvDCF76QHXfcsddFWW/PmgDrM3369F4XQZJ6Zv/99+91EUaNlyKSpJQMMElSSgaYJCklA0ySlJIB\\\n",
              "JklKyQCTJKVkgEmSUjLAJEkpGWCSpJQMMElSSgaYJCklA0ySlJIBJklKyQCTJKVkgEmSUjLAJEkp\\\n",
              "GWCSpJQMMElSSgaYJCklA0ySlJIBJklKyQCTJKVkgEmSUjLAJEkpGWCSpJQMMElSSgaYJCklA0yS\\\n",
              "lJIBJklKyQCTJKVkgEmSUjLAJEkpGWCSpJQMMElSSgaYJCklA0ySlJIBJklKyQCTJKVkgEmSUjLA\\\n",
              "JEkpGWCSpJQMMElSSgaYJCklA0ySlJIBJklKyQCTJKVkgEmSUjLAJEkpGWCSpJQMMElSSgaYJCkl\\\n",
              "A0ySlJIBJklKyQCTJKVkgEmSUjLAJEkpGWCSpJQMMElSSgaYJCklA0ySlJIBJklKyQCTJKVkgEmS\\\n",
              "UjLAJEkpGWCSpJQMMElSSgaYJCklA0ySlJIBJklKyQCTJKVkgEmSUjLAJEkpGWCSpJQMMElSSgaY\\\n",
              "JCklA0ySlJIBJklKyQCTJKVkgEmSUjLAJEkpGWCSpJQMMElSSgaYJCklA0ySlJIBJklKyQCTJKVk\\\n",
              "gEmSUjLAJEkpGWCSpJQMMElSSgaYJCklA0ySlJIBJklKyQCTJKVkgEmSUjLAJEkpGWCSpJQMMElS\\\n",
              "SgaYJCklA0ySlJIBJklKyQCTJKVkgEmSUjLAJEkpGWCSpJQMMElSSgaYJCklA0ySlJIBJklKyQCT\\\n",
              "JKVkgEmSUjLAJEkpGWCSpJQMMElSSgaYJCklA0ySlJIBJklKyQCTJKVkgEmSUjLAJEkpGWCSpJQM\\\n",
              "MElSSgaYJCklA0ySlJIBJklKyQCTJKVkgEmSUjLAJEkpGWCSpJQMMElSSgaYJCklA0ySlJIBJklK\\\n",
              "yQCTJKVkgEkbq2nTYPPNYautYOpUmDMHVq6s782ZA5tuWt/rG/bcs4eFlcaeASZtzK66qobWbbfB\\\n",
              "rbfCOef0v/eBD9T3+obbb+9ZMaVeMMCkDKZOhQMPrEEmCTDApByWLoVrr4Xddut1SaSNhgEmbcwO\\\n",
              "OQS23hp23hmmTIF58/rfO/dc2Hbb/uHoo3tTRqlHDDBpY3bllbBiBSxcCPfcA8uW9b83dy4sX94/\\\n",
              "XHxxHX/ccf0NO84+e8yLLI0VA0zKYObM2vJw7tyRp73ggv6GHaedtsGLJvXKJr0ugKQOnXxybVpv\\\n",
              "a0MJ8ApMymPyZJg9G844o77+1KfW/h3YpEm9LZ80xqKU0usybBAzZswoS5Ys6XUxpAEigvH6vVN+\\\n",
              "EXFLKWVGr8vRCa/AJEkpGWCSpJQMMElSSgaYJCklA0ySlJIBJklKyQCTJKXkkzikMbB69WqOP/54\\\n",
              "HnvsMQAOP/xwpk+fzkc/+tEel0zKywCTxsCECRO47rrrWLp0KQCXX345Tz31VI9LJeVmFaI0BiZM\\\n",
              "mMD8+fPZYostANhss804p7V3ZUldM8CkMfK2t72NbbbZBoDXve517LHHHj0ukZSbASaNkYkTJ3Ja\\\n",
              "072JV1/S+jPApDF03HHHAXj1JY0CA0waQ5tsYrspabQYYJKklMZtf2AR8RBwb6/LIUnJvKCUMrnX\\\n",
              "hejEuA0wSdL4ZhWiJCklA0ySlJIBJklKyQCTJKVkgEmSUjLAJEkpGWCSpJQMMElSSgaYJCklA0yS\\\n",
              "lJIBJklKyQCTJKVkgEmSUjLAJEkpGWCSpJQMMElSSgaYJCklA0ySlJIBJklKyQCTJKVkgEmSUjLA\\\n",
              "JEkpGWCSpJQMMElSSgaYJCklA0ySlJIBJklKyQCTJKVkgEmSUjLAJEkpGWCSpJQMMElSSgaYJCkl\\\n",
              "A0ySlJIBJklKyQCTJKVkgEmSUjLAJEkpGWCSpJQMMElSSgaYJCklA0ySlJIBJklKyQCTJKVkgEmS\\\n",
              "UjLAJEkpGWCSpJQMMElSSgaYJCklA0ySlJIBJklKyQCTJKX0/wHT4FipPFmKoQAAAABJRU5ErkJg\\\n",
              "gg==\\\n",
              "\"\n",
              "  frames[7] = \"data:image/png;base64,iVBORw0KGgoAAAANSUhEUgAAAbAAAAGwCAYAAADITjAqAAAAOXRFWHRTb2Z0d2FyZQBNYXRwbG90\\\n",
              "bGliIHZlcnNpb24zLjUuMSwgaHR0cHM6Ly9tYXRwbG90bGliLm9yZy/YYfK9AAAACXBIWXMAAAsT\\\n",
              "AAALEwEAmpwYAAAoAklEQVR4nO3de3wU1f3/8fcnIBJuAQREUIyKl/ZbvHyJClYlWBV+XijYagEV\\\n",
              "KWpFrKJ89SdQpeINbK1WW0GrVosXUGlBBcUrKEFRQ0HAfrFoDXJVEYJBggI53z/ObNhsNskmhCwn\\\n",
              "vJ6Pxz6SnT0zc2Z2dt47Z87OmHNOAACEJiPdFQAAoCYIMABAkAgwAECQCDAAQJAIMABAkAgwAECQ\\\n",
              "CDAAQJAIMABAkAgwAECQCDAAQJAIMABAkAgwAECQCDAAQJAIMABAkAgw1DkzG2xmroJHYTWmk21m\\\n",
              "t5jZoSmUbWBm15vZm2b2hZkVmdk/zexSM6vyc1BbdU6Vmf3QzB4zsxVm9p2ZbTKzuWZ2jZk1ru35\\\n",
              "7YpK1sux6a4b6reG6a4A9mrnS1qVMGx7NcbPlvRbSXmS/lNF2UxJN0maJOk+SZslnSXpYUlHSboh\\\n",
              "xXnuap2rZGbnS3pS0mJJt0laLqmppB6Sxkoy+WXYkzwu6aGEYf9OQz2wFyHAkE6LnHOf1NG8iiUd\\\n",
              "6pzbEDfsDTNrJelqMxvjnCtOYTq7tc5mdrh8yL4k6XznXHw4vmRmd0s6YnfNfxesds7NT3clsHeh\\\n",
              "CRF7LDNrb2Z/M7M1UTPaWjObYWbtzCxX0uyo6GtxzVa5yablnNuREF4xH0jaV1Kb3bAINXGt/BfL\\\n",
              "YQnhJUlyzn3lnJsnSWbW2MzuNbOlZrbZzNaZ2YtmdlT8OJWtx7gyB5jZJDNbH5VZbGYX7eZlBXYJ\\\n",
              "R2BIpwZmlrgNljjnSqL/n5B0sHzz3kpJ+0v6iaQmkv4p6SpJD0i6Rj6IJOlf1axDD0mFktbWUp13\\\n",
              "1RmSPnDOpVKffSU1l3S7fP1bSxom6V0z+4Fzbl1UrrL1KDNrKuktSa0kjY7KXCTpCTNr4pz7Swp1\\\n",
              "udLMbpC0Q9J8Sb91zs1NYTyg5pxzPHjU6UPSYEmugseMuHKbJV1TyXRyo3FOr2E9ekkqkfSb2qpz\\\n",
              "LaybYkmTazhuA/lQKpJ0XTXW46+j5chNGP66pC8lNahivk9I+oWkU+SD70NJ2xKnx4NHbT84AkM6\\\n",
              "9VP5DhGFcf9/IOkGMzNJb0pa6pxztTFjM/uhpMnyzZB3VWPUquqcbF6Jn7MdtbgcF0j6H0lHSsqK\\\n",
              "e+nIuP+rWo+nyp/DmpMw+SclPSbph5KWVFQH59zFcU/nmtnzkpbKHxmeXK0FAqqBc2BIp6XOufyE\\\n",
              "R3wHiV9IekHS/5fvkbfazMak0u29MlG3+9ckfSapn0tyrmkX6pzMtoRHj0rKrpRv7quSmZ0r6RlJ\\\n",
              "/ytpoKQTJR0v6StJ8V3tq1qPrZW8CXVd3Ospc84VSZoZ1QXYbTgCwx7LOfel/Hmuq8zsSEmXyHcj\\\n",
              "/0rSxJpM08wOlPSGpG8k9XLOfVNL1a1M4o7840rKvi7pMjNr73aew6pIf0mfOOcGxwaY2T5KCJwU\\\n",
              "1uMGlT1ii2kf/U3W+SUVtXKUCVSEIzAEwTn3sXNutKSNkn4UDf4u+puZyjTMrK18QEjSGc659bVb\\\n",
              "y+SSHLEVVVL8XvmOEBPMrEHii2bWxsx+HD1tovK/QbtY/lxYRXVJth7fknRg3HRjBsqfA6tWxxgz\\\n",
              "ayHpHEnvV2c8oLo4AkM6HWtmybqv58v/cPd1SU9JWibf9PZT+Z5yr0bl/i2/Ax9iZhvkA+3jZAFh\\\n",
              "ZpmSXpH/8fMQ+R32gXFF/pXi0ViFda5mU2RSzrnlZjZI/vzTfDN7UDt/yHyKpCsk3SppnqRZkvqa\\\n",
              "2b2SZkjKkXS14s7JmVmWql6Pj0saLukfZvYb+XN8F8r3iLzCObejovqa2fXyR2+zJa2Rb/68Xv7o\\\n",
              "7cJdWhlAVdLdi4TH3vdQ5T36nPxvsvaVv7LDR/K96L6R74wwMGFaV8hfhWO7kvSkiyuXXcU8k45X\\\n",
              "nTrX8jr6L/lg+VzS95I2SZor301+36hMhnxHiTWStsgfSR0nqUDS41GZVNfjAfK9CdfLfxFYLOmi\\\n",
              "FOp5rnyYrpcPx6/lz7edkO7tjEf9f5hzNFMDAMLDOTAAQJAIMABAkAgwAECQCDAAQJAIMABAkAiw\\\n",
              "OmJmXcxsi5nx2xgEycwuN7PC6DqSQNoRYDVQ3du9m1kT+WvW/d4591SK85hjZnPinudWdr+rumZm\\\n",
              "BWb2eLrrkW5mNjh6X7JrMK4zs1vint9iZmn7XUtifRJe+6GkuyVd4Jyr7i1rakXcunZmVu6mnmbW\\\n",
              "I+710+OGP25mBXVQtyG7cx5x89rPzO4zs/+YWbGZfWZmf46uNLNX4Uoc1WQ1u937ffK3mLhlF2b9\\\n",
              "T0ndVf37XWH3min/vqR6P7HKPCJ/dY106a7yV9pX9KVsiqQbnXOvlhur7hXJXzLr5oThl0SvNU8Y\\\n",
              "fpvKfyZr22D5/elfd+dMojsKvCB/V+4x8hdy/qH81VlyzKy724t+3EuAVYPV8HbvzrnLd3Xezl/m\\\n",
              "iFu272Gcc1/JXxS3Nqa1SkkCpK4455JuX865rZKOruPqVOYfki4yszGxnXV0qbCfS/q7fJiUcs59\\\n",
              "Wuc13H0Ol3SS/CW+YjcanWNmJfIXZj5ClV8sul6hCbF6rlWKt3uXJDM70symRecNis1svpn1ThzP\\\n",
              "zPqb2bKoOfIjM+uXpEy5JkQza2Bmt5u/RfwWM3vTzI5K1hRkZr3N7N2oHpvMbHp0ZfIqmdnwqMlw\\\n",
              "q5nlm9kpFZQ7xMyeMrOvomVZlGxZajqumR0Rrc8vo7p8bmbPWXS/rbh19LOo2WijmX0TTXe/hGk1\\\n",
              "NLNRcet9jZn9IbEJ2Myamtl4M/s0KrfOzP5uZvtHr5drQozezzejZdlsZgvN7JIU1kGZJkTzzciu\\\n",
              "gkd2VOZ4M5tqZqui9/ZjM7sz2qEnTr+fmc2L6vSNmb1vZn3iXq/RdhPVM8/MTjezf0bb4tJU3/sa\\\n",
              "iN1hOv5eY/3k92d/TyxsCU2IZpYdLesVZnZr9PkpNLMXrez1MStaJ7HxB0fP58i3wPw47v2ZE1f+\\\n",
              "BDN7PVrv35rZG2Z2Qg2XvVH0N/G6nYXR371qn75XLWwtSPl272bWQVKepGPk73h7gfxGNtPM/l9c\\\n",
              "udMlPS3fFHmepN/LN3ekEi5j5W8BP0n+Aq2vyjcvJNalt3xT12b5e0NdKX8l8jwz61jFclwq6Y/y\\\n",
              "F2vtK399vsnyF4ONL3eQpPei5b1OUh/5Zs+/x+8kK5hHquPOlNQxqn8vSSPlr9uXuB3/Uf76hAMk\\\n",
              "/Saa3tSEMk9Kukl+3Z8taZykS+UvehurVyP5+4ZdHS33OfLv5YbE5U9waDS/C+XX2YuSHjGzoZWM\\\n",
              "k8ww+Wa92ONk+e3kC+28xUknSYskDZXUW37bGSJ/I8pSZna1/JHLl/JNbedLmiZ/jcikqrndHBbN\\\n",
              "+x757XitpOfMrHM1lzkVKyS9Ld+MGDNIfnk2V2M6oyR1ll9fw+XX8ZM1qM8wSQvlTyvE3qthkmRm\\\n",
              "R8tfo7KV/JHhIEktJL1lZsfEJhD35WtwFfP6SH7ZbzazHDNrFoXhGEkvO+f+twb1D1e6L8YY0kPV\\\n",
              "uN27/Anv7ZI6xw1rIH94/8+4YfPkz2tlxA3rJr8DnhM3LFdxF52V/0BsljQhYb4jonK3xA3Ll9/x\\\n",
              "NYwbdoj8xVfvqWQZMuRvsDgrYfgvonk8HjfsUfmmtP0Syr4maVEV66rKceUv8Osk9alkOrF1lFjf\\\n",
              "C6PhP4menxI9H1RBuWOj50NSmOfgqEx2JeuwoaSHJX2Y8Fri+3SL/0hWOK8/R9vgiRW8btG8LpJU\\\n",
              "Eluf8jvMIkn/qOJ9qNF2I2lONOzwuGHt5G8LM7oWP3+xdR0LnY3yN+48QP6zdkbcNnB63HiPSyqI\\\n",
              "e56thM9XNPz6aHiHitZJwviDE9ZBXpI6T5X/4toyblgL+S8g/4gb1iNahkEprIem8l9G4i8mPUNS\\\n",
              "Zm2t61AeHIHtPqdKmu/i7tbr/G0pJsvfkqOF+fs9HS9pqnOuJK7cfPkrilemi/yG/FzC8DJHGmbW\\\n",
              "VNJ/S3rGxTV7Ouc+kw/PHpXM48Do8WzC8L+r/H2oesufG9wUNc81jJr2XpF0jPl7RFUklXG/lr/q\\\n",
              "/Hjz3bkPr2R6ifV9Tn6H3j1uft9Lmpowv1gHhVOjv2dKWuecK3dUWxkzO9zMJpvZau28C/NlSu2o\\\n",
              "uqJpXiX/rX6Qc+69uOEtzOwuM/tU/mh0m3wTm8mfL5H8OZNmkv6iFNVgu1nunFseV+5L+aO9TlXM\\\n",
              "p2HCe5Cq5+SvtH+u/BePdfI3Kq2OlxKeL4n+VlrnajpV0gznXGFsgPPns19Q3Dp0zr3lnGvonJuU\\\n",
              "wjQflv+SOzSaxlD5W+lMtV28W3lo6MRRPSnf7l3+rrgLkwxfJ79zaSV/I8Z95JuEEiUbFu+A6O+X\\\n",
              "VYzXKppfRbeMr2x5YvMoM03n3HYz+zqhbDv55pFBFUxrP5Vvt095XOfcN2Z2hvxRyjhJ+5nZZ/I/\\\n",
              "TUi8O3Nifb83s43yzY+x+TWS9G0ldY39XV1BmaTMrJn8keMW+SbOT+XD8kr5o4ZqM7Mz5ZvnbnLO\\\n",
              "JX5heUzS6fJNSIvkl+kESQ/IH53ElkOqXgeR6m43ye7a/F1cHcqJzuN9ljDsEOdcQVWVc84Vmdl0\\\n",
              "+WbEbElPOedKzKyqUeMl1jl2g9QK61wDrVXxOqysGTopMztbvmn8dOdcLLDfNrP/yH8BO1fS8zWs\\\n",
              "a3AIsOqpzu3eN2jnLdnjtZc/5N8ov7PZJmn/JOX2l2/rr0jsQ9FOvl08frx4G6P5VVSXym4XH5tH\\\n",
              "mWlG35T3Syj7tfz9qu6qYFprKplPSuM65/4jaZD5vVTs3OIEMytwzr0cVz6xvo3kdxaxMPpa0lb5\\\n",
              "psTK6rpeO+9anKru8jv3U5xzeXF1qNFnzcx+IH9E+YRz7s6E1xrLn/u8xTl3X9zwLgmTid15uqOk\\\n",
              "pSnOele2m1StkW+BSByWqkny5+gy5Hfqu8N32tlxIiZx269MZfuBjTWoT+y9/SBheOzu1z/QXhRg\\\n",
              "e9XhZi24V6nf7v0tSd2sbO+0BvLnjxY6576JmhQ/kPTz+EN/MztRlZxcjyyRD8DzE4aXee6c+1bS\\\n",
              "Aknnx9fZzA6Wb1qaU8k8VskfdV6QMPxnKv/lZ5Z8V+uPnHP5SR7fqWLVGtd5i+TP90nlQyaxvufL\\\n",
              "b+vvxs2vsaSsCuYX24m+Kqm9mZ1bSd0TNYn+bosNMLNW8kFTLeZ7Ts6QP7K6IkmRfeXPq25LGD44\\\n",
              "4fk78udLf5XqvHdxu0l1Ht8nWfffV2MSr8mH+4POuY+qKlxDK1R++zo7Sbnv5FtUEr0l6SwzK/1t\\\n",
              "WvT/uarZOox9cU7sxXhi9LdaLQah4wisGlz1bvd+r/yO5DUz+61889kw+d9pxH8Afiu/o5xuZg9J\\\n",
              "aivfu7DSIzzn3EYz+6Ok0WZWJH90+N/yPekkf84n5mb5b6ozzGyC/PmQsfJ3+f1DJfMoMbOx8j3o\\\n",
              "HpP/MWtn+aaxxObAMfLfAt82sz/Ln8NrJf/hP9Q5V1nzWZXjRr257pO/oskn8jvuwfLn4t5MmN5/\\\n",
              "xdX3CEl3yJ+wfyNarjlmNln+nME90bxL5L80nCX/g91/y7/Pl0uabGbj5HtKNpfvAflH59yyJMvy\\\n",
              "TrRuHoje96byvR3XS8qqZB0k85R855WrJf13QvPYQufcJjObL+l/zGxtNI8h2tlUqmh5i8xslKQ/\\\n",
              "mdnfo+kWSTpW0lbn3J8qmH+Ntpu6En0B3F1HXjFTJN1kZr+R/x3mKRXM81+ShpnZL+SbjYuccx/L\\\n",
              "/4j6HElvmNld8ke1N8p/0bk1NrKZ9ZA/hzekivNg/5DfnieZ2W2Slkk6Sn4/slK+J+beI929SEJ8\\\n",
              "KIXbvUfljpQ0PXp9q/wHoHeS6Q2Q7534nXxzYD/5b2dz4srkKq4XYjSsgfzGvE6+d9oc+W/HTtLw\\\n",
              "hHn0lj8CKY7q87ykI1Nc3uHy30S3yvdMO1lxt62PK3eg/NUkVkfrZa38t+RUbk1f6bjyTaV/k/Rv\\\n",
              "+fNLG+S/3fZKso7Oi96fQvkd9dOS2iTMLyNarg+j5doU/f87+SOzWLlm8j9tWBFXr6mS2kWvD1ZC\\\n",
              "L0RJp8mf/yyW35ldoyQ9DFVFL8RoHbsKHtlRmWxJL0fL+aV8T8WzE7eVqOzP5UO4WD5k35N0TkX1\\\n",
              "SXW7UcU98MptI7v4uYut686VlIltA6n0QrysgnHjP2ON5b84rY3W8TPyRz+JvRDby3cKKVL5HsQn\\\n",
              "yn/B3CzfavKGpBMqmPfgFNbDQfI9dz+T33Y/k+/Y0bG21nUoD4tWCOoJM/u5fA+tU51zc9Ndn7pk\\\n",
              "/kfesyWd4Zx7Pb21AbC70YQYsOhc2dny36S3Suoq37w3X/5H1ABQbxFgYdss/zuTq+R/HPml/Ent\\\n",
              "UY5DawD1HE2IAIAg0Y0eABAkAgwAEKR6ew6sTZs2Ljs7O93VAMpZsGCBunbtmu5qAEktWLBgvXMu\\\n",
              "iLs719tzYDk5OS4/Pz/d1QDKMTPV188dwmdmC5xzOemuRypoQgTqUFFRUbqrANQbBBhQh/7wB38F\\\n",
              "prw8fqYH7CoCDKgjxcXFuvfeeyVJN9xwQ5prA4SPAAPqyMSJE7Vtm79w/OLFizkKA3YRAQbUge3b\\\n",
              "t+u2227T99/7u4Vs3bpVo0aNSnOtgLARYEAdyMjI0B133KFx48ZJksaPH6/hw4dXOk52tpSZKTVr\\\n",
              "JrVvLw0eLG3e7F8bPFhq1Mi/Fnscc8xuXQRgj0M3eqCOpdqNPjtbeuQR6fTTpXXrpF69pHPOke64\\\n",
              "wwfYgQdKt99e9fxyc6VbbvF/garQjR5ArWrf3gfYokXprgmw5yDAgACsWiW9/LLUuXO6awLsOQgw\\\n",
              "YA/Wt6/UvLl00EFSu3bS2LE7X7v7bqlly52PSy5JTx2BdCHAgD3Y9OlSUZE0Z460bJm0fv3O166/\\\n",
              "Xios3Pn42992vhYfbHl5/txZ7Pn48XVVe2D3IsCAAPTo4TtuXH99auXjg+3kk6UZM3Y+Hzlyd9US\\\n",
              "qFv19mr0QH1z7bW+Z+KHH6a7JsCegSMwIBBt20qDBkm33uqf/+53ZX8H1qZNeusH1DV+BwbUMW6n\\\n",
              "gj0ZvwMDAGA3I8AAAEEiwAAAQSLAAABBIsAAAEEiwAAAQSLAAABBIsAAAEEiwAAAQSLAAABBIsAA\\\n",
              "AEEiwAAAQSLAAABBIsAAAEEiwAAAQSLAAABBIsAAAEEiwAAAQSLAAABBIsAAAEEiwAAAQSLAAABB\\\n",
              "IsAAAEEiwAAAQSLAAABBIsAAAEEiwAAAQSLAAABBIsAAAEEiwAAAQSLAAABBIsAAAEEiwAAAQSLA\\\n",
              "AABBIsAAAEEiwAAAQSLAAABBIsAAAEEiwAAAQSLAAABBIsAAAEEiwAAAQSLAAABBIsAAAEEiwAAA\\\n",
              "QSLAAABBIsAAAEEiwAAAQSLAAABBIsAAAEEiwAAAQSLAAABBIsAAAEEiwAAAQSLAAABBIsAAAEEi\\\n",
              "wAAAQSLAAABBIsAAAEEiwAAAQSLAAABBIsAAAEEiwAAAQSLAAABBIsAAAEEiwAAAQSLAAABBIsAA\\\n",
              "AEEiwAAAQSLAAABBIsAAAEEiwAAAQSLAAABBIsAAAEEiwAAAQSLAAABBIsAAAEEiwAAAQSLAAABB\\\n",
              "IsAAAEEiwAAAQSLAAABBIsAAAEEiwAAAQSLAAABBIsAAAEEiwAAAQSLAAABBIsAAAEEiwAAAQSLA\\\n",
              "AABBIsAAAEEiwAAAQSLAAABBIsAAAEEiwAAAQSLAAABBIsAAAEEiwAAAQSLAAABBIsAAAEEiwAAA\\\n",
              "QSLAAABBIsAAAEEiwAAAQSLAAABBIsAAAEEiwAAAQSLAAABBIsAAAEEiwAAAQSLAAABBIsAAAEEi\\\n",
              "wAAAQSLAAABBIsAAAEEiwAAAQSLAAABBIsAAAEEiwAAAQSLAAABBIsAAAEEiwAAAQSLAAABBIsAA\\\n",
              "AEEiwAAAQSLAAABBIsAAAEEiwAAAQSLAqpKdLWVmSs2aSe3bS4MHS5s3+9dWrZJ+9jOpTRspK0v6\\\n",
              "0Y+kxx9PY2UBhIzdTfUQYKl48UW/FS1aJC1cKI0b54dffLF00EHSihXS119LTzwh7b9/WqsKIGy1\\\n",
              "sbvJzZXmzKmjCqdRw3RXICjt20u9evktS5I++EC6916paVP//Ljj0lY1APULu5uqcQRWHatWSS+/\\\n",
              "LHXu7J936yZddZU0ZYr0+efprRuAeoXdTdUIsFT07Ss1b+6P39u1k8aO9cOfe0465RTpttukQw6R\\\n",
              "jj3Wf00CgBpid5M6AiwV06dLRUW+UXnZMmn9ej+8VStp/Hjpo4+kL77wW1TfvpJz0tCh/kxss2bS\\\n",
              "nXemr+4AglKT3Y0ktWy585GXJ51zzs7n48fX+WLUCQKsOnr08N2Crr++/Gtt2vjha9ZIGzZIDz7o\\\n",
              "z8Ru3iyNHl3nVQUQtursbiSpsHDn4+STpRkzdj4fObKual23CLDquvZa6bXXpA8/lG68UVq6VNq+\\\n",
              "3X9lmjjRN1jvt1+6awmgHmB3UzkCrLratpUGDZJuvVXaskXq188fox96qO/f+sIL6a4hgHqC3U3l\\\n",
              "zMUaUOuZnJwcl5+fn+5qAOWYmerr5w7hM7MFzrmcdNcjFRyBAQCCRIABAIJEgAEAgkSAAQCCtFcF\\\n",
              "WElJiZ577jm9+uqr6a4KAKTFY489pry8vHRXo1bsFQFWUlKiZ599VoceeqgGDhyoRx55JN1VAoC0\\\n",
              "GDt2rE477TR17949+CCr91ejf+ONN9SvXz8VFxdr+/bt6a4OAKSVc07btm3T/PnzlZubq3bt2unD\\\n",
              "Dz9U27Zt0121aqu3vwMzs/q5YACwewXzO7B6ewTWtWtXxf+QecmSJbrxxhs1a9YsXXDBBZoyZUoa\\\n",
              "a4e9mZlp9uzZ6a4G9lIDBgzQV199pd69e+uSSy4pd+TVs2fPNNWs+uptgCXq0qWLXnrpJS1ZskQZ\\\n",
              "GXvFqT8AKGfkyJHq0KFDkE2GifaaAIvp0qVLuqsAAGlzzDHHpLsKtYZDEQBAkAgwAECQCDAAQJAI\\\n",
              "MABAkAgwAECQCDAAQJAIMABAkAgwAECQCDAAQJAIMABAkAgwAECQCDAAQJAIMABAkAgwAECQCDAA\\\n",
              "QJAIMABAkAgwAECQCDAAQJAIMABAkAgwAECQCDAAQJAIMABAkAgwAECQCDAAQJAIMABAkAgwAECQ\\\n",
              "CDAAQJAIMABAkAgwAECQCDAAQJAIMABAkAgwAECQCDAAQJAIMABAkAgwAECQCDAAQJAIMABAkAgw\\\n",
              "AECQCDAAQJAIMABAkAgwAECQCDAAQJAIMABAkAgwAECQCDAAQJAIMABAkAgwAECQCDAAQJAIMABA\\\n",
              "kAgwAECQCDAAQJAIMABAkAgwAECQCDAAQJAIMABAkAgwAECQCDAAQJAIMABAkAgwAECQCDAAQJAI\\\n",
              "MABAkAgwAECQCDAAQJAIMABAkAgwAECQCDAAQJAIMABAkAgwAECQCDAASFHPnj01fvz4dFcDkYbp\\\n",
              "rgCAPcfWrVs1Y8YMvf322yooKNCWLVvUokULHXHEEcrNzdUZZ5yhBg0apLuagCQCDEBk9erVGjVq\\\n",
              "lFauXKmuXbtq4MCBysrKUmFhoRYsWKC77rpLBQUFGjp0aLqrCkgiwABI+u677zRq1CitWbNGY8eO\\\n",
              "1amnnlrm9QEDBmjZsmVatmxZmmpYf23ZskVNmjRJdzWCRIAB0MyZM7Vy5UoNGDCgXHjFHHXUUTrq\\\n",
              "qKPKDMvLy9OUKVP06aefSpIOO+ww9e/fXyeffHKZcv3791f79u01YsQITZgwQYsXL1ZGRoa6du2q\\\n",
              "4cOHq3Xr1mXKr1u3Tn/961+Vn5+vzZs3q23btsrNzdXFF1+sxo0blyn77bffavLkyZo7d67Wrl2r\\\n",
              "zMxMderUSf369dNpp51WWu7rr7/WpEmTNH/+fG3YsEFZWVnq1q2bLr30UrVq1arMND/77DNNnDhR\\\n",
              "S5Ys0T777KMTTjhBV111VdL1smPHDj377LN65ZVXtGbNGmVmZuroo4/WL3/5Sx166KFllmnAgAG6\\\n",
              "5JJL1KlTJ02ZMkUrVqxQz549NXLkyKTTRuUIMAB66623JEnnnHNOyuNMnz5d9913nzp16qRBgwZJ\\\n",
              "kmbNmqWbb75ZI0aM0Lnnnlum/Pr163XttdfqlFNO0dChQ/Xpp5/qxRdf1JYtW/T73/++tNy6det0\\\n",
              "5ZVX6ttvv9VPf/pTdezYUYsWLdLTTz+tpUuX6p577ik9D7d582ZdffXVKigoUI8ePdSnTx+VlJRo\\\n",
              "+fLlevfdd0sD7IsvvtCvf/1rbdu2TWeddZY6dOig1atX64UXXtCiRYv04IMPqlmzZpKktWvXavjw\\\n",
              "4dq2bZv69u2rdu3a6Z133tGNN96YdD3cfvvtmjNnjnJyctSnTx9t2LBB06dPV35+vu6//34dfvjh\\\n",
              "Zcrn5eXpyy+/VJ8+fdSnTx+OvnYBAQZABQUFatq0qTp06JBS+aKiIj300EPq0KGDJkyYoKZNm0qS\\\n",
              "+vTpo1/96leaOHGievbsWRoKkj/HNmbMGPXs2bN0mJnp+eef1+eff65OnTpJkh555BEVFhZq3Lhx\\\n",
              "6tatmySpb9++evDBB/XMM89o1qxZOvvssyVJDz/8sAoKCpIGZklJSen/999/v7Zv366HH35Ybdu2\\\n",
              "LR2em5urYcOGaerUqRo8eHDp/IuKinTPPffouOOOK53/mDFjtHz58jLzyM/P15w5c5Sbm6sxY8bI\\\n",
              "zEqne8UVV+hPf/qT7r///nLr+tFHH9XBBx+c0rpGxehGD0DffvutMjMzUy6fn5+vrVu36rzzzisN\\\n",
              "L0lq2rSp+vXrp+LiYi1YsKDMOG3atCkTXpJKA2L16tWSfOi88847Ovzww0vDK2bgwIHKyMhQXl5e\\\n",
              "adnZs2fr4IMPLhdekpSR4Xdvmzdv1vz583XSSSepUaNG2rRpU+mjffv26tixo/Lz80un+e677+rI\\\n",
              "I48srZvkg7Z///7l5jF37lxJ0kUXXVQaXpLUuXNnnXTSSVqyZIkKCwvLjNOtWzfCq5ZwBAZATZs2\\\n",
              "VXFxccrl161bJ0nKzs4u99ohhxwiSVqzZk2Z4QcccEC5sllZWZKkTZs2SZIKCwtVXFycdLotWrRQ\\\n",
              "69attXbt2tJxioqKdPzxx1da15UrV6qkpEQvvfSSXnrppaRlYkeesfnHjgbjJQuddevWKSMjI+lr\\\n",
              "2dnZysvL09q1a9WyZcvS4QceeGCl9UXqCDAAys7O1uLFi7VmzZqUmxGrK3ZEVNecc5KkM844Q716\\\n",
              "9UpaplGjRnVWn8ROKKg5AgyATj31VC1evFgzZ87U5ZdfXmX52NFUQUGBunbtWua1goICSapRELZs\\\n",
              "2VJNmjQpnUa8oqIibdiwQZ07d5bkj96aN29e2gOyIh07dpSZadu2beXqmigrK0uZmZn6/PPPy722\\\n",
              "YsWKcsMOOOAAlZSUaMWKFTrssMOSlk925InawTkwADr77LN10EEH6dlnny09x5To448/1vTp0yVJ\\\n",
              "OTk5aty4saZNm6YtW7aUltmyZYumTZumzMzMKsMimYyMDHXv3l3Lly/X+++/X+a1p59+WiUlJaVd\\\n",
              "9DMyMnTaaadpxYoVmjlzZrlpxY68srKydOKJJ2ru3Ln617/+lbRc7DxVgwYN1L17d3388cdauHBh\\\n",
              "mTJTpkwpN26sLk8//XTp/CTfDX/evHnq0qVLmeZD1C6OwACocePGGjdunEaNGqWbb75ZOTk5ysnJ\\\n",
              "UYsWLVRYWKhFixbpgw8+KO3I0KxZM11xxRW67777NGzYsNKmuVdeeUWrV6/WiBEjyvRArI7LLrtM\\\n",
              "CxYs0E033VTajX7x4sWaPXu2jj76aPXu3bu07KWXXqqFCxfq7rvvVn5+vrp06SLnnD755BPt2LFD\\\n",
              "o0ePliRdd911uuaaazR8+HCdeeaZ6ty5s5xzWrt2rebNm6czzzyztBfikCFD9N5772n06NHq16+f\\\n",
              "2rZtq3feeaf0PF28nJwc5ebm6s0331RRUZG6d+9e2o2+UaNGuvrqq2u0DpAaAgyAJN/U9pe//EUv\\\n",
              "vvii3n77bT355JMqLi4uvRbiyJEj9ZOf/KS0fN++fbXffvvpmWee0aRJkyT5HzLfdttt5X7IXB3t\\\n",
              "27fXhAkT9Nhjj+n1118v/SHzwIEDdfHFF5e5FmPz5s31wAMP6Mknn9TcuXOVl5enJk2a6OCDD1a/\\\n",
              "fv1Ky7Vr104PPfSQJk+erHnz5um1115To0aN1K5dO3Xv3l25ubll1sP999+viRMnatq0aaU/ZB49\\\n",
              "erTOO++8cvW96aabdMQRR2jWrFmaOHGiGjdurGOOOUZDhgwp80Nm1D6LP+ytT3JyclysayywJzEz\\\n",
              "zZ49O93VAJLq2bPnAudcTrrrkQrOgQEAgkSAAQCCRIABAIJEgAEAgkSAAQCCRIABAIJEgAEAgkSA\\\n",
              "AQCCRIABAIJEgAEAgkSAAQCCRIABAIJEgAEAgkSAAQCCRIABAIJEgAEAgkSAAQCCRIABAIJEgAEA\\\n",
              "gkSAAQCCRIABAIJEgAEAgkSAAQCCRIABAIJEgAEAgkSAAQCCRIABAIJEgAEAgkSAAQCCRIABAIJE\\\n",
              "gAEAgkSAAQCCRIABAIJEgAEAgkSAAQCCRIABAIJEgAEAgkSAAQCCRIABAIJEgAEAgkSAAQCCRIAB\\\n",
              "AIJEgAEAgkSAAQCCRIABAIJEgAEAgkSAAQCCRIABAIJEgAEAgkSAAQCCRIABAILUMN0VAJBct/79\\\n",
              "tc/GjVJGhnZkZmrDCSdo+fDh2pGZqaPGj1e7N96Qa7jzI1zcoYPyH300jTUG6hYBBuzBlt55pzZ2\\\n",
              "7apGGzbo6BtuUKenntJnl10mSVrZv78+u/TSNNcQSB+aEIEAfN+6tTYcf7yaffJJuqsC7DEIMCAA\\\n",
              "+371lVq//76KO3ZMd1WAPQZNiMAe7Ec33SRnpobFxdp43HEq+OUvS1876Jln1HHatNLn63/8Yy0b\\\n",
              "NSod1QTSggAD9mBLb79dG7t2VdaiRfrhHXdon02btL1ZM0nSyl/8Iuk5sCPuuUf7v/aaJGnFhRfq\\\n",
              "84suqtM6A3WFAAMCsOnYY7WuVy8dNnGilt5+e6Vl/z1ihP49YkQd1QxIH86BAYFY9fOfq9WCBWpK\\\n",
              "Rw5AEkdgQDC2tWypdWeeqexJk7SjSRMdNGWKDpw6tfT1kkaNNO/559NYQ6BuEWDAHmr+lCnlhi2/\\\n",
              "7rrS/5eNHFmX1QH2ODQhAgCCRIABAIJEgAEAgkSAAQCCRIABAIJEgAEAgkSAAQCCxO/AgDqwfft2\\\n",
              "XXnlldq0aZMkaezYsTrkkEM0aNCgNNcMCBcBBtSBjIwMzZo1S6tWrZIkvfXWW/r+++/TXCsgbDQh\\\n",
              "AnUgIyND48ePV5MmTSRJ++yzjy6//PI01woIGwEG1JH+/fsrKytLkpSTk6Ps7Oz0VggIHAEG1JEG\\\n",
              "DRpo9OjRksTRF1ALCDCgDg0dOlSSOPoCagEBBtShhg3pNwXUFgIMABAkc86luw67hZl9JWlFuusB\\\n",
              "AIE52DnXNt2VSEW9DTAAQP1GEyIAIEgEGAAgSAQYACBIBBgAIEgEGAAgSAQYACBIBBgAIEgEGAAg\\\n",
              "SAQYACBIBBgAIEgEGAAgSAQYACBIBBgAIEgEGAAgSAQYACBIBBgAIEgEGAAgSAQYACBIBBgAIEgE\\\n",
              "GAAgSAQYACBIBBgAIEgEGAAgSAQYACBIBBgAIEgEGAAgSAQYACBIBBgAIEgEGAAgSAQYACBIBBgA\\\n",
              "IEgEGAAgSAQYACBIBBgAIEgEGAAgSAQYACBIBBgAIEgEGAAgSAQYACBIBBgAIEgEGAAgSAQYACBI\\\n",
              "BBgAIEgEGAAgSAQYACBIBBgAIEgEGAAgSAQYACBIBBgAIEgEGAAgSAQYACBIBBgAIEj/B2iNsx41\\\n",
              "HaTpAAAAAElFTkSuQmCC\\\n",
              "\"\n",
              "  frames[8] = \"data:image/png;base64,iVBORw0KGgoAAAANSUhEUgAAAbAAAAGwCAYAAADITjAqAAAAOXRFWHRTb2Z0d2FyZQBNYXRwbG90\\\n",
              "bGliIHZlcnNpb24zLjUuMSwgaHR0cHM6Ly9tYXRwbG90bGliLm9yZy/YYfK9AAAACXBIWXMAAAsT\\\n",
              "AAALEwEAmpwYAAAn8UlEQVR4nO3de3wU1f3/8fcnIBJuQQVEUIiKl/ZbvJSoYFWCVeHnhYL1AqhI\\\n",
              "UStiFeWrP4EqFW9gtVrxW9B6LV7AW0EFxSsoQVFDRUB/KPo1yFVFDAYICuT8/jiTsNlskt0Qspz4\\\n",
              "ej4e+0h29szM2dndec+cOTNjzjkBABCajHRXAACAmiDAAABBIsAAAEEiwAAAQSLAAABBIsAAAEEi\\\n",
              "wAAAQSLAAABBIsAAAEEiwAAAQSLAAABBIsAAAEEiwAAAQSLAAABBIsBQ58xskJm5Sh6FKUwn28xu\\\n",
              "NLMDkijbwMyuMbM3zexrMysys/+Y2UVmVu3voLbqnCwz+6WZPWJmy8zsRzNbb2ZzzOxKM2tc2/Pb\\\n",
              "EVUslyPSXTfUbw3TXQH8rJ0taUXcsK0pjJ8t6S+S8iT9bzVlMyVdL2mSpHskbZB0qqQHJB0q6dok\\\n",
              "57mjda6WmZ0t6XFJCyXdLGmppKaSuksaI8nk38Ou5FFJ98cN+ywN9cDPCAGGdFrgnPu8juZVLOkA\\\n",
              "59y6mGFvmNkekq4ws9HOueIkprNT62xmB8mH7EuSznbOxYbjS2Z2p6SDd9b8d8BK59y8dFcCPy80\\\n",
              "IWKXZWZtzexfZrYqakZbbWbTzayNmeVKmhUVfS2m2So30bScc9viwqvUB5J2l9RqJ7yFmrhKfsNy\\\n",
              "aFx4SZKcc9865+ZKkpk1NrO7zWyxmW0wszVm9qKZHRo7TlXLMabMPmY2yczWRmUWmtn5O/m9AjuE\\\n",
              "PTCkUwMzi/8OljjnSqL/H5PUUb55b7mkvSX9VlITSf+RdLmkf0i6Uj6IJOmTFOvQXVKhpNW1VOcd\\\n",
              "dbKkD5xzydRnd0nNJd0iX/89JQ2V9K6Z/cI5tyYqV9VylJk1lfSWpD0kjYrKnC/pMTNr4pz7ZxJ1\\\n",
              "uczMrpW0TdI8SX9xzs1JYjyg5pxzPHjU6UPSIEmuksf0mHIbJF1ZxXRyo3FOqmE9ekoqkfTn2qpz\\\n",
              "LSybYkmTazhuA/lQKpJ0dQrL8U/R+8iNG/66pG8kNahmvo9JOlfS8fLB95GkLfHT48Gjth/sgSGd\\\n",
              "+qpih4jCmP8/kHStmZmkNyUtds652pixmf1S0mT5ZsjbUxi1ujonmlf872xbLb6PcyT9t6RDJGXF\\\n",
              "vHRIzP/VLccT5I9hzY6b/OOSHpH0S0mLKquDc+6CmKdzzOx5SYvl9wyPS+kNASngGBjSabFzLj/u\\\n",
              "EdtB4lxJL0j6v/I98laa2ehkur1XJep2/5qkLyX1dQmONe1AnRPZEvfoXkXZ5fLNfdUyszMkPSXp\\\n",
              "/0kaIOkYSUdJ+lZSbFf76pbjnkrchLom5vWkOeeKJM2I6gLsNOyBYZflnPtG/jjX5WZ2iKQL5buR\\\n",
              "fytpYk2maWb7SnpD0g+Sejrnfqil6lYlfkX+aRVlX5d0sZm1dduPYVWmn6TPnXODSgeY2W6KC5wk\\\n",
              "luM6ld9jK9U2+puo80syamUvE6gMe2AIgnPuU+fcKEnfS/pVNPjH6G9mMtMws9byASFJJzvn1tZu\\\n",
              "LRNLsMdWVEXxu+U7QkwwswbxL5pZKzP7TfS0iSqeg3aB/LGwyuqSaDm+JWnfmOmWGiB/DCyljjFm\\\n",
              "1kLS6ZLeT2U8IFXsgSGdjjCzRN3X8+VP3H1d0hOSlsg3vf1Ovqfcq1G5z+RX4IPNbJ18oH2aKCDM\\\n",
              "LFPSK/InPw+WX2HvG1PkkyT3xiqtc4pNkQk555aa2UD540/zzOw+bT+R+XhJl0q6SdJcSTMl9TGz\\\n",
              "uyVNl5Qj6QrFHJMzsyxVvxwflTRM0r/N7M/yx/jOk+8Realzbltl9TWza+T33mZJWiXf/HmN/N7b\\\n",
              "eTu0MIDqpLsXCY+f30NV9+hz8udk7S5/ZYeP5XvR/SDfGWFA3LQulb8Kx1Yl6EkXUy67mnkmHC+V\\\n",
              "OtfyMvov+WD5StJPktZLmiPfTX73qEyGfEeJVZI2ye9JHSmpQNKjUZlkl+M+8r0J18pvCCyUdH4S\\\n",
              "9TxDPkzXyofjd/LH245O9/eMR/1/mHM0UwMAwsMxMABAkAgwAECQCDAAQJAIMABAkAgwAECQCLA6\\\n",
              "YmadzWyTmXFuDIJkZpeYWWF0HUkg7QiwGkj1du9m1kT+mnV3OOeeSHIes81sdszz3Krud1XXzKzA\\\n",
              "zB5Ndz3SzcwGRZ9Ldg3GdWZ2Y8zzG80sbee1xNcn7rVfSrpT0jnOuVRvWVMrYpa1M7MKN/U0s+4x\\\n",
              "r58UM/xRMyuog7oN3pnziJlXKzN72My+NbNiM3vPzHrWxbx3NQRYiszf7v1D+cvw3CzpFEn9Jb0j\\\n",
              "f325SxOMdo/8LSZu3IFZ/0dSt+gvdh0z5D+XZO8nVpUHo2mlS7eoDuVEG2VTJF3nnHu1wlh1r0j+\\\n",
              "klnxLoxei3ez/F0EdqZB8ld42anMbHf5Owr0kr8485nyF4Cevqts3NYlLiWVAqvh7d6dc5fs6Lyd\\\n",
              "v8wRt2zfxTjnvpW/KG5tTGuFKt6qpc445xJ+v5xzmyUdVsfVqcq/JZ1vZqNddCWG6FJhZ0l6Tj5M\\\n",
              "yjjnvqjzGu48Z0vqLKmHi25/Y2Yz5TeQ/yrp6PRVre6xB5aaq5Tk7d4lycwOMbOp0XGDYjObZ2a9\\\n",
              "4sczs35mtiRqjvzYzCpsLSZqQjSzBmZ2S3SL+E1m9qaZHZqoKcjMepnZu1E91pvZtOjK5NUys2FR\\\n",
              "k+FmM8s3s+MrKbe/mT0RNW38aGYLEr2Xmo5rZgdHy/ObqC5fmdkzFt1vK2YZ/T5qNvrezH6IprtX\\\n",
              "3LQamtnImOW+ysz+Ft8EbGZNzWycmX0RlVtjZs+Z2d7R6xWaEKPP883ovWwwsw/N7MIklkG5JkTz\\\n",
              "zciukkd2VOYoM3vWzFZEn+2nZnZbtEKPn35fM5sb1ekHM3vfzHrHvF6j701UzzwzO8nM/hN9Fxcn\\\n",
              "+9nXQOkdpmPvNdZXfn32XHxhi2tCNLPs6L1eamY3Rb+fQjN70cpfH7OyZVI6/qDo+Wz5W+T8Jubz\\\n",
              "mR1T/mgzez1a7hvN7A0zq2nQdJVU7GLu3RaF+KuSjjKz9jWcbpAIsNQkfbt3M2snKU/S4fJ3vD1H\\\n",
              "/iKrM8zs/8SUO0nSk/IXbD1T0h3yTY7JhMsY+VvAT5K/QOur8tehi69LL/mmrg3y94a6TL4JNK+6\\\n",
              "L7yZXSTp7/IXa+0jf32+yfIXg40tt5+k96L3e7Wk3vLNnc/FriQrmUey486Q1D6qf09JI+Sv2xf/\\\n",
              "Pf67/PUJ+0v6czS9Z+PKPC7pevllf5qksZIukr/obWm9GsnfN+yK6H2fLv9Zrot//3EOiOZ3nvwy\\\n",
              "e1HSg2Y2pIpxEhkq36xX+jhO/nvytbbf4qSDpAWShsg3K90j35T1SOyEzOwK+T2Xb+Sb2s6WNFX+\\\n",
              "GpEJpfi9OTCa913y3+PVkp4xs04pvudkLJP0tso3Iw6Ufz8bUpjOSEmd5JfXMPll/HgN6jNU/rDC\\\n",
              "Qm3/rIZKkpkdJn+Nyj3k9wwHSmoh6S0zO7x0AjEbX4Oqmdc2+WtOxiu9M8OvErxWf6X7YowhPZTC\\\n",
              "7d7lD3hvldQpZlgD+XtB/Sdm2Fz521VkxAzrKr8Cnh0zLFcxF52V/0FskDQhbr7Do3I3xgzLl1/x\\\n",
              "NYwZtr/8D+GuKt5Dhnz7+sy44edG83g0ZthD8k1pe8WVfU3SgmqWVbXjyl/g10nqXcV0SpdRfH3P\\\n",
              "i4b/Nnp+fPR8YCXljoieD05inoOiMtlVLMOGkh6Q9FHca/Gf042KNqgrmdb/RN/BYyp53aJ5nS+p\\\n",
              "pHR5yq8wiyT9u5rPoUbfG0mzo2EHxQxrI7+yHVWLv7/SZV0aOt/L37hzH/nf2skx34GTYsZ7VFJB\\\n",
              "zPNsxf2+ouHXRMPbVbZM4sYfFLcM8hLU+Vn5DdeWMcNayG+A/DtmWPfoPQysZhkMjeb9i7jhb0bD\\\n",
              "+9fW8g7hwR7YznOCpHku5m69zt+WYrL8LTlamL/f01GSnnXOlcSUmyd/RfGqdJa/xcYzccPL7WmY\\\n",
              "WVNJv5b0lItp9nTOfSkfnt2rmMe+0ePpuOHPqeJ9qHrJHxtcHzXPNYya9l6RdLj5e0RVJplxv5O/\\\n",
              "6vw48925D6pievH1fUZ+hV7aQaKX/BXen42bX2kHhROiv6dIWuOcq7BXWxUzO8jMJpvZSm2/C/PF\\\n",
              "Sm6vurJpXi6/8hronHsvZngLM7vdzL6Q3wrfIt/EZpJKl9GxkppJ+mcK80v1e7PUObc0ptw38nt7\\\n",
              "HaqZT8O4zyBZz8hfaf8M+Q2PNfI3Kk3FS3HPF0V/q6xzik6QNN05V1g6wPnj2S8oZhk6595yzjV0\\\n",
              "zk2qZnpPyl/5/1/mT81pZWajtP07W1L5qPUPAZaapG/3rqpv027ye1CtJO0m3yQUL9GwWPtEf7+p\\\n",
              "Zrw9ovlVVpeqbhdfOo9y04xWaN/FlW0j3zyyJe5xR/T6XqpcteM6v5l5svxewVhJn5nZ/5rZZQmm\\\n",
              "F1/fn+S31kubvdpIaiRpY9z8SpflXjF/V1ZR7wrMrJn8nuPh8k2cx8tvpDwsv8JNmZmdIt88d71z\\\n",
              "Ln6D5RH55sPx8svnKPm7L0t+70Ta/n5S6SCS6vcm0V2bf4ypQwXRcbxyn7kleTqC8/d8mybfjDhQ\\\n",
              "0hOxG4FJiq9zaTNcpXWugarWA1U1QycUBeGZ8uuOhfItF4O1vYdzbfSGDQa9EFOTyu3e12n7Ldlj\\\n",
              "tZXf1f9e21egeycot7d8W39lSr+obeTv9RQ7Xqzvo/lVVpeqbhdfOo9y04y2lOMD6Tv5+1XdXsm0\\\n",
              "VlUxn6TGdc79r6SBZmbafmxxgpkVOOdejikfX99G8iuL0jD6TtJm+XCpqq5rlfoxhW7yGznHO+fy\\\n",
              "YupQo9+amf1Cfo/yMefcbXGvNZY/9nmjc+6emOGd4yZTeufp9pIWJznrHfneJGuVfODGD0vWJPlj\\\n",
              "dBnyxzt3hh/lN3ZiVbUxFq+q9cD3NamQc26OmR0o35TaQP7GrtfKNy/Pr8k0Q8UeWGruVvK3e39L\\\n",
              "Ulcr3zutgfzxow+dcz9ETYofSDrLzDJiyh2jKg6uRxbJB+DZccPLPXfObZT/Up8dW2cz6yjftDS7\\\n",
              "inmskN/rPCdu+O9VceNnpnxX64+dc/kJHj+qcimN67wF8sf7pIohE1/fs+W/6+/GzK+xpKxK5le6\\\n",
              "En1VUlszO6OKusdrEv0tO9BuZnvIB01KzPecnC7fSSPR+YW7y6/A4g/qD4p7/o788dI/JjvvHfze\\\n",
              "JDuPnxIs+59SmMRr8uF+n3Pu4+oK19AyVfx+nZag3I+SKvT8lF8PnGpmzUsHRP+foR1YhtFvYKlz\\\n",
              "bon8d+4S+Y2cjTWdZojYA0uBS+1273fLr0heM7O/yN8Jd6j8eWKxP4C/yK8op5nZ/ZJay/curHIP\\\n",
              "zzn3vZn9XdIoMyuS3zv8tXxPOql8W/gN8luq081sgvzxkDHyd/n9WxXzKDGzMfI96B6RP5m1k3zT\\\n",
              "2A9xxUdLel/S22b2P/LH8PaQ//Ef4Jyr6iTPaseNenPdI39Fk8/lV9yD5I/FvRk3vf+Kqe/Bkm6V\\\n",
              "P2D/RvS+ZpvZZPljYHdF8y6R32g4Vf6E3c/kP+dLJE02s7HyPSWby/eA/Hu08oj3TrRs/hF97k3l\\\n",
              "ezuulZRVxTJI5An5pqIrJP3a73iW+dA5t97M5kn6bzNbHc1jsLY3lSp6v0VmNlLSvWb2XDTdIklH\\\n",
              "SNrsnLu3kvnX6HtTV6INwJ2151VqiqTrzezP8udhHl/JPD+RNNTMzpX0haQi59yn8idRny7pDTO7\\\n",
              "XX6v9jr50LmpdGQz6y5/DG9wdcfBou/ifPnPu5P83tcW+V6VPy/p7kUS4kNJ3O49KneIfDv9evkm\\\n",
              "q3mSeiWYXn/53ok/yjcH9pXfOpsdUyZXMb0Qo2EN5FfOa+SbD2bLbx07ScPi5tFLfg+kOKrP85IO\\\n",
              "SfL9DpPfEt0sfwzqOMXctj6m3L7yV3JYGS2X1fJbycncmr7KceWbSv8l31yySb5p5i1JPRMsozOj\\\n",
              "z6dQfkX9pKRWcfPLiN7XR9H7Wq/tJ4NmxZRrJn8sbllMvZ6V1CZ6fZDieiFKOlG+W3Wx/MrsSiXo\\\n",
              "YahqeiFGy9hV8siOymRLejl6n9/I91Q8Lf67EpU9Sz6Ei+VD9j1Jp1dWn2S/N6q8B16F78gO/u5K\\\n",
              "l3WnKsqUfgeS6YV4cSXjxv7GGstvOK2OlvFT8icLx/dCbCvfKaRIFXsQHyO/gblBvtXkDUlHVzLv\\\n",
              "QUksh4flW0d+iv7eK2nP2lrOIT0sWiCoJ8zsLPkeWic45+akuz51yfxJ3rMkneycez29tQGws9GE\\\n",
              "GLDoWNlp8lvSmyV1kW/emyd/EjUA1FsEWNg2yJ//cbn8yZHfyB/UHunYtQZQz9GECAAIEt3oAQBB\\\n",
              "IsAAAEGqt8fAWrVq5bKzs9NdDaCC+fPnq0uXLumuBpDQ/Pnz1zrnWqe7Hsmot8fAcnJyXH5+frqr\\\n",
              "AVRgZqqvvzuEz8zmO+dy0l2PZNCECNShoqJEd7wHUBMEGFCH/vY3fwWmvDxO0wN2FAEG1JHi4mLd\\\n",
              "fffdkqRrr702zbUBwkeAAXVk4sSJ2rLFXzh+4cKF7IUBO4gAA+rA1q1bdfPNN+unn/zdQjZv3qyR\\\n",
              "I39+Fw8HahMBBtSBjIwM3XrrrRo7dqwkady4cRo2bFiV42RnS5mZUrNmUtu20qBB0oYN/rVBg6RG\\\n",
              "jfxrpY/DD9+pbwHY5dCNHqhjyXajz86WHnxQOukkac0aqWdP6fTTpVtv9QG2777SLbdUP7/cXOnG\\\n",
              "G/1foDp0owdQq9q29QG2YEG6awLsOggwIAArVkgvvyx16pTumgC7DgIM2IX16SM1by7tt5/Upo00\\\n",
              "Zsz21+68U2rZcvvjwgvTU0cgXQgwYBc2bZpUVCTNni0tWSKtXbv9tWuukQoLtz/+9a/tr8UGW16e\\\n",
              "P3ZW+nzcuLqqPbBzEWBAALp39x03rrkmufKxwXbccdL06dufjxixs2oJ1K16ezV6oL656irfM/Gj\\\n",
              "j9JdE2DXwB4YEIjWraWBA6WbbvLP//rX8ueBtWqV3voBdY3zwIA6xu1UsCvjPDAAAHYyAgwAECQC\\\n",
              "DAAQJAIMABAkAgwAECQCDAAQJAIMABAkAgwAECQCDAAQJAIMABAkAgwAECQCDAAQJAIMABAkAgwA\\\n",
              "ECQCDAAQJAIMABAkAgwAECQCDAAQJAIMABAkAgwAECQCDAAQJAIMABAkAgwAECQCDAAQJAIMABAk\\\n",
              "AgwAECQCDAAQJAIMABAkAgwAECQCDAAQJAIMABAkAgwAECQCDAAQJAIMABAkAgwAECQCDAAQJAIM\\\n",
              "ABAkAgwAECQCDAAQJAIMABAkAgwAECQCDAAQJAIMABAkAgwAECQCDAAQJAIMABAkAgwAECQCDAAQ\\\n",
              "JAIMABAkAgwAECQCDAAQJAIMABAkAgwAECQCDAAQJAIMABAkAgwAECQCDAAQJAIMABAkAgwAECQC\\\n",
              "DAAQJAIMABAkAgwAECQCDAAQJAIMABAkAgwAECQCDAAQJAIMABAkAgwAECQCDAAQJAIMABAkAgwA\\\n",
              "ECQCDAAQJAIMABAkAgwAECQCDAAQJAIMABAkAgwAECQCDAAQJAIMABAkAgwAECQCDAAQJAIMABAk\\\n",
              "AgwAECQCDAAQJAIMABAkAgwAECQCDAAQJAIMABAkAgwAECQCDAAQJAIMABAkAgwAECQCDAAQJAIM\\\n",
              "ABAkAgwAECQCDAAQJAIMABAkAgwAECQCDAAQJAIMABAkAgwAECQCDAAQJAIMABAkAgwAECQCDAAQ\\\n",
              "JAIMABAkAgwAECQCDAAQJAIMABAkAgwAECQCDAAQJAIMABAkAgwAECQCDAAQJAIMABAkAgwAECQC\\\n",
              "DAAQJAIMABAkAgwAECQCDAAQJAIMABAkAgwAECQCDAAQJAIMABAkAgwAECQCDAAQJAIMABAkAgwA\\\n",
              "ECQCDAAQJAKsOtnZUmam1KyZ1LatNGiQtGGDf23FCun3v5datZKysqRf/Up69NE0VhZAyFjdpIYA\\\n",
              "S8aLL/pv0YIF0ocfSmPH+uEXXCDtt5+0bJn03XfSY49Je++d1qoCCFttrG5yc6XZs+uowmnUMN0V\\\n",
              "CErbtlLPnv6bJUkffCDdfbfUtKl/fuSRaasagPqF1U312ANLxYoV0ssvS506+eddu0qXXy5NmSJ9\\\n",
              "9VV66wagXmF1Uz0CLBl9+kjNm/v99zZtpDFj/PBnnpGOP166+WZp//2lI47wm0kAUEOsbpJHgCVj\\\n",
              "2jSpqMg3Ki9ZIq1d64fvsYc0bpz08cfS11/7b1SfPpJz0pAh/khss2bSbbelr+4AglKT1Y0ktWy5\\\n",
              "/ZGXJ51++vbn48bV+duoEwRYKrp3992Crrmm4mutWvnhq1ZJ69ZJ993nj8Ru2CCNGlXnVQUQtlRW\\\n",
              "N5JUWLj9cdxx0vTp25+PGFFXta5bBFiqrrpKeu016aOPpOuukxYvlrZu9ZtMEyf6Buu99kp3LQHU\\\n",
              "A6xuqkaApap1a2ngQOmmm6RNm6S+ff0++gEH+P6tL7yQ7hoCqCdY3VTNXGkDaj2Tk5Pj8vPz010N\\\n",
              "oAIzU3393SF8ZjbfOZeT7nokgz0wAECQCDAAQJAIMABAkAgwAECQflYBVlJSomeeeUavvvpquqsC\\\n",
              "AGnxyCOPKC8vL93VqBU/iwArKSnR008/rQMOOEADBgzQgw8+mO4qAUBajBkzRieeeKK6desWfJDV\\\n",
              "+6vRv/HGG+rbt6+Ki4u1devWdFcHANLKOactW7Zo3rx5ys3NVZs2bfTRRx+pdevW6a5ayurteWBm\\\n",
              "Vj/fGADsXMGcB1Zv98C6dOmi2BOZFy1apOuuu04zZ87UOeecoylTpqSxdvg5MzPNmjUr3dXAz1T/\\\n",
              "/v317bffqlevXrrwwgsr7Hn16NEjTTVLXb0NsHidO3fWSy+9pEWLFikj42dx6A8AKhgxYoTatWsX\\\n",
              "ZJNhvJ9NgJXq3LlzuqsAAGlz+OGHp7sKtYZdEQBAkAgwAECQCDAAQJAIMABAkAgwAECQCDAAQJAI\\\n",
              "MABAkAgwAECQCDAAQJAIMABAkAgwAECQCDAAQJAIMABAkAgwAECQCDAAQJAIMABAkAgwAECQCDAA\\\n",
              "QJAIMABAkAgwAECQCDAAQJAIMABAkAgwAECQCDAAQJAIMABAkAgwAECQCDAAQJAIMABAkAgwAECQ\\\n",
              "CDAAQJAIMABAkAgwAECQCDAAQJAIMABAkAgwAECQCDAAQJAIMABAkAgwAECQCDAAQJAIMABAkAgw\\\n",
              "AECQCDAAQJAIMABAkAgwAECQCDAAQJAIMABAkAgwAECQCDAAQJAIMABAkAgwAECQCDAAQJAIMABA\\\n",
              "kAgwAECQCDAAQJAIMABAkAgwAECQCDAAQJAIMABAkAgwAECQCDAAQJAIMABAkAgwAECQCDAAQJAI\\\n",
              "MABAkAgwAECQCDAAQJAIMABAkAgwAECQCDAASFKPHj00bty4dFcDkYbprgCAXcfmzZs1ffp0vf32\\\n",
              "2yooKNCmTZvUokULHXzwwcrNzdXJJ5+sBg0apLuagCQCDEBk5cqVGjlypJYvX64uXbpowIABysrK\\\n",
              "UmFhoebPn6/bb79dBQUFGjJkSLqrCkgiwABI+vHHHzVy5EitWrVKY8aM0QknnFDu9f79+2vJkiVa\\\n",
              "smRJmmpYf23atElNmjRJdzWCRIAB0IwZM7R8+XL179+/QniVOvTQQ3XooYeWG5aXl6cpU6boiy++\\\n",
              "kCQdeOCB6tevn4477rhy5fr166e2bdtq+PDhmjBhghYuXKiMjAx16dJFw4YN05577lmu/Jo1a/Tw\\\n",
              "ww8rPz9fGzZsUOvWrZWbm6sLLrhAjRs3Lld248aNmjx5subMmaPVq1crMzNTHTp0UN++fXXiiSeW\\\n",
              "lfvuu+80adIkzZs3T+vWrVNWVpa6du2qiy66SHvssUe5aX755ZeaOHGiFi1apN12201HH320Lr/8\\\n",
              "8oTLZdu2bXr66af1yiuvaNWqVcrMzNRhhx2mP/zhDzrggAPKvaf+/fvrwgsvVIcOHTRlyhQtW7ZM\\\n",
              "PXr00IgRIxJOG1UjwADorbfekiSdfvrpSY8zbdo03XPPPerQoYMGDhwoSZo5c6ZuuOEGDR8+XGec\\\n",
              "cUa58mvXrtVVV12l448/XkOGDNEXX3yhF198UZs2bdIdd9xRVm7NmjW67LLLtHHjRv3ud79T+/bt\\\n",
              "tWDBAj355JNavHix7rrrrrLjcBs2bNAVV1yhgoICde/eXb1791ZJSYmWLl2qd999tyzAvv76a/3p\\\n",
              "T3/Sli1bdOqpp6pdu3ZauXKlXnjhBS1YsED33XefmjVrJklavXq1hg0bpi1btqhPnz5q06aN3nnn\\\n",
              "HV133XUJl8Mtt9yi2bNnKycnR71799a6des0bdo05efna/z48TrooIPKlc/Ly9M333yj3r17q3fv\\\n",
              "3ux97QACDIAKCgrUtGlTtWvXLqnyRUVFuv/++9WuXTtNmDBBTZs2lST17t1bf/zjHzVx4kT16NGj\\\n",
              "LBQkf4xt9OjR6tGjR9kwM9Pzzz+vr776Sh06dJAkPfjggyosLNTYsWPVtWtXSVKfPn1033336amn\\\n",
              "ntLMmTN12mmnSZIeeOABFRQUJAzMkpKSsv/Hjx+vrVu36oEHHlDr1q3Lhufm5mro0KF69tlnNWjQ\\\n",
              "oLL5FxUV6a677tKRRx5ZNv/Ro0dr6dKl5eaRn5+v2bNnKzc3V6NHj5aZlU330ksv1b333qvx48dX\\\n",
              "WNYPPfSQOnbsmNSyRuXoRg9AGzduVGZmZtLl8/PztXnzZp155pll4SVJTZs2Vd++fVVcXKz58+eX\\\n",
              "G6dVq1blwktSWUCsXLlSkg+dd955RwcddFBZeJUaMGCAMjIylJeXV1Z21qxZ6tixY4XwkqSMDL96\\\n",
              "27Bhg+bNm6djjz1WjRo10vr168sebdu2Vfv27ZWfn182zXfffVeHHHJIWd0kH7T9+vWrMI85c+ZI\\\n",
              "ks4///yy8JKkTp066dhjj9WiRYtUWFhYbpyuXbsSXrWEPTAAatq0qYqLi5Muv2bNGklSdnZ2hdf2\\\n",
              "339/SdKqVavKDd9nn30qlM3KypIkrV+/XpJUWFio4uLihNNt0aKF9txzT61evbpsnKKiIh111FFV\\\n",
              "1nX58uUqKSnRSy+9pJdeeilhmdI9z9L5l+4NxkoUOmvWrFFGRkbC17Kzs5WXl6fVq1erZcuWZcP3\\\n",
              "3XffKuuL5BFgAJSdna2FCxdq1apVSTcjpqp0j6iuOeckSSeffLJ69uyZsEyjRo3qrD7xnVBQcwQY\\\n",
              "AJ1wwglauHChZsyYoUsuuaTa8qV7UwUFBerSpUu51woKCiSpRkHYsmVLNWnSpGwasYqKirRu3Tp1\\\n",
              "6tRJkt97a968eVkPyMq0b99eZqYtW7ZUqGu8rKwsZWZm6quvvqrw2rJlyyoM22effVRSUqJly5bp\\\n",
              "wAMPTFg+0Z4nagfHwADotNNO03777aenn3667BhTvE8//VTTpk2TJOXk5Khx48aaOnWqNm3aVFZm\\\n",
              "06ZNmjp1qjIzM6sNi0QyMjLUrVs3LV26VO+//36515588kmVlJSUddHPyMjQiSeeqGXLlmnGjBkV\\\n",
              "plW655WVlaVjjjlGc+bM0SeffJKwXOlxqgYNGqhbt2769NNP9eGHH5YrM2XKlArjltblySefLJuf\\\n",
              "5Lvhz507V507dy7XfIjaxR4YADVu3Fhjx47VyJEjdcMNNygnJ0c5OTlq0aKFCgsLtWDBAn3wwQdl\\\n",
              "HRmaNWumSy+9VPfcc4+GDh1a1jT3yiuvaOXKlRo+fHi5HoipuPjiizV//nxdf/31Zd3oFy5cqFmz\\\n",
              "Zumwww5Tr169yspedNFF+vDDD3XnnXcqPz9fnTt3lnNOn3/+ubZt26ZRo0ZJkq6++mpdeeWVGjZs\\\n",
              "mE455RR16tRJzjmtXr1ac+fO1SmnnFLWC3Hw4MF67733NGrUKPXt21etW7fWO++8U3acLlZOTo5y\\\n",
              "c3P15ptvqqioSN26dSvrRt+oUSNdccUVNVoGSA4BBkCSb2r75z//qRdffFFvv/22Hn/8cRUXF5dd\\\n",
              "C3HEiBH67W9/W1a+T58+2muvvfTUU09p0qRJkvyJzDfffHOFE5lT0bZtW02YMEGPPPKIXn/99bIT\\\n",
              "mQcMGKALLrig3LUYmzdvrn/84x96/PHHNWfOHOXl5alJkybq2LGj+vbtW1auTZs2uv/++zV58mTN\\\n",
              "nTtXr732mho1aqQ2bdqoW7duys3NLbccxo8fr4kTJ2rq1KllJzKPGjVKZ555ZoX6Xn/99Tr44IM1\\\n",
              "c+ZMTZw4UY0bN9bhhx+uwYMHlzuRGbXPYnd765OcnBxX2jUW2JWYmWbNmpXuagAJ9ejRY75zLifd\\\n",
              "9UgGx8AAAEEiwAAAQSLAAABBIsAAAEEiwAAAQSLAAABBIsAAAEEiwAAAQSLAAABBIsAAAEEiwAAA\\\n",
              "QSLAAABBIsAAAEEiwAAAQSLAAABBIsAAAEEiwAAAQSLAAABBIsAAAEEiwAAAQSLAAABBIsAAAEEi\\\n",
              "wAAAQSLAAABBIsAAAEEiwAAAQSLAAABBIsAAAEEiwAAAQSLAAABBIsAAAEEiwAAAQSLAAABBIsAA\\\n",
              "AEEiwAAAQSLAAABBIsAAAEEiwAAAQSLAAABBIsAAAEEiwAAAQSLAAABBIsAAAEEiwAAAQSLAAABB\\\n",
              "IsAAAEEiwAAAQSLAAABBIsAAAEEiwAAAQSLAAABBapjuCgBIrGu/ftrt+++ljAxty8zUuqOP1tJh\\\n",
              "w7QtM1OHjhunNm+8Iddw+0+4uF075T/0UBprDNQtAgzYhS2+7TZ936WLGq1bp8OuvVYdnnhCX158\\\n",
              "sSRpeb9++vKii9JcQyB9aEIEAvDTnntq3VFHqdnnn6e7KsAugwADArD7t99qz/ffV3H79umuCrDL\\\n",
              "oAkR2IX96vrr5czUsLhY3x95pAr+8Iey1/Z76im1nzq17Pna3/xGS0aOTEc1gbQgwIBd2OJbbtH3\\\n",
              "Xbooa8EC/fLWW7Xb+vXa2qyZJGn5uecmPAZ28F13ae/XXpMkLTvvPH11/vl1WmegrhBgQADWH3GE\\\n",
              "1vTsqQMnTtTiW26psuxnw4frs+HD66hmQPpwDAwIxIqzztIe8+erKR05AEnsgQHB2NKypdaccoqy\\\n",
              "J03StiZNtN+UKdr32WfLXi9p1Ehzn38+jTUE6hYBBuyi5k2ZUmHY0quvLvt/yYgRdVkdYJdDEyIA\\\n",
              "IEgEGAAgSAQYACBIBBgAIEgEGAAgSAQYACBIBBgAIEicBwbUga1bt+qyyy7T+vXrJUljxozR/vvv\\\n",
              "r4EDB6a5ZkC4CDCgDmRkZGjmzJlasWKFJOmtt97STz/9lOZaAWGjCRGoAxkZGRo3bpyaNGkiSdpt\\\n",
              "t910ySWXpLlWQNgIMKCO9OvXT1lZWZKknJwcZWdnp7dCQOAIMKCONGjQQKNGjZIk9r6AWkCAAXVo\\\n",
              "yJAhksTeF1ALCDCgDjVsSL8poLYQYACAIJlzLt112CnM7FtJy9JdDwAITEfnXOt0VyIZ9TbAAAD1\\\n",
              "G02IAIAgEWAAgCARYACAIBFgAIAgEWAAgCARYACAIBFgAIAgEWAAgCARYACAIBFgAIAgEWAAgCAR\\\n",
              "YACAIBFgAIAgEWAAgCARYACAIBFgAIAgEWAAgCARYACAIBFgAIAgEWAAgCARYACAIBFgAIAgEWAA\\\n",
              "gCARYACAIBFgAIAgEWAAgCARYACAIBFgAIAgEWAAgCARYACAIBFgAIAgEWAAgCARYACAIBFgAIAg\\\n",
              "EWAAgCARYACAIBFgAIAgEWAAgCARYACAIBFgAIAgEWAAgCARYACAIBFgAIAgEWAAgCARYACAIBFg\\\n",
              "AIAgEWAAgCARYACAIBFgAIAgEWAAgCARYACAIBFgAIAg/X+QZ8vfm60a+QAAAABJRU5ErkJggg==\\\n",
              "\"\n",
              "  frames[9] = \"data:image/png;base64,iVBORw0KGgoAAAANSUhEUgAAAbAAAAGwCAYAAADITjAqAAAAOXRFWHRTb2Z0d2FyZQBNYXRwbG90\\\n",
              "bGliIHZlcnNpb24zLjUuMSwgaHR0cHM6Ly9tYXRwbG90bGliLm9yZy/YYfK9AAAACXBIWXMAAAsT\\\n",
              "AAALEwEAmpwYAAAoF0lEQVR4nO3de3wU1f3/8fcnICXcAgqIoBgVL9+2eClRwaoEq8K3KgVbLVBF\\\n",
              "iloVqyhf/QlUqXgDW6uVtqBVq8ULeGlBBYqighKUaqgItD8U/RrkqiIEgwQFcr5/nNmw2Ww2GwjZ\\\n",
              "nPB6Ph77SHb2zMzZ2d15z5w5M2POOQEAEJqsTFcAAIDdQYABAIJEgAEAgkSAAQCCRIABAIJEgAEA\\\n",
              "gkSAAQCCRIABAIJEgAEAgkSAAQCCRIABAIJEgAEAgkSAAQCCRIABAIJEgKHOmdkQM3NVPIprMJ1c\\\n",
              "M7vVzA5Po2wjM7vBzF4zs0/NrMTM/mVml5pZtb+D2qpzuszs22b2qJmtNLOvzWyzmc03s2vNrGlt\\\n",
              "z29PpFgux2e6bmjYGme6AtinXSBpdcKwHTUYP1fSryUVSPrfaspmS7pZ0mRJ90vaIumHkh6SdIyk\\\n",
              "G9Oc557WuVpmdoGkJyQtkXS7pBWSmkvqKWmsJJN/D/XJY5IeTBj2QQbqgX0IAYZMWuyc+7CO5lUq\\\n",
              "6XDn3Ma4Ya+aWRtJ15jZGOdcaRrT2at1NrMj5UN2lqQLnHPx4TjLzO6RdNTemv8eWOOcW5jpSmDf\\\n",
              "QhMi6i0z62BmfzWztVEz2jozm2Fm7c0sX9LcqOicuGar/GTTcs7tTAivmHckfUtS273wFnbHdfIb\\\n",
              "lsMSwkuS5Jz73Dm3QJLMrKmZ3Wdmy8xsi5mtN7MXzeyY+HFSLce4MgeZ2WQz2xCVWWJmF+3l9wrs\\\n",
              "EfbAkEmNzCzxO1jmnCuL/n9c0qHyzXurJB0o6QeSmkn6l6SrJf1J0rXyQSRJ/6lhHXpKKpa0rpbq\\\n",
              "vKfOkvSOcy6d+nxLUktJd8jXf39JwyS9ZWb/5ZxbH5VLtRxlZs0lvS6pjaTRUZmLJD1uZs2cc39O\\\n",
              "oy5XmdmNknZKWijp1865+WmMB+w+5xwPHnX6kDREkqviMSOu3BZJ16aYTn40zpm7WY/eksok/aq2\\\n",
              "6lwLy6ZU0pTdHLeRfCiVSLq+Bsvxl9H7yE8Y/oqkzyQ1qma+j0v6qaTT5IPvPUnbE6fHg0dtP9gD\\\n",
              "Qyb1V+UOEcVx/78j6UYzM0mvSVrmnHO1MWMz+7akKfLNkHfXYNTq6pxsXom/s521+D4ulPQ/ko6W\\\n",
              "lBP30tFx/1e3HE+XP4Y1L2HyT0h6VNK3JS2tqg7OuYvjns43s+clLZPfMzy1Rm8IqAGOgSGTljnn\\\n",
              "ChMe8R0kfirpBUn/T75H3hozG5NOt/dUom73cyR9LKm/S3KsaQ/qnMz2hEfPFGVXyTf3VcvMzpP0\\\n",
              "tKT/L2mQpJMlnSjpc0nxXe2rW477K3kT6vq419PmnCuRNDOqC7DXsAeGess595n8ca6rzexoSZfI\\\n",
              "dyP/XNKk3ZmmmR0s6VVJX0rq7Zz7spaqm0riivz9FGVfkXSZmXVwu45hVWWApA+dc0NiA8xsPyUE\\\n",
              "ThrLcaMq7rHFdIj+Juv8ko5a2csEqsIeGILgnHvfOTda0iZJ340Gfx39zU5nGmbWTj4gJOks59yG\\\n",
              "2q1lckn22EpSFL9PviPERDNrlPiimbU1s+9HT5up8jloF8sfC6uqLsmW4+uSDo6bbswg+WNgNeoY\\\n",
              "Y2atJJ0r6e2ajAfUFHtgyKTjzSxZ9/VC+RN3X5H0pKTl8k1vP5LvKfdyVO4D+RX4UDPbKB9o7ycL\\\n",
              "CDPLlvSS/MnPQ+VX2AfHFflPmntjVda5hk2RSTnnVpjZYPnjTwvN7AHtOpH5NElXSLpN0gJJsyX1\\\n",
              "M7P7JM2QlCfpGsUdkzOzHFW/HB+TNFzS383sV/LH+H4m3yPyCufczqrqa2Y3yO+9zZW0Vr758wb5\\\n",
              "vbef7dHCAKqT6V4kPPa9h1L36HPy52R9S/7KDv+W70X3pXxnhEEJ07pC/iocO5SkJ11cudxq5pl0\\\n",
              "vJrUuZaX0Xfkg+UTSd9I2ixpvnw3+W9FZbLkO0qslbRVfk/qBElFkh6LyqS7HA+S7024QX5DYImk\\\n",
              "i9Ko53nyYbpBPhy/kD/edlKmv2c8Gv7DnKOZGgAQHo6BAQCCRIABAIJEgAEAgkSAAQCCRIABAIJE\\\n",
              "gO0FZtbVzLaaGefBIEhmdrmZFUfXjATqJQKsGjW9tbuZNZO/Pt1vnXNPpjmPeWY2L+55fqp7W9U1\\\n",
              "Mysys8cyXY9MM7Mh0eeSuxvjOjO7Ne75rWaWsXNYEuuT8Nq3Jd0j6ULnXE1vT1Mr4pa1M7NKN/A0\\\n",
              "s55xr58ZN/wxMyuqg7oN3ZvziJvXiOgeb+tSfWZR2X5m9q6ZbYvWVzcnu5pLQ0KApWD+1u7vyl9y\\\n",
              "53ZJZ0saKOlN+WvJXZFktPvlbydx6x7M+l+SekR/UX/MlP9c0r13WCoPR9PKlB5RHSqINsqmSrrJ\\\n",
              "OfdypbHqXon85bESXRK9luh2+TsG7E1D5K/mUhcul9Re0vRUhcyst6S/yZ+k/t/y66GbJd21l+uX\\\n",
              "UVxKqgq2m7d2d85dvqfzdv6SRtyevZ5xzn0ufwHc2pjWalW+LUudcc4l/X4557ZJOraOq5PK3yVd\\\n",
              "ZGZjXHTVheiyYD+RX2EPiS/snPuozmu4d33HOVcW3ZLnyhTlxksqcM79Ino+18xaSLrZzO5z1V8Y\\\n",
              "OkjsgVXtOqV5a3dJMrOjzWxadNyg1MwWmlmfxPHMbICZLY+aI/9tZpW2FpM1IZpZIzO7I2pK2Gpm\\\n",
              "r5nZMcmaFcysj5m9FdVjs5lNj65CXi0zGx41GW4zs0IzO62KcoeZ2ZNm9nn0XhYney+7O66ZHRUt\\\n",
              "z8+iunxiZs9GP+T4ZfTjqNlok5l9GU33gIRpNTazUXHLfa2Z/S6xCdjMmpvZeDP7KCq33sz+ZmYH\\\n",
              "Rq9XakKMPs/XoveyJWrCuSSNZVChCdF8M7Kr4pEblTnRzJ4zs9XRZ/u+md0VrdATp9/fzBZEdfrS\\\n",
              "zN42s75xr+/W9yaqZ4GZnWlm/4q+i8vS/ex3Q+xu0vH3Fesvv+76W2JhS2hCNLPc6L1eYWa3Rb+f\\\n",
              "YvPNcgcnjJtsmcTGHxI9nyd/O5zvx30+8+LKn2Rmr0TL/Ssze9XMTtrdN+/SuNO3mR0i6Xj562fG\\\n",
              "e1zSfvJ7ZA0SAVa1tG/tbmYdJRVIOk7+7rYXyl9QdaaZ/XdcuTMlPSV/cdbzJf1Wflc/nXAZK3+7\\\n",
              "98nyF2N9Wf6ac4l16SPf1LVF/j5QV8k3gRaYWadq3selkn4vf2HWfvLX4psif+HX+HKHSPpn9H6v\\\n",
              "l9RXvrnzb/ErySrmke64MyV1iurfW9JI+Wv0JX5nfy9/LcKBkn4VTe+5hDJPyDenPCXpHEnjJF0q\\\n",
              "f4HbWL2ayN8j7JrofZ8r/1luTHz/CQ6P5vcz+WX2oqSHzSzV1nIyw+Sb9WKPU+W/J59q1+1MOkta\\\n",
              "LL8l3kf+uzNU/qaT5czsGvk9l8/km9oukDRN/nqQSdXwe3NENO975b/H6yQ9a2Zdavie07FS0huq\\\n",
              "2Iw4WP79bKnBdEZJ6iK/vIbLL+PEFX46hskfVliiXZ/VMEkys2Plr0fZRn7PcLCkVpJeN7PjYhOI\\\n",
              "2/gashvzT+Y70d9l8QOdcx/LXyOz4XbEyfTFGOvrQzW4tbv8Ae8dkrrEDWskf9+nf8UNWyB/a4qs\\\n",
              "uGHd5VfA8+KG5SvuArPyP4gtkiYmzHdEVO7WuGGF8iu+xnHDDpO/0Oq9Kd5DlvzNFGcnDP9pNI/H\\\n",
              "4oY9It+UdkBC2TmSFlezrKodV/5ivk5S3xTTiS2jxPr+LBr+g+j5adHzwVWUOz56PjSNeQ6JyuSm\\\n",
              "WIaNJT0k6b2E1xI/p1v9z6/Kef0x+g6eXMXrFs3rIkllseUpv8IskfT3aj6H3freSJoXDTsyblh7\\\n",
              "+VvAjK7F319sWcdCZ5P8TToPkv+tnRX3HTgzbrzHJBXFPc9Vwu8rGn5DNLxjVcskYfwhCcugIEmd\\\n",
              "n5PfcG0dN6yV/AbI3+OG9Yzew+AaLI/GyeoXvTYoeu2YJK+tlvRIbX0u9e3BHljtOF3SQhd3Z17n\\\n",
              "b0ExRf72G63M9wY6UdJzLq5ZwPljEUXVTL+r/O00nk0YXmFPw8yaS/qepKddXLOn81tiC5T6TsAH\\\n",
              "R49nEob/TZXvOdVH/tjg5qh5rnHUtPeSpOPM3w+qKumM+4X8FebHm+/OfWSK6SXW91n5FXqsg0Qf\\\n",
              "+au5P5cwv1gHhdOjv2dLWu+cq7RXm4qZHWlmU8xsjXbdcfkypbdXXdU0r5bfqh/snPtn3PBWZna3\\\n",
              "mX0kvze6Xb6ZyCTFltEpklpI+nMN5lfT780K59yKuHKfye/tda5mPo0TPoN0PSt/Vf3z5Dc81svf\\\n",
              "lLQmZiU8Xxr9TVnnGjpd0gznXHFsgPPHs19Q3DJ0zr3unGvsnJtci/PeJxFgVUv71u5KfUt2k9+D\\\n",
              "aivfHv1pknLJhsU7KPr7WTXjtYnmV1VdUt0aPjaPCtOMVmhfJJRtL988sj3h8dvo9QNUtWrHdX7T\\\n",
              "8Sz5vYJxkj4ws/81s6uSTC+xvt/Ib63Hmr3aS2oi6auE+cWW5QFxf9ekqHcl5g+Sz5FvDh0pv7d3\\\n",
              "oqS/yK9wa8zMzlbUg8w5l7jB8qh88+EE+eVzovydliW/dyLtej816SBS0+9Nsjs0fx1Xh0qi43gV\\\n",
              "PnNL83QE5+/vNl2+GXGwpCddGseGEiTWOXYz1CrrvBtSrQdSNUPvqU3R32TzaKPdv6N2vUcvxKrV\\\n",
              "5NbuG7Xr9uvxOsjv2m/SrhXogUnKHSjf1l+V2I+ivfx9neLHi7cpml9VdUn1RY7No8I0oy3lxED6\\\n",
              "Qv7eVHdXMa21KeaT1rjOuf+VNNjMTLuOLU40syLn3D/iyifWt4n8jzYWRl9I2iYfLqnqukG77lCc\\\n",
              "rh7yGzmnOecK4uqwW78rM/sv+T3Kx51zdyW81lT+2Oetzrn744Z3TZhM7C7TnZRwTCSFPfnepGut\\\n",
              "fOAmDkvXZPljdFnyxzv3hq/lN3bipdoYS5RqPbApyfDaElsnfEfSW7GB0QZCM9XwjtohYQ+savcp\\\n",
              "/Vu7vy6pu1XsndZI/vjRu865L6MmxXck/cTMsuLKnawUB9cjS+UD8IKE4RWeO+e+krRI0gXxdTaz\\\n",
              "Q+WblualmMdq+b3OCxOG/1iVN3Rmy3e1/rdzrjDJ42tVrUbjOm+x/PE+qXLIJNb3AvnvdeyHPFt+\\\n",
              "KzunivnFVqIvS+pgZuelqHuiZtHf7bEBZtZGPmhqxHzPyRnynTSSnV/4LfnjqtsThg9JeP6m/PHS\\\n",
              "XyhNe/i9SXce3yRZ9t/UYBJz5MP9Aefcv6srvJtWqvL365wk5b6WVKnnp/x64Idm1jI2IPr/PNXC\\\n",
              "MqyKc+4T+XNPE6/8c5H89+UflUZqINgDq4Kr2a3d75Nfkcwxs1/L3/V2mPx5YvE/gF/Lryinm9mD\\\n",
              "ktrJ9y5MuYfnnNtkZr+XNNrMSuT3Dr8n35NO8sd8Ym6R31KdYWYT5Y+HjJW/o+/vUsyjzMzGyveg\\\n",
              "e1T+ZNYu8k1jXyYUHyPpbUlvmNkf5Y/htZH/8R/unEt1kme140a9ue6Xv6LJh/Ir7iHyx+JeS5je\\\n",
              "d+Lqe5SkO+UP2L8ava95ZjZF/hjYvdG8y+Q3Gn4of8LuB/Kf8+WSppjZOPmeki3le0D+3jm3PMl7\\\n",
              "eTNaNn+KPvfm8r0dN0jKSbEMknlSvpn5Gknf8zue5d51zm02s4WS/sfM1kXzGKpdTaWK3m+JmY2S\\\n",
              "9Acz+1s03RL5btbbnHN/qGL+u/W9qSvRBuDe2vOKmSp/3tSv5M/DPK2Kef5H0jAz+6mkjySVOOfe\\\n",
              "lz+J+lxJr5rZ3fJ7tTfJb+jcFhvZzHrKH8MbWt1xMDPLk/+uxjZ6v21mP4n+n+Wc2xr9P1r+s3tQ\\\n",
              "/tj7CfLfxfvTaEEKV6Z7kdT3h9K4tXtU7mj5dvrN8k1WCyX1STK9gfK9E7+W3/XvL791Ni+uTL4S\\\n",
              "bnMvvxK/Uz7sSqNxTonKDU+YRx/5PZDSqD7PSzo6zfc7XH5LdJv8MahTFXeL+rhyB8tfyWFNtFzW\\\n",
              "yW8lp3Mb+pTjyjeV/lXSB/LdgDfKb932TrKMzo8+n2L5FfVTktomzC8rel/vRe9rc/T/b+T3zGLl\\\n",
              "Wsgfi1sZV6/nJLWPXh+ihF6Iks6Q71ZdKr8yu1ZJehiqml6I0TJ2VTxyozK58lvTJfLH8P4ov4FU\\\n",
              "4bsSlf2JfAiXyofsPyWdW1V90v3eqOoeeJW+I3v4u4st6y4pysS+A+n0QrysinHjf2NN5Tec1kXL\\\n",
              "+GlJJ6lyL8QO8p1CSlS5B/HJ8huYW+RbTV6VdFIV8x6SxnJ4rLrvRVzZ8+W/11/Lr6/GSGpUW59J\\\n",
              "fXxY9MYRoGhL7FlJpzvn5me6PnXJ/EnecyWd5Zx7JbO1AZAJNCEGIjpWdo78lvQ2Sd3km/cWyp9E\\\n",
              "DQD7FAIsHFvkzzO5Wv7kyM/kD2qPcuxGA9gH0YQIAAgS3egBAEEiwAAAQWqwx8Datm3rcnNzM10N\\\n",
              "oJJFixapW7duma4GkNSiRYs2OOfaZboe6Wiwx8Dy8vJcYWFhpqsBVGJmaqi/O4TPzBY55/IyXY90\\\n",
              "0IQI1KGSkpJMVwFoMAgwoA797nf+qkwFBZy6B+wpAgyoI6WlpbrvvvskSTfeeGOGawOEjwAD6sik\\\n",
              "SZO0fbu/mPySJUvYCwP2EAEG1IEdO3bo9ttv1zff+DuIbNu2TaNGjcpwrYCwEWBAHcjKytKdd96p\\\n",
              "cePGSZLGjx+v4cOHpxwnN1fKzpZatJA6dJCGDJG2bPGvDRkiNWniX4s9jjtur74FoN6hGz1Qx9Lt\\\n",
              "Rp+bKz38sHTmmdL69VLv3tK550p33ukD7OCDpTvuqH5++fnSrbf6v0B16EYPoFZ16OADbPHiTNcE\\\n",
              "qD8IMCAAq1dL//iH1KVLpmsC1B8EGFCP9esntWwpHXKI1L69NHbsrtfuuUdq3XrX45JLMlNHIFMI\\\n",
              "MKAemz5dKimR5s2Tli+XNmzY9doNN0jFxbsef/3rrtfig62gwB87iz0fP76uag/sXQQYEICePX3H\\\n",
              "jRtuSK98fLCdeqo0Y8au5yNH7q1aAnWrwV6NHmhorrvO90x8771M1wSoH9gDAwLRrp00eLB0223+\\\n",
              "+W9+U/E8sLZtM1s/oK5xHhhQx7idCuozzgMDAGAvI8AAAEEiwAAAQSLAAABBIsAAAEEiwAAAQSLA\\\n",
              "AABBIsAAAEEiwAAAQSLAAABBIsAAAEEiwAAAQSLAAABBIsAAAEEiwAAAQSLAAABBIsAAAEEiwAAA\\\n",
              "QSLAAABBIsAAAEEiwAAAQSLAAABBIsAAAEEiwAAAQSLAAABBIsAAAEEiwAAAQSLAAABBIsAAAEEi\\\n",
              "wAAAQSLAAABBIsAAAEEiwAAAQSLAAABBIsAAAEEiwAAAQSLAAABBIsAAAEEiwAAAQSLAAABBIsAA\\\n",
              "AEEiwAAAQSLAAABBIsAAAEEiwAAAQSLAAABBIsAAAEEiwAAAQSLAAABBIsAAAEEiwAAAQSLAAABB\\\n",
              "IsAAAEEiwAAAQSLAAABBIsAAAEEiwAAAQSLAAABBIsAAAEEiwAAAQSLAAABBIsAAAEEiwAAAQSLA\\\n",
              "AABBIsAAAEEiwAAAQSLAAABBIsAAAEEiwAAAQSLAAABBIsAAAEEiwAAAQSLAAABBIsAAAEEiwAAA\\\n",
              "QSLAAABBIsAAAEEiwAAAQSLAAABBIsAAAEEiwAAAQSLAAABBIsAAAEEiwAAAQSLAAABBIsAAAEEi\\\n",
              "wAAAQSLAAABBIsAAAEEiwAAAQSLAAABBIsAAAEEiwAAAQSLAAABBIsAAAEEiwAAAQSLAAABBIsAA\\\n",
              "AEEiwAAAQSLAAABBIsAAAEEiwAAAQSLAAABBIsAAAEEiwAAAQSLAAABBIsAAAEEiwAAAQSLAAABB\\\n",
              "IsAAAEEiwAAAQSLAAABBIsAAAEEiwAAAQSLAAABBIsAAAEEiwAAAQSLAAABBIsAAAEEiwAAAQSLA\\\n",
              "AABBIsAAAEEiwAAAQSLAAABBIsAAAEEiwAAAQSLAAABBIsAAAEEiwAAAQSLAqpObK2VnSy1aSB06\\\n",
              "SEOGSFu2+NdWr5Z+/GOpbVspJ0f67nelxx7LYGUBhIzVTc0QYOl48UX/LVq8WHr3XWncOD/84oul\\\n",
              "Qw6RVq6UvvhCevxx6cADM1pVAGGrjdVNfr40b14dVTiDGme6AkHp0EHq3dt/syTpnXek++6Tmjf3\\\n",
              "z084IWNVA9CwsLqpHntgNbF6tfSPf0hduvjn3btLV18tTZ0qffJJZusGoEFhdVM9Aiwd/fpJLVv6\\\n",
              "/ff27aWxY/3wZ5+VTjtNuv126bDDpOOP95tJALCbWN2kjwBLx/TpUkmJb1RevlzasMEPb9NGGj9e\\\n",
              "+ve/pU8/9d+ofv0k56Qrr/RHYlu0kO66K3N1BxCU3VndSFLr1rseBQXSuefuej5+fJ2/jTpBgNVE\\\n",
              "z56+W9ANN1R+rW1bP3ztWmnjRumBB/yR2C1bpNGj67yqAMJWk9WNJBUX73qceqo0Y8au5yNH1lWt\\\n",
              "6xYBVlPXXSfNmSO99550003SsmXSjh1+k2nSJN9gfcABma4lgAaA1U1qBFhNtWsnDR4s3XabtHWr\\\n",
              "1L+/30c//HDfv/WFFzJdQwANBKub1MzFGlAbmLy8PFdYWJjpagCVmJka6u8O4TOzRc65vEzXIx3s\\\n",
              "gQEAgkSAAQCCRIABAIJEgAEAgrRPBVhZWZmeffZZvfzyy5muCgBkxKOPPqqCgoJMV6NW7BMBVlZW\\\n",
              "pmeeeUaHH364Bg0apIcffjjTVQKAjBg7dqzOOOMM9ejRI/gga/BXo3/11VfVv39/lZaWaseOHZmu\\\n",
              "DgBklHNO27dv18KFC5Wfn6/27dvrvffeU7t27TJdtRprsOeBmVnDfGMAsHcFcx5Yg90D69atm+JP\\\n",
              "ZF66dKluuukmzZ49WxdeeKGmTp2awdphX2Zmmjt3bqargX3UwIED9fnnn6tPnz665JJLKu159erV\\\n",
              "K0M1q7kGG2CJunbtqlmzZmnp0qXKytonDv0BQCUjR45Ux44dg2wyTLTPBFhM165dM10FAMiY4447\\\n",
              "LtNVqDXsigAAgkSAAQCCRIABAIJEgAEAgkSAAQCCRIABAIJEgAEAgkSAAQCCRIABAIJEgAEAgkSA\\\n",
              "AQCCRIABAIJEgAEAgkSAAQCCRIABAIJEgAEAgkSAAQCCRIABAIJEgAEAgkSAAQCCRIABAIJEgAEA\\\n",
              "gkSAAQCCRIABAIJEgAEAgkSAAQCCRIABAIJEgAEAgkSAAQCCRIABAIJEgAEAgkSAAQCCRIABAIJE\\\n",
              "gAEAgkSAAQCCRIABAIJEgAEAgkSAAQCCRIABAIJEgAEAgkSAAQCCRIABAIJEgAEAgkSAAQCCRIAB\\\n",
              "AIJEgAEAgkSAAQCCRIABAIJEgAEAgkSAAQCCRIABAIJEgAEAgkSAAQCCRIABAIJEgAEAgkSAAQCC\\\n",
              "RIABAIJEgAEAgkSAAQCCRIABAIJEgAEAgkSAAQCCRIABAIJEgAEAgkSAAQCCRIABAIJEgAEAgkSA\\\n",
              "AQCCRIABQJp69eql8ePHZ7oaiDTOdAUA1B/btm3TjBkz9MYbb6ioqEhbt25Vq1atdNRRRyk/P19n\\\n",
              "nXWWGjVqlOlqApIIMACRNWvWaNSoUVq1apW6deumQYMGKScnR8XFxVq0aJHuvvtuFRUV6corr8x0\\\n",
              "VQFJBBgASV9//bVGjRqltWvXauzYsTr99NMrvD5w4EAtX75cy5cvz1ANG66tW7eqWbNmma5GkAgw\\\n",
              "AJo5c6ZWrVqlgQMHVgqvmGOOOUbHHHNMhWEFBQWaOnWqPvroI0nSEUccoQEDBujUU0+tUG7AgAHq\\\n",
              "0KGDRowYoYkTJ2rJkiXKyspSt27dNHz4cO2///4Vyq9fv15/+ctfVFhYqC1btqhdu3bKz8/XxRdf\\\n",
              "rKZNm1Yo+9VXX2nKlCmaP3++1q1bp+zsbHXu3Fn9+/fXGWecUV7uiy++0OTJk7Vw4UJt3LhROTk5\\\n",
              "6t69uy699FK1adOmwjQ//vhjTZo0SUuXLtV+++2nk046SVdffXXS5bJz504988wzeumll7R27Vpl\\\n",
              "Z2fr2GOP1c9//nMdfvjhFd7TwIEDdckll6hz586aOnWqVq5cqV69emnkyJFJp43UCDAAev311yVJ\\\n",
              "5557btrjTJ8+Xffff786d+6swYMHS5Jmz56tW265RSNGjNB5551XofyGDRt03XXX6bTTTtOVV16p\\\n",
              "jz76SC+++KK2bt2q3/72t+Xl1q9fr6uuukpfffWVfvSjH6lTp05avHixnnrqKS1btkz33ntv+XG4\\\n",
              "LVu26JprrlFRUZF69uypvn37qqysTCtWrNBbb71VHmCffvqpfvnLX2r79u364Q9/qI4dO2rNmjV6\\\n",
              "4YUXtHjxYj3wwANq0aKFJGndunUaPny4tm/frn79+ql9+/Z68803ddNNNyVdDnfccYfmzZunvLw8\\\n",
              "9e3bVxs3btT06dNVWFioCRMm6Mgjj6xQvqCgQJ999pn69u2rvn37sve1BwgwACoqKlLz5s3VsWPH\\\n",
              "tMqXlJTowQcfVMeOHTVx4kQ1b95cktS3b1/94he/0KRJk9SrV6/yUJD8MbYxY8aoV69e5cPMTM8/\\\n",
              "/7w++eQTde7cWZL08MMPq7i4WOPGjVP37t0lSf369dMDDzygp59+WrNnz9Y555wjSXrooYdUVFSU\\\n",
              "NDDLysrK/58wYYJ27Nihhx56SO3atSsfnp+fr2HDhum5557TkCFDyudfUlKie++9VyeccEL5/MeM\\\n",
              "GaMVK1ZUmEdhYaHmzZun/Px8jRkzRmZWPt0rrrhCf/jDHzRhwoRKy/qRRx7RoYcemtayRtXoRg9A\\\n",
              "X331lbKzs9MuX1hYqG3btun8888vDy9Jat68ufr376/S0lItWrSowjht27atEF6SygNizZo1knzo\\\n",
              "vPnmmzryyCPLwytm0KBBysrKUkFBQXnZuXPn6tBDD60UXpKUleVXb1u2bNHChQt1yimnqEmTJtq8\\\n",
              "eXP5o0OHDurUqZMKCwvLp/nWW2/p6KOPLq+b5IN2wIABleYxf/58SdJFF11UHl6S1KVLF51yyila\\\n",
              "unSpiouLK4zTvXt3wquWsAcGQM2bN1dpaWna5devXy9Jys3NrfTaYYcdJklau3ZtheEHHXRQpbI5\\\n",
              "OTmSpM2bN0uSiouLVVpamnS6rVq10v77769169aVj1NSUqITTzwxZV1XrVqlsrIyzZo1S7NmzUpa\\\n",
              "JrbnGZt/bG8wXrLQWb9+vbKyspK+lpubq4KCAq1bt06tW7cuH37wwQenrC/SR4ABUG5urpYsWaK1\\\n",
              "a9em3YxYU7E9orrmnJMknXXWWerdu3fSMk2aNKmz+iR2QsHuI8AA6PTTT9eSJUs0c+ZMXX755dWW\\\n",
              "j+1NFRUVqVu3bhVeKyoqkqTdCsLWrVurWbNm5dOIV1JSoo0bN6pLly6S/N5by5Yty3tAVqVTp04y\\\n",
              "M23fvr1SXRPl5OQoOztbn3zySaXXVq5cWWnYQQcdpLKyMq1cuVJHHHFE0vLJ9jxROzgGBkDnnHOO\\\n",
              "DjnkED3zzDPlx5gSvf/++5o+fbokKS8vT02bNtW0adO0devW8jJbt27VtGnTlJ2dXW1YJJOVlaUe\\\n",
              "PXpoxYoVevvttyu89tRTT6msrKy8i35WVpbOOOMMrVy5UjNnzqw0rdieV05Ojk4++WTNnz9f//nP\\\n",
              "f5KWix2natSokXr06KH3339f7777boUyU6dOrTRurC5PPfVU+fwk3w1/wYIF6tq1a4XmQ9Qu9sAA\\\n",
              "qGnTpho3bpxGjRqlW265RXl5ecrLy1OrVq1UXFysxYsX65133invyNCiRQtdccUVuv/++zVs2LDy\\\n",
              "prmXXnpJa9as0YgRIyr0QKyJyy67TIsWLdLNN99c3o1+yZIlmjt3ro499lj16dOnvOyll16qd999\\\n",
              "V/fcc48KCwvVtWtXOef04YcfaufOnRo9erQk6frrr9e1116r4cOH6+yzz1aXLl3knNO6deu0YMEC\\\n",
              "nX322eW9EIcOHap//vOfGj16tPr376927drpzTffLD9OFy8vL0/5+fl67bXXVFJSoh49epR3o2/S\\\n",
              "pImuueaa3VoGSA8BBkCSb2r785//rBdffFFvvPGGnnjiCZWWlpZfC3HkyJH6wQ9+UF6+X79+OuCA\\\n",
              "A/T0009r8uTJkvyJzLfffnulE5lrokOHDpo4caIeffRRvfLKK+UnMg8aNEgXX3xxhWsxtmzZUn/6\\\n",
              "05/0xBNPaP78+SooKFCzZs106KGHqn///uXl2rdvrwcffFBTpkzRggULNGfOHDVp0kTt27dXjx49\\\n",
              "lJ+fX2E5TJgwQZMmTdK0adPKT2QePXq0zj///Er1vfnmm3XUUUdp9uzZmjRpkpo2barjjjtOQ4cO\\\n",
              "rXAiM2qfxe/2NiR5eXku1jUWqE/MTHPnzs10NYCkevXqtcg5l5fpeqSDY2AAgCARYACAIBFgAIAg\\\n",
              "EWAAgCARYACAIBFgAIAgEWAAgCARYACAIBFgAIAgEWAAgCARYACAIBFgAIAgEWAAgCARYACAIBFg\\\n",
              "AIAgEWAAgCARYACAIBFgAIAgEWAAgCARYACAIBFgAIAgEWAAgCARYACAIBFgAIAgEWAAgCARYACA\\\n",
              "IBFgAIAgEWAAgCARYACAIBFgAIAgEWAAgCARYACAIBFgAIAgEWAAgCARYACAIBFgAIAgEWAAgCAR\\\n",
              "YACAIBFgAIAgEWAAgCARYACAIBFgAIAgEWAAgCARYACAIBFgAIAgEWAAgCARYACAIBFgAIAgEWAA\\\n",
              "gCARYACAIBFgAIAgNc50BQAk133AAO23aZOUlaWd2dnaeNJJWjF8uHZmZ+uY8ePV/tVX5Rrv+gmX\\\n",
              "duyowkceyWCNgbpFgAH12LK77tKmbt3UZONGHXvjjer85JP6+LLLJEmrBgzQx5demuEaAplDEyIQ\\\n",
              "gG/2318bTzxRLT78MNNVAeoNAgwIwLc+/1z7v/22Sjt1ynRVgHqDJkSgHvvuzTfLmalxaak2nXCC\\\n",
              "in7+8/LXDnn6aXWaNq38+Ybvf1/LR43KRDWBjCDAgHps2R13aFO3bspZvFjfvvNO7bd5s3a0aCFJ\\\n",
              "WvXTnyY9BnbUvffqwDlzJEkrf/YzfXLRRXVaZ6CuEGBAADYff7zW9+6tIyZN0rI77khZ9oMRI/TB\\\n",
              "iBF1VDMgczgGBgRi9U9+ojaLFqk5HTkASeyBAcHY3rq11p99tnInT9bOZs10yNSpOvi558pfL2vS\\\n",
              "RAuefz6DNQTqFgEG1FMLp06tNGzF9deX/7985Mi6rA5Q79CECAAIEgEGAAgSAQYACBIBBgAIEgEG\\\n",
              "AAgSAQYACBIBBgAIEueBAXVgx44duuqqq7R582ZJ0tixY3XYYYdp8ODBGa4ZEC4CDKgDWVlZmj17\\\n",
              "tlavXi1Jev311/XNN99kuFZA2GhCBOpAVlaWxo8fr2bNmkmS9ttvP11++eUZrhUQNgIMqCMDBgxQ\\\n",
              "Tk6OJCkvL0+5ubmZrRAQOAIMqCONGjXS6NGjJYm9L6AWEGBAHbryyislib0voBYQYEAdatyYflNA\\\n",
              "bSHAAABBMudcpuuwV5jZ55JWZroeABCYQ51z7TJdiXQ02AADADRsNCECAIJEgAEAgkSAAQCCRIAB\\\n",
              "AIJEgAEAgkSAAQCCRIABAIJEgAEAgkSAAQCCRIABAIJEgAEAgkSAAQCCRIABAIJEgAEAgkSAAQCC\\\n",
              "RIABAIJEgAEAgkSAAQCCRIABAIJEgAEAgkSAAQCCRIABAIJEgAEAgkSAAQCCRIABAIJEgAEAgkSA\\\n",
              "AQCCRIABAIJEgAEAgkSAAQCCRIABAIJEgAEAgkSAAQCCRIABAIJEgAEAgkSAAQCCRIABAIJEgAEA\\\n",
              "gkSAAQCCRIABAIJEgAEAgkSAAQCCRIABAIJEgAEAgkSAAQCCRIABAIJEgAEAgkSAAQCCRIABAIJE\\\n",
              "gAEAgkSAAQCCRIABAIL0f4YasWSxrW4bAAAAAElFTkSuQmCC\\\n",
              "\"\n",
              "\n",
              "\n",
              "    /* set a timeout to make sure all the above elements are created before\n",
              "       the object is initialized. */\n",
              "    setTimeout(function() {\n",
              "        anime76ad48de0b54ee2aec14293d7d28dd3 = new Animation(frames, img_id, slider_id, 2000.0,\n",
              "                                 loop_select_id);\n",
              "    }, 0);\n",
              "  })()\n",
              "</script>\n"
            ],
            "text/plain": [
              "<IPython.core.display.HTML object>"
            ]
          },
          "metadata": {},
          "output_type": "display_data"
        },
        {
          "name": "stdout",
          "output_type": "stream",
          "text": [
            "La columna 'Est 3 E' contiene solo ceros y no se creará un video para ella.\n"
          ]
        },
        {
          "data": {
            "image/png": "[encoded data removed]",
            "text/plain": [
              "<Figure size 432x432 with 1 Axes>"
            ]
          },
          "metadata": {},
          "output_type": "display_data"
        }
      ],
      "source": [
        "# (C)\n",
        "\n",
        "from IPython.display import HTML, clear_output\n",
        "import matplotlib.pyplot as plt\n",
        "from matplotlib.animation import FuncAnimation\n",
        "import numpy as np\n",
        "import time\n",
        "\n",
        "# Obtener las columnas que terminan con 'E'\n",
        "columnas_con_E = [col for col in df_filtrado.columns if col.endswith('E')]\n",
        "\n",
        "fig, ax = plt.subplots(figsize=(6, 6))\n",
        "\n",
        "nivel_esp = {\n",
        "    4: \"Élite\",\n",
        "    3: \"Conocimiento\",\n",
        "    2: \"Conocedor\",\n",
        "    1: \"Relativista\"\n",
        "}\n",
        "\n",
        "cuadrantes = {\n",
        "    4: ([0, 1, 1, 0], [0, 0, 1, 1], 0.5, 0.5),\n",
        "    3: ([0, -1, -1, 0], [0, 0, 1, 1], -0.5, 0.5),\n",
        "    2: ([0, 1, 1, 0], [0, 0, -1, -1], 0.5, -0.5),\n",
        "    1: ([0, -1, -1, 0], [0, 0, -1, -1], -0.5, -0.5)\n",
        "}\n",
        "\n",
        "def update(frame, col_name):\n",
        "    ax.clear()\n",
        "\n",
        "    if frame < len(df_filtrado):  # Verificar si estamos dentro de los límites del DataFrame\n",
        "        codsw = df_filtrado[col_name].iloc[frame]\n",
        "\n",
        "        ax.axhline(0, color='black', linewidth=1)\n",
        "        ax.axvline(0, color='black', linewidth=1)\n",
        "        ax.set_xlim(-1, 1)\n",
        "        ax.set_ylim(-1, 1)\n",
        "\n",
        "        ax.annotate('', xy=(1, 0), xytext=(0.95, 0), arrowprops=dict(arrowstyle='-|>', color='black'))\n",
        "        ax.annotate('', xy=(0, 1), xytext=(0, 0.95), arrowprops=dict(arrowstyle='-|>', color='black'))\n",
        "        ax.annotate('', xy=(-1, 0), xytext=(-0.95, 0), arrowprops=dict(arrowstyle='-|>', color='black'))\n",
        "        ax.annotate('', xy=(0, -1), xytext=(0, -0.95), arrowprops=dict(arrowstyle='-|>', color='black'))\n",
        "\n",
        "        ax.text(0.05, 0.9, 'RE+', fontsize=12, color='blue')\n",
        "        ax.text(0.05, -0.9, 'RE-', fontsize=12, color='red')\n",
        "        ax.text(0.8, 0.05, 'RS+', fontsize=12, color='blue')\n",
        "        ax.text(-0.9, 0.05, 'RS-', fontsize=12, color='red')\n",
        "\n",
        "        if codsw in cuadrantes:\n",
        "            x, y, text_x, text_y = cuadrantes[codsw]\n",
        "            ax.fill(x, y, color='GRAY', alpha=0.5)\n",
        "            ax.text(text_x, text_y, nivel_esp[codsw], fontsize=18, color='black', ha='center', va='center')\n",
        "\n",
        "        ax.set_title(f'{col_name} - {caso} \\n Código de especialización - Minuto: {df_filtrado[\"TIEMPO\"].iloc[frame]}', fontsize=16)\n",
        "\n",
        "        ax.set_xticks([])\n",
        "        ax.set_yticks([])\n",
        "        ax.grid(True)\n",
        "\n",
        "    if frame == len(df_filtrado) - 1:\n",
        "        clear_output(wait=True)  # Borrar la última imagen cuando termine la animación\n",
        "\n",
        "# Iterar a través de las columnas y crear un archivo de video único para cada columna\n",
        "for col_name in columnas_con_E:\n",
        "    if not (df_filtrado[col_name] == 0).all():  # Verificar si la columna contiene solo ceros\n",
        "        ani = FuncAnimation(fig, update, frames=len(df_filtrado), repeat=False, interval=2000, fargs=(col_name,))\n",
        "\n",
        "        # Nombre del archivo de video con la etiqueta\n",
        "        nombre_archivo_video = f'cuadrantes_caso_{caso}_{col_name}.mp4'\n",
        "\n",
        "        # Guardar la animación en el archivo de video con el nombre actualizado\n",
        "        ani.save(nombre_archivo_video, writer='ffmpeg')\n",
        "\n",
        "        # Mostrar el video en el cuaderno\n",
        "        display(HTML(ani.to_jshtml()))\n",
        "    else:\n",
        "        print(f\"La columna '{col_name}' contiene solo ceros y no se creará un video para ella.\")\n"
      ]
    },
    {
      "cell_type": "code",
      "execution_count": 7,
      "metadata": {
        "colab": {
          "base_uri": "https://localhost:8080/",
          "height": 635
        },
        "id": "Xys61jrbiLfZ",
        "outputId": "314ebbf3-eec0-458e-ca29-e476ae46642f"
      },
      "outputs": [
        {
          "data": {
            "image/png": "[encoded data removed]",
            "text/plain": [
              "<Figure size 1152x648 with 1 Axes>"
            ]
          },
          "metadata": {
            "needs_background": "light"
          },
          "output_type": "display_data"
        }
      ],
      "source": [
        "# (D)\n",
        "\n",
        "# Cambiar paleta de colores actores\n",
        "x = df_filtrado_C.iloc[:, 1]  # Tiempo\n",
        "x1 = df_filtrado_C.iloc[:, 2]  # Docente\n",
        "x1M = df_filtrado_C.iloc[:, 4]  # Docente código\n",
        "x2 = df_filtrado_C.iloc[:, 5]  # Est 1\n",
        "x2M = df_filtrado_C.iloc[:, 7]  # Est 1 código\n",
        "x3 = df_filtrado_C.iloc[:, 8]  # Est 2\n",
        "x3M = df_filtrado_C.iloc[:, 10]  # Est 2 código\n",
        "x4 = df_filtrado_C.iloc[:, 11]  # Est 3\n",
        "x4M = df_filtrado_C.iloc[:, 13]  # Est 3 código\n",
        "\n",
        "# Definir el tamaño de la figura\n",
        "plt.figure(figsize=(16, 9))  # 16:9 es la proporción de 1920x1080\n",
        "\n",
        "\n",
        "\n",
        "# Graficar los datos\n",
        "plt.plot(x, x1, marker='o', label='Docente', color='red')\n",
        "plt.plot(x, x2, marker='o', label='Estudiante 1', color='green')\n",
        "plt.plot(x, x4, marker='o', label='Estudiante 2', color='blue')\n",
        "plt.plot(x, x3, marker='o', label='Estudiante 3', color='purple')\n",
        "\n",
        "# Agregar etiquetas a los puntos correspondientes\n",
        "plt.xlabel('TIEMPO')\n",
        "plt.ylabel('NIVEL')\n",
        "plt.title(f'Onda Semántica - {caso}')\n",
        "\n",
        "# Agregar la leyenda\n",
        "plt.legend()\n",
        "\n",
        "plt.grid(True)  # Activar la rejilla\n",
        "\n",
        "# Mostrar la figura\n",
        "plt.show()\n"
      ]
    },
    {
      "cell_type": "markdown",
      "metadata": {
        "id": "35VayVWtJ3UF"
      },
      "source": [
        "# Código semántica.\n"
      ]
    },
    {
      "cell_type": "markdown",
      "metadata": {
        "id": "S-n-TRWxJt7W"
      },
      "source": [
        "## Espacio bidimensional:\n",
        "En el algoritmo para la representación del dispositivo de traducción del código de semántica, se implementó un algoritmo que, al extraer los datos que se corresponden con las variables a analizar, imprime en pantalla una gráfica que representa la ondulación semánticas de cada uno de los actores dentro del mismo plano, facilitando la visualización del perfil C, en el cual ubicamos en el eje de abscisas la variable tiempo, y en el eje de las ordenadas distribuimos el ascenso semántico gravedad / densidad, en valores enteros de uno a cuatro."
      ]
    },
    {
      "cell_type": "markdown",
      "metadata": {
        "id": "UQ2iMIsVIujK"
      },
      "source": [
        "# Espacio tridimensional.\n",
        "Se propone también la visualización en un espacio tridimensional de los actores, donde se pueda apreciar su ubicación bajo el código de semántica y código de especialización en el tiempo, de forma simultánea."
      ]
    },
    {
      "cell_type": "markdown",
      "metadata": {
        "id": "YVlZXOdZWDBA"
      },
      "source": [
        "## Scatter"
      ]
    },
    {
      "cell_type": "code",
      "execution_count": 11,
      "metadata": {
        "colab": {
          "base_uri": "https://localhost:8080/",
          "height": 941
        },
        "id": "nlBUOFR6o-Ey",
        "outputId": "a9783a2b-7a6e-42ef-9df0-b6f037f89dab"
      },
      "outputs": [
        {
          "name": "stderr",
          "output_type": "stream",
          "text": [
            "C:\\Users\\ricar\\AppData\\Local\\Temp\\ipykernel_15756\\1961659636.py:10: SettingWithCopyWarning:\n",
            "\n",
            "\n",
            "A value is trying to be set on a copy of a slice from a DataFrame.\n",
            "Try using .loc[row_indexer,col_indexer] = value instead\n",
            "\n",
            "See the caveats in the documentation: https://pandas.pydata.org/pandas-docs/stable/user_guide/indexing.html#returning-a-view-versus-a-copy\n",
            "\n"
          ]
        },
        {
          "data": {
            "application/vnd.plotly.v1+json": {
              "config": {
                "plotlyServerURL": "https://plot.ly"
              },
              "data": [
                {
                  "marker": {
                    "color": "red",
                    "line": {
                      "color": "black",
                      "width": 1
                    },
                    "opacity": 0.8,
                    "size": 10,
                    "symbol": "circle"
                  },
                  "mode": "markers",
                  "name": "DOCENTE",
                  "text": [
                    40,
                    41,
                    42,
                    43,
                    44,
                    45,
                    46,
                    47,
                    48,
                    49
                  ],
                  "type": "scatter3d",
                  "x": [
                    1,
                    2,
                    3,
                    4,
                    5,
                    6,
                    7,
                    8,
                    9,
                    10
                  ],
                  "y": [
                    3,
                    2,
                    2,
                    3,
                    2,
                    3,
                    3,
                    4,
                    4,
                    4
                  ],
                  "z": [
                    4,
                    4,
                    2,
                    1,
                    2,
                    2,
                    2,
                    1,
                    2,
                    4
                  ]
                },
                {
                  "marker": {
                    "color": "green",
                    "line": {
                      "color": "black",
                      "width": 1
                    },
                    "opacity": 0.8,
                    "size": 10,
                    "symbol": "circle"
                  },
                  "mode": "markers",
                  "name": "Est 1",
                  "text": [
                    40,
                    41,
                    42,
                    43,
                    44,
                    45,
                    46,
                    47,
                    48,
                    49
                  ],
                  "type": "scatter3d",
                  "x": [],
                  "y": [],
                  "z": []
                },
                {
                  "marker": {
                    "color": "purple",
                    "line": {
                      "color": "black",
                      "width": 1
                    },
                    "opacity": 0.8,
                    "size": 10,
                    "symbol": "circle"
                  },
                  "mode": "markers",
                  "name": "Est 2",
                  "text": [
                    40,
                    41,
                    42,
                    43,
                    44,
                    45,
                    46,
                    47,
                    48,
                    49
                  ],
                  "type": "scatter3d",
                  "x": [
                    8,
                    9,
                    10
                  ],
                  "y": [
                    2,
                    2,
                    2
                  ],
                  "z": [
                    2,
                    1,
                    3
                  ]
                },
                {
                  "marker": {
                    "color": "blue",
                    "line": {
                      "color": "black",
                      "width": 1
                    },
                    "opacity": 0.8,
                    "size": 10,
                    "symbol": "circle"
                  },
                  "mode": "markers",
                  "name": "Est 3",
                  "text": [
                    40,
                    41,
                    42,
                    43,
                    44,
                    45,
                    46,
                    47,
                    48,
                    49
                  ],
                  "type": "scatter3d",
                  "x": [],
                  "y": [],
                  "z": []
                }
              ],
              "frames": [
                {
                  "data": [
                    {
                      "marker": {
                        "color": "red",
                        "line": {
                          "color": "black",
                          "width": 1
                        },
                        "opacity": 0.8,
                        "size": 10,
                        "symbol": "circle"
                      },
                      "mode": "markers",
                      "name": "DOCENTE",
                      "text": [
                        40,
                        41,
                        42,
                        43,
                        44,
                        45,
                        46,
                        47,
                        48,
                        49
                      ],
                      "type": "scatter3d",
                      "x": [
                        1
                      ],
                      "y": [
                        3
                      ],
                      "z": [
                        4
                      ]
                    },
                    {
                      "marker": {
                        "color": "green",
                        "line": {
                          "color": "black",
                          "width": 1
                        },
                        "opacity": 0.8,
                        "size": 10,
                        "symbol": "circle"
                      },
                      "mode": "markers",
                      "name": "Est 1",
                      "text": [
                        40,
                        41,
                        42,
                        43,
                        44,
                        45,
                        46,
                        47,
                        48,
                        49
                      ],
                      "type": "scatter3d",
                      "x": [],
                      "y": [],
                      "z": []
                    },
                    {
                      "marker": {
                        "color": "purple",
                        "line": {
                          "color": "black",
                          "width": 1
                        },
                        "opacity": 0.8,
                        "size": 10,
                        "symbol": "circle"
                      },
                      "mode": "markers",
                      "name": "Est 2",
                      "text": [
                        40,
                        41,
                        42,
                        43,
                        44,
                        45,
                        46,
                        47,
                        48,
                        49
                      ],
                      "type": "scatter3d",
                      "x": [],
                      "y": [],
                      "z": []
                    },
                    {
                      "marker": {
                        "color": "blue",
                        "line": {
                          "color": "black",
                          "width": 1
                        },
                        "opacity": 0.8,
                        "size": 10,
                        "symbol": "circle"
                      },
                      "mode": "markers",
                      "name": "Est 3",
                      "text": [
                        40,
                        41,
                        42,
                        43,
                        44,
                        45,
                        46,
                        47,
                        48,
                        49
                      ],
                      "type": "scatter3d",
                      "x": [],
                      "y": [],
                      "z": []
                    }
                  ],
                  "name": "Frame 1"
                },
                {
                  "data": [
                    {
                      "marker": {
                        "color": "red",
                        "line": {
                          "color": "black",
                          "width": 1
                        },
                        "opacity": 0.8,
                        "size": 10,
                        "symbol": "circle"
                      },
                      "mode": "markers",
                      "name": "DOCENTE",
                      "text": [
                        40,
                        41,
                        42,
                        43,
                        44,
                        45,
                        46,
                        47,
                        48,
                        49
                      ],
                      "type": "scatter3d",
                      "x": [
                        1,
                        2
                      ],
                      "y": [
                        3,
                        2
                      ],
                      "z": [
                        4,
                        4
                      ]
                    },
                    {
                      "marker": {
                        "color": "green",
                        "line": {
                          "color": "black",
                          "width": 1
                        },
                        "opacity": 0.8,
                        "size": 10,
                        "symbol": "circle"
                      },
                      "mode": "markers",
                      "name": "Est 1",
                      "text": [
                        40,
                        41,
                        42,
                        43,
                        44,
                        45,
                        46,
                        47,
                        48,
                        49
                      ],
                      "type": "scatter3d",
                      "x": [],
                      "y": [],
                      "z": []
                    },
                    {
                      "marker": {
                        "color": "purple",
                        "line": {
                          "color": "black",
                          "width": 1
                        },
                        "opacity": 0.8,
                        "size": 10,
                        "symbol": "circle"
                      },
                      "mode": "markers",
                      "name": "Est 2",
                      "text": [
                        40,
                        41,
                        42,
                        43,
                        44,
                        45,
                        46,
                        47,
                        48,
                        49
                      ],
                      "type": "scatter3d",
                      "x": [],
                      "y": [],
                      "z": []
                    },
                    {
                      "marker": {
                        "color": "blue",
                        "line": {
                          "color": "black",
                          "width": 1
                        },
                        "opacity": 0.8,
                        "size": 10,
                        "symbol": "circle"
                      },
                      "mode": "markers",
                      "name": "Est 3",
                      "text": [
                        40,
                        41,
                        42,
                        43,
                        44,
                        45,
                        46,
                        47,
                        48,
                        49
                      ],
                      "type": "scatter3d",
                      "x": [],
                      "y": [],
                      "z": []
                    }
                  ],
                  "name": "Frame 2"
                },
                {
                  "data": [
                    {
                      "marker": {
                        "color": "red",
                        "line": {
                          "color": "black",
                          "width": 1
                        },
                        "opacity": 0.8,
                        "size": 10,
                        "symbol": "circle"
                      },
                      "mode": "markers",
                      "name": "DOCENTE",
                      "text": [
                        40,
                        41,
                        42,
                        43,
                        44,
                        45,
                        46,
                        47,
                        48,
                        49
                      ],
                      "type": "scatter3d",
                      "x": [
                        1,
                        2,
                        3
                      ],
                      "y": [
                        3,
                        2,
                        2
                      ],
                      "z": [
                        4,
                        4,
                        2
                      ]
                    },
                    {
                      "marker": {
                        "color": "green",
                        "line": {
                          "color": "black",
                          "width": 1
                        },
                        "opacity": 0.8,
                        "size": 10,
                        "symbol": "circle"
                      },
                      "mode": "markers",
                      "name": "Est 1",
                      "text": [
                        40,
                        41,
                        42,
                        43,
                        44,
                        45,
                        46,
                        47,
                        48,
                        49
                      ],
                      "type": "scatter3d",
                      "x": [],
                      "y": [],
                      "z": []
                    },
                    {
                      "marker": {
                        "color": "purple",
                        "line": {
                          "color": "black",
                          "width": 1
                        },
                        "opacity": 0.8,
                        "size": 10,
                        "symbol": "circle"
                      },
                      "mode": "markers",
                      "name": "Est 2",
                      "text": [
                        40,
                        41,
                        42,
                        43,
                        44,
                        45,
                        46,
                        47,
                        48,
                        49
                      ],
                      "type": "scatter3d",
                      "x": [],
                      "y": [],
                      "z": []
                    },
                    {
                      "marker": {
                        "color": "blue",
                        "line": {
                          "color": "black",
                          "width": 1
                        },
                        "opacity": 0.8,
                        "size": 10,
                        "symbol": "circle"
                      },
                      "mode": "markers",
                      "name": "Est 3",
                      "text": [
                        40,
                        41,
                        42,
                        43,
                        44,
                        45,
                        46,
                        47,
                        48,
                        49
                      ],
                      "type": "scatter3d",
                      "x": [],
                      "y": [],
                      "z": []
                    }
                  ],
                  "name": "Frame 3"
                },
                {
                  "data": [
                    {
                      "marker": {
                        "color": "red",
                        "line": {
                          "color": "black",
                          "width": 1
                        },
                        "opacity": 0.8,
                        "size": 10,
                        "symbol": "circle"
                      },
                      "mode": "markers",
                      "name": "DOCENTE",
                      "text": [
                        40,
                        41,
                        42,
                        43,
                        44,
                        45,
                        46,
                        47,
                        48,
                        49
                      ],
                      "type": "scatter3d",
                      "x": [
                        1,
                        2,
                        3,
                        4
                      ],
                      "y": [
                        3,
                        2,
                        2,
                        3
                      ],
                      "z": [
                        4,
                        4,
                        2,
                        1
                      ]
                    },
                    {
                      "marker": {
                        "color": "green",
                        "line": {
                          "color": "black",
                          "width": 1
                        },
                        "opacity": 0.8,
                        "size": 10,
                        "symbol": "circle"
                      },
                      "mode": "markers",
                      "name": "Est 1",
                      "text": [
                        40,
                        41,
                        42,
                        43,
                        44,
                        45,
                        46,
                        47,
                        48,
                        49
                      ],
                      "type": "scatter3d",
                      "x": [],
                      "y": [],
                      "z": []
                    },
                    {
                      "marker": {
                        "color": "purple",
                        "line": {
                          "color": "black",
                          "width": 1
                        },
                        "opacity": 0.8,
                        "size": 10,
                        "symbol": "circle"
                      },
                      "mode": "markers",
                      "name": "Est 2",
                      "text": [
                        40,
                        41,
                        42,
                        43,
                        44,
                        45,
                        46,
                        47,
                        48,
                        49
                      ],
                      "type": "scatter3d",
                      "x": [],
                      "y": [],
                      "z": []
                    },
                    {
                      "marker": {
                        "color": "blue",
                        "line": {
                          "color": "black",
                          "width": 1
                        },
                        "opacity": 0.8,
                        "size": 10,
                        "symbol": "circle"
                      },
                      "mode": "markers",
                      "name": "Est 3",
                      "text": [
                        40,
                        41,
                        42,
                        43,
                        44,
                        45,
                        46,
                        47,
                        48,
                        49
                      ],
                      "type": "scatter3d",
                      "x": [],
                      "y": [],
                      "z": []
                    }
                  ],
                  "name": "Frame 4"
                },
                {
                  "data": [
                    {
                      "marker": {
                        "color": "red",
                        "line": {
                          "color": "black",
                          "width": 1
                        },
                        "opacity": 0.8,
                        "size": 10,
                        "symbol": "circle"
                      },
                      "mode": "markers",
                      "name": "DOCENTE",
                      "text": [
                        40,
                        41,
                        42,
                        43,
                        44,
                        45,
                        46,
                        47,
                        48,
                        49
                      ],
                      "type": "scatter3d",
                      "x": [
                        1,
                        2,
                        3,
                        4,
                        5
                      ],
                      "y": [
                        3,
                        2,
                        2,
                        3,
                        2
                      ],
                      "z": [
                        4,
                        4,
                        2,
                        1,
                        2
                      ]
                    },
                    {
                      "marker": {
                        "color": "green",
                        "line": {
                          "color": "black",
                          "width": 1
                        },
                        "opacity": 0.8,
                        "size": 10,
                        "symbol": "circle"
                      },
                      "mode": "markers",
                      "name": "Est 1",
                      "text": [
                        40,
                        41,
                        42,
                        43,
                        44,
                        45,
                        46,
                        47,
                        48,
                        49
                      ],
                      "type": "scatter3d",
                      "x": [],
                      "y": [],
                      "z": []
                    },
                    {
                      "marker": {
                        "color": "purple",
                        "line": {
                          "color": "black",
                          "width": 1
                        },
                        "opacity": 0.8,
                        "size": 10,
                        "symbol": "circle"
                      },
                      "mode": "markers",
                      "name": "Est 2",
                      "text": [
                        40,
                        41,
                        42,
                        43,
                        44,
                        45,
                        46,
                        47,
                        48,
                        49
                      ],
                      "type": "scatter3d",
                      "x": [],
                      "y": [],
                      "z": []
                    },
                    {
                      "marker": {
                        "color": "blue",
                        "line": {
                          "color": "black",
                          "width": 1
                        },
                        "opacity": 0.8,
                        "size": 10,
                        "symbol": "circle"
                      },
                      "mode": "markers",
                      "name": "Est 3",
                      "text": [
                        40,
                        41,
                        42,
                        43,
                        44,
                        45,
                        46,
                        47,
                        48,
                        49
                      ],
                      "type": "scatter3d",
                      "x": [],
                      "y": [],
                      "z": []
                    }
                  ],
                  "name": "Frame 5"
                },
                {
                  "data": [
                    {
                      "marker": {
                        "color": "red",
                        "line": {
                          "color": "black",
                          "width": 1
                        },
                        "opacity": 0.8,
                        "size": 10,
                        "symbol": "circle"
                      },
                      "mode": "markers",
                      "name": "DOCENTE",
                      "text": [
                        40,
                        41,
                        42,
                        43,
                        44,
                        45,
                        46,
                        47,
                        48,
                        49
                      ],
                      "type": "scatter3d",
                      "x": [
                        1,
                        2,
                        3,
                        4,
                        5,
                        6
                      ],
                      "y": [
                        3,
                        2,
                        2,
                        3,
                        2,
                        3
                      ],
                      "z": [
                        4,
                        4,
                        2,
                        1,
                        2,
                        2
                      ]
                    },
                    {
                      "marker": {
                        "color": "green",
                        "line": {
                          "color": "black",
                          "width": 1
                        },
                        "opacity": 0.8,
                        "size": 10,
                        "symbol": "circle"
                      },
                      "mode": "markers",
                      "name": "Est 1",
                      "text": [
                        40,
                        41,
                        42,
                        43,
                        44,
                        45,
                        46,
                        47,
                        48,
                        49
                      ],
                      "type": "scatter3d",
                      "x": [],
                      "y": [],
                      "z": []
                    },
                    {
                      "marker": {
                        "color": "purple",
                        "line": {
                          "color": "black",
                          "width": 1
                        },
                        "opacity": 0.8,
                        "size": 10,
                        "symbol": "circle"
                      },
                      "mode": "markers",
                      "name": "Est 2",
                      "text": [
                        40,
                        41,
                        42,
                        43,
                        44,
                        45,
                        46,
                        47,
                        48,
                        49
                      ],
                      "type": "scatter3d",
                      "x": [],
                      "y": [],
                      "z": []
                    },
                    {
                      "marker": {
                        "color": "blue",
                        "line": {
                          "color": "black",
                          "width": 1
                        },
                        "opacity": 0.8,
                        "size": 10,
                        "symbol": "circle"
                      },
                      "mode": "markers",
                      "name": "Est 3",
                      "text": [
                        40,
                        41,
                        42,
                        43,
                        44,
                        45,
                        46,
                        47,
                        48,
                        49
                      ],
                      "type": "scatter3d",
                      "x": [],
                      "y": [],
                      "z": []
                    }
                  ],
                  "name": "Frame 6"
                },
                {
                  "data": [
                    {
                      "marker": {
                        "color": "red",
                        "line": {
                          "color": "black",
                          "width": 1
                        },
                        "opacity": 0.8,
                        "size": 10,
                        "symbol": "circle"
                      },
                      "mode": "markers",
                      "name": "DOCENTE",
                      "text": [
                        40,
                        41,
                        42,
                        43,
                        44,
                        45,
                        46,
                        47,
                        48,
                        49
                      ],
                      "type": "scatter3d",
                      "x": [
                        1,
                        2,
                        3,
                        4,
                        5,
                        6,
                        7
                      ],
                      "y": [
                        3,
                        2,
                        2,
                        3,
                        2,
                        3,
                        3
                      ],
                      "z": [
                        4,
                        4,
                        2,
                        1,
                        2,
                        2,
                        2
                      ]
                    },
                    {
                      "marker": {
                        "color": "green",
                        "line": {
                          "color": "black",
                          "width": 1
                        },
                        "opacity": 0.8,
                        "size": 10,
                        "symbol": "circle"
                      },
                      "mode": "markers",
                      "name": "Est 1",
                      "text": [
                        40,
                        41,
                        42,
                        43,
                        44,
                        45,
                        46,
                        47,
                        48,
                        49
                      ],
                      "type": "scatter3d",
                      "x": [],
                      "y": [],
                      "z": []
                    },
                    {
                      "marker": {
                        "color": "purple",
                        "line": {
                          "color": "black",
                          "width": 1
                        },
                        "opacity": 0.8,
                        "size": 10,
                        "symbol": "circle"
                      },
                      "mode": "markers",
                      "name": "Est 2",
                      "text": [
                        40,
                        41,
                        42,
                        43,
                        44,
                        45,
                        46,
                        47,
                        48,
                        49
                      ],
                      "type": "scatter3d",
                      "x": [],
                      "y": [],
                      "z": []
                    },
                    {
                      "marker": {
                        "color": "blue",
                        "line": {
                          "color": "black",
                          "width": 1
                        },
                        "opacity": 0.8,
                        "size": 10,
                        "symbol": "circle"
                      },
                      "mode": "markers",
                      "name": "Est 3",
                      "text": [
                        40,
                        41,
                        42,
                        43,
                        44,
                        45,
                        46,
                        47,
                        48,
                        49
                      ],
                      "type": "scatter3d",
                      "x": [],
                      "y": [],
                      "z": []
                    }
                  ],
                  "name": "Frame 7"
                },
                {
                  "data": [
                    {
                      "marker": {
                        "color": "red",
                        "line": {
                          "color": "black",
                          "width": 1
                        },
                        "opacity": 0.8,
                        "size": 10,
                        "symbol": "circle"
                      },
                      "mode": "markers",
                      "name": "DOCENTE",
                      "text": [
                        40,
                        41,
                        42,
                        43,
                        44,
                        45,
                        46,
                        47,
                        48,
                        49
                      ],
                      "type": "scatter3d",
                      "x": [
                        1,
                        2,
                        3,
                        4,
                        5,
                        6,
                        7,
                        8
                      ],
                      "y": [
                        3,
                        2,
                        2,
                        3,
                        2,
                        3,
                        3,
                        4
                      ],
                      "z": [
                        4,
                        4,
                        2,
                        1,
                        2,
                        2,
                        2,
                        1
                      ]
                    },
                    {
                      "marker": {
                        "color": "green",
                        "line": {
                          "color": "black",
                          "width": 1
                        },
                        "opacity": 0.8,
                        "size": 10,
                        "symbol": "circle"
                      },
                      "mode": "markers",
                      "name": "Est 1",
                      "text": [
                        40,
                        41,
                        42,
                        43,
                        44,
                        45,
                        46,
                        47,
                        48,
                        49
                      ],
                      "type": "scatter3d",
                      "x": [],
                      "y": [],
                      "z": []
                    },
                    {
                      "marker": {
                        "color": "purple",
                        "line": {
                          "color": "black",
                          "width": 1
                        },
                        "opacity": 0.8,
                        "size": 10,
                        "symbol": "circle"
                      },
                      "mode": "markers",
                      "name": "Est 2",
                      "text": [
                        40,
                        41,
                        42,
                        43,
                        44,
                        45,
                        46,
                        47,
                        48,
                        49
                      ],
                      "type": "scatter3d",
                      "x": [
                        8
                      ],
                      "y": [
                        2
                      ],
                      "z": [
                        2
                      ]
                    },
                    {
                      "marker": {
                        "color": "blue",
                        "line": {
                          "color": "black",
                          "width": 1
                        },
                        "opacity": 0.8,
                        "size": 10,
                        "symbol": "circle"
                      },
                      "mode": "markers",
                      "name": "Est 3",
                      "text": [
                        40,
                        41,
                        42,
                        43,
                        44,
                        45,
                        46,
                        47,
                        48,
                        49
                      ],
                      "type": "scatter3d",
                      "x": [],
                      "y": [],
                      "z": []
                    }
                  ],
                  "name": "Frame 8"
                },
                {
                  "data": [
                    {
                      "marker": {
                        "color": "red",
                        "line": {
                          "color": "black",
                          "width": 1
                        },
                        "opacity": 0.8,
                        "size": 10,
                        "symbol": "circle"
                      },
                      "mode": "markers",
                      "name": "DOCENTE",
                      "text": [
                        40,
                        41,
                        42,
                        43,
                        44,
                        45,
                        46,
                        47,
                        48,
                        49
                      ],
                      "type": "scatter3d",
                      "x": [
                        1,
                        2,
                        3,
                        4,
                        5,
                        6,
                        7,
                        8,
                        9
                      ],
                      "y": [
                        3,
                        2,
                        2,
                        3,
                        2,
                        3,
                        3,
                        4,
                        4
                      ],
                      "z": [
                        4,
                        4,
                        2,
                        1,
                        2,
                        2,
                        2,
                        1,
                        2
                      ]
                    },
                    {
                      "marker": {
                        "color": "green",
                        "line": {
                          "color": "black",
                          "width": 1
                        },
                        "opacity": 0.8,
                        "size": 10,
                        "symbol": "circle"
                      },
                      "mode": "markers",
                      "name": "Est 1",
                      "text": [
                        40,
                        41,
                        42,
                        43,
                        44,
                        45,
                        46,
                        47,
                        48,
                        49
                      ],
                      "type": "scatter3d",
                      "x": [],
                      "y": [],
                      "z": []
                    },
                    {
                      "marker": {
                        "color": "purple",
                        "line": {
                          "color": "black",
                          "width": 1
                        },
                        "opacity": 0.8,
                        "size": 10,
                        "symbol": "circle"
                      },
                      "mode": "markers",
                      "name": "Est 2",
                      "text": [
                        40,
                        41,
                        42,
                        43,
                        44,
                        45,
                        46,
                        47,
                        48,
                        49
                      ],
                      "type": "scatter3d",
                      "x": [
                        8,
                        9
                      ],
                      "y": [
                        2,
                        2
                      ],
                      "z": [
                        2,
                        1
                      ]
                    },
                    {
                      "marker": {
                        "color": "blue",
                        "line": {
                          "color": "black",
                          "width": 1
                        },
                        "opacity": 0.8,
                        "size": 10,
                        "symbol": "circle"
                      },
                      "mode": "markers",
                      "name": "Est 3",
                      "text": [
                        40,
                        41,
                        42,
                        43,
                        44,
                        45,
                        46,
                        47,
                        48,
                        49
                      ],
                      "type": "scatter3d",
                      "x": [],
                      "y": [],
                      "z": []
                    }
                  ],
                  "name": "Frame 9"
                },
                {
                  "data": [
                    {
                      "marker": {
                        "color": "red",
                        "line": {
                          "color": "black",
                          "width": 1
                        },
                        "opacity": 0.8,
                        "size": 10,
                        "symbol": "circle"
                      },
                      "mode": "markers",
                      "name": "DOCENTE",
                      "text": [
                        40,
                        41,
                        42,
                        43,
                        44,
                        45,
                        46,
                        47,
                        48,
                        49
                      ],
                      "type": "scatter3d",
                      "x": [
                        1,
                        2,
                        3,
                        4,
                        5,
                        6,
                        7,
                        8,
                        9,
                        10
                      ],
                      "y": [
                        3,
                        2,
                        2,
                        3,
                        2,
                        3,
                        3,
                        4,
                        4,
                        4
                      ],
                      "z": [
                        4,
                        4,
                        2,
                        1,
                        2,
                        2,
                        2,
                        1,
                        2,
                        4
                      ]
                    },
                    {
                      "marker": {
                        "color": "green",
                        "line": {
                          "color": "black",
                          "width": 1
                        },
                        "opacity": 0.8,
                        "size": 10,
                        "symbol": "circle"
                      },
                      "mode": "markers",
                      "name": "Est 1",
                      "text": [
                        40,
                        41,
                        42,
                        43,
                        44,
                        45,
                        46,
                        47,
                        48,
                        49
                      ],
                      "type": "scatter3d",
                      "x": [],
                      "y": [],
                      "z": []
                    },
                    {
                      "marker": {
                        "color": "purple",
                        "line": {
                          "color": "black",
                          "width": 1
                        },
                        "opacity": 0.8,
                        "size": 10,
                        "symbol": "circle"
                      },
                      "mode": "markers",
                      "name": "Est 2",
                      "text": [
                        40,
                        41,
                        42,
                        43,
                        44,
                        45,
                        46,
                        47,
                        48,
                        49
                      ],
                      "type": "scatter3d",
                      "x": [
                        8,
                        9,
                        10
                      ],
                      "y": [
                        2,
                        2,
                        2
                      ],
                      "z": [
                        2,
                        1,
                        3
                      ]
                    },
                    {
                      "marker": {
                        "color": "blue",
                        "line": {
                          "color": "black",
                          "width": 1
                        },
                        "opacity": 0.8,
                        "size": 10,
                        "symbol": "circle"
                      },
                      "mode": "markers",
                      "name": "Est 3",
                      "text": [
                        40,
                        41,
                        42,
                        43,
                        44,
                        45,
                        46,
                        47,
                        48,
                        49
                      ],
                      "type": "scatter3d",
                      "x": [],
                      "y": [],
                      "z": []
                    }
                  ],
                  "name": "Frame 10"
                },
                {
                  "data": [
                    {
                      "marker": {
                        "color": "red",
                        "line": {
                          "color": "black",
                          "width": 1
                        },
                        "opacity": 0.8,
                        "size": 10,
                        "symbol": "circle"
                      },
                      "mode": "markers",
                      "name": "DOCENTE",
                      "text": [
                        40,
                        41,
                        42,
                        43,
                        44,
                        45,
                        46,
                        47,
                        48,
                        49
                      ],
                      "type": "scatter3d",
                      "x": [
                        1,
                        2,
                        3,
                        4,
                        5,
                        6,
                        7,
                        8,
                        9,
                        10
                      ],
                      "y": [
                        3,
                        2,
                        2,
                        3,
                        2,
                        3,
                        3,
                        4,
                        4,
                        4
                      ],
                      "z": [
                        4,
                        4,
                        2,
                        1,
                        2,
                        2,
                        2,
                        1,
                        2,
                        4
                      ]
                    },
                    {
                      "marker": {
                        "color": "green",
                        "line": {
                          "color": "black",
                          "width": 1
                        },
                        "opacity": 0.8,
                        "size": 10,
                        "symbol": "circle"
                      },
                      "mode": "markers",
                      "name": "Est 1",
                      "text": [
                        40,
                        41,
                        42,
                        43,
                        44,
                        45,
                        46,
                        47,
                        48,
                        49
                      ],
                      "type": "scatter3d",
                      "x": [],
                      "y": [],
                      "z": []
                    },
                    {
                      "marker": {
                        "color": "purple",
                        "line": {
                          "color": "black",
                          "width": 1
                        },
                        "opacity": 0.8,
                        "size": 10,
                        "symbol": "circle"
                      },
                      "mode": "markers",
                      "name": "Est 2",
                      "text": [
                        40,
                        41,
                        42,
                        43,
                        44,
                        45,
                        46,
                        47,
                        48,
                        49
                      ],
                      "type": "scatter3d",
                      "x": [
                        8,
                        9,
                        10
                      ],
                      "y": [
                        2,
                        2,
                        2
                      ],
                      "z": [
                        2,
                        1,
                        3
                      ]
                    },
                    {
                      "marker": {
                        "color": "blue",
                        "line": {
                          "color": "black",
                          "width": 1
                        },
                        "opacity": 0.8,
                        "size": 10,
                        "symbol": "circle"
                      },
                      "mode": "markers",
                      "name": "Est 3",
                      "text": [
                        40,
                        41,
                        42,
                        43,
                        44,
                        45,
                        46,
                        47,
                        48,
                        49
                      ],
                      "type": "scatter3d",
                      "x": [],
                      "y": [],
                      "z": []
                    }
                  ],
                  "name": "Frame 11"
                },
                {
                  "data": [
                    {
                      "marker": {
                        "color": "red",
                        "line": {
                          "color": "black",
                          "width": 1
                        },
                        "opacity": 0.8,
                        "size": 10,
                        "symbol": "circle"
                      },
                      "mode": "markers",
                      "name": "DOCENTE",
                      "text": [
                        40,
                        41,
                        42,
                        43,
                        44,
                        45,
                        46,
                        47,
                        48,
                        49
                      ],
                      "type": "scatter3d",
                      "x": [
                        1,
                        2,
                        3,
                        4,
                        5,
                        6,
                        7,
                        8,
                        9,
                        10
                      ],
                      "y": [
                        3,
                        2,
                        2,
                        3,
                        2,
                        3,
                        3,
                        4,
                        4,
                        4
                      ],
                      "z": [
                        4,
                        4,
                        2,
                        1,
                        2,
                        2,
                        2,
                        1,
                        2,
                        4
                      ]
                    },
                    {
                      "marker": {
                        "color": "green",
                        "line": {
                          "color": "black",
                          "width": 1
                        },
                        "opacity": 0.8,
                        "size": 10,
                        "symbol": "circle"
                      },
                      "mode": "markers",
                      "name": "Est 1",
                      "text": [
                        40,
                        41,
                        42,
                        43,
                        44,
                        45,
                        46,
                        47,
                        48,
                        49
                      ],
                      "type": "scatter3d",
                      "x": [],
                      "y": [],
                      "z": []
                    },
                    {
                      "marker": {
                        "color": "purple",
                        "line": {
                          "color": "black",
                          "width": 1
                        },
                        "opacity": 0.8,
                        "size": 10,
                        "symbol": "circle"
                      },
                      "mode": "markers",
                      "name": "Est 2",
                      "text": [
                        40,
                        41,
                        42,
                        43,
                        44,
                        45,
                        46,
                        47,
                        48,
                        49
                      ],
                      "type": "scatter3d",
                      "x": [
                        8,
                        9,
                        10
                      ],
                      "y": [
                        2,
                        2,
                        2
                      ],
                      "z": [
                        2,
                        1,
                        3
                      ]
                    },
                    {
                      "marker": {
                        "color": "blue",
                        "line": {
                          "color": "black",
                          "width": 1
                        },
                        "opacity": 0.8,
                        "size": 10,
                        "symbol": "circle"
                      },
                      "mode": "markers",
                      "name": "Est 3",
                      "text": [
                        40,
                        41,
                        42,
                        43,
                        44,
                        45,
                        46,
                        47,
                        48,
                        49
                      ],
                      "type": "scatter3d",
                      "x": [],
                      "y": [],
                      "z": []
                    }
                  ],
                  "name": "Frame 12"
                },
                {
                  "data": [
                    {
                      "marker": {
                        "color": "red",
                        "line": {
                          "color": "black",
                          "width": 1
                        },
                        "opacity": 0.8,
                        "size": 10,
                        "symbol": "circle"
                      },
                      "mode": "markers",
                      "name": "DOCENTE",
                      "text": [
                        40,
                        41,
                        42,
                        43,
                        44,
                        45,
                        46,
                        47,
                        48,
                        49
                      ],
                      "type": "scatter3d",
                      "x": [
                        1,
                        2,
                        3,
                        4,
                        5,
                        6,
                        7,
                        8,
                        9,
                        10
                      ],
                      "y": [
                        3,
                        2,
                        2,
                        3,
                        2,
                        3,
                        3,
                        4,
                        4,
                        4
                      ],
                      "z": [
                        4,
                        4,
                        2,
                        1,
                        2,
                        2,
                        2,
                        1,
                        2,
                        4
                      ]
                    },
                    {
                      "marker": {
                        "color": "green",
                        "line": {
                          "color": "black",
                          "width": 1
                        },
                        "opacity": 0.8,
                        "size": 10,
                        "symbol": "circle"
                      },
                      "mode": "markers",
                      "name": "Est 1",
                      "text": [
                        40,
                        41,
                        42,
                        43,
                        44,
                        45,
                        46,
                        47,
                        48,
                        49
                      ],
                      "type": "scatter3d",
                      "x": [],
                      "y": [],
                      "z": []
                    },
                    {
                      "marker": {
                        "color": "purple",
                        "line": {
                          "color": "black",
                          "width": 1
                        },
                        "opacity": 0.8,
                        "size": 10,
                        "symbol": "circle"
                      },
                      "mode": "markers",
                      "name": "Est 2",
                      "text": [
                        40,
                        41,
                        42,
                        43,
                        44,
                        45,
                        46,
                        47,
                        48,
                        49
                      ],
                      "type": "scatter3d",
                      "x": [
                        8,
                        9,
                        10
                      ],
                      "y": [
                        2,
                        2,
                        2
                      ],
                      "z": [
                        2,
                        1,
                        3
                      ]
                    },
                    {
                      "marker": {
                        "color": "blue",
                        "line": {
                          "color": "black",
                          "width": 1
                        },
                        "opacity": 0.8,
                        "size": 10,
                        "symbol": "circle"
                      },
                      "mode": "markers",
                      "name": "Est 3",
                      "text": [
                        40,
                        41,
                        42,
                        43,
                        44,
                        45,
                        46,
                        47,
                        48,
                        49
                      ],
                      "type": "scatter3d",
                      "x": [],
                      "y": [],
                      "z": []
                    }
                  ],
                  "name": "Frame 13"
                },
                {
                  "data": [
                    {
                      "marker": {
                        "color": "red",
                        "line": {
                          "color": "black",
                          "width": 1
                        },
                        "opacity": 0.8,
                        "size": 10,
                        "symbol": "circle"
                      },
                      "mode": "markers",
                      "name": "DOCENTE",
                      "text": [
                        40,
                        41,
                        42,
                        43,
                        44,
                        45,
                        46,
                        47,
                        48,
                        49
                      ],
                      "type": "scatter3d",
                      "x": [
                        1,
                        2,
                        3,
                        4,
                        5,
                        6,
                        7,
                        8,
                        9,
                        10
                      ],
                      "y": [
                        3,
                        2,
                        2,
                        3,
                        2,
                        3,
                        3,
                        4,
                        4,
                        4
                      ],
                      "z": [
                        4,
                        4,
                        2,
                        1,
                        2,
                        2,
                        2,
                        1,
                        2,
                        4
                      ]
                    },
                    {
                      "marker": {
                        "color": "green",
                        "line": {
                          "color": "black",
                          "width": 1
                        },
                        "opacity": 0.8,
                        "size": 10,
                        "symbol": "circle"
                      },
                      "mode": "markers",
                      "name": "Est 1",
                      "text": [
                        40,
                        41,
                        42,
                        43,
                        44,
                        45,
                        46,
                        47,
                        48,
                        49
                      ],
                      "type": "scatter3d",
                      "x": [],
                      "y": [],
                      "z": []
                    },
                    {
                      "marker": {
                        "color": "purple",
                        "line": {
                          "color": "black",
                          "width": 1
                        },
                        "opacity": 0.8,
                        "size": 10,
                        "symbol": "circle"
                      },
                      "mode": "markers",
                      "name": "Est 2",
                      "text": [
                        40,
                        41,
                        42,
                        43,
                        44,
                        45,
                        46,
                        47,
                        48,
                        49
                      ],
                      "type": "scatter3d",
                      "x": [
                        8,
                        9,
                        10
                      ],
                      "y": [
                        2,
                        2,
                        2
                      ],
                      "z": [
                        2,
                        1,
                        3
                      ]
                    },
                    {
                      "marker": {
                        "color": "blue",
                        "line": {
                          "color": "black",
                          "width": 1
                        },
                        "opacity": 0.8,
                        "size": 10,
                        "symbol": "circle"
                      },
                      "mode": "markers",
                      "name": "Est 3",
                      "text": [
                        40,
                        41,
                        42,
                        43,
                        44,
                        45,
                        46,
                        47,
                        48,
                        49
                      ],
                      "type": "scatter3d",
                      "x": [],
                      "y": [],
                      "z": []
                    }
                  ],
                  "name": "Frame 14"
                },
                {
                  "data": [
                    {
                      "marker": {
                        "color": "red",
                        "line": {
                          "color": "black",
                          "width": 1
                        },
                        "opacity": 0.8,
                        "size": 10,
                        "symbol": "circle"
                      },
                      "mode": "markers",
                      "name": "DOCENTE",
                      "text": [
                        40,
                        41,
                        42,
                        43,
                        44,
                        45,
                        46,
                        47,
                        48,
                        49
                      ],
                      "type": "scatter3d",
                      "x": [
                        1,
                        2,
                        3,
                        4,
                        5,
                        6,
                        7,
                        8,
                        9,
                        10
                      ],
                      "y": [
                        3,
                        2,
                        2,
                        3,
                        2,
                        3,
                        3,
                        4,
                        4,
                        4
                      ],
                      "z": [
                        4,
                        4,
                        2,
                        1,
                        2,
                        2,
                        2,
                        1,
                        2,
                        4
                      ]
                    },
                    {
                      "marker": {
                        "color": "green",
                        "line": {
                          "color": "black",
                          "width": 1
                        },
                        "opacity": 0.8,
                        "size": 10,
                        "symbol": "circle"
                      },
                      "mode": "markers",
                      "name": "Est 1",
                      "text": [
                        40,
                        41,
                        42,
                        43,
                        44,
                        45,
                        46,
                        47,
                        48,
                        49
                      ],
                      "type": "scatter3d",
                      "x": [],
                      "y": [],
                      "z": []
                    },
                    {
                      "marker": {
                        "color": "purple",
                        "line": {
                          "color": "black",
                          "width": 1
                        },
                        "opacity": 0.8,
                        "size": 10,
                        "symbol": "circle"
                      },
                      "mode": "markers",
                      "name": "Est 2",
                      "text": [
                        40,
                        41,
                        42,
                        43,
                        44,
                        45,
                        46,
                        47,
                        48,
                        49
                      ],
                      "type": "scatter3d",
                      "x": [
                        8,
                        9,
                        10
                      ],
                      "y": [
                        2,
                        2,
                        2
                      ],
                      "z": [
                        2,
                        1,
                        3
                      ]
                    },
                    {
                      "marker": {
                        "color": "blue",
                        "line": {
                          "color": "black",
                          "width": 1
                        },
                        "opacity": 0.8,
                        "size": 10,
                        "symbol": "circle"
                      },
                      "mode": "markers",
                      "name": "Est 3",
                      "text": [
                        40,
                        41,
                        42,
                        43,
                        44,
                        45,
                        46,
                        47,
                        48,
                        49
                      ],
                      "type": "scatter3d",
                      "x": [],
                      "y": [],
                      "z": []
                    }
                  ],
                  "name": "Frame 15"
                },
                {
                  "data": [
                    {
                      "marker": {
                        "color": "red",
                        "line": {
                          "color": "black",
                          "width": 1
                        },
                        "opacity": 0.8,
                        "size": 10,
                        "symbol": "circle"
                      },
                      "mode": "markers",
                      "name": "DOCENTE",
                      "text": [
                        40,
                        41,
                        42,
                        43,
                        44,
                        45,
                        46,
                        47,
                        48,
                        49
                      ],
                      "type": "scatter3d",
                      "x": [
                        1,
                        2,
                        3,
                        4,
                        5,
                        6,
                        7,
                        8,
                        9,
                        10
                      ],
                      "y": [
                        3,
                        2,
                        2,
                        3,
                        2,
                        3,
                        3,
                        4,
                        4,
                        4
                      ],
                      "z": [
                        4,
                        4,
                        2,
                        1,
                        2,
                        2,
                        2,
                        1,
                        2,
                        4
                      ]
                    },
                    {
                      "marker": {
                        "color": "green",
                        "line": {
                          "color": "black",
                          "width": 1
                        },
                        "opacity": 0.8,
                        "size": 10,
                        "symbol": "circle"
                      },
                      "mode": "markers",
                      "name": "Est 1",
                      "text": [
                        40,
                        41,
                        42,
                        43,
                        44,
                        45,
                        46,
                        47,
                        48,
                        49
                      ],
                      "type": "scatter3d",
                      "x": [],
                      "y": [],
                      "z": []
                    },
                    {
                      "marker": {
                        "color": "purple",
                        "line": {
                          "color": "black",
                          "width": 1
                        },
                        "opacity": 0.8,
                        "size": 10,
                        "symbol": "circle"
                      },
                      "mode": "markers",
                      "name": "Est 2",
                      "text": [
                        40,
                        41,
                        42,
                        43,
                        44,
                        45,
                        46,
                        47,
                        48,
                        49
                      ],
                      "type": "scatter3d",
                      "x": [
                        8,
                        9,
                        10
                      ],
                      "y": [
                        2,
                        2,
                        2
                      ],
                      "z": [
                        2,
                        1,
                        3
                      ]
                    },
                    {
                      "marker": {
                        "color": "blue",
                        "line": {
                          "color": "black",
                          "width": 1
                        },
                        "opacity": 0.8,
                        "size": 10,
                        "symbol": "circle"
                      },
                      "mode": "markers",
                      "name": "Est 3",
                      "text": [
                        40,
                        41,
                        42,
                        43,
                        44,
                        45,
                        46,
                        47,
                        48,
                        49
                      ],
                      "type": "scatter3d",
                      "x": [],
                      "y": [],
                      "z": []
                    }
                  ],
                  "name": "Frame 16"
                },
                {
                  "data": [
                    {
                      "marker": {
                        "color": "red",
                        "line": {
                          "color": "black",
                          "width": 1
                        },
                        "opacity": 0.8,
                        "size": 10,
                        "symbol": "circle"
                      },
                      "mode": "markers",
                      "name": "DOCENTE",
                      "text": [
                        40,
                        41,
                        42,
                        43,
                        44,
                        45,
                        46,
                        47,
                        48,
                        49
                      ],
                      "type": "scatter3d",
                      "x": [
                        1,
                        2,
                        3,
                        4,
                        5,
                        6,
                        7,
                        8,
                        9,
                        10
                      ],
                      "y": [
                        3,
                        2,
                        2,
                        3,
                        2,
                        3,
                        3,
                        4,
                        4,
                        4
                      ],
                      "z": [
                        4,
                        4,
                        2,
                        1,
                        2,
                        2,
                        2,
                        1,
                        2,
                        4
                      ]
                    },
                    {
                      "marker": {
                        "color": "green",
                        "line": {
                          "color": "black",
                          "width": 1
                        },
                        "opacity": 0.8,
                        "size": 10,
                        "symbol": "circle"
                      },
                      "mode": "markers",
                      "name": "Est 1",
                      "text": [
                        40,
                        41,
                        42,
                        43,
                        44,
                        45,
                        46,
                        47,
                        48,
                        49
                      ],
                      "type": "scatter3d",
                      "x": [],
                      "y": [],
                      "z": []
                    },
                    {
                      "marker": {
                        "color": "purple",
                        "line": {
                          "color": "black",
                          "width": 1
                        },
                        "opacity": 0.8,
                        "size": 10,
                        "symbol": "circle"
                      },
                      "mode": "markers",
                      "name": "Est 2",
                      "text": [
                        40,
                        41,
                        42,
                        43,
                        44,
                        45,
                        46,
                        47,
                        48,
                        49
                      ],
                      "type": "scatter3d",
                      "x": [
                        8,
                        9,
                        10
                      ],
                      "y": [
                        2,
                        2,
                        2
                      ],
                      "z": [
                        2,
                        1,
                        3
                      ]
                    },
                    {
                      "marker": {
                        "color": "blue",
                        "line": {
                          "color": "black",
                          "width": 1
                        },
                        "opacity": 0.8,
                        "size": 10,
                        "symbol": "circle"
                      },
                      "mode": "markers",
                      "name": "Est 3",
                      "text": [
                        40,
                        41,
                        42,
                        43,
                        44,
                        45,
                        46,
                        47,
                        48,
                        49
                      ],
                      "type": "scatter3d",
                      "x": [],
                      "y": [],
                      "z": []
                    }
                  ],
                  "name": "Frame 17"
                },
                {
                  "data": [
                    {
                      "marker": {
                        "color": "red",
                        "line": {
                          "color": "black",
                          "width": 1
                        },
                        "opacity": 0.8,
                        "size": 10,
                        "symbol": "circle"
                      },
                      "mode": "markers",
                      "name": "DOCENTE",
                      "text": [
                        40,
                        41,
                        42,
                        43,
                        44,
                        45,
                        46,
                        47,
                        48,
                        49
                      ],
                      "type": "scatter3d",
                      "x": [
                        1,
                        2,
                        3,
                        4,
                        5,
                        6,
                        7,
                        8,
                        9,
                        10
                      ],
                      "y": [
                        3,
                        2,
                        2,
                        3,
                        2,
                        3,
                        3,
                        4,
                        4,
                        4
                      ],
                      "z": [
                        4,
                        4,
                        2,
                        1,
                        2,
                        2,
                        2,
                        1,
                        2,
                        4
                      ]
                    },
                    {
                      "marker": {
                        "color": "green",
                        "line": {
                          "color": "black",
                          "width": 1
                        },
                        "opacity": 0.8,
                        "size": 10,
                        "symbol": "circle"
                      },
                      "mode": "markers",
                      "name": "Est 1",
                      "text": [
                        40,
                        41,
                        42,
                        43,
                        44,
                        45,
                        46,
                        47,
                        48,
                        49
                      ],
                      "type": "scatter3d",
                      "x": [],
                      "y": [],
                      "z": []
                    },
                    {
                      "marker": {
                        "color": "purple",
                        "line": {
                          "color": "black",
                          "width": 1
                        },
                        "opacity": 0.8,
                        "size": 10,
                        "symbol": "circle"
                      },
                      "mode": "markers",
                      "name": "Est 2",
                      "text": [
                        40,
                        41,
                        42,
                        43,
                        44,
                        45,
                        46,
                        47,
                        48,
                        49
                      ],
                      "type": "scatter3d",
                      "x": [
                        8,
                        9,
                        10
                      ],
                      "y": [
                        2,
                        2,
                        2
                      ],
                      "z": [
                        2,
                        1,
                        3
                      ]
                    },
                    {
                      "marker": {
                        "color": "blue",
                        "line": {
                          "color": "black",
                          "width": 1
                        },
                        "opacity": 0.8,
                        "size": 10,
                        "symbol": "circle"
                      },
                      "mode": "markers",
                      "name": "Est 3",
                      "text": [
                        40,
                        41,
                        42,
                        43,
                        44,
                        45,
                        46,
                        47,
                        48,
                        49
                      ],
                      "type": "scatter3d",
                      "x": [],
                      "y": [],
                      "z": []
                    }
                  ],
                  "name": "Frame 18"
                },
                {
                  "data": [
                    {
                      "marker": {
                        "color": "red",
                        "line": {
                          "color": "black",
                          "width": 1
                        },
                        "opacity": 0.8,
                        "size": 10,
                        "symbol": "circle"
                      },
                      "mode": "markers",
                      "name": "DOCENTE",
                      "text": [
                        40,
                        41,
                        42,
                        43,
                        44,
                        45,
                        46,
                        47,
                        48,
                        49
                      ],
                      "type": "scatter3d",
                      "x": [
                        1,
                        2,
                        3,
                        4,
                        5,
                        6,
                        7,
                        8,
                        9,
                        10
                      ],
                      "y": [
                        3,
                        2,
                        2,
                        3,
                        2,
                        3,
                        3,
                        4,
                        4,
                        4
                      ],
                      "z": [
                        4,
                        4,
                        2,
                        1,
                        2,
                        2,
                        2,
                        1,
                        2,
                        4
                      ]
                    },
                    {
                      "marker": {
                        "color": "green",
                        "line": {
                          "color": "black",
                          "width": 1
                        },
                        "opacity": 0.8,
                        "size": 10,
                        "symbol": "circle"
                      },
                      "mode": "markers",
                      "name": "Est 1",
                      "text": [
                        40,
                        41,
                        42,
                        43,
                        44,
                        45,
                        46,
                        47,
                        48,
                        49
                      ],
                      "type": "scatter3d",
                      "x": [],
                      "y": [],
                      "z": []
                    },
                    {
                      "marker": {
                        "color": "purple",
                        "line": {
                          "color": "black",
                          "width": 1
                        },
                        "opacity": 0.8,
                        "size": 10,
                        "symbol": "circle"
                      },
                      "mode": "markers",
                      "name": "Est 2",
                      "text": [
                        40,
                        41,
                        42,
                        43,
                        44,
                        45,
                        46,
                        47,
                        48,
                        49
                      ],
                      "type": "scatter3d",
                      "x": [
                        8,
                        9,
                        10
                      ],
                      "y": [
                        2,
                        2,
                        2
                      ],
                      "z": [
                        2,
                        1,
                        3
                      ]
                    },
                    {
                      "marker": {
                        "color": "blue",
                        "line": {
                          "color": "black",
                          "width": 1
                        },
                        "opacity": 0.8,
                        "size": 10,
                        "symbol": "circle"
                      },
                      "mode": "markers",
                      "name": "Est 3",
                      "text": [
                        40,
                        41,
                        42,
                        43,
                        44,
                        45,
                        46,
                        47,
                        48,
                        49
                      ],
                      "type": "scatter3d",
                      "x": [],
                      "y": [],
                      "z": []
                    }
                  ],
                  "name": "Frame 19"
                },
                {
                  "data": [
                    {
                      "marker": {
                        "color": "red",
                        "line": {
                          "color": "black",
                          "width": 1
                        },
                        "opacity": 0.8,
                        "size": 10,
                        "symbol": "circle"
                      },
                      "mode": "markers",
                      "name": "DOCENTE",
                      "text": [
                        40,
                        41,
                        42,
                        43,
                        44,
                        45,
                        46,
                        47,
                        48,
                        49
                      ],
                      "type": "scatter3d",
                      "x": [
                        1,
                        2,
                        3,
                        4,
                        5,
                        6,
                        7,
                        8,
                        9,
                        10
                      ],
                      "y": [
                        3,
                        2,
                        2,
                        3,
                        2,
                        3,
                        3,
                        4,
                        4,
                        4
                      ],
                      "z": [
                        4,
                        4,
                        2,
                        1,
                        2,
                        2,
                        2,
                        1,
                        2,
                        4
                      ]
                    },
                    {
                      "marker": {
                        "color": "green",
                        "line": {
                          "color": "black",
                          "width": 1
                        },
                        "opacity": 0.8,
                        "size": 10,
                        "symbol": "circle"
                      },
                      "mode": "markers",
                      "name": "Est 1",
                      "text": [
                        40,
                        41,
                        42,
                        43,
                        44,
                        45,
                        46,
                        47,
                        48,
                        49
                      ],
                      "type": "scatter3d",
                      "x": [],
                      "y": [],
                      "z": []
                    },
                    {
                      "marker": {
                        "color": "purple",
                        "line": {
                          "color": "black",
                          "width": 1
                        },
                        "opacity": 0.8,
                        "size": 10,
                        "symbol": "circle"
                      },
                      "mode": "markers",
                      "name": "Est 2",
                      "text": [
                        40,
                        41,
                        42,
                        43,
                        44,
                        45,
                        46,
                        47,
                        48,
                        49
                      ],
                      "type": "scatter3d",
                      "x": [
                        8,
                        9,
                        10
                      ],
                      "y": [
                        2,
                        2,
                        2
                      ],
                      "z": [
                        2,
                        1,
                        3
                      ]
                    },
                    {
                      "marker": {
                        "color": "blue",
                        "line": {
                          "color": "black",
                          "width": 1
                        },
                        "opacity": 0.8,
                        "size": 10,
                        "symbol": "circle"
                      },
                      "mode": "markers",
                      "name": "Est 3",
                      "text": [
                        40,
                        41,
                        42,
                        43,
                        44,
                        45,
                        46,
                        47,
                        48,
                        49
                      ],
                      "type": "scatter3d",
                      "x": [],
                      "y": [],
                      "z": []
                    }
                  ],
                  "name": "Frame 20"
                },
                {
                  "data": [
                    {
                      "marker": {
                        "color": "red",
                        "line": {
                          "color": "black",
                          "width": 1
                        },
                        "opacity": 0.8,
                        "size": 10,
                        "symbol": "circle"
                      },
                      "mode": "markers",
                      "name": "DOCENTE",
                      "text": [
                        40,
                        41,
                        42,
                        43,
                        44,
                        45,
                        46,
                        47,
                        48,
                        49
                      ],
                      "type": "scatter3d",
                      "x": [
                        1,
                        2,
                        3,
                        4,
                        5,
                        6,
                        7,
                        8,
                        9,
                        10
                      ],
                      "y": [
                        3,
                        2,
                        2,
                        3,
                        2,
                        3,
                        3,
                        4,
                        4,
                        4
                      ],
                      "z": [
                        4,
                        4,
                        2,
                        1,
                        2,
                        2,
                        2,
                        1,
                        2,
                        4
                      ]
                    },
                    {
                      "marker": {
                        "color": "green",
                        "line": {
                          "color": "black",
                          "width": 1
                        },
                        "opacity": 0.8,
                        "size": 10,
                        "symbol": "circle"
                      },
                      "mode": "markers",
                      "name": "Est 1",
                      "text": [
                        40,
                        41,
                        42,
                        43,
                        44,
                        45,
                        46,
                        47,
                        48,
                        49
                      ],
                      "type": "scatter3d",
                      "x": [],
                      "y": [],
                      "z": []
                    },
                    {
                      "marker": {
                        "color": "purple",
                        "line": {
                          "color": "black",
                          "width": 1
                        },
                        "opacity": 0.8,
                        "size": 10,
                        "symbol": "circle"
                      },
                      "mode": "markers",
                      "name": "Est 2",
                      "text": [
                        40,
                        41,
                        42,
                        43,
                        44,
                        45,
                        46,
                        47,
                        48,
                        49
                      ],
                      "type": "scatter3d",
                      "x": [
                        8,
                        9,
                        10
                      ],
                      "y": [
                        2,
                        2,
                        2
                      ],
                      "z": [
                        2,
                        1,
                        3
                      ]
                    },
                    {
                      "marker": {
                        "color": "blue",
                        "line": {
                          "color": "black",
                          "width": 1
                        },
                        "opacity": 0.8,
                        "size": 10,
                        "symbol": "circle"
                      },
                      "mode": "markers",
                      "name": "Est 3",
                      "text": [
                        40,
                        41,
                        42,
                        43,
                        44,
                        45,
                        46,
                        47,
                        48,
                        49
                      ],
                      "type": "scatter3d",
                      "x": [],
                      "y": [],
                      "z": []
                    }
                  ],
                  "name": "Frame 21"
                },
                {
                  "data": [
                    {
                      "marker": {
                        "color": "red",
                        "line": {
                          "color": "black",
                          "width": 1
                        },
                        "opacity": 0.8,
                        "size": 10,
                        "symbol": "circle"
                      },
                      "mode": "markers",
                      "name": "DOCENTE",
                      "text": [
                        40,
                        41,
                        42,
                        43,
                        44,
                        45,
                        46,
                        47,
                        48,
                        49
                      ],
                      "type": "scatter3d",
                      "x": [
                        1,
                        2,
                        3,
                        4,
                        5,
                        6,
                        7,
                        8,
                        9,
                        10
                      ],
                      "y": [
                        3,
                        2,
                        2,
                        3,
                        2,
                        3,
                        3,
                        4,
                        4,
                        4
                      ],
                      "z": [
                        4,
                        4,
                        2,
                        1,
                        2,
                        2,
                        2,
                        1,
                        2,
                        4
                      ]
                    },
                    {
                      "marker": {
                        "color": "green",
                        "line": {
                          "color": "black",
                          "width": 1
                        },
                        "opacity": 0.8,
                        "size": 10,
                        "symbol": "circle"
                      },
                      "mode": "markers",
                      "name": "Est 1",
                      "text": [
                        40,
                        41,
                        42,
                        43,
                        44,
                        45,
                        46,
                        47,
                        48,
                        49
                      ],
                      "type": "scatter3d",
                      "x": [],
                      "y": [],
                      "z": []
                    },
                    {
                      "marker": {
                        "color": "purple",
                        "line": {
                          "color": "black",
                          "width": 1
                        },
                        "opacity": 0.8,
                        "size": 10,
                        "symbol": "circle"
                      },
                      "mode": "markers",
                      "name": "Est 2",
                      "text": [
                        40,
                        41,
                        42,
                        43,
                        44,
                        45,
                        46,
                        47,
                        48,
                        49
                      ],
                      "type": "scatter3d",
                      "x": [
                        8,
                        9,
                        10
                      ],
                      "y": [
                        2,
                        2,
                        2
                      ],
                      "z": [
                        2,
                        1,
                        3
                      ]
                    },
                    {
                      "marker": {
                        "color": "blue",
                        "line": {
                          "color": "black",
                          "width": 1
                        },
                        "opacity": 0.8,
                        "size": 10,
                        "symbol": "circle"
                      },
                      "mode": "markers",
                      "name": "Est 3",
                      "text": [
                        40,
                        41,
                        42,
                        43,
                        44,
                        45,
                        46,
                        47,
                        48,
                        49
                      ],
                      "type": "scatter3d",
                      "x": [],
                      "y": [],
                      "z": []
                    }
                  ],
                  "name": "Frame 22"
                },
                {
                  "data": [
                    {
                      "marker": {
                        "color": "red",
                        "line": {
                          "color": "black",
                          "width": 1
                        },
                        "opacity": 0.8,
                        "size": 10,
                        "symbol": "circle"
                      },
                      "mode": "markers",
                      "name": "DOCENTE",
                      "text": [
                        40,
                        41,
                        42,
                        43,
                        44,
                        45,
                        46,
                        47,
                        48,
                        49
                      ],
                      "type": "scatter3d",
                      "x": [
                        1,
                        2,
                        3,
                        4,
                        5,
                        6,
                        7,
                        8,
                        9,
                        10
                      ],
                      "y": [
                        3,
                        2,
                        2,
                        3,
                        2,
                        3,
                        3,
                        4,
                        4,
                        4
                      ],
                      "z": [
                        4,
                        4,
                        2,
                        1,
                        2,
                        2,
                        2,
                        1,
                        2,
                        4
                      ]
                    },
                    {
                      "marker": {
                        "color": "green",
                        "line": {
                          "color": "black",
                          "width": 1
                        },
                        "opacity": 0.8,
                        "size": 10,
                        "symbol": "circle"
                      },
                      "mode": "markers",
                      "name": "Est 1",
                      "text": [
                        40,
                        41,
                        42,
                        43,
                        44,
                        45,
                        46,
                        47,
                        48,
                        49
                      ],
                      "type": "scatter3d",
                      "x": [],
                      "y": [],
                      "z": []
                    },
                    {
                      "marker": {
                        "color": "purple",
                        "line": {
                          "color": "black",
                          "width": 1
                        },
                        "opacity": 0.8,
                        "size": 10,
                        "symbol": "circle"
                      },
                      "mode": "markers",
                      "name": "Est 2",
                      "text": [
                        40,
                        41,
                        42,
                        43,
                        44,
                        45,
                        46,
                        47,
                        48,
                        49
                      ],
                      "type": "scatter3d",
                      "x": [
                        8,
                        9,
                        10
                      ],
                      "y": [
                        2,
                        2,
                        2
                      ],
                      "z": [
                        2,
                        1,
                        3
                      ]
                    },
                    {
                      "marker": {
                        "color": "blue",
                        "line": {
                          "color": "black",
                          "width": 1
                        },
                        "opacity": 0.8,
                        "size": 10,
                        "symbol": "circle"
                      },
                      "mode": "markers",
                      "name": "Est 3",
                      "text": [
                        40,
                        41,
                        42,
                        43,
                        44,
                        45,
                        46,
                        47,
                        48,
                        49
                      ],
                      "type": "scatter3d",
                      "x": [],
                      "y": [],
                      "z": []
                    }
                  ],
                  "name": "Frame 23"
                },
                {
                  "data": [
                    {
                      "marker": {
                        "color": "red",
                        "line": {
                          "color": "black",
                          "width": 1
                        },
                        "opacity": 0.8,
                        "size": 10,
                        "symbol": "circle"
                      },
                      "mode": "markers",
                      "name": "DOCENTE",
                      "text": [
                        40,
                        41,
                        42,
                        43,
                        44,
                        45,
                        46,
                        47,
                        48,
                        49
                      ],
                      "type": "scatter3d",
                      "x": [
                        1,
                        2,
                        3,
                        4,
                        5,
                        6,
                        7,
                        8,
                        9,
                        10
                      ],
                      "y": [
                        3,
                        2,
                        2,
                        3,
                        2,
                        3,
                        3,
                        4,
                        4,
                        4
                      ],
                      "z": [
                        4,
                        4,
                        2,
                        1,
                        2,
                        2,
                        2,
                        1,
                        2,
                        4
                      ]
                    },
                    {
                      "marker": {
                        "color": "green",
                        "line": {
                          "color": "black",
                          "width": 1
                        },
                        "opacity": 0.8,
                        "size": 10,
                        "symbol": "circle"
                      },
                      "mode": "markers",
                      "name": "Est 1",
                      "text": [
                        40,
                        41,
                        42,
                        43,
                        44,
                        45,
                        46,
                        47,
                        48,
                        49
                      ],
                      "type": "scatter3d",
                      "x": [],
                      "y": [],
                      "z": []
                    },
                    {
                      "marker": {
                        "color": "purple",
                        "line": {
                          "color": "black",
                          "width": 1
                        },
                        "opacity": 0.8,
                        "size": 10,
                        "symbol": "circle"
                      },
                      "mode": "markers",
                      "name": "Est 2",
                      "text": [
                        40,
                        41,
                        42,
                        43,
                        44,
                        45,
                        46,
                        47,
                        48,
                        49
                      ],
                      "type": "scatter3d",
                      "x": [
                        8,
                        9,
                        10
                      ],
                      "y": [
                        2,
                        2,
                        2
                      ],
                      "z": [
                        2,
                        1,
                        3
                      ]
                    },
                    {
                      "marker": {
                        "color": "blue",
                        "line": {
                          "color": "black",
                          "width": 1
                        },
                        "opacity": 0.8,
                        "size": 10,
                        "symbol": "circle"
                      },
                      "mode": "markers",
                      "name": "Est 3",
                      "text": [
                        40,
                        41,
                        42,
                        43,
                        44,
                        45,
                        46,
                        47,
                        48,
                        49
                      ],
                      "type": "scatter3d",
                      "x": [],
                      "y": [],
                      "z": []
                    }
                  ],
                  "name": "Frame 24"
                },
                {
                  "data": [
                    {
                      "marker": {
                        "color": "red",
                        "line": {
                          "color": "black",
                          "width": 1
                        },
                        "opacity": 0.8,
                        "size": 10,
                        "symbol": "circle"
                      },
                      "mode": "markers",
                      "name": "DOCENTE",
                      "text": [
                        40,
                        41,
                        42,
                        43,
                        44,
                        45,
                        46,
                        47,
                        48,
                        49
                      ],
                      "type": "scatter3d",
                      "x": [
                        1,
                        2,
                        3,
                        4,
                        5,
                        6,
                        7,
                        8,
                        9,
                        10
                      ],
                      "y": [
                        3,
                        2,
                        2,
                        3,
                        2,
                        3,
                        3,
                        4,
                        4,
                        4
                      ],
                      "z": [
                        4,
                        4,
                        2,
                        1,
                        2,
                        2,
                        2,
                        1,
                        2,
                        4
                      ]
                    },
                    {
                      "marker": {
                        "color": "green",
                        "line": {
                          "color": "black",
                          "width": 1
                        },
                        "opacity": 0.8,
                        "size": 10,
                        "symbol": "circle"
                      },
                      "mode": "markers",
                      "name": "Est 1",
                      "text": [
                        40,
                        41,
                        42,
                        43,
                        44,
                        45,
                        46,
                        47,
                        48,
                        49
                      ],
                      "type": "scatter3d",
                      "x": [],
                      "y": [],
                      "z": []
                    },
                    {
                      "marker": {
                        "color": "purple",
                        "line": {
                          "color": "black",
                          "width": 1
                        },
                        "opacity": 0.8,
                        "size": 10,
                        "symbol": "circle"
                      },
                      "mode": "markers",
                      "name": "Est 2",
                      "text": [
                        40,
                        41,
                        42,
                        43,
                        44,
                        45,
                        46,
                        47,
                        48,
                        49
                      ],
                      "type": "scatter3d",
                      "x": [
                        8,
                        9,
                        10
                      ],
                      "y": [
                        2,
                        2,
                        2
                      ],
                      "z": [
                        2,
                        1,
                        3
                      ]
                    },
                    {
                      "marker": {
                        "color": "blue",
                        "line": {
                          "color": "black",
                          "width": 1
                        },
                        "opacity": 0.8,
                        "size": 10,
                        "symbol": "circle"
                      },
                      "mode": "markers",
                      "name": "Est 3",
                      "text": [
                        40,
                        41,
                        42,
                        43,
                        44,
                        45,
                        46,
                        47,
                        48,
                        49
                      ],
                      "type": "scatter3d",
                      "x": [],
                      "y": [],
                      "z": []
                    }
                  ],
                  "name": "Frame 25"
                },
                {
                  "data": [
                    {
                      "marker": {
                        "color": "red",
                        "line": {
                          "color": "black",
                          "width": 1
                        },
                        "opacity": 0.8,
                        "size": 10,
                        "symbol": "circle"
                      },
                      "mode": "markers",
                      "name": "DOCENTE",
                      "text": [
                        40,
                        41,
                        42,
                        43,
                        44,
                        45,
                        46,
                        47,
                        48,
                        49
                      ],
                      "type": "scatter3d",
                      "x": [
                        1,
                        2,
                        3,
                        4,
                        5,
                        6,
                        7,
                        8,
                        9,
                        10
                      ],
                      "y": [
                        3,
                        2,
                        2,
                        3,
                        2,
                        3,
                        3,
                        4,
                        4,
                        4
                      ],
                      "z": [
                        4,
                        4,
                        2,
                        1,
                        2,
                        2,
                        2,
                        1,
                        2,
                        4
                      ]
                    },
                    {
                      "marker": {
                        "color": "green",
                        "line": {
                          "color": "black",
                          "width": 1
                        },
                        "opacity": 0.8,
                        "size": 10,
                        "symbol": "circle"
                      },
                      "mode": "markers",
                      "name": "Est 1",
                      "text": [
                        40,
                        41,
                        42,
                        43,
                        44,
                        45,
                        46,
                        47,
                        48,
                        49
                      ],
                      "type": "scatter3d",
                      "x": [],
                      "y": [],
                      "z": []
                    },
                    {
                      "marker": {
                        "color": "purple",
                        "line": {
                          "color": "black",
                          "width": 1
                        },
                        "opacity": 0.8,
                        "size": 10,
                        "symbol": "circle"
                      },
                      "mode": "markers",
                      "name": "Est 2",
                      "text": [
                        40,
                        41,
                        42,
                        43,
                        44,
                        45,
                        46,
                        47,
                        48,
                        49
                      ],
                      "type": "scatter3d",
                      "x": [
                        8,
                        9,
                        10
                      ],
                      "y": [
                        2,
                        2,
                        2
                      ],
                      "z": [
                        2,
                        1,
                        3
                      ]
                    },
                    {
                      "marker": {
                        "color": "blue",
                        "line": {
                          "color": "black",
                          "width": 1
                        },
                        "opacity": 0.8,
                        "size": 10,
                        "symbol": "circle"
                      },
                      "mode": "markers",
                      "name": "Est 3",
                      "text": [
                        40,
                        41,
                        42,
                        43,
                        44,
                        45,
                        46,
                        47,
                        48,
                        49
                      ],
                      "type": "scatter3d",
                      "x": [],
                      "y": [],
                      "z": []
                    }
                  ],
                  "name": "Frame 26"
                },
                {
                  "data": [
                    {
                      "marker": {
                        "color": "red",
                        "line": {
                          "color": "black",
                          "width": 1
                        },
                        "opacity": 0.8,
                        "size": 10,
                        "symbol": "circle"
                      },
                      "mode": "markers",
                      "name": "DOCENTE",
                      "text": [
                        40,
                        41,
                        42,
                        43,
                        44,
                        45,
                        46,
                        47,
                        48,
                        49
                      ],
                      "type": "scatter3d",
                      "x": [
                        1,
                        2,
                        3,
                        4,
                        5,
                        6,
                        7,
                        8,
                        9,
                        10
                      ],
                      "y": [
                        3,
                        2,
                        2,
                        3,
                        2,
                        3,
                        3,
                        4,
                        4,
                        4
                      ],
                      "z": [
                        4,
                        4,
                        2,
                        1,
                        2,
                        2,
                        2,
                        1,
                        2,
                        4
                      ]
                    },
                    {
                      "marker": {
                        "color": "green",
                        "line": {
                          "color": "black",
                          "width": 1
                        },
                        "opacity": 0.8,
                        "size": 10,
                        "symbol": "circle"
                      },
                      "mode": "markers",
                      "name": "Est 1",
                      "text": [
                        40,
                        41,
                        42,
                        43,
                        44,
                        45,
                        46,
                        47,
                        48,
                        49
                      ],
                      "type": "scatter3d",
                      "x": [],
                      "y": [],
                      "z": []
                    },
                    {
                      "marker": {
                        "color": "purple",
                        "line": {
                          "color": "black",
                          "width": 1
                        },
                        "opacity": 0.8,
                        "size": 10,
                        "symbol": "circle"
                      },
                      "mode": "markers",
                      "name": "Est 2",
                      "text": [
                        40,
                        41,
                        42,
                        43,
                        44,
                        45,
                        46,
                        47,
                        48,
                        49
                      ],
                      "type": "scatter3d",
                      "x": [
                        8,
                        9,
                        10
                      ],
                      "y": [
                        2,
                        2,
                        2
                      ],
                      "z": [
                        2,
                        1,
                        3
                      ]
                    },
                    {
                      "marker": {
                        "color": "blue",
                        "line": {
                          "color": "black",
                          "width": 1
                        },
                        "opacity": 0.8,
                        "size": 10,
                        "symbol": "circle"
                      },
                      "mode": "markers",
                      "name": "Est 3",
                      "text": [
                        40,
                        41,
                        42,
                        43,
                        44,
                        45,
                        46,
                        47,
                        48,
                        49
                      ],
                      "type": "scatter3d",
                      "x": [],
                      "y": [],
                      "z": []
                    }
                  ],
                  "name": "Frame 27"
                },
                {
                  "data": [
                    {
                      "marker": {
                        "color": "red",
                        "line": {
                          "color": "black",
                          "width": 1
                        },
                        "opacity": 0.8,
                        "size": 10,
                        "symbol": "circle"
                      },
                      "mode": "markers",
                      "name": "DOCENTE",
                      "text": [
                        40,
                        41,
                        42,
                        43,
                        44,
                        45,
                        46,
                        47,
                        48,
                        49
                      ],
                      "type": "scatter3d",
                      "x": [
                        1,
                        2,
                        3,
                        4,
                        5,
                        6,
                        7,
                        8,
                        9,
                        10
                      ],
                      "y": [
                        3,
                        2,
                        2,
                        3,
                        2,
                        3,
                        3,
                        4,
                        4,
                        4
                      ],
                      "z": [
                        4,
                        4,
                        2,
                        1,
                        2,
                        2,
                        2,
                        1,
                        2,
                        4
                      ]
                    },
                    {
                      "marker": {
                        "color": "green",
                        "line": {
                          "color": "black",
                          "width": 1
                        },
                        "opacity": 0.8,
                        "size": 10,
                        "symbol": "circle"
                      },
                      "mode": "markers",
                      "name": "Est 1",
                      "text": [
                        40,
                        41,
                        42,
                        43,
                        44,
                        45,
                        46,
                        47,
                        48,
                        49
                      ],
                      "type": "scatter3d",
                      "x": [],
                      "y": [],
                      "z": []
                    },
                    {
                      "marker": {
                        "color": "purple",
                        "line": {
                          "color": "black",
                          "width": 1
                        },
                        "opacity": 0.8,
                        "size": 10,
                        "symbol": "circle"
                      },
                      "mode": "markers",
                      "name": "Est 2",
                      "text": [
                        40,
                        41,
                        42,
                        43,
                        44,
                        45,
                        46,
                        47,
                        48,
                        49
                      ],
                      "type": "scatter3d",
                      "x": [
                        8,
                        9,
                        10
                      ],
                      "y": [
                        2,
                        2,
                        2
                      ],
                      "z": [
                        2,
                        1,
                        3
                      ]
                    },
                    {
                      "marker": {
                        "color": "blue",
                        "line": {
                          "color": "black",
                          "width": 1
                        },
                        "opacity": 0.8,
                        "size": 10,
                        "symbol": "circle"
                      },
                      "mode": "markers",
                      "name": "Est 3",
                      "text": [
                        40,
                        41,
                        42,
                        43,
                        44,
                        45,
                        46,
                        47,
                        48,
                        49
                      ],
                      "type": "scatter3d",
                      "x": [],
                      "y": [],
                      "z": []
                    }
                  ],
                  "name": "Frame 28"
                },
                {
                  "data": [
                    {
                      "marker": {
                        "color": "red",
                        "line": {
                          "color": "black",
                          "width": 1
                        },
                        "opacity": 0.8,
                        "size": 10,
                        "symbol": "circle"
                      },
                      "mode": "markers",
                      "name": "DOCENTE",
                      "text": [
                        40,
                        41,
                        42,
                        43,
                        44,
                        45,
                        46,
                        47,
                        48,
                        49
                      ],
                      "type": "scatter3d",
                      "x": [
                        1,
                        2,
                        3,
                        4,
                        5,
                        6,
                        7,
                        8,
                        9,
                        10
                      ],
                      "y": [
                        3,
                        2,
                        2,
                        3,
                        2,
                        3,
                        3,
                        4,
                        4,
                        4
                      ],
                      "z": [
                        4,
                        4,
                        2,
                        1,
                        2,
                        2,
                        2,
                        1,
                        2,
                        4
                      ]
                    },
                    {
                      "marker": {
                        "color": "green",
                        "line": {
                          "color": "black",
                          "width": 1
                        },
                        "opacity": 0.8,
                        "size": 10,
                        "symbol": "circle"
                      },
                      "mode": "markers",
                      "name": "Est 1",
                      "text": [
                        40,
                        41,
                        42,
                        43,
                        44,
                        45,
                        46,
                        47,
                        48,
                        49
                      ],
                      "type": "scatter3d",
                      "x": [],
                      "y": [],
                      "z": []
                    },
                    {
                      "marker": {
                        "color": "purple",
                        "line": {
                          "color": "black",
                          "width": 1
                        },
                        "opacity": 0.8,
                        "size": 10,
                        "symbol": "circle"
                      },
                      "mode": "markers",
                      "name": "Est 2",
                      "text": [
                        40,
                        41,
                        42,
                        43,
                        44,
                        45,
                        46,
                        47,
                        48,
                        49
                      ],
                      "type": "scatter3d",
                      "x": [
                        8,
                        9,
                        10
                      ],
                      "y": [
                        2,
                        2,
                        2
                      ],
                      "z": [
                        2,
                        1,
                        3
                      ]
                    },
                    {
                      "marker": {
                        "color": "blue",
                        "line": {
                          "color": "black",
                          "width": 1
                        },
                        "opacity": 0.8,
                        "size": 10,
                        "symbol": "circle"
                      },
                      "mode": "markers",
                      "name": "Est 3",
                      "text": [
                        40,
                        41,
                        42,
                        43,
                        44,
                        45,
                        46,
                        47,
                        48,
                        49
                      ],
                      "type": "scatter3d",
                      "x": [],
                      "y": [],
                      "z": []
                    }
                  ],
                  "name": "Frame 29"
                },
                {
                  "data": [
                    {
                      "marker": {
                        "color": "red",
                        "line": {
                          "color": "black",
                          "width": 1
                        },
                        "opacity": 0.8,
                        "size": 10,
                        "symbol": "circle"
                      },
                      "mode": "markers",
                      "name": "DOCENTE",
                      "text": [
                        40,
                        41,
                        42,
                        43,
                        44,
                        45,
                        46,
                        47,
                        48,
                        49
                      ],
                      "type": "scatter3d",
                      "x": [
                        1,
                        2,
                        3,
                        4,
                        5,
                        6,
                        7,
                        8,
                        9,
                        10
                      ],
                      "y": [
                        3,
                        2,
                        2,
                        3,
                        2,
                        3,
                        3,
                        4,
                        4,
                        4
                      ],
                      "z": [
                        4,
                        4,
                        2,
                        1,
                        2,
                        2,
                        2,
                        1,
                        2,
                        4
                      ]
                    },
                    {
                      "marker": {
                        "color": "green",
                        "line": {
                          "color": "black",
                          "width": 1
                        },
                        "opacity": 0.8,
                        "size": 10,
                        "symbol": "circle"
                      },
                      "mode": "markers",
                      "name": "Est 1",
                      "text": [
                        40,
                        41,
                        42,
                        43,
                        44,
                        45,
                        46,
                        47,
                        48,
                        49
                      ],
                      "type": "scatter3d",
                      "x": [],
                      "y": [],
                      "z": []
                    },
                    {
                      "marker": {
                        "color": "purple",
                        "line": {
                          "color": "black",
                          "width": 1
                        },
                        "opacity": 0.8,
                        "size": 10,
                        "symbol": "circle"
                      },
                      "mode": "markers",
                      "name": "Est 2",
                      "text": [
                        40,
                        41,
                        42,
                        43,
                        44,
                        45,
                        46,
                        47,
                        48,
                        49
                      ],
                      "type": "scatter3d",
                      "x": [
                        8,
                        9,
                        10
                      ],
                      "y": [
                        2,
                        2,
                        2
                      ],
                      "z": [
                        2,
                        1,
                        3
                      ]
                    },
                    {
                      "marker": {
                        "color": "blue",
                        "line": {
                          "color": "black",
                          "width": 1
                        },
                        "opacity": 0.8,
                        "size": 10,
                        "symbol": "circle"
                      },
                      "mode": "markers",
                      "name": "Est 3",
                      "text": [
                        40,
                        41,
                        42,
                        43,
                        44,
                        45,
                        46,
                        47,
                        48,
                        49
                      ],
                      "type": "scatter3d",
                      "x": [],
                      "y": [],
                      "z": []
                    }
                  ],
                  "name": "Frame 30"
                },
                {
                  "data": [
                    {
                      "marker": {
                        "color": "red",
                        "line": {
                          "color": "black",
                          "width": 1
                        },
                        "opacity": 0.8,
                        "size": 10,
                        "symbol": "circle"
                      },
                      "mode": "markers",
                      "name": "DOCENTE",
                      "text": [
                        40,
                        41,
                        42,
                        43,
                        44,
                        45,
                        46,
                        47,
                        48,
                        49
                      ],
                      "type": "scatter3d",
                      "x": [
                        1,
                        2,
                        3,
                        4,
                        5,
                        6,
                        7,
                        8,
                        9,
                        10
                      ],
                      "y": [
                        3,
                        2,
                        2,
                        3,
                        2,
                        3,
                        3,
                        4,
                        4,
                        4
                      ],
                      "z": [
                        4,
                        4,
                        2,
                        1,
                        2,
                        2,
                        2,
                        1,
                        2,
                        4
                      ]
                    },
                    {
                      "marker": {
                        "color": "green",
                        "line": {
                          "color": "black",
                          "width": 1
                        },
                        "opacity": 0.8,
                        "size": 10,
                        "symbol": "circle"
                      },
                      "mode": "markers",
                      "name": "Est 1",
                      "text": [
                        40,
                        41,
                        42,
                        43,
                        44,
                        45,
                        46,
                        47,
                        48,
                        49
                      ],
                      "type": "scatter3d",
                      "x": [],
                      "y": [],
                      "z": []
                    },
                    {
                      "marker": {
                        "color": "purple",
                        "line": {
                          "color": "black",
                          "width": 1
                        },
                        "opacity": 0.8,
                        "size": 10,
                        "symbol": "circle"
                      },
                      "mode": "markers",
                      "name": "Est 2",
                      "text": [
                        40,
                        41,
                        42,
                        43,
                        44,
                        45,
                        46,
                        47,
                        48,
                        49
                      ],
                      "type": "scatter3d",
                      "x": [
                        8,
                        9,
                        10
                      ],
                      "y": [
                        2,
                        2,
                        2
                      ],
                      "z": [
                        2,
                        1,
                        3
                      ]
                    },
                    {
                      "marker": {
                        "color": "blue",
                        "line": {
                          "color": "black",
                          "width": 1
                        },
                        "opacity": 0.8,
                        "size": 10,
                        "symbol": "circle"
                      },
                      "mode": "markers",
                      "name": "Est 3",
                      "text": [
                        40,
                        41,
                        42,
                        43,
                        44,
                        45,
                        46,
                        47,
                        48,
                        49
                      ],
                      "type": "scatter3d",
                      "x": [],
                      "y": [],
                      "z": []
                    }
                  ],
                  "name": "Frame 31"
                },
                {
                  "data": [
                    {
                      "marker": {
                        "color": "red",
                        "line": {
                          "color": "black",
                          "width": 1
                        },
                        "opacity": 0.8,
                        "size": 10,
                        "symbol": "circle"
                      },
                      "mode": "markers",
                      "name": "DOCENTE",
                      "text": [
                        40,
                        41,
                        42,
                        43,
                        44,
                        45,
                        46,
                        47,
                        48,
                        49
                      ],
                      "type": "scatter3d",
                      "x": [
                        1,
                        2,
                        3,
                        4,
                        5,
                        6,
                        7,
                        8,
                        9,
                        10
                      ],
                      "y": [
                        3,
                        2,
                        2,
                        3,
                        2,
                        3,
                        3,
                        4,
                        4,
                        4
                      ],
                      "z": [
                        4,
                        4,
                        2,
                        1,
                        2,
                        2,
                        2,
                        1,
                        2,
                        4
                      ]
                    },
                    {
                      "marker": {
                        "color": "green",
                        "line": {
                          "color": "black",
                          "width": 1
                        },
                        "opacity": 0.8,
                        "size": 10,
                        "symbol": "circle"
                      },
                      "mode": "markers",
                      "name": "Est 1",
                      "text": [
                        40,
                        41,
                        42,
                        43,
                        44,
                        45,
                        46,
                        47,
                        48,
                        49
                      ],
                      "type": "scatter3d",
                      "x": [],
                      "y": [],
                      "z": []
                    },
                    {
                      "marker": {
                        "color": "purple",
                        "line": {
                          "color": "black",
                          "width": 1
                        },
                        "opacity": 0.8,
                        "size": 10,
                        "symbol": "circle"
                      },
                      "mode": "markers",
                      "name": "Est 2",
                      "text": [
                        40,
                        41,
                        42,
                        43,
                        44,
                        45,
                        46,
                        47,
                        48,
                        49
                      ],
                      "type": "scatter3d",
                      "x": [
                        8,
                        9,
                        10
                      ],
                      "y": [
                        2,
                        2,
                        2
                      ],
                      "z": [
                        2,
                        1,
                        3
                      ]
                    },
                    {
                      "marker": {
                        "color": "blue",
                        "line": {
                          "color": "black",
                          "width": 1
                        },
                        "opacity": 0.8,
                        "size": 10,
                        "symbol": "circle"
                      },
                      "mode": "markers",
                      "name": "Est 3",
                      "text": [
                        40,
                        41,
                        42,
                        43,
                        44,
                        45,
                        46,
                        47,
                        48,
                        49
                      ],
                      "type": "scatter3d",
                      "x": [],
                      "y": [],
                      "z": []
                    }
                  ],
                  "name": "Frame 32"
                },
                {
                  "data": [
                    {
                      "marker": {
                        "color": "red",
                        "line": {
                          "color": "black",
                          "width": 1
                        },
                        "opacity": 0.8,
                        "size": 10,
                        "symbol": "circle"
                      },
                      "mode": "markers",
                      "name": "DOCENTE",
                      "text": [
                        40,
                        41,
                        42,
                        43,
                        44,
                        45,
                        46,
                        47,
                        48,
                        49
                      ],
                      "type": "scatter3d",
                      "x": [
                        1,
                        2,
                        3,
                        4,
                        5,
                        6,
                        7,
                        8,
                        9,
                        10
                      ],
                      "y": [
                        3,
                        2,
                        2,
                        3,
                        2,
                        3,
                        3,
                        4,
                        4,
                        4
                      ],
                      "z": [
                        4,
                        4,
                        2,
                        1,
                        2,
                        2,
                        2,
                        1,
                        2,
                        4
                      ]
                    },
                    {
                      "marker": {
                        "color": "green",
                        "line": {
                          "color": "black",
                          "width": 1
                        },
                        "opacity": 0.8,
                        "size": 10,
                        "symbol": "circle"
                      },
                      "mode": "markers",
                      "name": "Est 1",
                      "text": [
                        40,
                        41,
                        42,
                        43,
                        44,
                        45,
                        46,
                        47,
                        48,
                        49
                      ],
                      "type": "scatter3d",
                      "x": [],
                      "y": [],
                      "z": []
                    },
                    {
                      "marker": {
                        "color": "purple",
                        "line": {
                          "color": "black",
                          "width": 1
                        },
                        "opacity": 0.8,
                        "size": 10,
                        "symbol": "circle"
                      },
                      "mode": "markers",
                      "name": "Est 2",
                      "text": [
                        40,
                        41,
                        42,
                        43,
                        44,
                        45,
                        46,
                        47,
                        48,
                        49
                      ],
                      "type": "scatter3d",
                      "x": [
                        8,
                        9,
                        10
                      ],
                      "y": [
                        2,
                        2,
                        2
                      ],
                      "z": [
                        2,
                        1,
                        3
                      ]
                    },
                    {
                      "marker": {
                        "color": "blue",
                        "line": {
                          "color": "black",
                          "width": 1
                        },
                        "opacity": 0.8,
                        "size": 10,
                        "symbol": "circle"
                      },
                      "mode": "markers",
                      "name": "Est 3",
                      "text": [
                        40,
                        41,
                        42,
                        43,
                        44,
                        45,
                        46,
                        47,
                        48,
                        49
                      ],
                      "type": "scatter3d",
                      "x": [],
                      "y": [],
                      "z": []
                    }
                  ],
                  "name": "Frame 33"
                },
                {
                  "data": [
                    {
                      "marker": {
                        "color": "red",
                        "line": {
                          "color": "black",
                          "width": 1
                        },
                        "opacity": 0.8,
                        "size": 10,
                        "symbol": "circle"
                      },
                      "mode": "markers",
                      "name": "DOCENTE",
                      "text": [
                        40,
                        41,
                        42,
                        43,
                        44,
                        45,
                        46,
                        47,
                        48,
                        49
                      ],
                      "type": "scatter3d",
                      "x": [
                        1,
                        2,
                        3,
                        4,
                        5,
                        6,
                        7,
                        8,
                        9,
                        10
                      ],
                      "y": [
                        3,
                        2,
                        2,
                        3,
                        2,
                        3,
                        3,
                        4,
                        4,
                        4
                      ],
                      "z": [
                        4,
                        4,
                        2,
                        1,
                        2,
                        2,
                        2,
                        1,
                        2,
                        4
                      ]
                    },
                    {
                      "marker": {
                        "color": "green",
                        "line": {
                          "color": "black",
                          "width": 1
                        },
                        "opacity": 0.8,
                        "size": 10,
                        "symbol": "circle"
                      },
                      "mode": "markers",
                      "name": "Est 1",
                      "text": [
                        40,
                        41,
                        42,
                        43,
                        44,
                        45,
                        46,
                        47,
                        48,
                        49
                      ],
                      "type": "scatter3d",
                      "x": [],
                      "y": [],
                      "z": []
                    },
                    {
                      "marker": {
                        "color": "purple",
                        "line": {
                          "color": "black",
                          "width": 1
                        },
                        "opacity": 0.8,
                        "size": 10,
                        "symbol": "circle"
                      },
                      "mode": "markers",
                      "name": "Est 2",
                      "text": [
                        40,
                        41,
                        42,
                        43,
                        44,
                        45,
                        46,
                        47,
                        48,
                        49
                      ],
                      "type": "scatter3d",
                      "x": [
                        8,
                        9,
                        10
                      ],
                      "y": [
                        2,
                        2,
                        2
                      ],
                      "z": [
                        2,
                        1,
                        3
                      ]
                    },
                    {
                      "marker": {
                        "color": "blue",
                        "line": {
                          "color": "black",
                          "width": 1
                        },
                        "opacity": 0.8,
                        "size": 10,
                        "symbol": "circle"
                      },
                      "mode": "markers",
                      "name": "Est 3",
                      "text": [
                        40,
                        41,
                        42,
                        43,
                        44,
                        45,
                        46,
                        47,
                        48,
                        49
                      ],
                      "type": "scatter3d",
                      "x": [],
                      "y": [],
                      "z": []
                    }
                  ],
                  "name": "Frame 34"
                },
                {
                  "data": [
                    {
                      "marker": {
                        "color": "red",
                        "line": {
                          "color": "black",
                          "width": 1
                        },
                        "opacity": 0.8,
                        "size": 10,
                        "symbol": "circle"
                      },
                      "mode": "markers",
                      "name": "DOCENTE",
                      "text": [
                        40,
                        41,
                        42,
                        43,
                        44,
                        45,
                        46,
                        47,
                        48,
                        49
                      ],
                      "type": "scatter3d",
                      "x": [
                        1,
                        2,
                        3,
                        4,
                        5,
                        6,
                        7,
                        8,
                        9,
                        10
                      ],
                      "y": [
                        3,
                        2,
                        2,
                        3,
                        2,
                        3,
                        3,
                        4,
                        4,
                        4
                      ],
                      "z": [
                        4,
                        4,
                        2,
                        1,
                        2,
                        2,
                        2,
                        1,
                        2,
                        4
                      ]
                    },
                    {
                      "marker": {
                        "color": "green",
                        "line": {
                          "color": "black",
                          "width": 1
                        },
                        "opacity": 0.8,
                        "size": 10,
                        "symbol": "circle"
                      },
                      "mode": "markers",
                      "name": "Est 1",
                      "text": [
                        40,
                        41,
                        42,
                        43,
                        44,
                        45,
                        46,
                        47,
                        48,
                        49
                      ],
                      "type": "scatter3d",
                      "x": [],
                      "y": [],
                      "z": []
                    },
                    {
                      "marker": {
                        "color": "purple",
                        "line": {
                          "color": "black",
                          "width": 1
                        },
                        "opacity": 0.8,
                        "size": 10,
                        "symbol": "circle"
                      },
                      "mode": "markers",
                      "name": "Est 2",
                      "text": [
                        40,
                        41,
                        42,
                        43,
                        44,
                        45,
                        46,
                        47,
                        48,
                        49
                      ],
                      "type": "scatter3d",
                      "x": [
                        8,
                        9,
                        10
                      ],
                      "y": [
                        2,
                        2,
                        2
                      ],
                      "z": [
                        2,
                        1,
                        3
                      ]
                    },
                    {
                      "marker": {
                        "color": "blue",
                        "line": {
                          "color": "black",
                          "width": 1
                        },
                        "opacity": 0.8,
                        "size": 10,
                        "symbol": "circle"
                      },
                      "mode": "markers",
                      "name": "Est 3",
                      "text": [
                        40,
                        41,
                        42,
                        43,
                        44,
                        45,
                        46,
                        47,
                        48,
                        49
                      ],
                      "type": "scatter3d",
                      "x": [],
                      "y": [],
                      "z": []
                    }
                  ],
                  "name": "Frame 35"
                },
                {
                  "data": [
                    {
                      "marker": {
                        "color": "red",
                        "line": {
                          "color": "black",
                          "width": 1
                        },
                        "opacity": 0.8,
                        "size": 10,
                        "symbol": "circle"
                      },
                      "mode": "markers",
                      "name": "DOCENTE",
                      "text": [
                        40,
                        41,
                        42,
                        43,
                        44,
                        45,
                        46,
                        47,
                        48,
                        49
                      ],
                      "type": "scatter3d",
                      "x": [
                        1,
                        2,
                        3,
                        4,
                        5,
                        6,
                        7,
                        8,
                        9,
                        10
                      ],
                      "y": [
                        3,
                        2,
                        2,
                        3,
                        2,
                        3,
                        3,
                        4,
                        4,
                        4
                      ],
                      "z": [
                        4,
                        4,
                        2,
                        1,
                        2,
                        2,
                        2,
                        1,
                        2,
                        4
                      ]
                    },
                    {
                      "marker": {
                        "color": "green",
                        "line": {
                          "color": "black",
                          "width": 1
                        },
                        "opacity": 0.8,
                        "size": 10,
                        "symbol": "circle"
                      },
                      "mode": "markers",
                      "name": "Est 1",
                      "text": [
                        40,
                        41,
                        42,
                        43,
                        44,
                        45,
                        46,
                        47,
                        48,
                        49
                      ],
                      "type": "scatter3d",
                      "x": [],
                      "y": [],
                      "z": []
                    },
                    {
                      "marker": {
                        "color": "purple",
                        "line": {
                          "color": "black",
                          "width": 1
                        },
                        "opacity": 0.8,
                        "size": 10,
                        "symbol": "circle"
                      },
                      "mode": "markers",
                      "name": "Est 2",
                      "text": [
                        40,
                        41,
                        42,
                        43,
                        44,
                        45,
                        46,
                        47,
                        48,
                        49
                      ],
                      "type": "scatter3d",
                      "x": [
                        8,
                        9,
                        10
                      ],
                      "y": [
                        2,
                        2,
                        2
                      ],
                      "z": [
                        2,
                        1,
                        3
                      ]
                    },
                    {
                      "marker": {
                        "color": "blue",
                        "line": {
                          "color": "black",
                          "width": 1
                        },
                        "opacity": 0.8,
                        "size": 10,
                        "symbol": "circle"
                      },
                      "mode": "markers",
                      "name": "Est 3",
                      "text": [
                        40,
                        41,
                        42,
                        43,
                        44,
                        45,
                        46,
                        47,
                        48,
                        49
                      ],
                      "type": "scatter3d",
                      "x": [],
                      "y": [],
                      "z": []
                    }
                  ],
                  "name": "Frame 36"
                },
                {
                  "data": [
                    {
                      "marker": {
                        "color": "red",
                        "line": {
                          "color": "black",
                          "width": 1
                        },
                        "opacity": 0.8,
                        "size": 10,
                        "symbol": "circle"
                      },
                      "mode": "markers",
                      "name": "DOCENTE",
                      "text": [
                        40,
                        41,
                        42,
                        43,
                        44,
                        45,
                        46,
                        47,
                        48,
                        49
                      ],
                      "type": "scatter3d",
                      "x": [
                        1,
                        2,
                        3,
                        4,
                        5,
                        6,
                        7,
                        8,
                        9,
                        10
                      ],
                      "y": [
                        3,
                        2,
                        2,
                        3,
                        2,
                        3,
                        3,
                        4,
                        4,
                        4
                      ],
                      "z": [
                        4,
                        4,
                        2,
                        1,
                        2,
                        2,
                        2,
                        1,
                        2,
                        4
                      ]
                    },
                    {
                      "marker": {
                        "color": "green",
                        "line": {
                          "color": "black",
                          "width": 1
                        },
                        "opacity": 0.8,
                        "size": 10,
                        "symbol": "circle"
                      },
                      "mode": "markers",
                      "name": "Est 1",
                      "text": [
                        40,
                        41,
                        42,
                        43,
                        44,
                        45,
                        46,
                        47,
                        48,
                        49
                      ],
                      "type": "scatter3d",
                      "x": [],
                      "y": [],
                      "z": []
                    },
                    {
                      "marker": {
                        "color": "purple",
                        "line": {
                          "color": "black",
                          "width": 1
                        },
                        "opacity": 0.8,
                        "size": 10,
                        "symbol": "circle"
                      },
                      "mode": "markers",
                      "name": "Est 2",
                      "text": [
                        40,
                        41,
                        42,
                        43,
                        44,
                        45,
                        46,
                        47,
                        48,
                        49
                      ],
                      "type": "scatter3d",
                      "x": [
                        8,
                        9,
                        10
                      ],
                      "y": [
                        2,
                        2,
                        2
                      ],
                      "z": [
                        2,
                        1,
                        3
                      ]
                    },
                    {
                      "marker": {
                        "color": "blue",
                        "line": {
                          "color": "black",
                          "width": 1
                        },
                        "opacity": 0.8,
                        "size": 10,
                        "symbol": "circle"
                      },
                      "mode": "markers",
                      "name": "Est 3",
                      "text": [
                        40,
                        41,
                        42,
                        43,
                        44,
                        45,
                        46,
                        47,
                        48,
                        49
                      ],
                      "type": "scatter3d",
                      "x": [],
                      "y": [],
                      "z": []
                    }
                  ],
                  "name": "Frame 37"
                },
                {
                  "data": [
                    {
                      "marker": {
                        "color": "red",
                        "line": {
                          "color": "black",
                          "width": 1
                        },
                        "opacity": 0.8,
                        "size": 10,
                        "symbol": "circle"
                      },
                      "mode": "markers",
                      "name": "DOCENTE",
                      "text": [
                        40,
                        41,
                        42,
                        43,
                        44,
                        45,
                        46,
                        47,
                        48,
                        49
                      ],
                      "type": "scatter3d",
                      "x": [
                        1,
                        2,
                        3,
                        4,
                        5,
                        6,
                        7,
                        8,
                        9,
                        10
                      ],
                      "y": [
                        3,
                        2,
                        2,
                        3,
                        2,
                        3,
                        3,
                        4,
                        4,
                        4
                      ],
                      "z": [
                        4,
                        4,
                        2,
                        1,
                        2,
                        2,
                        2,
                        1,
                        2,
                        4
                      ]
                    },
                    {
                      "marker": {
                        "color": "green",
                        "line": {
                          "color": "black",
                          "width": 1
                        },
                        "opacity": 0.8,
                        "size": 10,
                        "symbol": "circle"
                      },
                      "mode": "markers",
                      "name": "Est 1",
                      "text": [
                        40,
                        41,
                        42,
                        43,
                        44,
                        45,
                        46,
                        47,
                        48,
                        49
                      ],
                      "type": "scatter3d",
                      "x": [],
                      "y": [],
                      "z": []
                    },
                    {
                      "marker": {
                        "color": "purple",
                        "line": {
                          "color": "black",
                          "width": 1
                        },
                        "opacity": 0.8,
                        "size": 10,
                        "symbol": "circle"
                      },
                      "mode": "markers",
                      "name": "Est 2",
                      "text": [
                        40,
                        41,
                        42,
                        43,
                        44,
                        45,
                        46,
                        47,
                        48,
                        49
                      ],
                      "type": "scatter3d",
                      "x": [
                        8,
                        9,
                        10
                      ],
                      "y": [
                        2,
                        2,
                        2
                      ],
                      "z": [
                        2,
                        1,
                        3
                      ]
                    },
                    {
                      "marker": {
                        "color": "blue",
                        "line": {
                          "color": "black",
                          "width": 1
                        },
                        "opacity": 0.8,
                        "size": 10,
                        "symbol": "circle"
                      },
                      "mode": "markers",
                      "name": "Est 3",
                      "text": [
                        40,
                        41,
                        42,
                        43,
                        44,
                        45,
                        46,
                        47,
                        48,
                        49
                      ],
                      "type": "scatter3d",
                      "x": [],
                      "y": [],
                      "z": []
                    }
                  ],
                  "name": "Frame 38"
                },
                {
                  "data": [
                    {
                      "marker": {
                        "color": "red",
                        "line": {
                          "color": "black",
                          "width": 1
                        },
                        "opacity": 0.8,
                        "size": 10,
                        "symbol": "circle"
                      },
                      "mode": "markers",
                      "name": "DOCENTE",
                      "text": [
                        40,
                        41,
                        42,
                        43,
                        44,
                        45,
                        46,
                        47,
                        48,
                        49
                      ],
                      "type": "scatter3d",
                      "x": [
                        1,
                        2,
                        3,
                        4,
                        5,
                        6,
                        7,
                        8,
                        9,
                        10
                      ],
                      "y": [
                        3,
                        2,
                        2,
                        3,
                        2,
                        3,
                        3,
                        4,
                        4,
                        4
                      ],
                      "z": [
                        4,
                        4,
                        2,
                        1,
                        2,
                        2,
                        2,
                        1,
                        2,
                        4
                      ]
                    },
                    {
                      "marker": {
                        "color": "green",
                        "line": {
                          "color": "black",
                          "width": 1
                        },
                        "opacity": 0.8,
                        "size": 10,
                        "symbol": "circle"
                      },
                      "mode": "markers",
                      "name": "Est 1",
                      "text": [
                        40,
                        41,
                        42,
                        43,
                        44,
                        45,
                        46,
                        47,
                        48,
                        49
                      ],
                      "type": "scatter3d",
                      "x": [],
                      "y": [],
                      "z": []
                    },
                    {
                      "marker": {
                        "color": "purple",
                        "line": {
                          "color": "black",
                          "width": 1
                        },
                        "opacity": 0.8,
                        "size": 10,
                        "symbol": "circle"
                      },
                      "mode": "markers",
                      "name": "Est 2",
                      "text": [
                        40,
                        41,
                        42,
                        43,
                        44,
                        45,
                        46,
                        47,
                        48,
                        49
                      ],
                      "type": "scatter3d",
                      "x": [
                        8,
                        9,
                        10
                      ],
                      "y": [
                        2,
                        2,
                        2
                      ],
                      "z": [
                        2,
                        1,
                        3
                      ]
                    },
                    {
                      "marker": {
                        "color": "blue",
                        "line": {
                          "color": "black",
                          "width": 1
                        },
                        "opacity": 0.8,
                        "size": 10,
                        "symbol": "circle"
                      },
                      "mode": "markers",
                      "name": "Est 3",
                      "text": [
                        40,
                        41,
                        42,
                        43,
                        44,
                        45,
                        46,
                        47,
                        48,
                        49
                      ],
                      "type": "scatter3d",
                      "x": [],
                      "y": [],
                      "z": []
                    }
                  ],
                  "name": "Frame 39"
                },
                {
                  "data": [
                    {
                      "marker": {
                        "color": "red",
                        "line": {
                          "color": "black",
                          "width": 1
                        },
                        "opacity": 0.8,
                        "size": 10,
                        "symbol": "circle"
                      },
                      "mode": "markers",
                      "name": "DOCENTE",
                      "text": [
                        40,
                        41,
                        42,
                        43,
                        44,
                        45,
                        46,
                        47,
                        48,
                        49
                      ],
                      "type": "scatter3d",
                      "x": [
                        1,
                        2,
                        3,
                        4,
                        5,
                        6,
                        7,
                        8,
                        9,
                        10
                      ],
                      "y": [
                        3,
                        2,
                        2,
                        3,
                        2,
                        3,
                        3,
                        4,
                        4,
                        4
                      ],
                      "z": [
                        4,
                        4,
                        2,
                        1,
                        2,
                        2,
                        2,
                        1,
                        2,
                        4
                      ]
                    },
                    {
                      "marker": {
                        "color": "green",
                        "line": {
                          "color": "black",
                          "width": 1
                        },
                        "opacity": 0.8,
                        "size": 10,
                        "symbol": "circle"
                      },
                      "mode": "markers",
                      "name": "Est 1",
                      "text": [
                        40,
                        41,
                        42,
                        43,
                        44,
                        45,
                        46,
                        47,
                        48,
                        49
                      ],
                      "type": "scatter3d",
                      "x": [],
                      "y": [],
                      "z": []
                    },
                    {
                      "marker": {
                        "color": "purple",
                        "line": {
                          "color": "black",
                          "width": 1
                        },
                        "opacity": 0.8,
                        "size": 10,
                        "symbol": "circle"
                      },
                      "mode": "markers",
                      "name": "Est 2",
                      "text": [
                        40,
                        41,
                        42,
                        43,
                        44,
                        45,
                        46,
                        47,
                        48,
                        49
                      ],
                      "type": "scatter3d",
                      "x": [
                        8,
                        9,
                        10
                      ],
                      "y": [
                        2,
                        2,
                        2
                      ],
                      "z": [
                        2,
                        1,
                        3
                      ]
                    },
                    {
                      "marker": {
                        "color": "blue",
                        "line": {
                          "color": "black",
                          "width": 1
                        },
                        "opacity": 0.8,
                        "size": 10,
                        "symbol": "circle"
                      },
                      "mode": "markers",
                      "name": "Est 3",
                      "text": [
                        40,
                        41,
                        42,
                        43,
                        44,
                        45,
                        46,
                        47,
                        48,
                        49
                      ],
                      "type": "scatter3d",
                      "x": [],
                      "y": [],
                      "z": []
                    }
                  ],
                  "name": "Frame 40"
                },
                {
                  "data": [
                    {
                      "marker": {
                        "color": "red",
                        "line": {
                          "color": "black",
                          "width": 1
                        },
                        "opacity": 0.8,
                        "size": 10,
                        "symbol": "circle"
                      },
                      "mode": "markers",
                      "name": "DOCENTE",
                      "text": [
                        40,
                        41,
                        42,
                        43,
                        44,
                        45,
                        46,
                        47,
                        48,
                        49
                      ],
                      "type": "scatter3d",
                      "x": [
                        1,
                        2,
                        3,
                        4,
                        5,
                        6,
                        7,
                        8,
                        9,
                        10
                      ],
                      "y": [
                        3,
                        2,
                        2,
                        3,
                        2,
                        3,
                        3,
                        4,
                        4,
                        4
                      ],
                      "z": [
                        4,
                        4,
                        2,
                        1,
                        2,
                        2,
                        2,
                        1,
                        2,
                        4
                      ]
                    },
                    {
                      "marker": {
                        "color": "green",
                        "line": {
                          "color": "black",
                          "width": 1
                        },
                        "opacity": 0.8,
                        "size": 10,
                        "symbol": "circle"
                      },
                      "mode": "markers",
                      "name": "Est 1",
                      "text": [
                        40,
                        41,
                        42,
                        43,
                        44,
                        45,
                        46,
                        47,
                        48,
                        49
                      ],
                      "type": "scatter3d",
                      "x": [],
                      "y": [],
                      "z": []
                    },
                    {
                      "marker": {
                        "color": "purple",
                        "line": {
                          "color": "black",
                          "width": 1
                        },
                        "opacity": 0.8,
                        "size": 10,
                        "symbol": "circle"
                      },
                      "mode": "markers",
                      "name": "Est 2",
                      "text": [
                        40,
                        41,
                        42,
                        43,
                        44,
                        45,
                        46,
                        47,
                        48,
                        49
                      ],
                      "type": "scatter3d",
                      "x": [
                        8,
                        9,
                        10
                      ],
                      "y": [
                        2,
                        2,
                        2
                      ],
                      "z": [
                        2,
                        1,
                        3
                      ]
                    },
                    {
                      "marker": {
                        "color": "blue",
                        "line": {
                          "color": "black",
                          "width": 1
                        },
                        "opacity": 0.8,
                        "size": 10,
                        "symbol": "circle"
                      },
                      "mode": "markers",
                      "name": "Est 3",
                      "text": [
                        40,
                        41,
                        42,
                        43,
                        44,
                        45,
                        46,
                        47,
                        48,
                        49
                      ],
                      "type": "scatter3d",
                      "x": [],
                      "y": [],
                      "z": []
                    }
                  ],
                  "name": "Frame 41"
                },
                {
                  "data": [
                    {
                      "marker": {
                        "color": "red",
                        "line": {
                          "color": "black",
                          "width": 1
                        },
                        "opacity": 0.8,
                        "size": 10,
                        "symbol": "circle"
                      },
                      "mode": "markers",
                      "name": "DOCENTE",
                      "text": [
                        40,
                        41,
                        42,
                        43,
                        44,
                        45,
                        46,
                        47,
                        48,
                        49
                      ],
                      "type": "scatter3d",
                      "x": [
                        1,
                        2,
                        3,
                        4,
                        5,
                        6,
                        7,
                        8,
                        9,
                        10
                      ],
                      "y": [
                        3,
                        2,
                        2,
                        3,
                        2,
                        3,
                        3,
                        4,
                        4,
                        4
                      ],
                      "z": [
                        4,
                        4,
                        2,
                        1,
                        2,
                        2,
                        2,
                        1,
                        2,
                        4
                      ]
                    },
                    {
                      "marker": {
                        "color": "green",
                        "line": {
                          "color": "black",
                          "width": 1
                        },
                        "opacity": 0.8,
                        "size": 10,
                        "symbol": "circle"
                      },
                      "mode": "markers",
                      "name": "Est 1",
                      "text": [
                        40,
                        41,
                        42,
                        43,
                        44,
                        45,
                        46,
                        47,
                        48,
                        49
                      ],
                      "type": "scatter3d",
                      "x": [],
                      "y": [],
                      "z": []
                    },
                    {
                      "marker": {
                        "color": "purple",
                        "line": {
                          "color": "black",
                          "width": 1
                        },
                        "opacity": 0.8,
                        "size": 10,
                        "symbol": "circle"
                      },
                      "mode": "markers",
                      "name": "Est 2",
                      "text": [
                        40,
                        41,
                        42,
                        43,
                        44,
                        45,
                        46,
                        47,
                        48,
                        49
                      ],
                      "type": "scatter3d",
                      "x": [
                        8,
                        9,
                        10
                      ],
                      "y": [
                        2,
                        2,
                        2
                      ],
                      "z": [
                        2,
                        1,
                        3
                      ]
                    },
                    {
                      "marker": {
                        "color": "blue",
                        "line": {
                          "color": "black",
                          "width": 1
                        },
                        "opacity": 0.8,
                        "size": 10,
                        "symbol": "circle"
                      },
                      "mode": "markers",
                      "name": "Est 3",
                      "text": [
                        40,
                        41,
                        42,
                        43,
                        44,
                        45,
                        46,
                        47,
                        48,
                        49
                      ],
                      "type": "scatter3d",
                      "x": [],
                      "y": [],
                      "z": []
                    }
                  ],
                  "name": "Frame 42"
                },
                {
                  "data": [
                    {
                      "marker": {
                        "color": "red",
                        "line": {
                          "color": "black",
                          "width": 1
                        },
                        "opacity": 0.8,
                        "size": 10,
                        "symbol": "circle"
                      },
                      "mode": "markers",
                      "name": "DOCENTE",
                      "text": [
                        40,
                        41,
                        42,
                        43,
                        44,
                        45,
                        46,
                        47,
                        48,
                        49
                      ],
                      "type": "scatter3d",
                      "x": [
                        1,
                        2,
                        3,
                        4,
                        5,
                        6,
                        7,
                        8,
                        9,
                        10
                      ],
                      "y": [
                        3,
                        2,
                        2,
                        3,
                        2,
                        3,
                        3,
                        4,
                        4,
                        4
                      ],
                      "z": [
                        4,
                        4,
                        2,
                        1,
                        2,
                        2,
                        2,
                        1,
                        2,
                        4
                      ]
                    },
                    {
                      "marker": {
                        "color": "green",
                        "line": {
                          "color": "black",
                          "width": 1
                        },
                        "opacity": 0.8,
                        "size": 10,
                        "symbol": "circle"
                      },
                      "mode": "markers",
                      "name": "Est 1",
                      "text": [
                        40,
                        41,
                        42,
                        43,
                        44,
                        45,
                        46,
                        47,
                        48,
                        49
                      ],
                      "type": "scatter3d",
                      "x": [],
                      "y": [],
                      "z": []
                    },
                    {
                      "marker": {
                        "color": "purple",
                        "line": {
                          "color": "black",
                          "width": 1
                        },
                        "opacity": 0.8,
                        "size": 10,
                        "symbol": "circle"
                      },
                      "mode": "markers",
                      "name": "Est 2",
                      "text": [
                        40,
                        41,
                        42,
                        43,
                        44,
                        45,
                        46,
                        47,
                        48,
                        49
                      ],
                      "type": "scatter3d",
                      "x": [
                        8,
                        9,
                        10
                      ],
                      "y": [
                        2,
                        2,
                        2
                      ],
                      "z": [
                        2,
                        1,
                        3
                      ]
                    },
                    {
                      "marker": {
                        "color": "blue",
                        "line": {
                          "color": "black",
                          "width": 1
                        },
                        "opacity": 0.8,
                        "size": 10,
                        "symbol": "circle"
                      },
                      "mode": "markers",
                      "name": "Est 3",
                      "text": [
                        40,
                        41,
                        42,
                        43,
                        44,
                        45,
                        46,
                        47,
                        48,
                        49
                      ],
                      "type": "scatter3d",
                      "x": [],
                      "y": [],
                      "z": []
                    }
                  ],
                  "name": "Frame 43"
                },
                {
                  "data": [
                    {
                      "marker": {
                        "color": "red",
                        "line": {
                          "color": "black",
                          "width": 1
                        },
                        "opacity": 0.8,
                        "size": 10,
                        "symbol": "circle"
                      },
                      "mode": "markers",
                      "name": "DOCENTE",
                      "text": [
                        40,
                        41,
                        42,
                        43,
                        44,
                        45,
                        46,
                        47,
                        48,
                        49
                      ],
                      "type": "scatter3d",
                      "x": [
                        1,
                        2,
                        3,
                        4,
                        5,
                        6,
                        7,
                        8,
                        9,
                        10
                      ],
                      "y": [
                        3,
                        2,
                        2,
                        3,
                        2,
                        3,
                        3,
                        4,
                        4,
                        4
                      ],
                      "z": [
                        4,
                        4,
                        2,
                        1,
                        2,
                        2,
                        2,
                        1,
                        2,
                        4
                      ]
                    },
                    {
                      "marker": {
                        "color": "green",
                        "line": {
                          "color": "black",
                          "width": 1
                        },
                        "opacity": 0.8,
                        "size": 10,
                        "symbol": "circle"
                      },
                      "mode": "markers",
                      "name": "Est 1",
                      "text": [
                        40,
                        41,
                        42,
                        43,
                        44,
                        45,
                        46,
                        47,
                        48,
                        49
                      ],
                      "type": "scatter3d",
                      "x": [],
                      "y": [],
                      "z": []
                    },
                    {
                      "marker": {
                        "color": "purple",
                        "line": {
                          "color": "black",
                          "width": 1
                        },
                        "opacity": 0.8,
                        "size": 10,
                        "symbol": "circle"
                      },
                      "mode": "markers",
                      "name": "Est 2",
                      "text": [
                        40,
                        41,
                        42,
                        43,
                        44,
                        45,
                        46,
                        47,
                        48,
                        49
                      ],
                      "type": "scatter3d",
                      "x": [
                        8,
                        9,
                        10
                      ],
                      "y": [
                        2,
                        2,
                        2
                      ],
                      "z": [
                        2,
                        1,
                        3
                      ]
                    },
                    {
                      "marker": {
                        "color": "blue",
                        "line": {
                          "color": "black",
                          "width": 1
                        },
                        "opacity": 0.8,
                        "size": 10,
                        "symbol": "circle"
                      },
                      "mode": "markers",
                      "name": "Est 3",
                      "text": [
                        40,
                        41,
                        42,
                        43,
                        44,
                        45,
                        46,
                        47,
                        48,
                        49
                      ],
                      "type": "scatter3d",
                      "x": [],
                      "y": [],
                      "z": []
                    }
                  ],
                  "name": "Frame 44"
                },
                {
                  "data": [
                    {
                      "marker": {
                        "color": "red",
                        "line": {
                          "color": "black",
                          "width": 1
                        },
                        "opacity": 0.8,
                        "size": 10,
                        "symbol": "circle"
                      },
                      "mode": "markers",
                      "name": "DOCENTE",
                      "text": [
                        40,
                        41,
                        42,
                        43,
                        44,
                        45,
                        46,
                        47,
                        48,
                        49
                      ],
                      "type": "scatter3d",
                      "x": [
                        1,
                        2,
                        3,
                        4,
                        5,
                        6,
                        7,
                        8,
                        9,
                        10
                      ],
                      "y": [
                        3,
                        2,
                        2,
                        3,
                        2,
                        3,
                        3,
                        4,
                        4,
                        4
                      ],
                      "z": [
                        4,
                        4,
                        2,
                        1,
                        2,
                        2,
                        2,
                        1,
                        2,
                        4
                      ]
                    },
                    {
                      "marker": {
                        "color": "green",
                        "line": {
                          "color": "black",
                          "width": 1
                        },
                        "opacity": 0.8,
                        "size": 10,
                        "symbol": "circle"
                      },
                      "mode": "markers",
                      "name": "Est 1",
                      "text": [
                        40,
                        41,
                        42,
                        43,
                        44,
                        45,
                        46,
                        47,
                        48,
                        49
                      ],
                      "type": "scatter3d",
                      "x": [],
                      "y": [],
                      "z": []
                    },
                    {
                      "marker": {
                        "color": "purple",
                        "line": {
                          "color": "black",
                          "width": 1
                        },
                        "opacity": 0.8,
                        "size": 10,
                        "symbol": "circle"
                      },
                      "mode": "markers",
                      "name": "Est 2",
                      "text": [
                        40,
                        41,
                        42,
                        43,
                        44,
                        45,
                        46,
                        47,
                        48,
                        49
                      ],
                      "type": "scatter3d",
                      "x": [
                        8,
                        9,
                        10
                      ],
                      "y": [
                        2,
                        2,
                        2
                      ],
                      "z": [
                        2,
                        1,
                        3
                      ]
                    },
                    {
                      "marker": {
                        "color": "blue",
                        "line": {
                          "color": "black",
                          "width": 1
                        },
                        "opacity": 0.8,
                        "size": 10,
                        "symbol": "circle"
                      },
                      "mode": "markers",
                      "name": "Est 3",
                      "text": [
                        40,
                        41,
                        42,
                        43,
                        44,
                        45,
                        46,
                        47,
                        48,
                        49
                      ],
                      "type": "scatter3d",
                      "x": [],
                      "y": [],
                      "z": []
                    }
                  ],
                  "name": "Frame 45"
                },
                {
                  "data": [
                    {
                      "marker": {
                        "color": "red",
                        "line": {
                          "color": "black",
                          "width": 1
                        },
                        "opacity": 0.8,
                        "size": 10,
                        "symbol": "circle"
                      },
                      "mode": "markers",
                      "name": "DOCENTE",
                      "text": [
                        40,
                        41,
                        42,
                        43,
                        44,
                        45,
                        46,
                        47,
                        48,
                        49
                      ],
                      "type": "scatter3d",
                      "x": [
                        1,
                        2,
                        3,
                        4,
                        5,
                        6,
                        7,
                        8,
                        9,
                        10
                      ],
                      "y": [
                        3,
                        2,
                        2,
                        3,
                        2,
                        3,
                        3,
                        4,
                        4,
                        4
                      ],
                      "z": [
                        4,
                        4,
                        2,
                        1,
                        2,
                        2,
                        2,
                        1,
                        2,
                        4
                      ]
                    },
                    {
                      "marker": {
                        "color": "green",
                        "line": {
                          "color": "black",
                          "width": 1
                        },
                        "opacity": 0.8,
                        "size": 10,
                        "symbol": "circle"
                      },
                      "mode": "markers",
                      "name": "Est 1",
                      "text": [
                        40,
                        41,
                        42,
                        43,
                        44,
                        45,
                        46,
                        47,
                        48,
                        49
                      ],
                      "type": "scatter3d",
                      "x": [],
                      "y": [],
                      "z": []
                    },
                    {
                      "marker": {
                        "color": "purple",
                        "line": {
                          "color": "black",
                          "width": 1
                        },
                        "opacity": 0.8,
                        "size": 10,
                        "symbol": "circle"
                      },
                      "mode": "markers",
                      "name": "Est 2",
                      "text": [
                        40,
                        41,
                        42,
                        43,
                        44,
                        45,
                        46,
                        47,
                        48,
                        49
                      ],
                      "type": "scatter3d",
                      "x": [
                        8,
                        9,
                        10
                      ],
                      "y": [
                        2,
                        2,
                        2
                      ],
                      "z": [
                        2,
                        1,
                        3
                      ]
                    },
                    {
                      "marker": {
                        "color": "blue",
                        "line": {
                          "color": "black",
                          "width": 1
                        },
                        "opacity": 0.8,
                        "size": 10,
                        "symbol": "circle"
                      },
                      "mode": "markers",
                      "name": "Est 3",
                      "text": [
                        40,
                        41,
                        42,
                        43,
                        44,
                        45,
                        46,
                        47,
                        48,
                        49
                      ],
                      "type": "scatter3d",
                      "x": [],
                      "y": [],
                      "z": []
                    }
                  ],
                  "name": "Frame 46"
                },
                {
                  "data": [
                    {
                      "marker": {
                        "color": "red",
                        "line": {
                          "color": "black",
                          "width": 1
                        },
                        "opacity": 0.8,
                        "size": 10,
                        "symbol": "circle"
                      },
                      "mode": "markers",
                      "name": "DOCENTE",
                      "text": [
                        40,
                        41,
                        42,
                        43,
                        44,
                        45,
                        46,
                        47,
                        48,
                        49
                      ],
                      "type": "scatter3d",
                      "x": [
                        1,
                        2,
                        3,
                        4,
                        5,
                        6,
                        7,
                        8,
                        9,
                        10
                      ],
                      "y": [
                        3,
                        2,
                        2,
                        3,
                        2,
                        3,
                        3,
                        4,
                        4,
                        4
                      ],
                      "z": [
                        4,
                        4,
                        2,
                        1,
                        2,
                        2,
                        2,
                        1,
                        2,
                        4
                      ]
                    },
                    {
                      "marker": {
                        "color": "green",
                        "line": {
                          "color": "black",
                          "width": 1
                        },
                        "opacity": 0.8,
                        "size": 10,
                        "symbol": "circle"
                      },
                      "mode": "markers",
                      "name": "Est 1",
                      "text": [
                        40,
                        41,
                        42,
                        43,
                        44,
                        45,
                        46,
                        47,
                        48,
                        49
                      ],
                      "type": "scatter3d",
                      "x": [],
                      "y": [],
                      "z": []
                    },
                    {
                      "marker": {
                        "color": "purple",
                        "line": {
                          "color": "black",
                          "width": 1
                        },
                        "opacity": 0.8,
                        "size": 10,
                        "symbol": "circle"
                      },
                      "mode": "markers",
                      "name": "Est 2",
                      "text": [
                        40,
                        41,
                        42,
                        43,
                        44,
                        45,
                        46,
                        47,
                        48,
                        49
                      ],
                      "type": "scatter3d",
                      "x": [
                        8,
                        9,
                        10
                      ],
                      "y": [
                        2,
                        2,
                        2
                      ],
                      "z": [
                        2,
                        1,
                        3
                      ]
                    },
                    {
                      "marker": {
                        "color": "blue",
                        "line": {
                          "color": "black",
                          "width": 1
                        },
                        "opacity": 0.8,
                        "size": 10,
                        "symbol": "circle"
                      },
                      "mode": "markers",
                      "name": "Est 3",
                      "text": [
                        40,
                        41,
                        42,
                        43,
                        44,
                        45,
                        46,
                        47,
                        48,
                        49
                      ],
                      "type": "scatter3d",
                      "x": [],
                      "y": [],
                      "z": []
                    }
                  ],
                  "name": "Frame 47"
                },
                {
                  "data": [
                    {
                      "marker": {
                        "color": "red",
                        "line": {
                          "color": "black",
                          "width": 1
                        },
                        "opacity": 0.8,
                        "size": 10,
                        "symbol": "circle"
                      },
                      "mode": "markers",
                      "name": "DOCENTE",
                      "text": [
                        40,
                        41,
                        42,
                        43,
                        44,
                        45,
                        46,
                        47,
                        48,
                        49
                      ],
                      "type": "scatter3d",
                      "x": [
                        1,
                        2,
                        3,
                        4,
                        5,
                        6,
                        7,
                        8,
                        9,
                        10
                      ],
                      "y": [
                        3,
                        2,
                        2,
                        3,
                        2,
                        3,
                        3,
                        4,
                        4,
                        4
                      ],
                      "z": [
                        4,
                        4,
                        2,
                        1,
                        2,
                        2,
                        2,
                        1,
                        2,
                        4
                      ]
                    },
                    {
                      "marker": {
                        "color": "green",
                        "line": {
                          "color": "black",
                          "width": 1
                        },
                        "opacity": 0.8,
                        "size": 10,
                        "symbol": "circle"
                      },
                      "mode": "markers",
                      "name": "Est 1",
                      "text": [
                        40,
                        41,
                        42,
                        43,
                        44,
                        45,
                        46,
                        47,
                        48,
                        49
                      ],
                      "type": "scatter3d",
                      "x": [],
                      "y": [],
                      "z": []
                    },
                    {
                      "marker": {
                        "color": "purple",
                        "line": {
                          "color": "black",
                          "width": 1
                        },
                        "opacity": 0.8,
                        "size": 10,
                        "symbol": "circle"
                      },
                      "mode": "markers",
                      "name": "Est 2",
                      "text": [
                        40,
                        41,
                        42,
                        43,
                        44,
                        45,
                        46,
                        47,
                        48,
                        49
                      ],
                      "type": "scatter3d",
                      "x": [
                        8,
                        9,
                        10
                      ],
                      "y": [
                        2,
                        2,
                        2
                      ],
                      "z": [
                        2,
                        1,
                        3
                      ]
                    },
                    {
                      "marker": {
                        "color": "blue",
                        "line": {
                          "color": "black",
                          "width": 1
                        },
                        "opacity": 0.8,
                        "size": 10,
                        "symbol": "circle"
                      },
                      "mode": "markers",
                      "name": "Est 3",
                      "text": [
                        40,
                        41,
                        42,
                        43,
                        44,
                        45,
                        46,
                        47,
                        48,
                        49
                      ],
                      "type": "scatter3d",
                      "x": [],
                      "y": [],
                      "z": []
                    }
                  ],
                  "name": "Frame 48"
                },
                {
                  "data": [
                    {
                      "marker": {
                        "color": "red",
                        "line": {
                          "color": "black",
                          "width": 1
                        },
                        "opacity": 0.8,
                        "size": 10,
                        "symbol": "circle"
                      },
                      "mode": "markers",
                      "name": "DOCENTE",
                      "text": [
                        40,
                        41,
                        42,
                        43,
                        44,
                        45,
                        46,
                        47,
                        48,
                        49
                      ],
                      "type": "scatter3d",
                      "x": [
                        1,
                        2,
                        3,
                        4,
                        5,
                        6,
                        7,
                        8,
                        9,
                        10
                      ],
                      "y": [
                        3,
                        2,
                        2,
                        3,
                        2,
                        3,
                        3,
                        4,
                        4,
                        4
                      ],
                      "z": [
                        4,
                        4,
                        2,
                        1,
                        2,
                        2,
                        2,
                        1,
                        2,
                        4
                      ]
                    },
                    {
                      "marker": {
                        "color": "green",
                        "line": {
                          "color": "black",
                          "width": 1
                        },
                        "opacity": 0.8,
                        "size": 10,
                        "symbol": "circle"
                      },
                      "mode": "markers",
                      "name": "Est 1",
                      "text": [
                        40,
                        41,
                        42,
                        43,
                        44,
                        45,
                        46,
                        47,
                        48,
                        49
                      ],
                      "type": "scatter3d",
                      "x": [],
                      "y": [],
                      "z": []
                    },
                    {
                      "marker": {
                        "color": "purple",
                        "line": {
                          "color": "black",
                          "width": 1
                        },
                        "opacity": 0.8,
                        "size": 10,
                        "symbol": "circle"
                      },
                      "mode": "markers",
                      "name": "Est 2",
                      "text": [
                        40,
                        41,
                        42,
                        43,
                        44,
                        45,
                        46,
                        47,
                        48,
                        49
                      ],
                      "type": "scatter3d",
                      "x": [
                        8,
                        9,
                        10
                      ],
                      "y": [
                        2,
                        2,
                        2
                      ],
                      "z": [
                        2,
                        1,
                        3
                      ]
                    },
                    {
                      "marker": {
                        "color": "blue",
                        "line": {
                          "color": "black",
                          "width": 1
                        },
                        "opacity": 0.8,
                        "size": 10,
                        "symbol": "circle"
                      },
                      "mode": "markers",
                      "name": "Est 3",
                      "text": [
                        40,
                        41,
                        42,
                        43,
                        44,
                        45,
                        46,
                        47,
                        48,
                        49
                      ],
                      "type": "scatter3d",
                      "x": [],
                      "y": [],
                      "z": []
                    }
                  ],
                  "name": "Frame 49"
                },
                {
                  "data": [
                    {
                      "marker": {
                        "color": "red",
                        "line": {
                          "color": "black",
                          "width": 1
                        },
                        "opacity": 0.8,
                        "size": 10,
                        "symbol": "circle"
                      },
                      "mode": "markers",
                      "name": "DOCENTE",
                      "text": [
                        40,
                        41,
                        42,
                        43,
                        44,
                        45,
                        46,
                        47,
                        48,
                        49
                      ],
                      "type": "scatter3d",
                      "x": [
                        1,
                        2,
                        3,
                        4,
                        5,
                        6,
                        7,
                        8,
                        9,
                        10
                      ],
                      "y": [
                        3,
                        2,
                        2,
                        3,
                        2,
                        3,
                        3,
                        4,
                        4,
                        4
                      ],
                      "z": [
                        4,
                        4,
                        2,
                        1,
                        2,
                        2,
                        2,
                        1,
                        2,
                        4
                      ]
                    },
                    {
                      "marker": {
                        "color": "green",
                        "line": {
                          "color": "black",
                          "width": 1
                        },
                        "opacity": 0.8,
                        "size": 10,
                        "symbol": "circle"
                      },
                      "mode": "markers",
                      "name": "Est 1",
                      "text": [
                        40,
                        41,
                        42,
                        43,
                        44,
                        45,
                        46,
                        47,
                        48,
                        49
                      ],
                      "type": "scatter3d",
                      "x": [],
                      "y": [],
                      "z": []
                    },
                    {
                      "marker": {
                        "color": "purple",
                        "line": {
                          "color": "black",
                          "width": 1
                        },
                        "opacity": 0.8,
                        "size": 10,
                        "symbol": "circle"
                      },
                      "mode": "markers",
                      "name": "Est 2",
                      "text": [
                        40,
                        41,
                        42,
                        43,
                        44,
                        45,
                        46,
                        47,
                        48,
                        49
                      ],
                      "type": "scatter3d",
                      "x": [
                        8,
                        9,
                        10
                      ],
                      "y": [
                        2,
                        2,
                        2
                      ],
                      "z": [
                        2,
                        1,
                        3
                      ]
                    },
                    {
                      "marker": {
                        "color": "blue",
                        "line": {
                          "color": "black",
                          "width": 1
                        },
                        "opacity": 0.8,
                        "size": 10,
                        "symbol": "circle"
                      },
                      "mode": "markers",
                      "name": "Est 3",
                      "text": [
                        40,
                        41,
                        42,
                        43,
                        44,
                        45,
                        46,
                        47,
                        48,
                        49
                      ],
                      "type": "scatter3d",
                      "x": [],
                      "y": [],
                      "z": []
                    }
                  ],
                  "name": "Frame 50"
                },
                {
                  "data": [
                    {
                      "marker": {
                        "color": "red",
                        "line": {
                          "color": "black",
                          "width": 1
                        },
                        "opacity": 0.8,
                        "size": 10,
                        "symbol": "circle"
                      },
                      "mode": "markers",
                      "name": "DOCENTE",
                      "text": [
                        40,
                        41,
                        42,
                        43,
                        44,
                        45,
                        46,
                        47,
                        48,
                        49
                      ],
                      "type": "scatter3d",
                      "x": [
                        1,
                        2,
                        3,
                        4,
                        5,
                        6,
                        7,
                        8,
                        9,
                        10
                      ],
                      "y": [
                        3,
                        2,
                        2,
                        3,
                        2,
                        3,
                        3,
                        4,
                        4,
                        4
                      ],
                      "z": [
                        4,
                        4,
                        2,
                        1,
                        2,
                        2,
                        2,
                        1,
                        2,
                        4
                      ]
                    },
                    {
                      "marker": {
                        "color": "green",
                        "line": {
                          "color": "black",
                          "width": 1
                        },
                        "opacity": 0.8,
                        "size": 10,
                        "symbol": "circle"
                      },
                      "mode": "markers",
                      "name": "Est 1",
                      "text": [
                        40,
                        41,
                        42,
                        43,
                        44,
                        45,
                        46,
                        47,
                        48,
                        49
                      ],
                      "type": "scatter3d",
                      "x": [],
                      "y": [],
                      "z": []
                    },
                    {
                      "marker": {
                        "color": "purple",
                        "line": {
                          "color": "black",
                          "width": 1
                        },
                        "opacity": 0.8,
                        "size": 10,
                        "symbol": "circle"
                      },
                      "mode": "markers",
                      "name": "Est 2",
                      "text": [
                        40,
                        41,
                        42,
                        43,
                        44,
                        45,
                        46,
                        47,
                        48,
                        49
                      ],
                      "type": "scatter3d",
                      "x": [
                        8,
                        9,
                        10
                      ],
                      "y": [
                        2,
                        2,
                        2
                      ],
                      "z": [
                        2,
                        1,
                        3
                      ]
                    },
                    {
                      "marker": {
                        "color": "blue",
                        "line": {
                          "color": "black",
                          "width": 1
                        },
                        "opacity": 0.8,
                        "size": 10,
                        "symbol": "circle"
                      },
                      "mode": "markers",
                      "name": "Est 3",
                      "text": [
                        40,
                        41,
                        42,
                        43,
                        44,
                        45,
                        46,
                        47,
                        48,
                        49
                      ],
                      "type": "scatter3d",
                      "x": [],
                      "y": [],
                      "z": []
                    }
                  ],
                  "name": "Frame 51"
                },
                {
                  "data": [
                    {
                      "marker": {
                        "color": "red",
                        "line": {
                          "color": "black",
                          "width": 1
                        },
                        "opacity": 0.8,
                        "size": 10,
                        "symbol": "circle"
                      },
                      "mode": "markers",
                      "name": "DOCENTE",
                      "text": [
                        40,
                        41,
                        42,
                        43,
                        44,
                        45,
                        46,
                        47,
                        48,
                        49
                      ],
                      "type": "scatter3d",
                      "x": [
                        1,
                        2,
                        3,
                        4,
                        5,
                        6,
                        7,
                        8,
                        9,
                        10
                      ],
                      "y": [
                        3,
                        2,
                        2,
                        3,
                        2,
                        3,
                        3,
                        4,
                        4,
                        4
                      ],
                      "z": [
                        4,
                        4,
                        2,
                        1,
                        2,
                        2,
                        2,
                        1,
                        2,
                        4
                      ]
                    },
                    {
                      "marker": {
                        "color": "green",
                        "line": {
                          "color": "black",
                          "width": 1
                        },
                        "opacity": 0.8,
                        "size": 10,
                        "symbol": "circle"
                      },
                      "mode": "markers",
                      "name": "Est 1",
                      "text": [
                        40,
                        41,
                        42,
                        43,
                        44,
                        45,
                        46,
                        47,
                        48,
                        49
                      ],
                      "type": "scatter3d",
                      "x": [],
                      "y": [],
                      "z": []
                    },
                    {
                      "marker": {
                        "color": "purple",
                        "line": {
                          "color": "black",
                          "width": 1
                        },
                        "opacity": 0.8,
                        "size": 10,
                        "symbol": "circle"
                      },
                      "mode": "markers",
                      "name": "Est 2",
                      "text": [
                        40,
                        41,
                        42,
                        43,
                        44,
                        45,
                        46,
                        47,
                        48,
                        49
                      ],
                      "type": "scatter3d",
                      "x": [
                        8,
                        9,
                        10
                      ],
                      "y": [
                        2,
                        2,
                        2
                      ],
                      "z": [
                        2,
                        1,
                        3
                      ]
                    },
                    {
                      "marker": {
                        "color": "blue",
                        "line": {
                          "color": "black",
                          "width": 1
                        },
                        "opacity": 0.8,
                        "size": 10,
                        "symbol": "circle"
                      },
                      "mode": "markers",
                      "name": "Est 3",
                      "text": [
                        40,
                        41,
                        42,
                        43,
                        44,
                        45,
                        46,
                        47,
                        48,
                        49
                      ],
                      "type": "scatter3d",
                      "x": [],
                      "y": [],
                      "z": []
                    }
                  ],
                  "name": "Frame 52"
                },
                {
                  "data": [
                    {
                      "marker": {
                        "color": "red",
                        "line": {
                          "color": "black",
                          "width": 1
                        },
                        "opacity": 0.8,
                        "size": 10,
                        "symbol": "circle"
                      },
                      "mode": "markers",
                      "name": "DOCENTE",
                      "text": [
                        40,
                        41,
                        42,
                        43,
                        44,
                        45,
                        46,
                        47,
                        48,
                        49
                      ],
                      "type": "scatter3d",
                      "x": [
                        1,
                        2,
                        3,
                        4,
                        5,
                        6,
                        7,
                        8,
                        9,
                        10
                      ],
                      "y": [
                        3,
                        2,
                        2,
                        3,
                        2,
                        3,
                        3,
                        4,
                        4,
                        4
                      ],
                      "z": [
                        4,
                        4,
                        2,
                        1,
                        2,
                        2,
                        2,
                        1,
                        2,
                        4
                      ]
                    },
                    {
                      "marker": {
                        "color": "green",
                        "line": {
                          "color": "black",
                          "width": 1
                        },
                        "opacity": 0.8,
                        "size": 10,
                        "symbol": "circle"
                      },
                      "mode": "markers",
                      "name": "Est 1",
                      "text": [
                        40,
                        41,
                        42,
                        43,
                        44,
                        45,
                        46,
                        47,
                        48,
                        49
                      ],
                      "type": "scatter3d",
                      "x": [],
                      "y": [],
                      "z": []
                    },
                    {
                      "marker": {
                        "color": "purple",
                        "line": {
                          "color": "black",
                          "width": 1
                        },
                        "opacity": 0.8,
                        "size": 10,
                        "symbol": "circle"
                      },
                      "mode": "markers",
                      "name": "Est 2",
                      "text": [
                        40,
                        41,
                        42,
                        43,
                        44,
                        45,
                        46,
                        47,
                        48,
                        49
                      ],
                      "type": "scatter3d",
                      "x": [
                        8,
                        9,
                        10
                      ],
                      "y": [
                        2,
                        2,
                        2
                      ],
                      "z": [
                        2,
                        1,
                        3
                      ]
                    },
                    {
                      "marker": {
                        "color": "blue",
                        "line": {
                          "color": "black",
                          "width": 1
                        },
                        "opacity": 0.8,
                        "size": 10,
                        "symbol": "circle"
                      },
                      "mode": "markers",
                      "name": "Est 3",
                      "text": [
                        40,
                        41,
                        42,
                        43,
                        44,
                        45,
                        46,
                        47,
                        48,
                        49
                      ],
                      "type": "scatter3d",
                      "x": [],
                      "y": [],
                      "z": []
                    }
                  ],
                  "name": "Frame 53"
                },
                {
                  "data": [
                    {
                      "marker": {
                        "color": "red",
                        "line": {
                          "color": "black",
                          "width": 1
                        },
                        "opacity": 0.8,
                        "size": 10,
                        "symbol": "circle"
                      },
                      "mode": "markers",
                      "name": "DOCENTE",
                      "text": [
                        40,
                        41,
                        42,
                        43,
                        44,
                        45,
                        46,
                        47,
                        48,
                        49
                      ],
                      "type": "scatter3d",
                      "x": [
                        1,
                        2,
                        3,
                        4,
                        5,
                        6,
                        7,
                        8,
                        9,
                        10
                      ],
                      "y": [
                        3,
                        2,
                        2,
                        3,
                        2,
                        3,
                        3,
                        4,
                        4,
                        4
                      ],
                      "z": [
                        4,
                        4,
                        2,
                        1,
                        2,
                        2,
                        2,
                        1,
                        2,
                        4
                      ]
                    },
                    {
                      "marker": {
                        "color": "green",
                        "line": {
                          "color": "black",
                          "width": 1
                        },
                        "opacity": 0.8,
                        "size": 10,
                        "symbol": "circle"
                      },
                      "mode": "markers",
                      "name": "Est 1",
                      "text": [
                        40,
                        41,
                        42,
                        43,
                        44,
                        45,
                        46,
                        47,
                        48,
                        49
                      ],
                      "type": "scatter3d",
                      "x": [],
                      "y": [],
                      "z": []
                    },
                    {
                      "marker": {
                        "color": "purple",
                        "line": {
                          "color": "black",
                          "width": 1
                        },
                        "opacity": 0.8,
                        "size": 10,
                        "symbol": "circle"
                      },
                      "mode": "markers",
                      "name": "Est 2",
                      "text": [
                        40,
                        41,
                        42,
                        43,
                        44,
                        45,
                        46,
                        47,
                        48,
                        49
                      ],
                      "type": "scatter3d",
                      "x": [
                        8,
                        9,
                        10
                      ],
                      "y": [
                        2,
                        2,
                        2
                      ],
                      "z": [
                        2,
                        1,
                        3
                      ]
                    },
                    {
                      "marker": {
                        "color": "blue",
                        "line": {
                          "color": "black",
                          "width": 1
                        },
                        "opacity": 0.8,
                        "size": 10,
                        "symbol": "circle"
                      },
                      "mode": "markers",
                      "name": "Est 3",
                      "text": [
                        40,
                        41,
                        42,
                        43,
                        44,
                        45,
                        46,
                        47,
                        48,
                        49
                      ],
                      "type": "scatter3d",
                      "x": [],
                      "y": [],
                      "z": []
                    }
                  ],
                  "name": "Frame 54"
                },
                {
                  "data": [
                    {
                      "marker": {
                        "color": "red",
                        "line": {
                          "color": "black",
                          "width": 1
                        },
                        "opacity": 0.8,
                        "size": 10,
                        "symbol": "circle"
                      },
                      "mode": "markers",
                      "name": "DOCENTE",
                      "text": [
                        40,
                        41,
                        42,
                        43,
                        44,
                        45,
                        46,
                        47,
                        48,
                        49
                      ],
                      "type": "scatter3d",
                      "x": [
                        1,
                        2,
                        3,
                        4,
                        5,
                        6,
                        7,
                        8,
                        9,
                        10
                      ],
                      "y": [
                        3,
                        2,
                        2,
                        3,
                        2,
                        3,
                        3,
                        4,
                        4,
                        4
                      ],
                      "z": [
                        4,
                        4,
                        2,
                        1,
                        2,
                        2,
                        2,
                        1,
                        2,
                        4
                      ]
                    },
                    {
                      "marker": {
                        "color": "green",
                        "line": {
                          "color": "black",
                          "width": 1
                        },
                        "opacity": 0.8,
                        "size": 10,
                        "symbol": "circle"
                      },
                      "mode": "markers",
                      "name": "Est 1",
                      "text": [
                        40,
                        41,
                        42,
                        43,
                        44,
                        45,
                        46,
                        47,
                        48,
                        49
                      ],
                      "type": "scatter3d",
                      "x": [],
                      "y": [],
                      "z": []
                    },
                    {
                      "marker": {
                        "color": "purple",
                        "line": {
                          "color": "black",
                          "width": 1
                        },
                        "opacity": 0.8,
                        "size": 10,
                        "symbol": "circle"
                      },
                      "mode": "markers",
                      "name": "Est 2",
                      "text": [
                        40,
                        41,
                        42,
                        43,
                        44,
                        45,
                        46,
                        47,
                        48,
                        49
                      ],
                      "type": "scatter3d",
                      "x": [
                        8,
                        9,
                        10
                      ],
                      "y": [
                        2,
                        2,
                        2
                      ],
                      "z": [
                        2,
                        1,
                        3
                      ]
                    },
                    {
                      "marker": {
                        "color": "blue",
                        "line": {
                          "color": "black",
                          "width": 1
                        },
                        "opacity": 0.8,
                        "size": 10,
                        "symbol": "circle"
                      },
                      "mode": "markers",
                      "name": "Est 3",
                      "text": [
                        40,
                        41,
                        42,
                        43,
                        44,
                        45,
                        46,
                        47,
                        48,
                        49
                      ],
                      "type": "scatter3d",
                      "x": [],
                      "y": [],
                      "z": []
                    }
                  ],
                  "name": "Frame 55"
                },
                {
                  "data": [
                    {
                      "marker": {
                        "color": "red",
                        "line": {
                          "color": "black",
                          "width": 1
                        },
                        "opacity": 0.8,
                        "size": 10,
                        "symbol": "circle"
                      },
                      "mode": "markers",
                      "name": "DOCENTE",
                      "text": [
                        40,
                        41,
                        42,
                        43,
                        44,
                        45,
                        46,
                        47,
                        48,
                        49
                      ],
                      "type": "scatter3d",
                      "x": [
                        1,
                        2,
                        3,
                        4,
                        5,
                        6,
                        7,
                        8,
                        9,
                        10
                      ],
                      "y": [
                        3,
                        2,
                        2,
                        3,
                        2,
                        3,
                        3,
                        4,
                        4,
                        4
                      ],
                      "z": [
                        4,
                        4,
                        2,
                        1,
                        2,
                        2,
                        2,
                        1,
                        2,
                        4
                      ]
                    },
                    {
                      "marker": {
                        "color": "green",
                        "line": {
                          "color": "black",
                          "width": 1
                        },
                        "opacity": 0.8,
                        "size": 10,
                        "symbol": "circle"
                      },
                      "mode": "markers",
                      "name": "Est 1",
                      "text": [
                        40,
                        41,
                        42,
                        43,
                        44,
                        45,
                        46,
                        47,
                        48,
                        49
                      ],
                      "type": "scatter3d",
                      "x": [],
                      "y": [],
                      "z": []
                    },
                    {
                      "marker": {
                        "color": "purple",
                        "line": {
                          "color": "black",
                          "width": 1
                        },
                        "opacity": 0.8,
                        "size": 10,
                        "symbol": "circle"
                      },
                      "mode": "markers",
                      "name": "Est 2",
                      "text": [
                        40,
                        41,
                        42,
                        43,
                        44,
                        45,
                        46,
                        47,
                        48,
                        49
                      ],
                      "type": "scatter3d",
                      "x": [
                        8,
                        9,
                        10
                      ],
                      "y": [
                        2,
                        2,
                        2
                      ],
                      "z": [
                        2,
                        1,
                        3
                      ]
                    },
                    {
                      "marker": {
                        "color": "blue",
                        "line": {
                          "color": "black",
                          "width": 1
                        },
                        "opacity": 0.8,
                        "size": 10,
                        "symbol": "circle"
                      },
                      "mode": "markers",
                      "name": "Est 3",
                      "text": [
                        40,
                        41,
                        42,
                        43,
                        44,
                        45,
                        46,
                        47,
                        48,
                        49
                      ],
                      "type": "scatter3d",
                      "x": [],
                      "y": [],
                      "z": []
                    }
                  ],
                  "name": "Frame 56"
                },
                {
                  "data": [
                    {
                      "marker": {
                        "color": "red",
                        "line": {
                          "color": "black",
                          "width": 1
                        },
                        "opacity": 0.8,
                        "size": 10,
                        "symbol": "circle"
                      },
                      "mode": "markers",
                      "name": "DOCENTE",
                      "text": [
                        40,
                        41,
                        42,
                        43,
                        44,
                        45,
                        46,
                        47,
                        48,
                        49
                      ],
                      "type": "scatter3d",
                      "x": [
                        1,
                        2,
                        3,
                        4,
                        5,
                        6,
                        7,
                        8,
                        9,
                        10
                      ],
                      "y": [
                        3,
                        2,
                        2,
                        3,
                        2,
                        3,
                        3,
                        4,
                        4,
                        4
                      ],
                      "z": [
                        4,
                        4,
                        2,
                        1,
                        2,
                        2,
                        2,
                        1,
                        2,
                        4
                      ]
                    },
                    {
                      "marker": {
                        "color": "green",
                        "line": {
                          "color": "black",
                          "width": 1
                        },
                        "opacity": 0.8,
                        "size": 10,
                        "symbol": "circle"
                      },
                      "mode": "markers",
                      "name": "Est 1",
                      "text": [
                        40,
                        41,
                        42,
                        43,
                        44,
                        45,
                        46,
                        47,
                        48,
                        49
                      ],
                      "type": "scatter3d",
                      "x": [],
                      "y": [],
                      "z": []
                    },
                    {
                      "marker": {
                        "color": "purple",
                        "line": {
                          "color": "black",
                          "width": 1
                        },
                        "opacity": 0.8,
                        "size": 10,
                        "symbol": "circle"
                      },
                      "mode": "markers",
                      "name": "Est 2",
                      "text": [
                        40,
                        41,
                        42,
                        43,
                        44,
                        45,
                        46,
                        47,
                        48,
                        49
                      ],
                      "type": "scatter3d",
                      "x": [
                        8,
                        9,
                        10
                      ],
                      "y": [
                        2,
                        2,
                        2
                      ],
                      "z": [
                        2,
                        1,
                        3
                      ]
                    },
                    {
                      "marker": {
                        "color": "blue",
                        "line": {
                          "color": "black",
                          "width": 1
                        },
                        "opacity": 0.8,
                        "size": 10,
                        "symbol": "circle"
                      },
                      "mode": "markers",
                      "name": "Est 3",
                      "text": [
                        40,
                        41,
                        42,
                        43,
                        44,
                        45,
                        46,
                        47,
                        48,
                        49
                      ],
                      "type": "scatter3d",
                      "x": [],
                      "y": [],
                      "z": []
                    }
                  ],
                  "name": "Frame 57"
                },
                {
                  "data": [
                    {
                      "marker": {
                        "color": "red",
                        "line": {
                          "color": "black",
                          "width": 1
                        },
                        "opacity": 0.8,
                        "size": 10,
                        "symbol": "circle"
                      },
                      "mode": "markers",
                      "name": "DOCENTE",
                      "text": [
                        40,
                        41,
                        42,
                        43,
                        44,
                        45,
                        46,
                        47,
                        48,
                        49
                      ],
                      "type": "scatter3d",
                      "x": [
                        1,
                        2,
                        3,
                        4,
                        5,
                        6,
                        7,
                        8,
                        9,
                        10
                      ],
                      "y": [
                        3,
                        2,
                        2,
                        3,
                        2,
                        3,
                        3,
                        4,
                        4,
                        4
                      ],
                      "z": [
                        4,
                        4,
                        2,
                        1,
                        2,
                        2,
                        2,
                        1,
                        2,
                        4
                      ]
                    },
                    {
                      "marker": {
                        "color": "green",
                        "line": {
                          "color": "black",
                          "width": 1
                        },
                        "opacity": 0.8,
                        "size": 10,
                        "symbol": "circle"
                      },
                      "mode": "markers",
                      "name": "Est 1",
                      "text": [
                        40,
                        41,
                        42,
                        43,
                        44,
                        45,
                        46,
                        47,
                        48,
                        49
                      ],
                      "type": "scatter3d",
                      "x": [],
                      "y": [],
                      "z": []
                    },
                    {
                      "marker": {
                        "color": "purple",
                        "line": {
                          "color": "black",
                          "width": 1
                        },
                        "opacity": 0.8,
                        "size": 10,
                        "symbol": "circle"
                      },
                      "mode": "markers",
                      "name": "Est 2",
                      "text": [
                        40,
                        41,
                        42,
                        43,
                        44,
                        45,
                        46,
                        47,
                        48,
                        49
                      ],
                      "type": "scatter3d",
                      "x": [
                        8,
                        9,
                        10
                      ],
                      "y": [
                        2,
                        2,
                        2
                      ],
                      "z": [
                        2,
                        1,
                        3
                      ]
                    },
                    {
                      "marker": {
                        "color": "blue",
                        "line": {
                          "color": "black",
                          "width": 1
                        },
                        "opacity": 0.8,
                        "size": 10,
                        "symbol": "circle"
                      },
                      "mode": "markers",
                      "name": "Est 3",
                      "text": [
                        40,
                        41,
                        42,
                        43,
                        44,
                        45,
                        46,
                        47,
                        48,
                        49
                      ],
                      "type": "scatter3d",
                      "x": [],
                      "y": [],
                      "z": []
                    }
                  ],
                  "name": "Frame 58"
                },
                {
                  "data": [
                    {
                      "marker": {
                        "color": "red",
                        "line": {
                          "color": "black",
                          "width": 1
                        },
                        "opacity": 0.8,
                        "size": 10,
                        "symbol": "circle"
                      },
                      "mode": "markers",
                      "name": "DOCENTE",
                      "text": [
                        40,
                        41,
                        42,
                        43,
                        44,
                        45,
                        46,
                        47,
                        48,
                        49
                      ],
                      "type": "scatter3d",
                      "x": [
                        1,
                        2,
                        3,
                        4,
                        5,
                        6,
                        7,
                        8,
                        9,
                        10
                      ],
                      "y": [
                        3,
                        2,
                        2,
                        3,
                        2,
                        3,
                        3,
                        4,
                        4,
                        4
                      ],
                      "z": [
                        4,
                        4,
                        2,
                        1,
                        2,
                        2,
                        2,
                        1,
                        2,
                        4
                      ]
                    },
                    {
                      "marker": {
                        "color": "green",
                        "line": {
                          "color": "black",
                          "width": 1
                        },
                        "opacity": 0.8,
                        "size": 10,
                        "symbol": "circle"
                      },
                      "mode": "markers",
                      "name": "Est 1",
                      "text": [
                        40,
                        41,
                        42,
                        43,
                        44,
                        45,
                        46,
                        47,
                        48,
                        49
                      ],
                      "type": "scatter3d",
                      "x": [],
                      "y": [],
                      "z": []
                    },
                    {
                      "marker": {
                        "color": "purple",
                        "line": {
                          "color": "black",
                          "width": 1
                        },
                        "opacity": 0.8,
                        "size": 10,
                        "symbol": "circle"
                      },
                      "mode": "markers",
                      "name": "Est 2",
                      "text": [
                        40,
                        41,
                        42,
                        43,
                        44,
                        45,
                        46,
                        47,
                        48,
                        49
                      ],
                      "type": "scatter3d",
                      "x": [
                        8,
                        9,
                        10
                      ],
                      "y": [
                        2,
                        2,
                        2
                      ],
                      "z": [
                        2,
                        1,
                        3
                      ]
                    },
                    {
                      "marker": {
                        "color": "blue",
                        "line": {
                          "color": "black",
                          "width": 1
                        },
                        "opacity": 0.8,
                        "size": 10,
                        "symbol": "circle"
                      },
                      "mode": "markers",
                      "name": "Est 3",
                      "text": [
                        40,
                        41,
                        42,
                        43,
                        44,
                        45,
                        46,
                        47,
                        48,
                        49
                      ],
                      "type": "scatter3d",
                      "x": [],
                      "y": [],
                      "z": []
                    }
                  ],
                  "name": "Frame 59"
                },
                {
                  "data": [
                    {
                      "marker": {
                        "color": "red",
                        "line": {
                          "color": "black",
                          "width": 1
                        },
                        "opacity": 0.8,
                        "size": 10,
                        "symbol": "circle"
                      },
                      "mode": "markers",
                      "name": "DOCENTE",
                      "text": [
                        40,
                        41,
                        42,
                        43,
                        44,
                        45,
                        46,
                        47,
                        48,
                        49
                      ],
                      "type": "scatter3d",
                      "x": [
                        1,
                        2,
                        3,
                        4,
                        5,
                        6,
                        7,
                        8,
                        9,
                        10
                      ],
                      "y": [
                        3,
                        2,
                        2,
                        3,
                        2,
                        3,
                        3,
                        4,
                        4,
                        4
                      ],
                      "z": [
                        4,
                        4,
                        2,
                        1,
                        2,
                        2,
                        2,
                        1,
                        2,
                        4
                      ]
                    },
                    {
                      "marker": {
                        "color": "green",
                        "line": {
                          "color": "black",
                          "width": 1
                        },
                        "opacity": 0.8,
                        "size": 10,
                        "symbol": "circle"
                      },
                      "mode": "markers",
                      "name": "Est 1",
                      "text": [
                        40,
                        41,
                        42,
                        43,
                        44,
                        45,
                        46,
                        47,
                        48,
                        49
                      ],
                      "type": "scatter3d",
                      "x": [],
                      "y": [],
                      "z": []
                    },
                    {
                      "marker": {
                        "color": "purple",
                        "line": {
                          "color": "black",
                          "width": 1
                        },
                        "opacity": 0.8,
                        "size": 10,
                        "symbol": "circle"
                      },
                      "mode": "markers",
                      "name": "Est 2",
                      "text": [
                        40,
                        41,
                        42,
                        43,
                        44,
                        45,
                        46,
                        47,
                        48,
                        49
                      ],
                      "type": "scatter3d",
                      "x": [
                        8,
                        9,
                        10
                      ],
                      "y": [
                        2,
                        2,
                        2
                      ],
                      "z": [
                        2,
                        1,
                        3
                      ]
                    },
                    {
                      "marker": {
                        "color": "blue",
                        "line": {
                          "color": "black",
                          "width": 1
                        },
                        "opacity": 0.8,
                        "size": 10,
                        "symbol": "circle"
                      },
                      "mode": "markers",
                      "name": "Est 3",
                      "text": [
                        40,
                        41,
                        42,
                        43,
                        44,
                        45,
                        46,
                        47,
                        48,
                        49
                      ],
                      "type": "scatter3d",
                      "x": [],
                      "y": [],
                      "z": []
                    }
                  ],
                  "name": "Frame 60"
                },
                {
                  "data": [
                    {
                      "marker": {
                        "color": "red",
                        "line": {
                          "color": "black",
                          "width": 1
                        },
                        "opacity": 0.8,
                        "size": 10,
                        "symbol": "circle"
                      },
                      "mode": "markers",
                      "name": "DOCENTE",
                      "text": [
                        40,
                        41,
                        42,
                        43,
                        44,
                        45,
                        46,
                        47,
                        48,
                        49
                      ],
                      "type": "scatter3d",
                      "x": [
                        1,
                        2,
                        3,
                        4,
                        5,
                        6,
                        7,
                        8,
                        9,
                        10
                      ],
                      "y": [
                        3,
                        2,
                        2,
                        3,
                        2,
                        3,
                        3,
                        4,
                        4,
                        4
                      ],
                      "z": [
                        4,
                        4,
                        2,
                        1,
                        2,
                        2,
                        2,
                        1,
                        2,
                        4
                      ]
                    },
                    {
                      "marker": {
                        "color": "green",
                        "line": {
                          "color": "black",
                          "width": 1
                        },
                        "opacity": 0.8,
                        "size": 10,
                        "symbol": "circle"
                      },
                      "mode": "markers",
                      "name": "Est 1",
                      "text": [
                        40,
                        41,
                        42,
                        43,
                        44,
                        45,
                        46,
                        47,
                        48,
                        49
                      ],
                      "type": "scatter3d",
                      "x": [],
                      "y": [],
                      "z": []
                    },
                    {
                      "marker": {
                        "color": "purple",
                        "line": {
                          "color": "black",
                          "width": 1
                        },
                        "opacity": 0.8,
                        "size": 10,
                        "symbol": "circle"
                      },
                      "mode": "markers",
                      "name": "Est 2",
                      "text": [
                        40,
                        41,
                        42,
                        43,
                        44,
                        45,
                        46,
                        47,
                        48,
                        49
                      ],
                      "type": "scatter3d",
                      "x": [
                        8,
                        9,
                        10
                      ],
                      "y": [
                        2,
                        2,
                        2
                      ],
                      "z": [
                        2,
                        1,
                        3
                      ]
                    },
                    {
                      "marker": {
                        "color": "blue",
                        "line": {
                          "color": "black",
                          "width": 1
                        },
                        "opacity": 0.8,
                        "size": 10,
                        "symbol": "circle"
                      },
                      "mode": "markers",
                      "name": "Est 3",
                      "text": [
                        40,
                        41,
                        42,
                        43,
                        44,
                        45,
                        46,
                        47,
                        48,
                        49
                      ],
                      "type": "scatter3d",
                      "x": [],
                      "y": [],
                      "z": []
                    }
                  ],
                  "name": "Frame 61"
                },
                {
                  "data": [
                    {
                      "marker": {
                        "color": "red",
                        "line": {
                          "color": "black",
                          "width": 1
                        },
                        "opacity": 0.8,
                        "size": 10,
                        "symbol": "circle"
                      },
                      "mode": "markers",
                      "name": "DOCENTE",
                      "text": [
                        40,
                        41,
                        42,
                        43,
                        44,
                        45,
                        46,
                        47,
                        48,
                        49
                      ],
                      "type": "scatter3d",
                      "x": [
                        1,
                        2,
                        3,
                        4,
                        5,
                        6,
                        7,
                        8,
                        9,
                        10
                      ],
                      "y": [
                        3,
                        2,
                        2,
                        3,
                        2,
                        3,
                        3,
                        4,
                        4,
                        4
                      ],
                      "z": [
                        4,
                        4,
                        2,
                        1,
                        2,
                        2,
                        2,
                        1,
                        2,
                        4
                      ]
                    },
                    {
                      "marker": {
                        "color": "green",
                        "line": {
                          "color": "black",
                          "width": 1
                        },
                        "opacity": 0.8,
                        "size": 10,
                        "symbol": "circle"
                      },
                      "mode": "markers",
                      "name": "Est 1",
                      "text": [
                        40,
                        41,
                        42,
                        43,
                        44,
                        45,
                        46,
                        47,
                        48,
                        49
                      ],
                      "type": "scatter3d",
                      "x": [],
                      "y": [],
                      "z": []
                    },
                    {
                      "marker": {
                        "color": "purple",
                        "line": {
                          "color": "black",
                          "width": 1
                        },
                        "opacity": 0.8,
                        "size": 10,
                        "symbol": "circle"
                      },
                      "mode": "markers",
                      "name": "Est 2",
                      "text": [
                        40,
                        41,
                        42,
                        43,
                        44,
                        45,
                        46,
                        47,
                        48,
                        49
                      ],
                      "type": "scatter3d",
                      "x": [
                        8,
                        9,
                        10
                      ],
                      "y": [
                        2,
                        2,
                        2
                      ],
                      "z": [
                        2,
                        1,
                        3
                      ]
                    },
                    {
                      "marker": {
                        "color": "blue",
                        "line": {
                          "color": "black",
                          "width": 1
                        },
                        "opacity": 0.8,
                        "size": 10,
                        "symbol": "circle"
                      },
                      "mode": "markers",
                      "name": "Est 3",
                      "text": [
                        40,
                        41,
                        42,
                        43,
                        44,
                        45,
                        46,
                        47,
                        48,
                        49
                      ],
                      "type": "scatter3d",
                      "x": [],
                      "y": [],
                      "z": []
                    }
                  ],
                  "name": "Frame 62"
                },
                {
                  "data": [
                    {
                      "marker": {
                        "color": "red",
                        "line": {
                          "color": "black",
                          "width": 1
                        },
                        "opacity": 0.8,
                        "size": 10,
                        "symbol": "circle"
                      },
                      "mode": "markers",
                      "name": "DOCENTE",
                      "text": [
                        40,
                        41,
                        42,
                        43,
                        44,
                        45,
                        46,
                        47,
                        48,
                        49
                      ],
                      "type": "scatter3d",
                      "x": [
                        1,
                        2,
                        3,
                        4,
                        5,
                        6,
                        7,
                        8,
                        9,
                        10
                      ],
                      "y": [
                        3,
                        2,
                        2,
                        3,
                        2,
                        3,
                        3,
                        4,
                        4,
                        4
                      ],
                      "z": [
                        4,
                        4,
                        2,
                        1,
                        2,
                        2,
                        2,
                        1,
                        2,
                        4
                      ]
                    },
                    {
                      "marker": {
                        "color": "green",
                        "line": {
                          "color": "black",
                          "width": 1
                        },
                        "opacity": 0.8,
                        "size": 10,
                        "symbol": "circle"
                      },
                      "mode": "markers",
                      "name": "Est 1",
                      "text": [
                        40,
                        41,
                        42,
                        43,
                        44,
                        45,
                        46,
                        47,
                        48,
                        49
                      ],
                      "type": "scatter3d",
                      "x": [],
                      "y": [],
                      "z": []
                    },
                    {
                      "marker": {
                        "color": "purple",
                        "line": {
                          "color": "black",
                          "width": 1
                        },
                        "opacity": 0.8,
                        "size": 10,
                        "symbol": "circle"
                      },
                      "mode": "markers",
                      "name": "Est 2",
                      "text": [
                        40,
                        41,
                        42,
                        43,
                        44,
                        45,
                        46,
                        47,
                        48,
                        49
                      ],
                      "type": "scatter3d",
                      "x": [
                        8,
                        9,
                        10
                      ],
                      "y": [
                        2,
                        2,
                        2
                      ],
                      "z": [
                        2,
                        1,
                        3
                      ]
                    },
                    {
                      "marker": {
                        "color": "blue",
                        "line": {
                          "color": "black",
                          "width": 1
                        },
                        "opacity": 0.8,
                        "size": 10,
                        "symbol": "circle"
                      },
                      "mode": "markers",
                      "name": "Est 3",
                      "text": [
                        40,
                        41,
                        42,
                        43,
                        44,
                        45,
                        46,
                        47,
                        48,
                        49
                      ],
                      "type": "scatter3d",
                      "x": [],
                      "y": [],
                      "z": []
                    }
                  ],
                  "name": "Frame 63"
                },
                {
                  "data": [
                    {
                      "marker": {
                        "color": "red",
                        "line": {
                          "color": "black",
                          "width": 1
                        },
                        "opacity": 0.8,
                        "size": 10,
                        "symbol": "circle"
                      },
                      "mode": "markers",
                      "name": "DOCENTE",
                      "text": [
                        40,
                        41,
                        42,
                        43,
                        44,
                        45,
                        46,
                        47,
                        48,
                        49
                      ],
                      "type": "scatter3d",
                      "x": [
                        1,
                        2,
                        3,
                        4,
                        5,
                        6,
                        7,
                        8,
                        9,
                        10
                      ],
                      "y": [
                        3,
                        2,
                        2,
                        3,
                        2,
                        3,
                        3,
                        4,
                        4,
                        4
                      ],
                      "z": [
                        4,
                        4,
                        2,
                        1,
                        2,
                        2,
                        2,
                        1,
                        2,
                        4
                      ]
                    },
                    {
                      "marker": {
                        "color": "green",
                        "line": {
                          "color": "black",
                          "width": 1
                        },
                        "opacity": 0.8,
                        "size": 10,
                        "symbol": "circle"
                      },
                      "mode": "markers",
                      "name": "Est 1",
                      "text": [
                        40,
                        41,
                        42,
                        43,
                        44,
                        45,
                        46,
                        47,
                        48,
                        49
                      ],
                      "type": "scatter3d",
                      "x": [],
                      "y": [],
                      "z": []
                    },
                    {
                      "marker": {
                        "color": "purple",
                        "line": {
                          "color": "black",
                          "width": 1
                        },
                        "opacity": 0.8,
                        "size": 10,
                        "symbol": "circle"
                      },
                      "mode": "markers",
                      "name": "Est 2",
                      "text": [
                        40,
                        41,
                        42,
                        43,
                        44,
                        45,
                        46,
                        47,
                        48,
                        49
                      ],
                      "type": "scatter3d",
                      "x": [
                        8,
                        9,
                        10
                      ],
                      "y": [
                        2,
                        2,
                        2
                      ],
                      "z": [
                        2,
                        1,
                        3
                      ]
                    },
                    {
                      "marker": {
                        "color": "blue",
                        "line": {
                          "color": "black",
                          "width": 1
                        },
                        "opacity": 0.8,
                        "size": 10,
                        "symbol": "circle"
                      },
                      "mode": "markers",
                      "name": "Est 3",
                      "text": [
                        40,
                        41,
                        42,
                        43,
                        44,
                        45,
                        46,
                        47,
                        48,
                        49
                      ],
                      "type": "scatter3d",
                      "x": [],
                      "y": [],
                      "z": []
                    }
                  ],
                  "name": "Frame 64"
                },
                {
                  "data": [
                    {
                      "marker": {
                        "color": "red",
                        "line": {
                          "color": "black",
                          "width": 1
                        },
                        "opacity": 0.8,
                        "size": 10,
                        "symbol": "circle"
                      },
                      "mode": "markers",
                      "name": "DOCENTE",
                      "text": [
                        40,
                        41,
                        42,
                        43,
                        44,
                        45,
                        46,
                        47,
                        48,
                        49
                      ],
                      "type": "scatter3d",
                      "x": [
                        1,
                        2,
                        3,
                        4,
                        5,
                        6,
                        7,
                        8,
                        9,
                        10
                      ],
                      "y": [
                        3,
                        2,
                        2,
                        3,
                        2,
                        3,
                        3,
                        4,
                        4,
                        4
                      ],
                      "z": [
                        4,
                        4,
                        2,
                        1,
                        2,
                        2,
                        2,
                        1,
                        2,
                        4
                      ]
                    },
                    {
                      "marker": {
                        "color": "green",
                        "line": {
                          "color": "black",
                          "width": 1
                        },
                        "opacity": 0.8,
                        "size": 10,
                        "symbol": "circle"
                      },
                      "mode": "markers",
                      "name": "Est 1",
                      "text": [
                        40,
                        41,
                        42,
                        43,
                        44,
                        45,
                        46,
                        47,
                        48,
                        49
                      ],
                      "type": "scatter3d",
                      "x": [],
                      "y": [],
                      "z": []
                    },
                    {
                      "marker": {
                        "color": "purple",
                        "line": {
                          "color": "black",
                          "width": 1
                        },
                        "opacity": 0.8,
                        "size": 10,
                        "symbol": "circle"
                      },
                      "mode": "markers",
                      "name": "Est 2",
                      "text": [
                        40,
                        41,
                        42,
                        43,
                        44,
                        45,
                        46,
                        47,
                        48,
                        49
                      ],
                      "type": "scatter3d",
                      "x": [
                        8,
                        9,
                        10
                      ],
                      "y": [
                        2,
                        2,
                        2
                      ],
                      "z": [
                        2,
                        1,
                        3
                      ]
                    },
                    {
                      "marker": {
                        "color": "blue",
                        "line": {
                          "color": "black",
                          "width": 1
                        },
                        "opacity": 0.8,
                        "size": 10,
                        "symbol": "circle"
                      },
                      "mode": "markers",
                      "name": "Est 3",
                      "text": [
                        40,
                        41,
                        42,
                        43,
                        44,
                        45,
                        46,
                        47,
                        48,
                        49
                      ],
                      "type": "scatter3d",
                      "x": [],
                      "y": [],
                      "z": []
                    }
                  ],
                  "name": "Frame 65"
                },
                {
                  "data": [
                    {
                      "marker": {
                        "color": "red",
                        "line": {
                          "color": "black",
                          "width": 1
                        },
                        "opacity": 0.8,
                        "size": 10,
                        "symbol": "circle"
                      },
                      "mode": "markers",
                      "name": "DOCENTE",
                      "text": [
                        40,
                        41,
                        42,
                        43,
                        44,
                        45,
                        46,
                        47,
                        48,
                        49
                      ],
                      "type": "scatter3d",
                      "x": [
                        1,
                        2,
                        3,
                        4,
                        5,
                        6,
                        7,
                        8,
                        9,
                        10
                      ],
                      "y": [
                        3,
                        2,
                        2,
                        3,
                        2,
                        3,
                        3,
                        4,
                        4,
                        4
                      ],
                      "z": [
                        4,
                        4,
                        2,
                        1,
                        2,
                        2,
                        2,
                        1,
                        2,
                        4
                      ]
                    },
                    {
                      "marker": {
                        "color": "green",
                        "line": {
                          "color": "black",
                          "width": 1
                        },
                        "opacity": 0.8,
                        "size": 10,
                        "symbol": "circle"
                      },
                      "mode": "markers",
                      "name": "Est 1",
                      "text": [
                        40,
                        41,
                        42,
                        43,
                        44,
                        45,
                        46,
                        47,
                        48,
                        49
                      ],
                      "type": "scatter3d",
                      "x": [],
                      "y": [],
                      "z": []
                    },
                    {
                      "marker": {
                        "color": "purple",
                        "line": {
                          "color": "black",
                          "width": 1
                        },
                        "opacity": 0.8,
                        "size": 10,
                        "symbol": "circle"
                      },
                      "mode": "markers",
                      "name": "Est 2",
                      "text": [
                        40,
                        41,
                        42,
                        43,
                        44,
                        45,
                        46,
                        47,
                        48,
                        49
                      ],
                      "type": "scatter3d",
                      "x": [
                        8,
                        9,
                        10
                      ],
                      "y": [
                        2,
                        2,
                        2
                      ],
                      "z": [
                        2,
                        1,
                        3
                      ]
                    },
                    {
                      "marker": {
                        "color": "blue",
                        "line": {
                          "color": "black",
                          "width": 1
                        },
                        "opacity": 0.8,
                        "size": 10,
                        "symbol": "circle"
                      },
                      "mode": "markers",
                      "name": "Est 3",
                      "text": [
                        40,
                        41,
                        42,
                        43,
                        44,
                        45,
                        46,
                        47,
                        48,
                        49
                      ],
                      "type": "scatter3d",
                      "x": [],
                      "y": [],
                      "z": []
                    }
                  ],
                  "name": "Frame 66"
                },
                {
                  "data": [
                    {
                      "marker": {
                        "color": "red",
                        "line": {
                          "color": "black",
                          "width": 1
                        },
                        "opacity": 0.8,
                        "size": 10,
                        "symbol": "circle"
                      },
                      "mode": "markers",
                      "name": "DOCENTE",
                      "text": [
                        40,
                        41,
                        42,
                        43,
                        44,
                        45,
                        46,
                        47,
                        48,
                        49
                      ],
                      "type": "scatter3d",
                      "x": [
                        1,
                        2,
                        3,
                        4,
                        5,
                        6,
                        7,
                        8,
                        9,
                        10
                      ],
                      "y": [
                        3,
                        2,
                        2,
                        3,
                        2,
                        3,
                        3,
                        4,
                        4,
                        4
                      ],
                      "z": [
                        4,
                        4,
                        2,
                        1,
                        2,
                        2,
                        2,
                        1,
                        2,
                        4
                      ]
                    },
                    {
                      "marker": {
                        "color": "green",
                        "line": {
                          "color": "black",
                          "width": 1
                        },
                        "opacity": 0.8,
                        "size": 10,
                        "symbol": "circle"
                      },
                      "mode": "markers",
                      "name": "Est 1",
                      "text": [
                        40,
                        41,
                        42,
                        43,
                        44,
                        45,
                        46,
                        47,
                        48,
                        49
                      ],
                      "type": "scatter3d",
                      "x": [],
                      "y": [],
                      "z": []
                    },
                    {
                      "marker": {
                        "color": "purple",
                        "line": {
                          "color": "black",
                          "width": 1
                        },
                        "opacity": 0.8,
                        "size": 10,
                        "symbol": "circle"
                      },
                      "mode": "markers",
                      "name": "Est 2",
                      "text": [
                        40,
                        41,
                        42,
                        43,
                        44,
                        45,
                        46,
                        47,
                        48,
                        49
                      ],
                      "type": "scatter3d",
                      "x": [
                        8,
                        9,
                        10
                      ],
                      "y": [
                        2,
                        2,
                        2
                      ],
                      "z": [
                        2,
                        1,
                        3
                      ]
                    },
                    {
                      "marker": {
                        "color": "blue",
                        "line": {
                          "color": "black",
                          "width": 1
                        },
                        "opacity": 0.8,
                        "size": 10,
                        "symbol": "circle"
                      },
                      "mode": "markers",
                      "name": "Est 3",
                      "text": [
                        40,
                        41,
                        42,
                        43,
                        44,
                        45,
                        46,
                        47,
                        48,
                        49
                      ],
                      "type": "scatter3d",
                      "x": [],
                      "y": [],
                      "z": []
                    }
                  ],
                  "name": "Frame 67"
                },
                {
                  "data": [
                    {
                      "marker": {
                        "color": "red",
                        "line": {
                          "color": "black",
                          "width": 1
                        },
                        "opacity": 0.8,
                        "size": 10,
                        "symbol": "circle"
                      },
                      "mode": "markers",
                      "name": "DOCENTE",
                      "text": [
                        40,
                        41,
                        42,
                        43,
                        44,
                        45,
                        46,
                        47,
                        48,
                        49
                      ],
                      "type": "scatter3d",
                      "x": [
                        1,
                        2,
                        3,
                        4,
                        5,
                        6,
                        7,
                        8,
                        9,
                        10
                      ],
                      "y": [
                        3,
                        2,
                        2,
                        3,
                        2,
                        3,
                        3,
                        4,
                        4,
                        4
                      ],
                      "z": [
                        4,
                        4,
                        2,
                        1,
                        2,
                        2,
                        2,
                        1,
                        2,
                        4
                      ]
                    },
                    {
                      "marker": {
                        "color": "green",
                        "line": {
                          "color": "black",
                          "width": 1
                        },
                        "opacity": 0.8,
                        "size": 10,
                        "symbol": "circle"
                      },
                      "mode": "markers",
                      "name": "Est 1",
                      "text": [
                        40,
                        41,
                        42,
                        43,
                        44,
                        45,
                        46,
                        47,
                        48,
                        49
                      ],
                      "type": "scatter3d",
                      "x": [],
                      "y": [],
                      "z": []
                    },
                    {
                      "marker": {
                        "color": "purple",
                        "line": {
                          "color": "black",
                          "width": 1
                        },
                        "opacity": 0.8,
                        "size": 10,
                        "symbol": "circle"
                      },
                      "mode": "markers",
                      "name": "Est 2",
                      "text": [
                        40,
                        41,
                        42,
                        43,
                        44,
                        45,
                        46,
                        47,
                        48,
                        49
                      ],
                      "type": "scatter3d",
                      "x": [
                        8,
                        9,
                        10
                      ],
                      "y": [
                        2,
                        2,
                        2
                      ],
                      "z": [
                        2,
                        1,
                        3
                      ]
                    },
                    {
                      "marker": {
                        "color": "blue",
                        "line": {
                          "color": "black",
                          "width": 1
                        },
                        "opacity": 0.8,
                        "size": 10,
                        "symbol": "circle"
                      },
                      "mode": "markers",
                      "name": "Est 3",
                      "text": [
                        40,
                        41,
                        42,
                        43,
                        44,
                        45,
                        46,
                        47,
                        48,
                        49
                      ],
                      "type": "scatter3d",
                      "x": [],
                      "y": [],
                      "z": []
                    }
                  ],
                  "name": "Frame 68"
                },
                {
                  "data": [
                    {
                      "marker": {
                        "color": "red",
                        "line": {
                          "color": "black",
                          "width": 1
                        },
                        "opacity": 0.8,
                        "size": 10,
                        "symbol": "circle"
                      },
                      "mode": "markers",
                      "name": "DOCENTE",
                      "text": [
                        40,
                        41,
                        42,
                        43,
                        44,
                        45,
                        46,
                        47,
                        48,
                        49
                      ],
                      "type": "scatter3d",
                      "x": [
                        1,
                        2,
                        3,
                        4,
                        5,
                        6,
                        7,
                        8,
                        9,
                        10
                      ],
                      "y": [
                        3,
                        2,
                        2,
                        3,
                        2,
                        3,
                        3,
                        4,
                        4,
                        4
                      ],
                      "z": [
                        4,
                        4,
                        2,
                        1,
                        2,
                        2,
                        2,
                        1,
                        2,
                        4
                      ]
                    },
                    {
                      "marker": {
                        "color": "green",
                        "line": {
                          "color": "black",
                          "width": 1
                        },
                        "opacity": 0.8,
                        "size": 10,
                        "symbol": "circle"
                      },
                      "mode": "markers",
                      "name": "Est 1",
                      "text": [
                        40,
                        41,
                        42,
                        43,
                        44,
                        45,
                        46,
                        47,
                        48,
                        49
                      ],
                      "type": "scatter3d",
                      "x": [],
                      "y": [],
                      "z": []
                    },
                    {
                      "marker": {
                        "color": "purple",
                        "line": {
                          "color": "black",
                          "width": 1
                        },
                        "opacity": 0.8,
                        "size": 10,
                        "symbol": "circle"
                      },
                      "mode": "markers",
                      "name": "Est 2",
                      "text": [
                        40,
                        41,
                        42,
                        43,
                        44,
                        45,
                        46,
                        47,
                        48,
                        49
                      ],
                      "type": "scatter3d",
                      "x": [
                        8,
                        9,
                        10
                      ],
                      "y": [
                        2,
                        2,
                        2
                      ],
                      "z": [
                        2,
                        1,
                        3
                      ]
                    },
                    {
                      "marker": {
                        "color": "blue",
                        "line": {
                          "color": "black",
                          "width": 1
                        },
                        "opacity": 0.8,
                        "size": 10,
                        "symbol": "circle"
                      },
                      "mode": "markers",
                      "name": "Est 3",
                      "text": [
                        40,
                        41,
                        42,
                        43,
                        44,
                        45,
                        46,
                        47,
                        48,
                        49
                      ],
                      "type": "scatter3d",
                      "x": [],
                      "y": [],
                      "z": []
                    }
                  ],
                  "name": "Frame 69"
                },
                {
                  "data": [
                    {
                      "marker": {
                        "color": "red",
                        "line": {
                          "color": "black",
                          "width": 1
                        },
                        "opacity": 0.8,
                        "size": 10,
                        "symbol": "circle"
                      },
                      "mode": "markers",
                      "name": "DOCENTE",
                      "text": [
                        40,
                        41,
                        42,
                        43,
                        44,
                        45,
                        46,
                        47,
                        48,
                        49
                      ],
                      "type": "scatter3d",
                      "x": [
                        1,
                        2,
                        3,
                        4,
                        5,
                        6,
                        7,
                        8,
                        9,
                        10
                      ],
                      "y": [
                        3,
                        2,
                        2,
                        3,
                        2,
                        3,
                        3,
                        4,
                        4,
                        4
                      ],
                      "z": [
                        4,
                        4,
                        2,
                        1,
                        2,
                        2,
                        2,
                        1,
                        2,
                        4
                      ]
                    },
                    {
                      "marker": {
                        "color": "green",
                        "line": {
                          "color": "black",
                          "width": 1
                        },
                        "opacity": 0.8,
                        "size": 10,
                        "symbol": "circle"
                      },
                      "mode": "markers",
                      "name": "Est 1",
                      "text": [
                        40,
                        41,
                        42,
                        43,
                        44,
                        45,
                        46,
                        47,
                        48,
                        49
                      ],
                      "type": "scatter3d",
                      "x": [],
                      "y": [],
                      "z": []
                    },
                    {
                      "marker": {
                        "color": "purple",
                        "line": {
                          "color": "black",
                          "width": 1
                        },
                        "opacity": 0.8,
                        "size": 10,
                        "symbol": "circle"
                      },
                      "mode": "markers",
                      "name": "Est 2",
                      "text": [
                        40,
                        41,
                        42,
                        43,
                        44,
                        45,
                        46,
                        47,
                        48,
                        49
                      ],
                      "type": "scatter3d",
                      "x": [
                        8,
                        9,
                        10
                      ],
                      "y": [
                        2,
                        2,
                        2
                      ],
                      "z": [
                        2,
                        1,
                        3
                      ]
                    },
                    {
                      "marker": {
                        "color": "blue",
                        "line": {
                          "color": "black",
                          "width": 1
                        },
                        "opacity": 0.8,
                        "size": 10,
                        "symbol": "circle"
                      },
                      "mode": "markers",
                      "name": "Est 3",
                      "text": [
                        40,
                        41,
                        42,
                        43,
                        44,
                        45,
                        46,
                        47,
                        48,
                        49
                      ],
                      "type": "scatter3d",
                      "x": [],
                      "y": [],
                      "z": []
                    }
                  ],
                  "name": "Frame 70"
                },
                {
                  "data": [
                    {
                      "marker": {
                        "color": "red",
                        "line": {
                          "color": "black",
                          "width": 1
                        },
                        "opacity": 0.8,
                        "size": 10,
                        "symbol": "circle"
                      },
                      "mode": "markers",
                      "name": "DOCENTE",
                      "text": [
                        40,
                        41,
                        42,
                        43,
                        44,
                        45,
                        46,
                        47,
                        48,
                        49
                      ],
                      "type": "scatter3d",
                      "x": [
                        1,
                        2,
                        3,
                        4,
                        5,
                        6,
                        7,
                        8,
                        9,
                        10
                      ],
                      "y": [
                        3,
                        2,
                        2,
                        3,
                        2,
                        3,
                        3,
                        4,
                        4,
                        4
                      ],
                      "z": [
                        4,
                        4,
                        2,
                        1,
                        2,
                        2,
                        2,
                        1,
                        2,
                        4
                      ]
                    },
                    {
                      "marker": {
                        "color": "green",
                        "line": {
                          "color": "black",
                          "width": 1
                        },
                        "opacity": 0.8,
                        "size": 10,
                        "symbol": "circle"
                      },
                      "mode": "markers",
                      "name": "Est 1",
                      "text": [
                        40,
                        41,
                        42,
                        43,
                        44,
                        45,
                        46,
                        47,
                        48,
                        49
                      ],
                      "type": "scatter3d",
                      "x": [],
                      "y": [],
                      "z": []
                    },
                    {
                      "marker": {
                        "color": "purple",
                        "line": {
                          "color": "black",
                          "width": 1
                        },
                        "opacity": 0.8,
                        "size": 10,
                        "symbol": "circle"
                      },
                      "mode": "markers",
                      "name": "Est 2",
                      "text": [
                        40,
                        41,
                        42,
                        43,
                        44,
                        45,
                        46,
                        47,
                        48,
                        49
                      ],
                      "type": "scatter3d",
                      "x": [
                        8,
                        9,
                        10
                      ],
                      "y": [
                        2,
                        2,
                        2
                      ],
                      "z": [
                        2,
                        1,
                        3
                      ]
                    },
                    {
                      "marker": {
                        "color": "blue",
                        "line": {
                          "color": "black",
                          "width": 1
                        },
                        "opacity": 0.8,
                        "size": 10,
                        "symbol": "circle"
                      },
                      "mode": "markers",
                      "name": "Est 3",
                      "text": [
                        40,
                        41,
                        42,
                        43,
                        44,
                        45,
                        46,
                        47,
                        48,
                        49
                      ],
                      "type": "scatter3d",
                      "x": [],
                      "y": [],
                      "z": []
                    }
                  ],
                  "name": "Frame 71"
                },
                {
                  "data": [
                    {
                      "marker": {
                        "color": "red",
                        "line": {
                          "color": "black",
                          "width": 1
                        },
                        "opacity": 0.8,
                        "size": 10,
                        "symbol": "circle"
                      },
                      "mode": "markers",
                      "name": "DOCENTE",
                      "text": [
                        40,
                        41,
                        42,
                        43,
                        44,
                        45,
                        46,
                        47,
                        48,
                        49
                      ],
                      "type": "scatter3d",
                      "x": [
                        1,
                        2,
                        3,
                        4,
                        5,
                        6,
                        7,
                        8,
                        9,
                        10
                      ],
                      "y": [
                        3,
                        2,
                        2,
                        3,
                        2,
                        3,
                        3,
                        4,
                        4,
                        4
                      ],
                      "z": [
                        4,
                        4,
                        2,
                        1,
                        2,
                        2,
                        2,
                        1,
                        2,
                        4
                      ]
                    },
                    {
                      "marker": {
                        "color": "green",
                        "line": {
                          "color": "black",
                          "width": 1
                        },
                        "opacity": 0.8,
                        "size": 10,
                        "symbol": "circle"
                      },
                      "mode": "markers",
                      "name": "Est 1",
                      "text": [
                        40,
                        41,
                        42,
                        43,
                        44,
                        45,
                        46,
                        47,
                        48,
                        49
                      ],
                      "type": "scatter3d",
                      "x": [],
                      "y": [],
                      "z": []
                    },
                    {
                      "marker": {
                        "color": "purple",
                        "line": {
                          "color": "black",
                          "width": 1
                        },
                        "opacity": 0.8,
                        "size": 10,
                        "symbol": "circle"
                      },
                      "mode": "markers",
                      "name": "Est 2",
                      "text": [
                        40,
                        41,
                        42,
                        43,
                        44,
                        45,
                        46,
                        47,
                        48,
                        49
                      ],
                      "type": "scatter3d",
                      "x": [
                        8,
                        9,
                        10
                      ],
                      "y": [
                        2,
                        2,
                        2
                      ],
                      "z": [
                        2,
                        1,
                        3
                      ]
                    },
                    {
                      "marker": {
                        "color": "blue",
                        "line": {
                          "color": "black",
                          "width": 1
                        },
                        "opacity": 0.8,
                        "size": 10,
                        "symbol": "circle"
                      },
                      "mode": "markers",
                      "name": "Est 3",
                      "text": [
                        40,
                        41,
                        42,
                        43,
                        44,
                        45,
                        46,
                        47,
                        48,
                        49
                      ],
                      "type": "scatter3d",
                      "x": [],
                      "y": [],
                      "z": []
                    }
                  ],
                  "name": "Frame 72"
                },
                {
                  "data": [
                    {
                      "marker": {
                        "color": "red",
                        "line": {
                          "color": "black",
                          "width": 1
                        },
                        "opacity": 0.8,
                        "size": 10,
                        "symbol": "circle"
                      },
                      "mode": "markers",
                      "name": "DOCENTE",
                      "text": [
                        40,
                        41,
                        42,
                        43,
                        44,
                        45,
                        46,
                        47,
                        48,
                        49
                      ],
                      "type": "scatter3d",
                      "x": [
                        1,
                        2,
                        3,
                        4,
                        5,
                        6,
                        7,
                        8,
                        9,
                        10
                      ],
                      "y": [
                        3,
                        2,
                        2,
                        3,
                        2,
                        3,
                        3,
                        4,
                        4,
                        4
                      ],
                      "z": [
                        4,
                        4,
                        2,
                        1,
                        2,
                        2,
                        2,
                        1,
                        2,
                        4
                      ]
                    },
                    {
                      "marker": {
                        "color": "green",
                        "line": {
                          "color": "black",
                          "width": 1
                        },
                        "opacity": 0.8,
                        "size": 10,
                        "symbol": "circle"
                      },
                      "mode": "markers",
                      "name": "Est 1",
                      "text": [
                        40,
                        41,
                        42,
                        43,
                        44,
                        45,
                        46,
                        47,
                        48,
                        49
                      ],
                      "type": "scatter3d",
                      "x": [],
                      "y": [],
                      "z": []
                    },
                    {
                      "marker": {
                        "color": "purple",
                        "line": {
                          "color": "black",
                          "width": 1
                        },
                        "opacity": 0.8,
                        "size": 10,
                        "symbol": "circle"
                      },
                      "mode": "markers",
                      "name": "Est 2",
                      "text": [
                        40,
                        41,
                        42,
                        43,
                        44,
                        45,
                        46,
                        47,
                        48,
                        49
                      ],
                      "type": "scatter3d",
                      "x": [
                        8,
                        9,
                        10
                      ],
                      "y": [
                        2,
                        2,
                        2
                      ],
                      "z": [
                        2,
                        1,
                        3
                      ]
                    },
                    {
                      "marker": {
                        "color": "blue",
                        "line": {
                          "color": "black",
                          "width": 1
                        },
                        "opacity": 0.8,
                        "size": 10,
                        "symbol": "circle"
                      },
                      "mode": "markers",
                      "name": "Est 3",
                      "text": [
                        40,
                        41,
                        42,
                        43,
                        44,
                        45,
                        46,
                        47,
                        48,
                        49
                      ],
                      "type": "scatter3d",
                      "x": [],
                      "y": [],
                      "z": []
                    }
                  ],
                  "name": "Frame 73"
                },
                {
                  "data": [
                    {
                      "marker": {
                        "color": "red",
                        "line": {
                          "color": "black",
                          "width": 1
                        },
                        "opacity": 0.8,
                        "size": 10,
                        "symbol": "circle"
                      },
                      "mode": "markers",
                      "name": "DOCENTE",
                      "text": [
                        40,
                        41,
                        42,
                        43,
                        44,
                        45,
                        46,
                        47,
                        48,
                        49
                      ],
                      "type": "scatter3d",
                      "x": [
                        1,
                        2,
                        3,
                        4,
                        5,
                        6,
                        7,
                        8,
                        9,
                        10
                      ],
                      "y": [
                        3,
                        2,
                        2,
                        3,
                        2,
                        3,
                        3,
                        4,
                        4,
                        4
                      ],
                      "z": [
                        4,
                        4,
                        2,
                        1,
                        2,
                        2,
                        2,
                        1,
                        2,
                        4
                      ]
                    },
                    {
                      "marker": {
                        "color": "green",
                        "line": {
                          "color": "black",
                          "width": 1
                        },
                        "opacity": 0.8,
                        "size": 10,
                        "symbol": "circle"
                      },
                      "mode": "markers",
                      "name": "Est 1",
                      "text": [
                        40,
                        41,
                        42,
                        43,
                        44,
                        45,
                        46,
                        47,
                        48,
                        49
                      ],
                      "type": "scatter3d",
                      "x": [],
                      "y": [],
                      "z": []
                    },
                    {
                      "marker": {
                        "color": "purple",
                        "line": {
                          "color": "black",
                          "width": 1
                        },
                        "opacity": 0.8,
                        "size": 10,
                        "symbol": "circle"
                      },
                      "mode": "markers",
                      "name": "Est 2",
                      "text": [
                        40,
                        41,
                        42,
                        43,
                        44,
                        45,
                        46,
                        47,
                        48,
                        49
                      ],
                      "type": "scatter3d",
                      "x": [
                        8,
                        9,
                        10
                      ],
                      "y": [
                        2,
                        2,
                        2
                      ],
                      "z": [
                        2,
                        1,
                        3
                      ]
                    },
                    {
                      "marker": {
                        "color": "blue",
                        "line": {
                          "color": "black",
                          "width": 1
                        },
                        "opacity": 0.8,
                        "size": 10,
                        "symbol": "circle"
                      },
                      "mode": "markers",
                      "name": "Est 3",
                      "text": [
                        40,
                        41,
                        42,
                        43,
                        44,
                        45,
                        46,
                        47,
                        48,
                        49
                      ],
                      "type": "scatter3d",
                      "x": [],
                      "y": [],
                      "z": []
                    }
                  ],
                  "name": "Frame 74"
                },
                {
                  "data": [
                    {
                      "marker": {
                        "color": "red",
                        "line": {
                          "color": "black",
                          "width": 1
                        },
                        "opacity": 0.8,
                        "size": 10,
                        "symbol": "circle"
                      },
                      "mode": "markers",
                      "name": "DOCENTE",
                      "text": [
                        40,
                        41,
                        42,
                        43,
                        44,
                        45,
                        46,
                        47,
                        48,
                        49
                      ],
                      "type": "scatter3d",
                      "x": [
                        1,
                        2,
                        3,
                        4,
                        5,
                        6,
                        7,
                        8,
                        9,
                        10
                      ],
                      "y": [
                        3,
                        2,
                        2,
                        3,
                        2,
                        3,
                        3,
                        4,
                        4,
                        4
                      ],
                      "z": [
                        4,
                        4,
                        2,
                        1,
                        2,
                        2,
                        2,
                        1,
                        2,
                        4
                      ]
                    },
                    {
                      "marker": {
                        "color": "green",
                        "line": {
                          "color": "black",
                          "width": 1
                        },
                        "opacity": 0.8,
                        "size": 10,
                        "symbol": "circle"
                      },
                      "mode": "markers",
                      "name": "Est 1",
                      "text": [
                        40,
                        41,
                        42,
                        43,
                        44,
                        45,
                        46,
                        47,
                        48,
                        49
                      ],
                      "type": "scatter3d",
                      "x": [],
                      "y": [],
                      "z": []
                    },
                    {
                      "marker": {
                        "color": "purple",
                        "line": {
                          "color": "black",
                          "width": 1
                        },
                        "opacity": 0.8,
                        "size": 10,
                        "symbol": "circle"
                      },
                      "mode": "markers",
                      "name": "Est 2",
                      "text": [
                        40,
                        41,
                        42,
                        43,
                        44,
                        45,
                        46,
                        47,
                        48,
                        49
                      ],
                      "type": "scatter3d",
                      "x": [
                        8,
                        9,
                        10
                      ],
                      "y": [
                        2,
                        2,
                        2
                      ],
                      "z": [
                        2,
                        1,
                        3
                      ]
                    },
                    {
                      "marker": {
                        "color": "blue",
                        "line": {
                          "color": "black",
                          "width": 1
                        },
                        "opacity": 0.8,
                        "size": 10,
                        "symbol": "circle"
                      },
                      "mode": "markers",
                      "name": "Est 3",
                      "text": [
                        40,
                        41,
                        42,
                        43,
                        44,
                        45,
                        46,
                        47,
                        48,
                        49
                      ],
                      "type": "scatter3d",
                      "x": [],
                      "y": [],
                      "z": []
                    }
                  ],
                  "name": "Frame 75"
                },
                {
                  "data": [
                    {
                      "marker": {
                        "color": "red",
                        "line": {
                          "color": "black",
                          "width": 1
                        },
                        "opacity": 0.8,
                        "size": 10,
                        "symbol": "circle"
                      },
                      "mode": "markers",
                      "name": "DOCENTE",
                      "text": [
                        40,
                        41,
                        42,
                        43,
                        44,
                        45,
                        46,
                        47,
                        48,
                        49
                      ],
                      "type": "scatter3d",
                      "x": [
                        1,
                        2,
                        3,
                        4,
                        5,
                        6,
                        7,
                        8,
                        9,
                        10
                      ],
                      "y": [
                        3,
                        2,
                        2,
                        3,
                        2,
                        3,
                        3,
                        4,
                        4,
                        4
                      ],
                      "z": [
                        4,
                        4,
                        2,
                        1,
                        2,
                        2,
                        2,
                        1,
                        2,
                        4
                      ]
                    },
                    {
                      "marker": {
                        "color": "green",
                        "line": {
                          "color": "black",
                          "width": 1
                        },
                        "opacity": 0.8,
                        "size": 10,
                        "symbol": "circle"
                      },
                      "mode": "markers",
                      "name": "Est 1",
                      "text": [
                        40,
                        41,
                        42,
                        43,
                        44,
                        45,
                        46,
                        47,
                        48,
                        49
                      ],
                      "type": "scatter3d",
                      "x": [],
                      "y": [],
                      "z": []
                    },
                    {
                      "marker": {
                        "color": "purple",
                        "line": {
                          "color": "black",
                          "width": 1
                        },
                        "opacity": 0.8,
                        "size": 10,
                        "symbol": "circle"
                      },
                      "mode": "markers",
                      "name": "Est 2",
                      "text": [
                        40,
                        41,
                        42,
                        43,
                        44,
                        45,
                        46,
                        47,
                        48,
                        49
                      ],
                      "type": "scatter3d",
                      "x": [
                        8,
                        9,
                        10
                      ],
                      "y": [
                        2,
                        2,
                        2
                      ],
                      "z": [
                        2,
                        1,
                        3
                      ]
                    },
                    {
                      "marker": {
                        "color": "blue",
                        "line": {
                          "color": "black",
                          "width": 1
                        },
                        "opacity": 0.8,
                        "size": 10,
                        "symbol": "circle"
                      },
                      "mode": "markers",
                      "name": "Est 3",
                      "text": [
                        40,
                        41,
                        42,
                        43,
                        44,
                        45,
                        46,
                        47,
                        48,
                        49
                      ],
                      "type": "scatter3d",
                      "x": [],
                      "y": [],
                      "z": []
                    }
                  ],
                  "name": "Frame 76"
                },
                {
                  "data": [
                    {
                      "marker": {
                        "color": "red",
                        "line": {
                          "color": "black",
                          "width": 1
                        },
                        "opacity": 0.8,
                        "size": 10,
                        "symbol": "circle"
                      },
                      "mode": "markers",
                      "name": "DOCENTE",
                      "text": [
                        40,
                        41,
                        42,
                        43,
                        44,
                        45,
                        46,
                        47,
                        48,
                        49
                      ],
                      "type": "scatter3d",
                      "x": [
                        1,
                        2,
                        3,
                        4,
                        5,
                        6,
                        7,
                        8,
                        9,
                        10
                      ],
                      "y": [
                        3,
                        2,
                        2,
                        3,
                        2,
                        3,
                        3,
                        4,
                        4,
                        4
                      ],
                      "z": [
                        4,
                        4,
                        2,
                        1,
                        2,
                        2,
                        2,
                        1,
                        2,
                        4
                      ]
                    },
                    {
                      "marker": {
                        "color": "green",
                        "line": {
                          "color": "black",
                          "width": 1
                        },
                        "opacity": 0.8,
                        "size": 10,
                        "symbol": "circle"
                      },
                      "mode": "markers",
                      "name": "Est 1",
                      "text": [
                        40,
                        41,
                        42,
                        43,
                        44,
                        45,
                        46,
                        47,
                        48,
                        49
                      ],
                      "type": "scatter3d",
                      "x": [],
                      "y": [],
                      "z": []
                    },
                    {
                      "marker": {
                        "color": "purple",
                        "line": {
                          "color": "black",
                          "width": 1
                        },
                        "opacity": 0.8,
                        "size": 10,
                        "symbol": "circle"
                      },
                      "mode": "markers",
                      "name": "Est 2",
                      "text": [
                        40,
                        41,
                        42,
                        43,
                        44,
                        45,
                        46,
                        47,
                        48,
                        49
                      ],
                      "type": "scatter3d",
                      "x": [
                        8,
                        9,
                        10
                      ],
                      "y": [
                        2,
                        2,
                        2
                      ],
                      "z": [
                        2,
                        1,
                        3
                      ]
                    },
                    {
                      "marker": {
                        "color": "blue",
                        "line": {
                          "color": "black",
                          "width": 1
                        },
                        "opacity": 0.8,
                        "size": 10,
                        "symbol": "circle"
                      },
                      "mode": "markers",
                      "name": "Est 3",
                      "text": [
                        40,
                        41,
                        42,
                        43,
                        44,
                        45,
                        46,
                        47,
                        48,
                        49
                      ],
                      "type": "scatter3d",
                      "x": [],
                      "y": [],
                      "z": []
                    }
                  ],
                  "name": "Frame 77"
                },
                {
                  "data": [
                    {
                      "marker": {
                        "color": "red",
                        "line": {
                          "color": "black",
                          "width": 1
                        },
                        "opacity": 0.8,
                        "size": 10,
                        "symbol": "circle"
                      },
                      "mode": "markers",
                      "name": "DOCENTE",
                      "text": [
                        40,
                        41,
                        42,
                        43,
                        44,
                        45,
                        46,
                        47,
                        48,
                        49
                      ],
                      "type": "scatter3d",
                      "x": [
                        1,
                        2,
                        3,
                        4,
                        5,
                        6,
                        7,
                        8,
                        9,
                        10
                      ],
                      "y": [
                        3,
                        2,
                        2,
                        3,
                        2,
                        3,
                        3,
                        4,
                        4,
                        4
                      ],
                      "z": [
                        4,
                        4,
                        2,
                        1,
                        2,
                        2,
                        2,
                        1,
                        2,
                        4
                      ]
                    },
                    {
                      "marker": {
                        "color": "green",
                        "line": {
                          "color": "black",
                          "width": 1
                        },
                        "opacity": 0.8,
                        "size": 10,
                        "symbol": "circle"
                      },
                      "mode": "markers",
                      "name": "Est 1",
                      "text": [
                        40,
                        41,
                        42,
                        43,
                        44,
                        45,
                        46,
                        47,
                        48,
                        49
                      ],
                      "type": "scatter3d",
                      "x": [],
                      "y": [],
                      "z": []
                    },
                    {
                      "marker": {
                        "color": "purple",
                        "line": {
                          "color": "black",
                          "width": 1
                        },
                        "opacity": 0.8,
                        "size": 10,
                        "symbol": "circle"
                      },
                      "mode": "markers",
                      "name": "Est 2",
                      "text": [
                        40,
                        41,
                        42,
                        43,
                        44,
                        45,
                        46,
                        47,
                        48,
                        49
                      ],
                      "type": "scatter3d",
                      "x": [
                        8,
                        9,
                        10
                      ],
                      "y": [
                        2,
                        2,
                        2
                      ],
                      "z": [
                        2,
                        1,
                        3
                      ]
                    },
                    {
                      "marker": {
                        "color": "blue",
                        "line": {
                          "color": "black",
                          "width": 1
                        },
                        "opacity": 0.8,
                        "size": 10,
                        "symbol": "circle"
                      },
                      "mode": "markers",
                      "name": "Est 3",
                      "text": [
                        40,
                        41,
                        42,
                        43,
                        44,
                        45,
                        46,
                        47,
                        48,
                        49
                      ],
                      "type": "scatter3d",
                      "x": [],
                      "y": [],
                      "z": []
                    }
                  ],
                  "name": "Frame 78"
                },
                {
                  "data": [
                    {
                      "marker": {
                        "color": "red",
                        "line": {
                          "color": "black",
                          "width": 1
                        },
                        "opacity": 0.8,
                        "size": 10,
                        "symbol": "circle"
                      },
                      "mode": "markers",
                      "name": "DOCENTE",
                      "text": [
                        40,
                        41,
                        42,
                        43,
                        44,
                        45,
                        46,
                        47,
                        48,
                        49
                      ],
                      "type": "scatter3d",
                      "x": [
                        1,
                        2,
                        3,
                        4,
                        5,
                        6,
                        7,
                        8,
                        9,
                        10
                      ],
                      "y": [
                        3,
                        2,
                        2,
                        3,
                        2,
                        3,
                        3,
                        4,
                        4,
                        4
                      ],
                      "z": [
                        4,
                        4,
                        2,
                        1,
                        2,
                        2,
                        2,
                        1,
                        2,
                        4
                      ]
                    },
                    {
                      "marker": {
                        "color": "green",
                        "line": {
                          "color": "black",
                          "width": 1
                        },
                        "opacity": 0.8,
                        "size": 10,
                        "symbol": "circle"
                      },
                      "mode": "markers",
                      "name": "Est 1",
                      "text": [
                        40,
                        41,
                        42,
                        43,
                        44,
                        45,
                        46,
                        47,
                        48,
                        49
                      ],
                      "type": "scatter3d",
                      "x": [],
                      "y": [],
                      "z": []
                    },
                    {
                      "marker": {
                        "color": "purple",
                        "line": {
                          "color": "black",
                          "width": 1
                        },
                        "opacity": 0.8,
                        "size": 10,
                        "symbol": "circle"
                      },
                      "mode": "markers",
                      "name": "Est 2",
                      "text": [
                        40,
                        41,
                        42,
                        43,
                        44,
                        45,
                        46,
                        47,
                        48,
                        49
                      ],
                      "type": "scatter3d",
                      "x": [
                        8,
                        9,
                        10
                      ],
                      "y": [
                        2,
                        2,
                        2
                      ],
                      "z": [
                        2,
                        1,
                        3
                      ]
                    },
                    {
                      "marker": {
                        "color": "blue",
                        "line": {
                          "color": "black",
                          "width": 1
                        },
                        "opacity": 0.8,
                        "size": 10,
                        "symbol": "circle"
                      },
                      "mode": "markers",
                      "name": "Est 3",
                      "text": [
                        40,
                        41,
                        42,
                        43,
                        44,
                        45,
                        46,
                        47,
                        48,
                        49
                      ],
                      "type": "scatter3d",
                      "x": [],
                      "y": [],
                      "z": []
                    }
                  ],
                  "name": "Frame 79"
                }
              ],
              "layout": {
                "height": 800,
                "margin": {
                  "l": 0,
                  "r": 0
                },
                "scene": {
                  "aspectmode": "cube",
                  "bgcolor": "lightgray",
                  "xaxis": {
                    "title": {
                      "text": "Tiempo"
                    }
                  },
                  "yaxis": {
                    "title": {
                      "text": "Especialización"
                    }
                  },
                  "zaxis": {
                    "title": {
                      "text": "Semántica"
                    }
                  }
                },
                "showlegend": true,
                "template": {
                  "data": {
                    "bar": [
                      {
                        "error_x": {
                          "color": "#2a3f5f"
                        },
                        "error_y": {
                          "color": "#2a3f5f"
                        },
                        "marker": {
                          "line": {
                            "color": "#E5ECF6",
                            "width": 0.5
                          },
                          "pattern": {
                            "fillmode": "overlay",
                            "size": 10,
                            "solidity": 0.2
                          }
                        },
                        "type": "bar"
                      }
                    ],
                    "barpolar": [
                      {
                        "marker": {
                          "line": {
                            "color": "#E5ECF6",
                            "width": 0.5
                          },
                          "pattern": {
                            "fillmode": "overlay",
                            "size": 10,
                            "solidity": 0.2
                          }
                        },
                        "type": "barpolar"
                      }
                    ],
                    "carpet": [
                      {
                        "aaxis": {
                          "endlinecolor": "#2a3f5f",
                          "gridcolor": "white",
                          "linecolor": "white",
                          "minorgridcolor": "white",
                          "startlinecolor": "#2a3f5f"
                        },
                        "baxis": {
                          "endlinecolor": "#2a3f5f",
                          "gridcolor": "white",
                          "linecolor": "white",
                          "minorgridcolor": "white",
                          "startlinecolor": "#2a3f5f"
                        },
                        "type": "carpet"
                      }
                    ],
                    "choropleth": [
                      {
                        "colorbar": {
                          "outlinewidth": 0,
                          "ticks": ""
                        },
                        "type": "choropleth"
                      }
                    ],
                    "contour": [
                      {
                        "colorbar": {
                          "outlinewidth": 0,
                          "ticks": ""
                        },
                        "colorscale": [
                          [
                            0,
                            "#0d0887"
                          ],
                          [
                            0.1111111111111111,
                            "#46039f"
                          ],
                          [
                            0.2222222222222222,
                            "#7201a8"
                          ],
                          [
                            0.3333333333333333,
                            "#9c179e"
                          ],
                          [
                            0.4444444444444444,
                            "#bd3786"
                          ],
                          [
                            0.5555555555555556,
                            "#d8576b"
                          ],
                          [
                            0.6666666666666666,
                            "#ed7953"
                          ],
                          [
                            0.7777777777777778,
                            "#fb9f3a"
                          ],
                          [
                            0.8888888888888888,
                            "#fdca26"
                          ],
                          [
                            1,
                            "#f0f921"
                          ]
                        ],
                        "type": "contour"
                      }
                    ],
                    "contourcarpet": [
                      {
                        "colorbar": {
                          "outlinewidth": 0,
                          "ticks": ""
                        },
                        "type": "contourcarpet"
                      }
                    ],
                    "heatmap": [
                      {
                        "colorbar": {
                          "outlinewidth": 0,
                          "ticks": ""
                        },
                        "colorscale": [
                          [
                            0,
                            "#0d0887"
                          ],
                          [
                            0.1111111111111111,
                            "#46039f"
                          ],
                          [
                            0.2222222222222222,
                            "#7201a8"
                          ],
                          [
                            0.3333333333333333,
                            "#9c179e"
                          ],
                          [
                            0.4444444444444444,
                            "#bd3786"
                          ],
                          [
                            0.5555555555555556,
                            "#d8576b"
                          ],
                          [
                            0.6666666666666666,
                            "#ed7953"
                          ],
                          [
                            0.7777777777777778,
                            "#fb9f3a"
                          ],
                          [
                            0.8888888888888888,
                            "#fdca26"
                          ],
                          [
                            1,
                            "#f0f921"
                          ]
                        ],
                        "type": "heatmap"
                      }
                    ],
                    "heatmapgl": [
                      {
                        "colorbar": {
                          "outlinewidth": 0,
                          "ticks": ""
                        },
                        "colorscale": [
                          [
                            0,
                            "#0d0887"
                          ],
                          [
                            0.1111111111111111,
                            "#46039f"
                          ],
                          [
                            0.2222222222222222,
                            "#7201a8"
                          ],
                          [
                            0.3333333333333333,
                            "#9c179e"
                          ],
                          [
                            0.4444444444444444,
                            "#bd3786"
                          ],
                          [
                            0.5555555555555556,
                            "#d8576b"
                          ],
                          [
                            0.6666666666666666,
                            "#ed7953"
                          ],
                          [
                            0.7777777777777778,
                            "#fb9f3a"
                          ],
                          [
                            0.8888888888888888,
                            "#fdca26"
                          ],
                          [
                            1,
                            "#f0f921"
                          ]
                        ],
                        "type": "heatmapgl"
                      }
                    ],
                    "histogram": [
                      {
                        "marker": {
                          "pattern": {
                            "fillmode": "overlay",
                            "size": 10,
                            "solidity": 0.2
                          }
                        },
                        "type": "histogram"
                      }
                    ],
                    "histogram2d": [
                      {
                        "colorbar": {
                          "outlinewidth": 0,
                          "ticks": ""
                        },
                        "colorscale": [
                          [
                            0,
                            "#0d0887"
                          ],
                          [
                            0.1111111111111111,
                            "#46039f"
                          ],
                          [
                            0.2222222222222222,
                            "#7201a8"
                          ],
                          [
                            0.3333333333333333,
                            "#9c179e"
                          ],
                          [
                            0.4444444444444444,
                            "#bd3786"
                          ],
                          [
                            0.5555555555555556,
                            "#d8576b"
                          ],
                          [
                            0.6666666666666666,
                            "#ed7953"
                          ],
                          [
                            0.7777777777777778,
                            "#fb9f3a"
                          ],
                          [
                            0.8888888888888888,
                            "#fdca26"
                          ],
                          [
                            1,
                            "#f0f921"
                          ]
                        ],
                        "type": "histogram2d"
                      }
                    ],
                    "histogram2dcontour": [
                      {
                        "colorbar": {
                          "outlinewidth": 0,
                          "ticks": ""
                        },
                        "colorscale": [
                          [
                            0,
                            "#0d0887"
                          ],
                          [
                            0.1111111111111111,
                            "#46039f"
                          ],
                          [
                            0.2222222222222222,
                            "#7201a8"
                          ],
                          [
                            0.3333333333333333,
                            "#9c179e"
                          ],
                          [
                            0.4444444444444444,
                            "#bd3786"
                          ],
                          [
                            0.5555555555555556,
                            "#d8576b"
                          ],
                          [
                            0.6666666666666666,
                            "#ed7953"
                          ],
                          [
                            0.7777777777777778,
                            "#fb9f3a"
                          ],
                          [
                            0.8888888888888888,
                            "#fdca26"
                          ],
                          [
                            1,
                            "#f0f921"
                          ]
                        ],
                        "type": "histogram2dcontour"
                      }
                    ],
                    "mesh3d": [
                      {
                        "colorbar": {
                          "outlinewidth": 0,
                          "ticks": ""
                        },
                        "type": "mesh3d"
                      }
                    ],
                    "parcoords": [
                      {
                        "line": {
                          "colorbar": {
                            "outlinewidth": 0,
                            "ticks": ""
                          }
                        },
                        "type": "parcoords"
                      }
                    ],
                    "pie": [
                      {
                        "automargin": true,
                        "type": "pie"
                      }
                    ],
                    "scatter": [
                      {
                        "fillpattern": {
                          "fillmode": "overlay",
                          "size": 10,
                          "solidity": 0.2
                        },
                        "type": "scatter"
                      }
                    ],
                    "scatter3d": [
                      {
                        "line": {
                          "colorbar": {
                            "outlinewidth": 0,
                            "ticks": ""
                          }
                        },
                        "marker": {
                          "colorbar": {
                            "outlinewidth": 0,
                            "ticks": ""
                          }
                        },
                        "type": "scatter3d"
                      }
                    ],
                    "scattercarpet": [
                      {
                        "marker": {
                          "colorbar": {
                            "outlinewidth": 0,
                            "ticks": ""
                          }
                        },
                        "type": "scattercarpet"
                      }
                    ],
                    "scattergeo": [
                      {
                        "marker": {
                          "colorbar": {
                            "outlinewidth": 0,
                            "ticks": ""
                          }
                        },
                        "type": "scattergeo"
                      }
                    ],
                    "scattergl": [
                      {
                        "marker": {
                          "colorbar": {
                            "outlinewidth": 0,
                            "ticks": ""
                          }
                        },
                        "type": "scattergl"
                      }
                    ],
                    "scattermapbox": [
                      {
                        "marker": {
                          "colorbar": {
                            "outlinewidth": 0,
                            "ticks": ""
                          }
                        },
                        "type": "scattermapbox"
                      }
                    ],
                    "scatterpolar": [
                      {
                        "marker": {
                          "colorbar": {
                            "outlinewidth": 0,
                            "ticks": ""
                          }
                        },
                        "type": "scatterpolar"
                      }
                    ],
                    "scatterpolargl": [
                      {
                        "marker": {
                          "colorbar": {
                            "outlinewidth": 0,
                            "ticks": ""
                          }
                        },
                        "type": "scatterpolargl"
                      }
                    ],
                    "scatterternary": [
                      {
                        "marker": {
                          "colorbar": {
                            "outlinewidth": 0,
                            "ticks": ""
                          }
                        },
                        "type": "scatterternary"
                      }
                    ],
                    "surface": [
                      {
                        "colorbar": {
                          "outlinewidth": 0,
                          "ticks": ""
                        },
                        "colorscale": [
                          [
                            0,
                            "#0d0887"
                          ],
                          [
                            0.1111111111111111,
                            "#46039f"
                          ],
                          [
                            0.2222222222222222,
                            "#7201a8"
                          ],
                          [
                            0.3333333333333333,
                            "#9c179e"
                          ],
                          [
                            0.4444444444444444,
                            "#bd3786"
                          ],
                          [
                            0.5555555555555556,
                            "#d8576b"
                          ],
                          [
                            0.6666666666666666,
                            "#ed7953"
                          ],
                          [
                            0.7777777777777778,
                            "#fb9f3a"
                          ],
                          [
                            0.8888888888888888,
                            "#fdca26"
                          ],
                          [
                            1,
                            "#f0f921"
                          ]
                        ],
                        "type": "surface"
                      }
                    ],
                    "table": [
                      {
                        "cells": {
                          "fill": {
                            "color": "#EBF0F8"
                          },
                          "line": {
                            "color": "white"
                          }
                        },
                        "header": {
                          "fill": {
                            "color": "#C8D4E3"
                          },
                          "line": {
                            "color": "white"
                          }
                        },
                        "type": "table"
                      }
                    ]
                  },
                  "layout": {
                    "annotationdefaults": {
                      "arrowcolor": "#2a3f5f",
                      "arrowhead": 0,
                      "arrowwidth": 1
                    },
                    "autotypenumbers": "strict",
                    "coloraxis": {
                      "colorbar": {
                        "outlinewidth": 0,
                        "ticks": ""
                      }
                    },
                    "colorscale": {
                      "diverging": [
                        [
                          0,
                          "#8e0152"
                        ],
                        [
                          0.1,
                          "#c51b7d"
                        ],
                        [
                          0.2,
                          "#de77ae"
                        ],
                        [
                          0.3,
                          "#f1b6da"
                        ],
                        [
                          0.4,
                          "#fde0ef"
                        ],
                        [
                          0.5,
                          "#f7f7f7"
                        ],
                        [
                          0.6,
                          "#e6f5d0"
                        ],
                        [
                          0.7,
                          "#b8e186"
                        ],
                        [
                          0.8,
                          "#7fbc41"
                        ],
                        [
                          0.9,
                          "#4d9221"
                        ],
                        [
                          1,
                          "#276419"
                        ]
                      ],
                      "sequential": [
                        [
                          0,
                          "#0d0887"
                        ],
                        [
                          0.1111111111111111,
                          "#46039f"
                        ],
                        [
                          0.2222222222222222,
                          "#7201a8"
                        ],
                        [
                          0.3333333333333333,
                          "#9c179e"
                        ],
                        [
                          0.4444444444444444,
                          "#bd3786"
                        ],
                        [
                          0.5555555555555556,
                          "#d8576b"
                        ],
                        [
                          0.6666666666666666,
                          "#ed7953"
                        ],
                        [
                          0.7777777777777778,
                          "#fb9f3a"
                        ],
                        [
                          0.8888888888888888,
                          "#fdca26"
                        ],
                        [
                          1,
                          "#f0f921"
                        ]
                      ],
                      "sequentialminus": [
                        [
                          0,
                          "#0d0887"
                        ],
                        [
                          0.1111111111111111,
                          "#46039f"
                        ],
                        [
                          0.2222222222222222,
                          "#7201a8"
                        ],
                        [
                          0.3333333333333333,
                          "#9c179e"
                        ],
                        [
                          0.4444444444444444,
                          "#bd3786"
                        ],
                        [
                          0.5555555555555556,
                          "#d8576b"
                        ],
                        [
                          0.6666666666666666,
                          "#ed7953"
                        ],
                        [
                          0.7777777777777778,
                          "#fb9f3a"
                        ],
                        [
                          0.8888888888888888,
                          "#fdca26"
                        ],
                        [
                          1,
                          "#f0f921"
                        ]
                      ]
                    },
                    "colorway": [
                      "#636efa",
                      "#EF553B",
                      "#00cc96",
                      "#ab63fa",
                      "#FFA15A",
                      "#19d3f3",
                      "#FF6692",
                      "#B6E880",
                      "#FF97FF",
                      "#FECB52"
                    ],
                    "font": {
                      "color": "#2a3f5f"
                    },
                    "geo": {
                      "bgcolor": "white",
                      "lakecolor": "white",
                      "landcolor": "#E5ECF6",
                      "showlakes": true,
                      "showland": true,
                      "subunitcolor": "white"
                    },
                    "hoverlabel": {
                      "align": "left"
                    },
                    "hovermode": "closest",
                    "mapbox": {
                      "style": "light"
                    },
                    "paper_bgcolor": "white",
                    "plot_bgcolor": "#E5ECF6",
                    "polar": {
                      "angularaxis": {
                        "gridcolor": "white",
                        "linecolor": "white",
                        "ticks": ""
                      },
                      "bgcolor": "#E5ECF6",
                      "radialaxis": {
                        "gridcolor": "white",
                        "linecolor": "white",
                        "ticks": ""
                      }
                    },
                    "scene": {
                      "xaxis": {
                        "backgroundcolor": "#E5ECF6",
                        "gridcolor": "white",
                        "gridwidth": 2,
                        "linecolor": "white",
                        "showbackground": true,
                        "ticks": "",
                        "zerolinecolor": "white"
                      },
                      "yaxis": {
                        "backgroundcolor": "#E5ECF6",
                        "gridcolor": "white",
                        "gridwidth": 2,
                        "linecolor": "white",
                        "showbackground": true,
                        "ticks": "",
                        "zerolinecolor": "white"
                      },
                      "zaxis": {
                        "backgroundcolor": "#E5ECF6",
                        "gridcolor": "white",
                        "gridwidth": 2,
                        "linecolor": "white",
                        "showbackground": true,
                        "ticks": "",
                        "zerolinecolor": "white"
                      }
                    },
                    "shapedefaults": {
                      "line": {
                        "color": "#2a3f5f"
                      }
                    },
                    "ternary": {
                      "aaxis": {
                        "gridcolor": "white",
                        "linecolor": "white",
                        "ticks": ""
                      },
                      "baxis": {
                        "gridcolor": "white",
                        "linecolor": "white",
                        "ticks": ""
                      },
                      "bgcolor": "#E5ECF6",
                      "caxis": {
                        "gridcolor": "white",
                        "linecolor": "white",
                        "ticks": ""
                      }
                    },
                    "title": {
                      "x": 0.05
                    },
                    "xaxis": {
                      "automargin": true,
                      "gridcolor": "white",
                      "linecolor": "white",
                      "ticks": "",
                      "title": {
                        "standoff": 15
                      },
                      "zerolinecolor": "white",
                      "zerolinewidth": 2
                    },
                    "yaxis": {
                      "automargin": true,
                      "gridcolor": "white",
                      "linecolor": "white",
                      "ticks": "",
                      "title": {
                        "standoff": 15
                      },
                      "zerolinecolor": "white",
                      "zerolinewidth": 2
                    }
                  }
                },
                "title": {
                  "text": "Scatter semántica frente a especialización - Caso 5 "
                },
                "width": 800
              }
            }
          },
          "metadata": {},
          "output_type": "display_data"
        }
      ],
      "source": [
        "# (E)\n",
        "\n",
        "import plotly.graph_objs as go\n",
        "import pandas as pd\n",
        "import plotly.io as pio\n",
        "\n",
        "# Escalar el eje 'x' para que el espacio se vea como un cubo\n",
        "df_filtrado_orig = df_filtrado.copy(deep=True)\n",
        "x_max = df_filtrado['TIEMPO'].max()\n",
        "df_filtrado['TIEMPO'] = df['TIEMPO'] / x_max\n",
        "\n",
        "# Configurar diseño del gráfico\n",
        "layout = go.Layout(\n",
        "    title= f'Scatter semántica frente a especialización - {caso} ',  # Título del gráfico\n",
        "    scene=dict(\n",
        "        xaxis=dict(title='Tiempo'),\n",
        "        yaxis=dict(title='Especialización'),\n",
        "        zaxis=dict(title='Semántica'),\n",
        "        bgcolor='lightgray', # Cambia 'lightgray' a 'rgba(0, 0, 0, 0)' para un fondo transparente\n",
        "        aspectmode=\"cube\"  # Para que el espacio se vea como un cubo\n",
        "    ),\n",
        "    margin=dict(l=0, r=0),\n",
        "    height=800,\n",
        "    width=800\n",
        ")\n",
        "\n",
        "# Función para agregar un rastro 3D al gráfico\n",
        "def add_trace_3d(x, y, z, color, opacity, name):\n",
        "    # Filtrar las coordenadas en cero\n",
        "    x_filtered = [xi for xi, yi, zi in zip(x, y, z) if yi != 0 or zi != 0]\n",
        "    y_filtered = [yi for yi, zi in zip(y, z) if yi != 0 or zi != 0]\n",
        "    z_filtered = [zi for zi in z if zi != 0]\n",
        "\n",
        "    return go.Scatter3d(\n",
        "        x=x_filtered,\n",
        "        y=y_filtered,\n",
        "        z=z_filtered,\n",
        "        mode='markers',\n",
        "        marker=dict(\n",
        "            size=10,\n",
        "            symbol='circle',  # Utilizar el símbolo 'circle' para esferas\n",
        "            color=color,\n",
        "            opacity=opacity,\n",
        "            line=dict(color='black', width=1)\n",
        "        ),\n",
        "        text=df_filtrado.index,\n",
        "        name=name\n",
        "    )\n",
        "\n",
        "# Crear trazos 3D iniciales\n",
        "traces = [\n",
        "    add_trace_3d(df_filtrado['TIEMPO'], df_filtrado['DOCENTE E'], df_filtrado['DOCENTE S'], 'red', 0.8, 'DOCENTE'),\n",
        "    add_trace_3d(df_filtrado['TIEMPO'], df_filtrado['Est 1 E'], df_filtrado['Est 1 S'], 'green', 0.8, 'Est 1'),\n",
        "    add_trace_3d(df_filtrado['TIEMPO'], df_filtrado['Est 2 E'], df_filtrado['Est 2 S'], 'purple', 0.8, 'Est 2'),\n",
        "    add_trace_3d(df_filtrado['TIEMPO'], df_filtrado['Est 3 E'], df_filtrado['Est 3 S'], 'blue', 0.8, 'Est 3')\n",
        "]\n",
        "\n",
        "# Crear una figura 3D\n",
        "fig = go.Figure(layout=layout, data=traces)\n",
        "\n",
        "# Crear una animación\n",
        "frames = []\n",
        "for i in range(1, len(df)):\n",
        "    frame = go.Frame(\n",
        "        data=[\n",
        "            add_trace_3d(df_filtrado['TIEMPO'][:i], df_filtrado['DOCENTE E'][:i], df_filtrado['DOCENTE S'][:i], 'red', 0.8, 'DOCENTE'),\n",
        "            add_trace_3d(df_filtrado['TIEMPO'][:i], df_filtrado['Est 1 E'][:i], df_filtrado['Est 1 S'][:i], 'green', 0.8, 'Est 1'),\n",
        "            add_trace_3d(df_filtrado['TIEMPO'][:i], df_filtrado['Est 2 E'][:i], df_filtrado['Est 2 S'][:i], 'purple', 0.8, 'Est 2'),\n",
        "            add_trace_3d(df_filtrado['TIEMPO'][:i], df_filtrado['Est 3 E'][:i], df_filtrado['Est 3 S'][:i], 'blue', 0.8, 'Est 3')\n",
        "        ],\n",
        "        name=f'Frame {i}'\n",
        "    )\n",
        "    frames.append(frame)\n",
        "\n",
        "# Agregar los frames de animación\n",
        "fig.update(frames=frames)\n",
        "\n",
        "# Crear y mostrar la animación\n",
        "#animation = pio.to_html(fig, full_html=False)\n",
        "#with open(f'Cod_Esp_Sem_caso_{caso}.html', 'w') as f:   \n",
        "    #f.write(animation)\n",
        "\n",
        "# Mostrar la leyenda\n",
        "fig.update_layout(showlegend=True)\n",
        "\n",
        "# Mostrar el gráfico\n",
        "fig.show()\n"
      ]
    },
    {
      "cell_type": "markdown",
      "metadata": {
        "id": "5B82oyKaWKNL"
      },
      "source": [
        "## Surface"
      ]
    },
    {
      "cell_type": "code",
      "execution_count": null,
      "metadata": {
        "colab": {
          "base_uri": "https://localhost:8080/",
          "height": 701
        },
        "id": "cpshQ6-qLpkR",
        "outputId": "057c6db2-c37a-4e17-af4f-15db07ee8490"
      },
      "outputs": [
        {
          "name": "stderr",
          "output_type": "stream",
          "text": [
            "<ipython-input-10-3f467538c5aa>:7: SettingWithCopyWarning:\n",
            "\n",
            "\n",
            "A value is trying to be set on a copy of a slice from a DataFrame.\n",
            "Try using .loc[row_indexer,col_indexer] = value instead\n",
            "\n",
            "See the caveats in the documentation: https://pandas.pydata.org/pandas-docs/stable/user_guide/indexing.html#returning-a-view-versus-a-copy\n",
            "\n"
          ]
        },
        {
          "data": {
            "text/html": [
              "<html>\n",
              "<head><meta charset=\"utf-8\" /></head>\n",
              "<body>\n",
              "    <div>            <script src=\"https://cdnjs.cloudflare.com/ajax/libs/mathjax/2.7.5/MathJax.js?config=TeX-AMS-MML_SVG\"></script><script type=\"text/javascript\">if (window.MathJax && window.MathJax.Hub && window.MathJax.Hub.Config) {window.MathJax.Hub.Config({SVG: {font: \"STIX-Web\"}});}</script>                <script type=\"text/javascript\">window.PlotlyConfig = {MathJaxConfig: 'local'};</script>\n",
              "        <script charset=\"utf-8\" src=\"https://cdn.plot.ly/plotly-2.24.1.min.js\"></script>                <div id=\"3dde7674-0f61-4baa-836c-940f1c53e3fd\" class=\"plotly-graph-div\" style=\"height:525px; width:1080px;\"></div>            <script type=\"text/javascript\">                                    window.PLOTLYENV=window.PLOTLYENV || {};                                    if (document.getElementById(\"3dde7674-0f61-4baa-836c-940f1c53e3fd\")) {                    Plotly.newPlot(                        \"3dde7674-0f61-4baa-836c-940f1c53e3fd\",                        [{\"color\":\"red\",\"hoverinfo\":\"text\",\"name\":\"DOCENTE\",\"opacity\":0.7,\"text\":[\"Oral\",0,0,0,\"Oral\",\"Oral\",\"Oral\",\"Oral De\\u00edctico\",\"De\\u00edctico Metaf\\u00f3rico Oral\",\"Oral De\\u00edctico\"],\"x\":[1.0,2.0,3.0,4.0,5.0,6.0,7.0,8.0,9.0,10.0],\"y\":[3,0,0,0,2,2,4,3,4,3],\"z\":[3,0,0,0,4,3,3,4,1,2],\"type\":\"mesh3d\"},{\"color\":\"green\",\"hoverinfo\":\"text\",\"name\":\"ESTUDIANTE 1\",\"opacity\":0.5,\"text\":[0.0,0.0,0.0,0.0,0.0,0.0,0.0,0.0,0.0,0.0],\"x\":[1.0,2.0,3.0,4.0,5.0,6.0,7.0,8.0,9.0,10.0],\"y\":[0,0,0,0,0,0,0,0,0,0],\"z\":[0,0,0,0,0,0,0,0,0,0],\"type\":\"mesh3d\"},{\"color\":\"purple\",\"hoverinfo\":\"text\",\"name\":\"ESTUDIANTE 2\",\"opacity\":0.4,\"text\":[0.0,0.0,0.0,0.0,0.0,0.0,0.0,0.0,0.0,0.0],\"x\":[1.0,2.0,3.0,4.0,5.0,6.0,7.0,8.0,9.0,10.0],\"y\":[0,0,0,0,0,0,0,0,0,0],\"z\":[0,0,0,0,0,0,0,0,0,0],\"type\":\"mesh3d\"},{\"color\":\"blue\",\"hoverinfo\":\"text\",\"name\":\"ESTUDIANTE 3\",\"opacity\":0.3,\"text\":[\"Ic\\u00f3nico Oral\",\"Oral\",\"Oral\",\"Oral\",\"Ic\\u00f3nico Oral\",\"Oral\",\"Oral De\\u00edctico\",\"Oral\",0,0],\"x\":[1.0,2.0,3.0,4.0,5.0,6.0,7.0,8.0,9.0,10.0],\"y\":[2,2,2,2,2,1,1,1,0,0],\"z\":[1,4,1,2,1,1,4,1,0,0],\"type\":\"mesh3d\"}],                        {\"template\":{\"data\":{\"histogram2dcontour\":[{\"type\":\"histogram2dcontour\",\"colorbar\":{\"outlinewidth\":0,\"ticks\":\"\"},\"colorscale\":[[0.0,\"#0d0887\"],[0.1111111111111111,\"#46039f\"],[0.2222222222222222,\"#7201a8\"],[0.3333333333333333,\"#9c179e\"],[0.4444444444444444,\"#bd3786\"],[0.5555555555555556,\"#d8576b\"],[0.6666666666666666,\"#ed7953\"],[0.7777777777777778,\"#fb9f3a\"],[0.8888888888888888,\"#fdca26\"],[1.0,\"#f0f921\"]]}],\"choropleth\":[{\"type\":\"choropleth\",\"colorbar\":{\"outlinewidth\":0,\"ticks\":\"\"}}],\"histogram2d\":[{\"type\":\"histogram2d\",\"colorbar\":{\"outlinewidth\":0,\"ticks\":\"\"},\"colorscale\":[[0.0,\"#0d0887\"],[0.1111111111111111,\"#46039f\"],[0.2222222222222222,\"#7201a8\"],[0.3333333333333333,\"#9c179e\"],[0.4444444444444444,\"#bd3786\"],[0.5555555555555556,\"#d8576b\"],[0.6666666666666666,\"#ed7953\"],[0.7777777777777778,\"#fb9f3a\"],[0.8888888888888888,\"#fdca26\"],[1.0,\"#f0f921\"]]}],\"heatmap\":[{\"type\":\"heatmap\",\"colorbar\":{\"outlinewidth\":0,\"ticks\":\"\"},\"colorscale\":[[0.0,\"#0d0887\"],[0.1111111111111111,\"#46039f\"],[0.2222222222222222,\"#7201a8\"],[0.3333333333333333,\"#9c179e\"],[0.4444444444444444,\"#bd3786\"],[0.5555555555555556,\"#d8576b\"],[0.6666666666666666,\"#ed7953\"],[0.7777777777777778,\"#fb9f3a\"],[0.8888888888888888,\"#fdca26\"],[1.0,\"#f0f921\"]]}],\"heatmapgl\":[{\"type\":\"heatmapgl\",\"colorbar\":{\"outlinewidth\":0,\"ticks\":\"\"},\"colorscale\":[[0.0,\"#0d0887\"],[0.1111111111111111,\"#46039f\"],[0.2222222222222222,\"#7201a8\"],[0.3333333333333333,\"#9c179e\"],[0.4444444444444444,\"#bd3786\"],[0.5555555555555556,\"#d8576b\"],[0.6666666666666666,\"#ed7953\"],[0.7777777777777778,\"#fb9f3a\"],[0.8888888888888888,\"#fdca26\"],[1.0,\"#f0f921\"]]}],\"contourcarpet\":[{\"type\":\"contourcarpet\",\"colorbar\":{\"outlinewidth\":0,\"ticks\":\"\"}}],\"contour\":[{\"type\":\"contour\",\"colorbar\":{\"outlinewidth\":0,\"ticks\":\"\"},\"colorscale\":[[0.0,\"#0d0887\"],[0.1111111111111111,\"#46039f\"],[0.2222222222222222,\"#7201a8\"],[0.3333333333333333,\"#9c179e\"],[0.4444444444444444,\"#bd3786\"],[0.5555555555555556,\"#d8576b\"],[0.6666666666666666,\"#ed7953\"],[0.7777777777777778,\"#fb9f3a\"],[0.8888888888888888,\"#fdca26\"],[1.0,\"#f0f921\"]]}],\"surface\":[{\"type\":\"surface\",\"colorbar\":{\"outlinewidth\":0,\"ticks\":\"\"},\"colorscale\":[[0.0,\"#0d0887\"],[0.1111111111111111,\"#46039f\"],[0.2222222222222222,\"#7201a8\"],[0.3333333333333333,\"#9c179e\"],[0.4444444444444444,\"#bd3786\"],[0.5555555555555556,\"#d8576b\"],[0.6666666666666666,\"#ed7953\"],[0.7777777777777778,\"#fb9f3a\"],[0.8888888888888888,\"#fdca26\"],[1.0,\"#f0f921\"]]}],\"mesh3d\":[{\"type\":\"mesh3d\",\"colorbar\":{\"outlinewidth\":0,\"ticks\":\"\"}}],\"scatter\":[{\"fillpattern\":{\"fillmode\":\"overlay\",\"size\":10,\"solidity\":0.2},\"type\":\"scatter\"}],\"parcoords\":[{\"type\":\"parcoords\",\"line\":{\"colorbar\":{\"outlinewidth\":0,\"ticks\":\"\"}}}],\"scatterpolargl\":[{\"type\":\"scatterpolargl\",\"marker\":{\"colorbar\":{\"outlinewidth\":0,\"ticks\":\"\"}}}],\"bar\":[{\"error_x\":{\"color\":\"#2a3f5f\"},\"error_y\":{\"color\":\"#2a3f5f\"},\"marker\":{\"line\":{\"color\":\"#E5ECF6\",\"width\":0.5},\"pattern\":{\"fillmode\":\"overlay\",\"size\":10,\"solidity\":0.2}},\"type\":\"bar\"}],\"scattergeo\":[{\"type\":\"scattergeo\",\"marker\":{\"colorbar\":{\"outlinewidth\":0,\"ticks\":\"\"}}}],\"scatterpolar\":[{\"type\":\"scatterpolar\",\"marker\":{\"colorbar\":{\"outlinewidth\":0,\"ticks\":\"\"}}}],\"histogram\":[{\"marker\":{\"pattern\":{\"fillmode\":\"overlay\",\"size\":10,\"solidity\":0.2}},\"type\":\"histogram\"}],\"scattergl\":[{\"type\":\"scattergl\",\"marker\":{\"colorbar\":{\"outlinewidth\":0,\"ticks\":\"\"}}}],\"scatter3d\":[{\"type\":\"scatter3d\",\"line\":{\"colorbar\":{\"outlinewidth\":0,\"ticks\":\"\"}},\"marker\":{\"colorbar\":{\"outlinewidth\":0,\"ticks\":\"\"}}}],\"scattermapbox\":[{\"type\":\"scattermapbox\",\"marker\":{\"colorbar\":{\"outlinewidth\":0,\"ticks\":\"\"}}}],\"scatterternary\":[{\"type\":\"scatterternary\",\"marker\":{\"colorbar\":{\"outlinewidth\":0,\"ticks\":\"\"}}}],\"scattercarpet\":[{\"type\":\"scattercarpet\",\"marker\":{\"colorbar\":{\"outlinewidth\":0,\"ticks\":\"\"}}}],\"carpet\":[{\"aaxis\":{\"endlinecolor\":\"#2a3f5f\",\"gridcolor\":\"white\",\"linecolor\":\"white\",\"minorgridcolor\":\"white\",\"startlinecolor\":\"#2a3f5f\"},\"baxis\":{\"endlinecolor\":\"#2a3f5f\",\"gridcolor\":\"white\",\"linecolor\":\"white\",\"minorgridcolor\":\"white\",\"startlinecolor\":\"#2a3f5f\"},\"type\":\"carpet\"}],\"table\":[{\"cells\":{\"fill\":{\"color\":\"#EBF0F8\"},\"line\":{\"color\":\"white\"}},\"header\":{\"fill\":{\"color\":\"#C8D4E3\"},\"line\":{\"color\":\"white\"}},\"type\":\"table\"}],\"barpolar\":[{\"marker\":{\"line\":{\"color\":\"#E5ECF6\",\"width\":0.5},\"pattern\":{\"fillmode\":\"overlay\",\"size\":10,\"solidity\":0.2}},\"type\":\"barpolar\"}],\"pie\":[{\"automargin\":true,\"type\":\"pie\"}]},\"layout\":{\"autotypenumbers\":\"strict\",\"colorway\":[\"#636efa\",\"#EF553B\",\"#00cc96\",\"#ab63fa\",\"#FFA15A\",\"#19d3f3\",\"#FF6692\",\"#B6E880\",\"#FF97FF\",\"#FECB52\"],\"font\":{\"color\":\"#2a3f5f\"},\"hovermode\":\"closest\",\"hoverlabel\":{\"align\":\"left\"},\"paper_bgcolor\":\"white\",\"plot_bgcolor\":\"#E5ECF6\",\"polar\":{\"bgcolor\":\"#E5ECF6\",\"angularaxis\":{\"gridcolor\":\"white\",\"linecolor\":\"white\",\"ticks\":\"\"},\"radialaxis\":{\"gridcolor\":\"white\",\"linecolor\":\"white\",\"ticks\":\"\"}},\"ternary\":{\"bgcolor\":\"#E5ECF6\",\"aaxis\":{\"gridcolor\":\"white\",\"linecolor\":\"white\",\"ticks\":\"\"},\"baxis\":{\"gridcolor\":\"white\",\"linecolor\":\"white\",\"ticks\":\"\"},\"caxis\":{\"gridcolor\":\"white\",\"linecolor\":\"white\",\"ticks\":\"\"}},\"coloraxis\":{\"colorbar\":{\"outlinewidth\":0,\"ticks\":\"\"}},\"colorscale\":{\"sequential\":[[0.0,\"#0d0887\"],[0.1111111111111111,\"#46039f\"],[0.2222222222222222,\"#7201a8\"],[0.3333333333333333,\"#9c179e\"],[0.4444444444444444,\"#bd3786\"],[0.5555555555555556,\"#d8576b\"],[0.6666666666666666,\"#ed7953\"],[0.7777777777777778,\"#fb9f3a\"],[0.8888888888888888,\"#fdca26\"],[1.0,\"#f0f921\"]],\"sequentialminus\":[[0.0,\"#0d0887\"],[0.1111111111111111,\"#46039f\"],[0.2222222222222222,\"#7201a8\"],[0.3333333333333333,\"#9c179e\"],[0.4444444444444444,\"#bd3786\"],[0.5555555555555556,\"#d8576b\"],[0.6666666666666666,\"#ed7953\"],[0.7777777777777778,\"#fb9f3a\"],[0.8888888888888888,\"#fdca26\"],[1.0,\"#f0f921\"]],\"diverging\":[[0,\"#8e0152\"],[0.1,\"#c51b7d\"],[0.2,\"#de77ae\"],[0.3,\"#f1b6da\"],[0.4,\"#fde0ef\"],[0.5,\"#f7f7f7\"],[0.6,\"#e6f5d0\"],[0.7,\"#b8e186\"],[0.8,\"#7fbc41\"],[0.9,\"#4d9221\"],[1,\"#276419\"]]},\"xaxis\":{\"gridcolor\":\"white\",\"linecolor\":\"white\",\"ticks\":\"\",\"title\":{\"standoff\":15},\"zerolinecolor\":\"white\",\"automargin\":true,\"zerolinewidth\":2},\"yaxis\":{\"gridcolor\":\"white\",\"linecolor\":\"white\",\"ticks\":\"\",\"title\":{\"standoff\":15},\"zerolinecolor\":\"white\",\"automargin\":true,\"zerolinewidth\":2},\"scene\":{\"xaxis\":{\"backgroundcolor\":\"#E5ECF6\",\"gridcolor\":\"white\",\"linecolor\":\"white\",\"showbackground\":true,\"ticks\":\"\",\"zerolinecolor\":\"white\",\"gridwidth\":2},\"yaxis\":{\"backgroundcolor\":\"#E5ECF6\",\"gridcolor\":\"white\",\"linecolor\":\"white\",\"showbackground\":true,\"ticks\":\"\",\"zerolinecolor\":\"white\",\"gridwidth\":2},\"zaxis\":{\"backgroundcolor\":\"#E5ECF6\",\"gridcolor\":\"white\",\"linecolor\":\"white\",\"showbackground\":true,\"ticks\":\"\",\"zerolinecolor\":\"white\",\"gridwidth\":2}},\"shapedefaults\":{\"line\":{\"color\":\"#2a3f5f\"}},\"annotationdefaults\":{\"arrowcolor\":\"#2a3f5f\",\"arrowhead\":0,\"arrowwidth\":1},\"geo\":{\"bgcolor\":\"white\",\"landcolor\":\"#E5ECF6\",\"subunitcolor\":\"white\",\"showland\":true,\"showlakes\":true,\"lakecolor\":\"white\"},\"title\":{\"x\":0.05},\"mapbox\":{\"style\":\"light\"}}},\"scene\":{\"yaxis\":{\"title\":{\"text\":\"ESPECIALIZACI\\u00d3N\"},\"range\":[0,5]},\"zaxis\":{\"title\":{\"text\":\"SEM\\u00c1NTICA\"},\"range\":[0,5]},\"camera\":{\"up\":{\"x\":0,\"y\":0,\"z\":1},\"center\":{\"x\":0,\"y\":0,\"z\":0},\"eye\":{\"x\":0.5,\"y\":1,\"z\":2}},\"xaxis\":{\"title\":{\"text\":\"TIEMPO\"}},\"aspectmode\":\"cube\"},\"margin\":{\"r\":20,\"b\":10,\"l\":10,\"t\":10},\"width\":1080,\"title\":{\"text\":\"Ondas de c\\u00f3digos de sem\\u00e1ntica y especializaci\\u00f3n en el tiempo - Caso 8\",\"y\":0.9},\"showlegend\":true},                        {\"responsive\": true}                    ).then(function(){\n",
              "                            Plotly.addFrames('3dde7674-0f61-4baa-836c-940f1c53e3fd', [{\"data\":[{\"marker\":{\"color\":\"red\",\"line\":{\"color\":\"black\",\"width\":1},\"opacity\":0.8,\"size\":10,\"symbol\":\"circle\"},\"mode\":\"markers\",\"name\":\"DOCENTE\",\"text\":[70.0,71.0,72.0,73.0,74.0,75.0,76.0,77.0,78.0,79.0],\"x\":[1.0],\"y\":[3],\"z\":[3],\"type\":\"scatter3d\"},{\"marker\":{\"color\":\"green\",\"line\":{\"color\":\"black\",\"width\":1},\"opacity\":0.5,\"size\":10,\"symbol\":\"circle\"},\"mode\":\"markers\",\"name\":\"ESTUDIANTE 1\",\"text\":[70.0,71.0,72.0,73.0,74.0,75.0,76.0,77.0,78.0,79.0],\"x\":[],\"y\":[],\"z\":[],\"type\":\"scatter3d\"},{\"marker\":{\"color\":\"purple\",\"line\":{\"color\":\"black\",\"width\":1},\"opacity\":0.8,\"size\":10,\"symbol\":\"circle\"},\"mode\":\"markers\",\"name\":\"ESTUDIANTE 2\",\"text\":[70.0,71.0,72.0,73.0,74.0,75.0,76.0,77.0,78.0,79.0],\"x\":[],\"y\":[],\"z\":[],\"type\":\"scatter3d\"},{\"marker\":{\"color\":\"blue\",\"line\":{\"color\":\"black\",\"width\":1},\"opacity\":0.5,\"size\":10,\"symbol\":\"circle\"},\"mode\":\"markers\",\"name\":\"ESTUDIANTE 3\",\"text\":[70.0,71.0,72.0,73.0,74.0,75.0,76.0,77.0,78.0,79.0],\"x\":[1.0],\"y\":[2],\"z\":[1],\"type\":\"scatter3d\"}],\"name\":\"Frame 1\"},{\"data\":[{\"marker\":{\"color\":\"red\",\"line\":{\"color\":\"black\",\"width\":1},\"opacity\":0.8,\"size\":10,\"symbol\":\"circle\"},\"mode\":\"markers\",\"name\":\"DOCENTE\",\"text\":[70.0,71.0,72.0,73.0,74.0,75.0,76.0,77.0,78.0,79.0],\"x\":[1.0],\"y\":[3],\"z\":[3],\"type\":\"scatter3d\"},{\"marker\":{\"color\":\"green\",\"line\":{\"color\":\"black\",\"width\":1},\"opacity\":0.5,\"size\":10,\"symbol\":\"circle\"},\"mode\":\"markers\",\"name\":\"ESTUDIANTE 1\",\"text\":[70.0,71.0,72.0,73.0,74.0,75.0,76.0,77.0,78.0,79.0],\"x\":[],\"y\":[],\"z\":[],\"type\":\"scatter3d\"},{\"marker\":{\"color\":\"purple\",\"line\":{\"color\":\"black\",\"width\":1},\"opacity\":0.8,\"size\":10,\"symbol\":\"circle\"},\"mode\":\"markers\",\"name\":\"ESTUDIANTE 2\",\"text\":[70.0,71.0,72.0,73.0,74.0,75.0,76.0,77.0,78.0,79.0],\"x\":[],\"y\":[],\"z\":[],\"type\":\"scatter3d\"},{\"marker\":{\"color\":\"blue\",\"line\":{\"color\":\"black\",\"width\":1},\"opacity\":0.5,\"size\":10,\"symbol\":\"circle\"},\"mode\":\"markers\",\"name\":\"ESTUDIANTE 3\",\"text\":[70.0,71.0,72.0,73.0,74.0,75.0,76.0,77.0,78.0,79.0],\"x\":[1.0,2.0],\"y\":[2,2],\"z\":[1,4],\"type\":\"scatter3d\"}],\"name\":\"Frame 2\"},{\"data\":[{\"marker\":{\"color\":\"red\",\"line\":{\"color\":\"black\",\"width\":1},\"opacity\":0.8,\"size\":10,\"symbol\":\"circle\"},\"mode\":\"markers\",\"name\":\"DOCENTE\",\"text\":[70.0,71.0,72.0,73.0,74.0,75.0,76.0,77.0,78.0,79.0],\"x\":[1.0],\"y\":[3],\"z\":[3],\"type\":\"scatter3d\"},{\"marker\":{\"color\":\"green\",\"line\":{\"color\":\"black\",\"width\":1},\"opacity\":0.5,\"size\":10,\"symbol\":\"circle\"},\"mode\":\"markers\",\"name\":\"ESTUDIANTE 1\",\"text\":[70.0,71.0,72.0,73.0,74.0,75.0,76.0,77.0,78.0,79.0],\"x\":[],\"y\":[],\"z\":[],\"type\":\"scatter3d\"},{\"marker\":{\"color\":\"purple\",\"line\":{\"color\":\"black\",\"width\":1},\"opacity\":0.8,\"size\":10,\"symbol\":\"circle\"},\"mode\":\"markers\",\"name\":\"ESTUDIANTE 2\",\"text\":[70.0,71.0,72.0,73.0,74.0,75.0,76.0,77.0,78.0,79.0],\"x\":[],\"y\":[],\"z\":[],\"type\":\"scatter3d\"},{\"marker\":{\"color\":\"blue\",\"line\":{\"color\":\"black\",\"width\":1},\"opacity\":0.5,\"size\":10,\"symbol\":\"circle\"},\"mode\":\"markers\",\"name\":\"ESTUDIANTE 3\",\"text\":[70.0,71.0,72.0,73.0,74.0,75.0,76.0,77.0,78.0,79.0],\"x\":[1.0,2.0,3.0],\"y\":[2,2,2],\"z\":[1,4,1],\"type\":\"scatter3d\"}],\"name\":\"Frame 3\"},{\"data\":[{\"marker\":{\"color\":\"red\",\"line\":{\"color\":\"black\",\"width\":1},\"opacity\":0.8,\"size\":10,\"symbol\":\"circle\"},\"mode\":\"markers\",\"name\":\"DOCENTE\",\"text\":[70.0,71.0,72.0,73.0,74.0,75.0,76.0,77.0,78.0,79.0],\"x\":[1.0],\"y\":[3],\"z\":[3],\"type\":\"scatter3d\"},{\"marker\":{\"color\":\"green\",\"line\":{\"color\":\"black\",\"width\":1},\"opacity\":0.5,\"size\":10,\"symbol\":\"circle\"},\"mode\":\"markers\",\"name\":\"ESTUDIANTE 1\",\"text\":[70.0,71.0,72.0,73.0,74.0,75.0,76.0,77.0,78.0,79.0],\"x\":[],\"y\":[],\"z\":[],\"type\":\"scatter3d\"},{\"marker\":{\"color\":\"purple\",\"line\":{\"color\":\"black\",\"width\":1},\"opacity\":0.8,\"size\":10,\"symbol\":\"circle\"},\"mode\":\"markers\",\"name\":\"ESTUDIANTE 2\",\"text\":[70.0,71.0,72.0,73.0,74.0,75.0,76.0,77.0,78.0,79.0],\"x\":[],\"y\":[],\"z\":[],\"type\":\"scatter3d\"},{\"marker\":{\"color\":\"blue\",\"line\":{\"color\":\"black\",\"width\":1},\"opacity\":0.5,\"size\":10,\"symbol\":\"circle\"},\"mode\":\"markers\",\"name\":\"ESTUDIANTE 3\",\"text\":[70.0,71.0,72.0,73.0,74.0,75.0,76.0,77.0,78.0,79.0],\"x\":[1.0,2.0,3.0,4.0],\"y\":[2,2,2,2],\"z\":[1,4,1,2],\"type\":\"scatter3d\"}],\"name\":\"Frame 4\"},{\"data\":[{\"marker\":{\"color\":\"red\",\"line\":{\"color\":\"black\",\"width\":1},\"opacity\":0.8,\"size\":10,\"symbol\":\"circle\"},\"mode\":\"markers\",\"name\":\"DOCENTE\",\"text\":[70.0,71.0,72.0,73.0,74.0,75.0,76.0,77.0,78.0,79.0],\"x\":[1.0,5.0],\"y\":[3,2],\"z\":[3,4],\"type\":\"scatter3d\"},{\"marker\":{\"color\":\"green\",\"line\":{\"color\":\"black\",\"width\":1},\"opacity\":0.5,\"size\":10,\"symbol\":\"circle\"},\"mode\":\"markers\",\"name\":\"ESTUDIANTE 1\",\"text\":[70.0,71.0,72.0,73.0,74.0,75.0,76.0,77.0,78.0,79.0],\"x\":[],\"y\":[],\"z\":[],\"type\":\"scatter3d\"},{\"marker\":{\"color\":\"purple\",\"line\":{\"color\":\"black\",\"width\":1},\"opacity\":0.8,\"size\":10,\"symbol\":\"circle\"},\"mode\":\"markers\",\"name\":\"ESTUDIANTE 2\",\"text\":[70.0,71.0,72.0,73.0,74.0,75.0,76.0,77.0,78.0,79.0],\"x\":[],\"y\":[],\"z\":[],\"type\":\"scatter3d\"},{\"marker\":{\"color\":\"blue\",\"line\":{\"color\":\"black\",\"width\":1},\"opacity\":0.5,\"size\":10,\"symbol\":\"circle\"},\"mode\":\"markers\",\"name\":\"ESTUDIANTE 3\",\"text\":[70.0,71.0,72.0,73.0,74.0,75.0,76.0,77.0,78.0,79.0],\"x\":[1.0,2.0,3.0,4.0,5.0],\"y\":[2,2,2,2,2],\"z\":[1,4,1,2,1],\"type\":\"scatter3d\"}],\"name\":\"Frame 5\"},{\"data\":[{\"marker\":{\"color\":\"red\",\"line\":{\"color\":\"black\",\"width\":1},\"opacity\":0.8,\"size\":10,\"symbol\":\"circle\"},\"mode\":\"markers\",\"name\":\"DOCENTE\",\"text\":[70.0,71.0,72.0,73.0,74.0,75.0,76.0,77.0,78.0,79.0],\"x\":[1.0,5.0,6.0],\"y\":[3,2,2],\"z\":[3,4,3],\"type\":\"scatter3d\"},{\"marker\":{\"color\":\"green\",\"line\":{\"color\":\"black\",\"width\":1},\"opacity\":0.5,\"size\":10,\"symbol\":\"circle\"},\"mode\":\"markers\",\"name\":\"ESTUDIANTE 1\",\"text\":[70.0,71.0,72.0,73.0,74.0,75.0,76.0,77.0,78.0,79.0],\"x\":[],\"y\":[],\"z\":[],\"type\":\"scatter3d\"},{\"marker\":{\"color\":\"purple\",\"line\":{\"color\":\"black\",\"width\":1},\"opacity\":0.8,\"size\":10,\"symbol\":\"circle\"},\"mode\":\"markers\",\"name\":\"ESTUDIANTE 2\",\"text\":[70.0,71.0,72.0,73.0,74.0,75.0,76.0,77.0,78.0,79.0],\"x\":[],\"y\":[],\"z\":[],\"type\":\"scatter3d\"},{\"marker\":{\"color\":\"blue\",\"line\":{\"color\":\"black\",\"width\":1},\"opacity\":0.5,\"size\":10,\"symbol\":\"circle\"},\"mode\":\"markers\",\"name\":\"ESTUDIANTE 3\",\"text\":[70.0,71.0,72.0,73.0,74.0,75.0,76.0,77.0,78.0,79.0],\"x\":[1.0,2.0,3.0,4.0,5.0,6.0],\"y\":[2,2,2,2,2,1],\"z\":[1,4,1,2,1,1],\"type\":\"scatter3d\"}],\"name\":\"Frame 6\"},{\"data\":[{\"marker\":{\"color\":\"red\",\"line\":{\"color\":\"black\",\"width\":1},\"opacity\":0.8,\"size\":10,\"symbol\":\"circle\"},\"mode\":\"markers\",\"name\":\"DOCENTE\",\"text\":[70.0,71.0,72.0,73.0,74.0,75.0,76.0,77.0,78.0,79.0],\"x\":[1.0,5.0,6.0,7.0],\"y\":[3,2,2,4],\"z\":[3,4,3,3],\"type\":\"scatter3d\"},{\"marker\":{\"color\":\"green\",\"line\":{\"color\":\"black\",\"width\":1},\"opacity\":0.5,\"size\":10,\"symbol\":\"circle\"},\"mode\":\"markers\",\"name\":\"ESTUDIANTE 1\",\"text\":[70.0,71.0,72.0,73.0,74.0,75.0,76.0,77.0,78.0,79.0],\"x\":[],\"y\":[],\"z\":[],\"type\":\"scatter3d\"},{\"marker\":{\"color\":\"purple\",\"line\":{\"color\":\"black\",\"width\":1},\"opacity\":0.8,\"size\":10,\"symbol\":\"circle\"},\"mode\":\"markers\",\"name\":\"ESTUDIANTE 2\",\"text\":[70.0,71.0,72.0,73.0,74.0,75.0,76.0,77.0,78.0,79.0],\"x\":[],\"y\":[],\"z\":[],\"type\":\"scatter3d\"},{\"marker\":{\"color\":\"blue\",\"line\":{\"color\":\"black\",\"width\":1},\"opacity\":0.5,\"size\":10,\"symbol\":\"circle\"},\"mode\":\"markers\",\"name\":\"ESTUDIANTE 3\",\"text\":[70.0,71.0,72.0,73.0,74.0,75.0,76.0,77.0,78.0,79.0],\"x\":[1.0,2.0,3.0,4.0,5.0,6.0,7.0],\"y\":[2,2,2,2,2,1,1],\"z\":[1,4,1,2,1,1,4],\"type\":\"scatter3d\"}],\"name\":\"Frame 7\"},{\"data\":[{\"marker\":{\"color\":\"red\",\"line\":{\"color\":\"black\",\"width\":1},\"opacity\":0.8,\"size\":10,\"symbol\":\"circle\"},\"mode\":\"markers\",\"name\":\"DOCENTE\",\"text\":[70.0,71.0,72.0,73.0,74.0,75.0,76.0,77.0,78.0,79.0],\"x\":[1.0,5.0,6.0,7.0,8.0],\"y\":[3,2,2,4,3],\"z\":[3,4,3,3,4],\"type\":\"scatter3d\"},{\"marker\":{\"color\":\"green\",\"line\":{\"color\":\"black\",\"width\":1},\"opacity\":0.5,\"size\":10,\"symbol\":\"circle\"},\"mode\":\"markers\",\"name\":\"ESTUDIANTE 1\",\"text\":[70.0,71.0,72.0,73.0,74.0,75.0,76.0,77.0,78.0,79.0],\"x\":[],\"y\":[],\"z\":[],\"type\":\"scatter3d\"},{\"marker\":{\"color\":\"purple\",\"line\":{\"color\":\"black\",\"width\":1},\"opacity\":0.8,\"size\":10,\"symbol\":\"circle\"},\"mode\":\"markers\",\"name\":\"ESTUDIANTE 2\",\"text\":[70.0,71.0,72.0,73.0,74.0,75.0,76.0,77.0,78.0,79.0],\"x\":[],\"y\":[],\"z\":[],\"type\":\"scatter3d\"},{\"marker\":{\"color\":\"blue\",\"line\":{\"color\":\"black\",\"width\":1},\"opacity\":0.5,\"size\":10,\"symbol\":\"circle\"},\"mode\":\"markers\",\"name\":\"ESTUDIANTE 3\",\"text\":[70.0,71.0,72.0,73.0,74.0,75.0,76.0,77.0,78.0,79.0],\"x\":[1.0,2.0,3.0,4.0,5.0,6.0,7.0,8.0],\"y\":[2,2,2,2,2,1,1,1],\"z\":[1,4,1,2,1,1,4,1],\"type\":\"scatter3d\"}],\"name\":\"Frame 8\"},{\"data\":[{\"marker\":{\"color\":\"red\",\"line\":{\"color\":\"black\",\"width\":1},\"opacity\":0.8,\"size\":10,\"symbol\":\"circle\"},\"mode\":\"markers\",\"name\":\"DOCENTE\",\"text\":[70.0,71.0,72.0,73.0,74.0,75.0,76.0,77.0,78.0,79.0],\"x\":[1.0,5.0,6.0,7.0,8.0,9.0],\"y\":[3,2,2,4,3,4],\"z\":[3,4,3,3,4,1],\"type\":\"scatter3d\"},{\"marker\":{\"color\":\"green\",\"line\":{\"color\":\"black\",\"width\":1},\"opacity\":0.5,\"size\":10,\"symbol\":\"circle\"},\"mode\":\"markers\",\"name\":\"ESTUDIANTE 1\",\"text\":[70.0,71.0,72.0,73.0,74.0,75.0,76.0,77.0,78.0,79.0],\"x\":[],\"y\":[],\"z\":[],\"type\":\"scatter3d\"},{\"marker\":{\"color\":\"purple\",\"line\":{\"color\":\"black\",\"width\":1},\"opacity\":0.8,\"size\":10,\"symbol\":\"circle\"},\"mode\":\"markers\",\"name\":\"ESTUDIANTE 2\",\"text\":[70.0,71.0,72.0,73.0,74.0,75.0,76.0,77.0,78.0,79.0],\"x\":[],\"y\":[],\"z\":[],\"type\":\"scatter3d\"},{\"marker\":{\"color\":\"blue\",\"line\":{\"color\":\"black\",\"width\":1},\"opacity\":0.5,\"size\":10,\"symbol\":\"circle\"},\"mode\":\"markers\",\"name\":\"ESTUDIANTE 3\",\"text\":[70.0,71.0,72.0,73.0,74.0,75.0,76.0,77.0,78.0,79.0],\"x\":[1.0,2.0,3.0,4.0,5.0,6.0,7.0,8.0],\"y\":[2,2,2,2,2,1,1,1],\"z\":[1,4,1,2,1,1,4,1],\"type\":\"scatter3d\"}],\"name\":\"Frame 9\"}]);\n",
              "                        }).then(function(){\n",
              "                            \n",
              "var gd = document.getElementById('3dde7674-0f61-4baa-836c-940f1c53e3fd');\n",
              "var x = new MutationObserver(function (mutations, observer) {{\n",
              "        var display = window.getComputedStyle(gd).display;\n",
              "        if (!display || display === 'none') {{\n",
              "            console.log([gd, 'removed!']);\n",
              "            Plotly.purge(gd);\n",
              "            observer.disconnect();\n",
              "        }}\n",
              "}});\n",
              "\n",
              "// Listen for the removal of the full notebook cells\n",
              "var notebookContainer = gd.closest('#notebook-container');\n",
              "if (notebookContainer) {{\n",
              "    x.observe(notebookContainer, {childList: true});\n",
              "}}\n",
              "\n",
              "// Listen for the clearing of the current output cell\n",
              "var outputEl = gd.closest('.output');\n",
              "if (outputEl) {{\n",
              "    x.observe(outputEl, {childList: true});\n",
              "}}\n",
              "\n",
              "                        })                };                            </script>        </div>\n",
              "</body>\n",
              "</html>"
            ]
          },
          "metadata": {},
          "output_type": "display_data"
        }
      ],
      "source": [
        "# (F)\n",
        "\n",
        "import plotly.graph_objects as go\n",
        "import pandas as pd\n",
        "import plotly.io as pio\n",
        "\n",
        "# Escalar el eje 'x' para que el espacio se vea como un cubo\n",
        "x_max = df_filtrado['TIEMPO'].max()\n",
        "df_filtrado['TIEMPO'] = df['TIEMPO'] / x_max\n",
        "\n",
        "# Crear una figura 3D\n",
        "fig = go.Figure()\n",
        "\n",
        "# Configurar diseño del gráfico\n",
        "fig.update_layout(scene=dict(\n",
        "    xaxis_title='TIEMPO',\n",
        "    yaxis_title='ESPECIALIZACIÓN',\n",
        "    zaxis_title='SEMÁNTICA',\n",
        "    yaxis=dict(range=[0, 5]),  # Establecer el rango fijo para 'ESPECIALIZACIÓN'\n",
        "    zaxis=dict(range=[0, 5]),  # Establecer el rango fijo para 'SEMÁNTICA'\n",
        "),\n",
        "    width=1080,\n",
        "    margin=dict(r=20, b=10, l=10, t=10),\n",
        "    scene_camera=dict(up=dict(x=0, y=0, z=1), center=dict(x=0, y=0, z=0), eye=dict(x=0.5, y=1, z=2))\n",
        ")\n",
        "\n",
        "# Ajustar la posición vertical del título\n",
        "fig.update_layout(\n",
        "    title=f'Ondas de códigos de semántica y especialización en el tiempo - {caso}',\n",
        "    scene_aspectmode='cube',  # Para que el espacio se vea como un cubo\n",
        "    title_y=0.9  # Ajusta este valor para controlar la posición vertical del título\n",
        ")\n",
        "\n",
        "# Mostrar la leyenda\n",
        "fig.update_layout(showlegend=True)\n",
        "\n",
        "# Función para agregar un rastro 3D al gráfico con etiquetas\n",
        "def add_trace_3d_with_labels(x, y, z, color, opacity, name, labels):\n",
        "    return go.Mesh3d(\n",
        "        x=x,\n",
        "        y=y,\n",
        "        z=z,\n",
        "        opacity=opacity,\n",
        "        color=color,\n",
        "        name=name,\n",
        "        text=labels,  # Agregar etiquetas a los puntos\n",
        "        hoverinfo='text'  # Mostrar etiquetas al pasar el cursor sobre los puntos\n",
        "    )\n",
        "\n",
        "# Crear trazos 3D iniciales con etiquetas\n",
        "traces = [\n",
        "    add_trace_3d_with_labels(df_filtrado['TIEMPO'], df_filtrado['DOCENTE E'], df_filtrado['DOCENTE S'], 'red', 0.7, 'DOCENTE', df_filtrado['DOCENTE CODIGO M']),\n",
        "    add_trace_3d_with_labels(df_filtrado['TIEMPO'], df_filtrado['Est 1 E'], df_filtrado['Est 1 S'], 'green', 0.5, 'ESTUDIANTE 1', df_filtrado['Est 1 CODIGO M']),\n",
        "    add_trace_3d_with_labels(df_filtrado['TIEMPO'], df_filtrado['Est 2 E'], df_filtrado['Est 2 S'], 'purple', 0.4, 'ESTUDIANTE 2', df_filtrado['Est 2 CODIGO M']),\n",
        "    add_trace_3d_with_labels(df_filtrado['TIEMPO'], df_filtrado['Est 3 E'], df_filtrado['Est 3 S'], 'blue', 0.3, 'ESTUDIANTE 3', df_filtrado['Est 3 CODIGO M'])\n",
        "]\n",
        "\n",
        "# Agregar los trazos 3D al gráfico\n",
        "for trace in traces:\n",
        "    fig.add_trace(trace)\n",
        "\n",
        "# Crear una animación\n",
        "frames = []\n",
        "for i in range(1, len(df_filtrado)):\n",
        "    frame = go.Frame(\n",
        "        data=[\n",
        "            add_trace_3d(df_filtrado['TIEMPO'][:i], df_filtrado['DOCENTE E'][:i], df_filtrado['DOCENTE S'][:i], 'red', 0.8, 'DOCENTE'),\n",
        "            add_trace_3d(df_filtrado['TIEMPO'][:i], df_filtrado['Est 1 E'][:i], df_filtrado['Est 1 S'][:i], 'green', 0.5, 'ESTUDIANTE 1'),\n",
        "            add_trace_3d(df_filtrado['TIEMPO'][:i], df_filtrado['Est 2 E'][:i], df_filtrado['Est 2 S'][:i], 'purple', 0.8, 'ESTUDIANTE 2'),\n",
        "            add_trace_3d(df_filtrado['TIEMPO'][:i], df_filtrado['Est 3 E'][:i], df_filtrado['Est 3 S'][:i], 'blue', 0.5, 'ESTUDIANTE 3')\n",
        "        ],\n",
        "        name=f'Frame {i}'\n",
        "    )\n",
        "    frames.append(frame)\n",
        "\n",
        "# Agregar los frames de animación\n",
        "fig.update(frames=frames)\n",
        "\n",
        "# Crear y mostrar la animación\n",
        "animation = pio.to_html(fig, full_html=False)\n",
        "with open(f'Ondas Cod_Sem Vs Cod_Esp_{caso}.html', 'w') as f:\n",
        "    f.write(animation)\n",
        "\n",
        "fig.update(frames=frames)\n",
        "fig.show()"
      ]
    }
  ],
  "metadata": {
    "colab": {
      "provenance": []
    },
    "kernelspec": {
      "display_name": "Python_v2",
      "language": "python",
      "name": "python_v2"
    },
    "language_info": {
      "codemirror_mode": {
        "name": "ipython",
        "version": 3
      },
      "file_extension": ".py",
      "mimetype": "text/x-python",
      "name": "python",
      "nbconvert_exporter": "python",
      "pygments_lexer": "ipython3",
      "version": "3.10.7"
    }
  },
  "nbformat": 4,
  "nbformat_minor": 0
}
